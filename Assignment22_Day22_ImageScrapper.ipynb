{
 "cells": [
  {
   "cell_type": "code",
   "execution_count": null,
   "id": "76a36d36-59d9-49ab-b163-7dbb2ea200ee",
   "metadata": {},
   "outputs": [],
   "source": [
    "Go to this given URL and solve the following questions\n",
    "URL: https://www.youtube.com/@PW-Foundation/videos\n",
    "Q1. Write a python program to extract the video URL of the first five videos.\n",
    "Q2. Write a python program to extract the URL of the video thumbnails of the first five videos.\n",
    "Q3. Write a python program to extract the title of the first five videos.\n",
    "Q4. Write a python program to extract the number of views of the first five videos.\n",
    "Q5. Write a python program to extract the time of posting of video for the first five videos."
   ]
  },
  {
   "cell_type": "code",
   "execution_count": 2,
   "id": "f5d2f3f9-7c11-41e9-b85b-08e9aa6fe6de",
   "metadata": {},
   "outputs": [],
   "source": [
    "import requests\n",
    "from bs4 import BeautifulSoup as bs\n",
    "from urllib.request import urlopen\n",
    "import logging\n",
    "from pandas import DataFrame\n",
    "from json import loads"
   ]
  },
  {
   "cell_type": "code",
   "execution_count": 3,
   "id": "49309f72-a65a-4ca9-b58e-f296efe2d7e8",
   "metadata": {},
   "outputs": [],
   "source": [
    "url = \"https://www.youtube.com/@PW-Foundation/videos\""
   ]
  },
  {
   "cell_type": "code",
   "execution_count": 4,
   "id": "24197948-cbc1-4a22-a165-943a1e9b88aa",
   "metadata": {},
   "outputs": [],
   "source": [
    "urlclient = urlopen(url)"
   ]
  },
  {
   "cell_type": "code",
   "execution_count": 5,
   "id": "814c0b3d-17d2-4cf0-a1b8-6cdf1d4f3102",
   "metadata": {},
   "outputs": [],
   "source": [
    "youTube_page = urlclient.read()"
   ]
  },
  {
   "cell_type": "code",
   "execution_count": 6,
   "id": "26d00f55-2117-4683-933a-bd484a03774d",
   "metadata": {},
   "outputs": [],
   "source": [
    "youTube_html = bs(youTube_page, 'html.parser')"
   ]
  },
  {
   "cell_type": "code",
   "execution_count": 7,
   "id": "fe46225b-8b27-4b68-beaa-8af9f1e843d8",
   "metadata": {},
   "outputs": [],
   "source": [
    "bigbox = youTube_html.find_all('script')"
   ]
  },
  {
   "cell_type": "code",
   "execution_count": 8,
   "id": "a79ae474-0a07-47e1-9c9b-1505b537e1f2",
   "metadata": {},
   "outputs": [
    {
     "data": {
      "text/plain": [
       "40"
      ]
     },
     "execution_count": 8,
     "metadata": {},
     "output_type": "execute_result"
    }
   ],
   "source": [
    "len(bigbox)"
   ]
  },
  {
   "cell_type": "code",
   "execution_count": 25,
   "id": "67571f39-f58c-4551-93b4-5eff9aebabe3",
   "metadata": {},
   "outputs": [],
   "source": [
    "def script_tag_to_json(tags: list) -> dict:\n",
    "    for tag in reversed(tags):\n",
    "        text: str = tag.text\n",
    "        if 'ytInitialData = {\"responseContext\"' in text:\n",
    "            return loads(text[20:-1])\n",
    "\n",
    "    raise ValueError('Required script tag not found in the given tags.')\n",
    "\n",
    "data = script_tag_to_json(bigbox)\n",
    "\n",
    "def get_contents_dict(data):\n",
    "    return data['contents']['twoColumnBrowseResultsRenderer']['tabs'][1]['tabRenderer']['content']['richGridRenderer']['contents']"
   ]
  },
  {
   "cell_type": "code",
   "execution_count": 26,
   "id": "d7b92667-0758-4ea9-aa35-8a2fad5d4cca",
   "metadata": {},
   "outputs": [
    {
     "data": {
      "text/plain": [
       "['https://www.youtube.com/watch?v=WObRrneLVRY',\n",
       " 'https://www.youtube.com/watch?v=nX5ONgCdLcc',\n",
       " 'https://www.youtube.com/watch?v=AM2Dt7cNebw',\n",
       " 'https://www.youtube.com/watch?v=7nMJVhey9TM',\n",
       " 'https://www.youtube.com/watch?v=FSVVlcFUCMk']"
      ]
     },
     "execution_count": 26,
     "metadata": {},
     "output_type": "execute_result"
    }
   ],
   "source": [
    "''' Q1. Write a python program to extract the video URL of the first five videos.'''\n",
    "\n",
    "def get_videoUrl(data:dict, n: int = 5):\n",
    "    contents = get_contents_dict(data)\n",
    "\n",
    "    if n > 30:\n",
    "        raise ValueError('Max Limit is 30.')\n",
    "\n",
    "    result = []\n",
    "    for i in range(n):\n",
    "        result.append('https://www.youtube.com/watch?v=' +\n",
    "                      contents[i]['richItemRenderer']['content']['videoRenderer']['videoId'])\n",
    "\n",
    "    return result\n",
    "\n",
    "get_videoUrl(data)"
   ]
  },
  {
   "cell_type": "code",
   "execution_count": 27,
   "id": "a2340deb-396b-4845-ab0b-0493389f2ff3",
   "metadata": {},
   "outputs": [
    {
     "data": {
      "text/plain": [
       "['https://i.ytimg.com/vi/WObRrneLVRY/hqdefault.jpg?sqp=-oaymwEjCNACELwBSFryq4qpAxUIARUAAAAAGAElAADIQj0AgKJDeAE=&rs=AOn4CLB22wdxfGJ8qHomPM8TcAMwI8FDRA',\n",
       " 'https://i.ytimg.com/vi/nX5ONgCdLcc/hqdefault.jpg?sqp=-oaymwEjCNACELwBSFryq4qpAxUIARUAAAAAGAElAADIQj0AgKJDeAE=&rs=AOn4CLA-CsQcSMRiaxzuJVMn37GAUFS6XQ',\n",
       " 'https://i.ytimg.com/vi/AM2Dt7cNebw/hqdefault.jpg?sqp=-oaymwEjCNACELwBSFryq4qpAxUIARUAAAAAGAElAADIQj0AgKJDeAE=&rs=AOn4CLDcx2UK_HLUzfaPFlhUyTJgu2fIBw',\n",
       " 'https://i.ytimg.com/vi/7nMJVhey9TM/hqdefault.jpg?sqp=-oaymwEjCNACELwBSFryq4qpAxUIARUAAAAAGAElAADIQj0AgKJDeAE=&rs=AOn4CLAA1_yMeJ7aezayVqtRUmtj_G__VA',\n",
       " 'https://i.ytimg.com/vi/FSVVlcFUCMk/hqdefault.jpg?sqp=-oaymwEjCNACELwBSFryq4qpAxUIARUAAAAAGAElAADIQj0AgKJDeAE=&rs=AOn4CLARIR0hJMKXJX8SLLg3G8zDQdZX2Q']"
      ]
     },
     "execution_count": 27,
     "metadata": {},
     "output_type": "execute_result"
    }
   ],
   "source": [
    "'''Q2. Write a python program to extract the URL of the video thumbnails of the first five videos.'''\n",
    "  \n",
    "\n",
    "def get_thumbnails(data: dict, n: int = 5):\n",
    "    contents = get_contents_dict(data)\n",
    "\n",
    "    if n > 30:\n",
    "        raise ValueError('Max Limit is 30.')\n",
    "\n",
    "    result = []\n",
    "    for i in range(n):\n",
    "        result.append(contents[i]['richItemRenderer']['content']['videoRenderer']['thumbnail']['thumbnails'][-1]['url'])\n",
    "\n",
    "    return result\n",
    "\n",
    "get_thumbnails(data)"
   ]
  },
  {
   "cell_type": "code",
   "execution_count": 29,
   "id": "a03654f4-1f79-475a-b64e-70f815a20069",
   "metadata": {},
   "outputs": [
    {
     "data": {
      "text/plain": [
       "['आपको Commerce में क्या सीखने को मिलता है ?? Complete Information',\n",
       " 'How to Attempt English Board Exam ????',\n",
       " 'Best technique to attempt SST paper in Board exam || Class 10th',\n",
       " 'Last Minute Strategy To Score More Than 98% || ICSE Boards || Class-10th',\n",
       " 'Why You Should Choose Commerce After 10th? || Complete Information💯']"
      ]
     },
     "execution_count": 29,
     "metadata": {},
     "output_type": "execute_result"
    }
   ],
   "source": [
    "'''Q3. Write a python program to extract the title of the first five videos.'''\n",
    "\n",
    "  \n",
    "def get_title(data: dict, n:int = 5):\n",
    "    contents = get_contents_dict(data)\n",
    "\n",
    "    if n > 30:\n",
    "        raise ValueError('Max Limit is 30.')\n",
    "\n",
    "    result = []\n",
    "    for i in range(n):\n",
    "        result.append(contents[i]['richItemRenderer']['content']['videoRenderer']['title']['runs'][-1]['text'])\n",
    "\n",
    "    return result\n",
    "\n",
    "get_title(data)"
   ]
  },
  {
   "cell_type": "code",
   "execution_count": 30,
   "id": "da384a55-2781-44bb-9f7b-c5bf78c210e8",
   "metadata": {},
   "outputs": [
    {
     "data": {
      "text/plain": [
       "[4904, 181174, 57197, 23291, 29433]"
      ]
     },
     "execution_count": 30,
     "metadata": {},
     "output_type": "execute_result"
    }
   ],
   "source": [
    "'''Q4. Write a python program to extract the number of views of the first five videos.'''\n",
    "\n",
    "def get_viwes(data: dict, n: int = 5):\n",
    "    contents = get_contents_dict(data)\n",
    "\n",
    "    if n > 30:\n",
    "        raise ValueError('Max Limit is 30.')\n",
    "\n",
    "    result = []\n",
    "    for i in range(n):\n",
    "        result.append(int(contents[i]['richItemRenderer']['content']['videoRenderer']['viewCountText']['simpleText']\n",
    "                      [:-6].replace(',', '')))\n",
    "\n",
    "    return result\n",
    "\n",
    "get_viwes(data)\n"
   ]
  },
  {
   "cell_type": "code",
   "execution_count": 31,
   "id": "a5bb3d3d-e075-429e-ad6e-72ae108bce02",
   "metadata": {},
   "outputs": [
    {
     "data": {
      "text/plain": [
       "['5 hours ago', '4 days ago', '5 days ago', '6 days ago', '7 days ago']"
      ]
     },
     "execution_count": 31,
     "metadata": {},
     "output_type": "execute_result"
    }
   ],
   "source": [
    "'''Q5. Write a python program to extract the time of posting of video for the first five videos.'''\n",
    "  \n",
    "\n",
    "def get_time_of_posting(data: dict, n: int = 5):\n",
    "    contents = get_contents_dict(data)\n",
    "\n",
    "    if n > 30:\n",
    "        raise ValueError('Max Limit is 30.')\n",
    "\n",
    "    result = []\n",
    "    for i in range(n):\n",
    "        result.append(contents[i]['richItemRenderer']['content']['videoRenderer']['publishedTimeText']['simpleText'])\n",
    "\n",
    "    return result\n",
    "\n",
    "get_time_of_posting(data)"
   ]
  },
  {
   "cell_type": "code",
   "execution_count": null,
   "id": "c2945550-1342-4209-93fd-03d16075282e",
   "metadata": {},
   "outputs": [],
   "source": [
    "\n",
    "  \n",
    "     \n",
    " \n",
    "    \"# `Note:` Save all the data scraped in the above questions in a CSV file.\\n\"\n",
    "  \n",
    "    \"## Save data in `CSV` format.\"\n",
    "  \n",
    "   def get_channel_video_details(data: dict, n: int):\n",
    "    thumbnails = get_thumbnails(data, n)\n",
    "    time_of_posting = get_time_of_posting(data, n)\n",
    "    titles = get_title(data, n)\n",
    "    video_urls = get_videoUrl(data, n)\n",
    "\n",
    "    main_data = list(zip(video_urls, titles, thumbnails, time_of_posting))\n",
    "    \n",
    "    df = DataFrame.from_dict(main_data)\n",
    "    df.rename(\n",
    "        columns={\n",
    "            0: 'video_urls',\n",
    "            1: 'title',\n",
    "            2: 'thumbnail_url',\n",
    "            3: 'time_of_posting'\n",
    "        }, inplace=True)\n",
    "\n",
    "    return df\n",
    "\n",
    "channel_data = get_channel_video_details(data, 30)\n",
    "channel_data.to_csv('PW-Foundation.csv', index=False)\n",
    "\n"
   ]
  },
  {
   "cell_type": "code",
   "execution_count": null,
   "id": "0ea80be0-bc30-4625-8144-04bb6573ba31",
   "metadata": {},
   "outputs": [],
   "source": []
  },
  {
   "cell_type": "code",
   "execution_count": null,
   "id": "3cf29be7-a860-4eb6-b31c-f8bd89e571bd",
   "metadata": {},
   "outputs": [],
   "source": []
  }
 ],
 "metadata": {
  "kernelspec": {
   "display_name": "Python 3 (ipykernel)",
   "language": "python",
   "name": "python3"
  },
  "language_info": {
   "codemirror_mode": {
    "name": "ipython",
    "version": 3
   },
   "file_extension": ".py",
   "mimetype": "text/x-python",
   "name": "python",
   "nbconvert_exporter": "python",
   "pygments_lexer": "ipython3",
   "version": "3.10.8"
  }
 },
 "nbformat": 4,
 "nbformat_minor": 5
}
