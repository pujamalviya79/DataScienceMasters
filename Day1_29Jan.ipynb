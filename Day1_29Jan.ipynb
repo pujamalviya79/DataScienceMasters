{
 "cells": [
  {
   "cell_type": "code",
   "execution_count": 3,
   "id": "def01ed9-091d-4db3-8798-983b0681aa9d",
   "metadata": {},
   "outputs": [
    {
     "name": "stdout",
     "output_type": "stream",
     "text": [
      "30\n"
     ]
    }
   ],
   "source": [
    "a=10\n",
    "b=20\n",
    "c=a+b\n",
    "print(c)"
   ]
  },
  {
   "cell_type": "code",
   "execution_count": 7,
   "id": "edbdb6c9-1d37-47e1-b3f4-dd2edef14d46",
   "metadata": {},
   "outputs": [
    {
     "name": "stdout",
     "output_type": "stream",
     "text": [
      "20\n"
     ]
    }
   ],
   "source": [
    "## This is single line comment\n",
    "\n",
    "d=30\n",
    "e=10\n",
    "f=d-e\n",
    "print(f)"
   ]
  },
  {
   "cell_type": "code",
   "execution_count": 8,
   "id": "dd8938f6-d0a6-48c7-aa47-f079847c3e81",
   "metadata": {},
   "outputs": [
    {
     "name": "stdout",
     "output_type": "stream",
     "text": [
      "Hello World\n"
     ]
    }
   ],
   "source": [
    "\"\"\"\n",
    "This \n",
    "is\n",
    "multi-line\n",
    "cpmments\n",
    "\"\"\"\n",
    "\n",
    "print(\"Hello World\")"
   ]
  },
  {
   "cell_type": "markdown",
   "id": "4026eecc-d4a2-42ed-a05e-a046d8277543",
   "metadata": {
    "tags": []
   },
   "source": [
    "# Header"
   ]
  },
  {
   "cell_type": "code",
   "execution_count": 10,
   "id": "1c1fae4c-4fc5-41d6-964b-99b9e30e734b",
   "metadata": {},
   "outputs": [
    {
     "name": "stdout",
     "output_type": "stream",
     "text": [
      "This is first line \n",
      " Now printing in new line\n"
     ]
    }
   ],
   "source": [
    "print(\"This is first line \\n Now printing in new line\")"
   ]
  },
  {
   "cell_type": "code",
   "execution_count": 12,
   "id": "17500e1c-e63f-435a-83be-7030cb7260a6",
   "metadata": {},
   "outputs": [],
   "source": [
    "name = \"Puja\"\n",
    "company='Infosys'"
   ]
  },
  {
   "cell_type": "code",
   "execution_count": 13,
   "id": "05ed57fc-6f81-4054-aa3c-a210149d128f",
   "metadata": {},
   "outputs": [
    {
     "data": {
      "text/plain": [
       "'Puja'"
      ]
     },
     "execution_count": 13,
     "metadata": {},
     "output_type": "execute_result"
    }
   ],
   "source": [
    "name"
   ]
  },
  {
   "cell_type": "code",
   "execution_count": 14,
   "id": "f6daa72c-70ef-4d21-9bfd-8a9d2ce85d81",
   "metadata": {},
   "outputs": [
    {
     "name": "stdout",
     "output_type": "stream",
     "text": [
      "Infosys\n"
     ]
    }
   ],
   "source": [
    "print(company)"
   ]
  },
  {
   "cell_type": "raw",
   "id": "a8c2a318-ab2e-454a-9c98-e942e8159172",
   "metadata": {},
   "source": [
    "Print(\"Hello\")"
   ]
  },
  {
   "cell_type": "code",
   "execution_count": 15,
   "id": "1b1b72d2-d5fc-4b69-8da7-95a712446a7d",
   "metadata": {},
   "outputs": [
    {
     "data": {
      "text/plain": [
       "str"
      ]
     },
     "execution_count": 15,
     "metadata": {},
     "output_type": "execute_result"
    }
   ],
   "source": [
    "type(name)"
   ]
  },
  {
   "cell_type": "code",
   "execution_count": 16,
   "id": "f5e7f16c-bfbb-4ab4-8f6d-a40b2d9c935a",
   "metadata": {},
   "outputs": [],
   "source": [
    "decimal_num=2.5"
   ]
  },
  {
   "cell_type": "code",
   "execution_count": 17,
   "id": "d24c84d8-d65b-4fea-8cda-3a30285a2e47",
   "metadata": {},
   "outputs": [
    {
     "data": {
      "text/plain": [
       "float"
      ]
     },
     "execution_count": 17,
     "metadata": {},
     "output_type": "execute_result"
    }
   ],
   "source": [
    "type(decimal_num)"
   ]
  },
  {
   "cell_type": "code",
   "execution_count": 18,
   "id": "e5105e07-aaee-4709-bf87-0cfdc4f9d43d",
   "metadata": {},
   "outputs": [
    {
     "data": {
      "text/plain": [
       "complex"
      ]
     },
     "execution_count": 18,
     "metadata": {},
     "output_type": "execute_result"
    }
   ],
   "source": [
    "type(1+2j)"
   ]
  },
  {
   "cell_type": "code",
   "execution_count": 19,
   "id": "988d6b6e-ad7a-47e4-9703-2c0ea626ec97",
   "metadata": {},
   "outputs": [
    {
     "data": {
      "text/plain": [
       "False"
      ]
     },
     "execution_count": 19,
     "metadata": {},
     "output_type": "execute_result"
    }
   ],
   "source": [
    "True and False"
   ]
  },
  {
   "cell_type": "code",
   "execution_count": 20,
   "id": "707dd982-ed3a-4c45-95e8-8996b2db859b",
   "metadata": {},
   "outputs": [
    {
     "data": {
      "text/plain": [
       "True"
      ]
     },
     "execution_count": 20,
     "metadata": {},
     "output_type": "execute_result"
    }
   ],
   "source": [
    "True or False"
   ]
  },
  {
   "cell_type": "code",
   "execution_count": 22,
   "id": "5abbd7c4-9d63-4f6d-8394-348b4dcb7897",
   "metadata": {},
   "outputs": [
    {
     "data": {
      "text/plain": [
       "False"
      ]
     },
     "execution_count": 22,
     "metadata": {},
     "output_type": "execute_result"
    }
   ],
   "source": [
    "not True"
   ]
  },
  {
   "cell_type": "code",
   "execution_count": 26,
   "id": "437f6e8b-b2c0-4188-976c-172a7d845bad",
   "metadata": {},
   "outputs": [
    {
     "data": {
      "text/plain": [
       "bool"
      ]
     },
     "execution_count": 26,
     "metadata": {},
     "output_type": "execute_result"
    }
   ],
   "source": [
    "type(not False)"
   ]
  },
  {
   "cell_type": "code",
   "execution_count": 28,
   "id": "054d5b60-ae7b-488e-9d62-9167bb12c1a8",
   "metadata": {},
   "outputs": [],
   "source": [
    "abc=bool(0)"
   ]
  },
  {
   "cell_type": "code",
   "execution_count": 29,
   "id": "96cb1963-f5be-4d03-8a9a-e1e674f28bde",
   "metadata": {},
   "outputs": [
    {
     "name": "stdout",
     "output_type": "stream",
     "text": [
      "False\n"
     ]
    }
   ],
   "source": [
    "print(abc)"
   ]
  },
  {
   "cell_type": "code",
   "execution_count": 30,
   "id": "17912b5c-97ad-4df9-961c-6f02596645f9",
   "metadata": {},
   "outputs": [
    {
     "data": {
      "text/plain": [
       "bool"
      ]
     },
     "execution_count": 30,
     "metadata": {},
     "output_type": "execute_result"
    }
   ],
   "source": [
    "type(abc)"
   ]
  },
  {
   "cell_type": "code",
   "execution_count": 31,
   "id": "296ac4dc-d2ce-4ce2-b1fc-f8496b3e69fa",
   "metadata": {},
   "outputs": [
    {
     "data": {
      "text/plain": [
       "1"
      ]
     },
     "execution_count": 31,
     "metadata": {},
     "output_type": "execute_result"
    }
   ],
   "source": [
    "int(1.54)"
   ]
  },
  {
   "cell_type": "code",
   "execution_count": 32,
   "id": "743ca146-5f9e-4b45-bf82-41a69163ac0f",
   "metadata": {},
   "outputs": [
    {
     "data": {
      "text/plain": [
       "2"
      ]
     },
     "execution_count": 32,
     "metadata": {},
     "output_type": "execute_result"
    }
   ],
   "source": [
    "1+1"
   ]
  },
  {
   "cell_type": "code",
   "execution_count": 33,
   "id": "4660e91f-3eb2-4edc-9653-accf3a48ab2c",
   "metadata": {},
   "outputs": [
    {
     "data": {
      "text/plain": [
       "'11'"
      ]
     },
     "execution_count": 33,
     "metadata": {},
     "output_type": "execute_result"
    }
   ],
   "source": [
    "\"1\"+\"1\""
   ]
  },
  {
   "cell_type": "code",
   "execution_count": 34,
   "id": "c9494f8e-b017-4d8a-8431-fdc2735edadf",
   "metadata": {},
   "outputs": [
    {
     "ename": "TypeError",
     "evalue": "can only concatenate str (not \"int\") to str",
     "output_type": "error",
     "traceback": [
      "\u001b[0;31m---------------------------------------------------------------------------\u001b[0m",
      "\u001b[0;31mTypeError\u001b[0m                                 Traceback (most recent call last)",
      "Cell \u001b[0;32mIn[34], line 1\u001b[0m\n\u001b[0;32m----> 1\u001b[0m \u001b[38;5;124;43m\"\u001b[39;49m\u001b[38;5;124;43m1\u001b[39;49m\u001b[38;5;124;43m\"\u001b[39;49m\u001b[38;5;241;43m+\u001b[39;49m\u001b[38;5;241;43m2\u001b[39;49m\n",
      "\u001b[0;31mTypeError\u001b[0m: can only concatenate str (not \"int\") to str"
     ]
    }
   ],
   "source": [
    "\"1\"+2"
   ]
  },
  {
   "cell_type": "code",
   "execution_count": 35,
   "id": "b50c6253-7c59-4683-8d49-5b129efc3ec1",
   "metadata": {},
   "outputs": [
    {
     "data": {
      "text/plain": [
       "3"
      ]
     },
     "execution_count": 35,
     "metadata": {},
     "output_type": "execute_result"
    }
   ],
   "source": [
    "int(\"1\")+2"
   ]
  },
  {
   "cell_type": "code",
   "execution_count": 36,
   "id": "48532276-6ef3-45cc-aea2-0bacc4a8af93",
   "metadata": {},
   "outputs": [
    {
     "data": {
      "text/plain": [
       "'Puja'"
      ]
     },
     "execution_count": 36,
     "metadata": {},
     "output_type": "execute_result"
    }
   ],
   "source": [
    "\"Pu\"+\"ja\""
   ]
  },
  {
   "cell_type": "code",
   "execution_count": 37,
   "id": "b31e91fb-f9ce-47c3-9f91-a9863155c0e0",
   "metadata": {},
   "outputs": [
    {
     "data": {
      "text/plain": [
       "10"
      ]
     },
     "execution_count": 37,
     "metadata": {},
     "output_type": "execute_result"
    }
   ],
   "source": [
    "1*10"
   ]
  },
  {
   "cell_type": "code",
   "execution_count": 38,
   "id": "5a9a8d90-7352-44d5-b635-f888d33cb847",
   "metadata": {},
   "outputs": [
    {
     "data": {
      "text/plain": [
       "'1111111111'"
      ]
     },
     "execution_count": 38,
     "metadata": {},
     "output_type": "execute_result"
    }
   ],
   "source": [
    "\"1\"*10"
   ]
  },
  {
   "cell_type": "code",
   "execution_count": null,
   "id": "5db29404-1c72-4172-ae58-6527bded2bef",
   "metadata": {},
   "outputs": [],
   "source": []
  },
  {
   "cell_type": "code",
   "execution_count": null,
   "id": "54f0cd12-4d47-4e78-adc0-765cb378f4a5",
   "metadata": {},
   "outputs": [],
   "source": []
  }
 ],
 "metadata": {
  "kernelspec": {
   "display_name": "Python 3 (ipykernel)",
   "language": "python",
   "name": "python3"
  },
  "language_info": {
   "codemirror_mode": {
    "name": "ipython",
    "version": 3
   },
   "file_extension": ".py",
   "mimetype": "text/x-python",
   "name": "python",
   "nbconvert_exporter": "python",
   "pygments_lexer": "ipython3",
   "version": "3.10.8"
  }
 },
 "nbformat": 4,
 "nbformat_minor": 5
}
