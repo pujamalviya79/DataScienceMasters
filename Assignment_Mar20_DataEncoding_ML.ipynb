{
 "cells": [
  {
   "cell_type": "code",
   "execution_count": null,
   "id": "a3452159-c4a7-49cb-8e10-b28686ee33d9",
   "metadata": {},
   "outputs": [],
   "source": [
    "Q1. What is data encoding? How is it useful in data science?\n",
    "----------\n",
    "Encoding is a technique of converting categorical variables into numerical values so that it could be easily fitted to a machine learning model.\n",
    "Models only work with numerical values. \n",
    "For this reason, it is necessary to convert the categorical values of the features into numerical ones, \n",
    "So the machine can learn from those data and gives the right model. \n",
    "This process of converting categorical data into numerical data is called Encoding."
   ]
  },
  {
   "cell_type": "code",
   "execution_count": null,
   "id": "0b8270f4-59f3-42cc-bd6a-b5f65250c256",
   "metadata": {},
   "outputs": [],
   "source": [
    "Q2. What is nominal encoding? Provide an example of how you would use it in a real-world scenario.\n",
    "--------\n",
    "When we have a feature where variables are just names and there is no order or rank to this variable's feature.\n",
    "\n",
    "For example: City of person lives in, Gender of person, Marital Status, etc…\n",
    "\n",
    "In the above example, We do not have any order or rank, or sequence. \n",
    "All the variables in the respective feature are equal.\n",
    "We can't give them any orders or ranks. \n",
    "Those features are called Nominal features."
   ]
  },
  {
   "cell_type": "code",
   "execution_count": null,
   "id": "e54ebee2-8bb8-48fb-8833-fde9b96165ba",
   "metadata": {},
   "outputs": [],
   "source": [
    "Q3. In what situations is nominal encoding preferred over one-hot encoding? Provide a practical example.\n",
    "--------\n",
    "When we have categorical data where variables are just names and there is no order or rank to this variable's feature in that case we will prefer nominal encoding instaed of On eHot Encoding.\n",
    "\n",
    "Example: Gender of person, Marital Status, etc..."
   ]
  },
  {
   "cell_type": "code",
   "execution_count": null,
   "id": "057bd037-82a2-4dfb-971a-fae7e096613a",
   "metadata": {},
   "outputs": [],
   "source": [
    "Q4. Suppose you have a dataset containing categorical data with 5 unique values. Which encoding\n",
    "technique would you use to transform this data into a format suitable for machine learning algorithms?\n",
    "Explain why you made this choice.\n",
    "--------\n",
    "In this case, we can use Nominal or One Hot Technique to transform data into a suitable format, \n",
    "because it has only 5 unique value, so it will generate 5 different combinations of numerical data."
   ]
  },
  {
   "cell_type": "code",
   "execution_count": null,
   "id": "46af1ba3-33ba-47a0-a952-1951e08a57ba",
   "metadata": {},
   "outputs": [],
   "source": [
    "Q5. In a machine learning project, you have a dataset with 1000 rows and 5 columns. Two of the columns\n",
    "are categorical, and the remaining three columns are numerical. If you were to use nominal encoding to\n",
    "transform the categorical data, how many new columns would be created? Show your calculations.\n",
    "------\n",
    "number of categories = 2\n",
    "number of rows (if 10 unique values are there) = 1000 rows with 10 unique value\n",
    "\n",
    "Total number of new categories will be :: 2*10 = 20 new columns"
   ]
  },
  {
   "cell_type": "code",
   "execution_count": null,
   "id": "f68f5ee0-29cb-47a4-9c2f-2a3dec1b145d",
   "metadata": {},
   "outputs": [],
   "source": [
    "Q6. You are working with a dataset containing information about different types of animals, including their\n",
    "species, habitat, and diet. Which encoding technique would you use to transform the categorical data into\n",
    "a format suitable for machine learning algorithms? Justify your answer.\n",
    "------ \n",
    "Here we will be using Nominal Encodingtechnique to transform categorical data into a numerical data,\n",
    "as there is no ranking for any of the categories like species, habitat, and diet."
   ]
  },
  {
   "cell_type": "code",
   "execution_count": 8,
   "id": "0324e056-5c10-4331-b234-67454e75dd91",
   "metadata": {},
   "outputs": [
    {
     "name": "stdout",
     "output_type": "stream",
     "text": [
      "   Gender  Age Contract Type  Monthly Charges  Tenure\n",
      "0    Male   33       Monthly              800       1\n",
      "1  Female   45     Quarterly             2000       2\n",
      "2    Male   44     Quarterly             3000       3\n",
      "3  Female   43       Monthly             1500       2\n",
      "-----------\n",
      "   Gender  Age Contract Type  Monthly Charges  Tenure\n",
      "0       0   33       Monthly              800       1\n",
      "1       1   45     Quarterly             2000       2\n",
      "2       0   44     Quarterly             3000       3\n",
      "3       1   43       Monthly             1500       2\n",
      "-----------\n",
      "   Gender  Age  Contract Type  Monthly Charges  Tenure\n",
      "0       0   33           1150              800       1\n",
      "1       1   45           2500             2000       2\n",
      "2       0   44           2500             3000       3\n",
      "3       1   43           1150             1500       2\n",
      "-----------\n"
     ]
    }
   ],
   "source": [
    "Q7.You are working on a project that involves predicting customer churn for a telecommunications\n",
    "company. You have a dataset with 5 features, including the customer's gender, age, contract type,\n",
    "monthly charges, and tenure. Which encoding technique(s) would you use to transform the categorical\n",
    "data into numerical data? Provide a step-by-step explanation of how you would implement the encoding.\n",
    "--------\n",
    "Here we will use Ordinal encoding as, there will be ranking or order based on Monthly changes or tenure or combination of both categories.\n",
    "In ordinal encoding, each unique category value is assigned an integer value.\n",
    "\n",
    "import pandas as pd\n",
    "\n",
    "data = [['Male', 33,'Monthly',800,1], ['Female', 45,'Quarterly',2000,2], ['Male', 44,'Quarterly',3000,3],['Female', 43,'Monthly',1500,2]]\n",
    "df = pd.DataFrame(data, columns=['Gender', 'Age','Contract Type','Monthly Charges','Tenure'])\n",
    "print(df)\n",
    "print('-----------')\n",
    "\n",
    "## Assign male = 0 and Female = 0\n",
    "data1 = [[0, 33,'Monthly',800,1], [1, 45,'Quarterly',2000,2], [0, 44,'Quarterly',3000,3],[1, 43,'Monthly',1500,2]]\n",
    "df1 = pd.DataFrame(data1, columns=['Gender', 'Age','Contract Type','Monthly Charges','Tenure'])\n",
    "print(df1)\n",
    "print('-----------')\n",
    "\n",
    "## Based on Contract Type , find the mean of monthly charges\n",
    "## Quarterly ---- 2500\n",
    "## Monthly ----1150\n",
    "\n",
    "## Replace the value with corresponding Mean\n",
    "data2 = [[0, 33,1150,800,1], [1, 45,2500,2000,2], [0, 44,2500,3000,3],[1, 43,1150,1500,2]]\n",
    "df2 = pd.DataFrame(data2, columns=['Gender', 'Age','Contract Type','Monthly Charges','Tenure'])\n",
    "print(df2)\n",
    "print('-----------')"
   ]
  }
 ],
 "metadata": {
  "kernelspec": {
   "display_name": "Python 3 (ipykernel)",
   "language": "python",
   "name": "python3"
  },
  "language_info": {
   "codemirror_mode": {
    "name": "ipython",
    "version": 3
   },
   "file_extension": ".py",
   "mimetype": "text/x-python",
   "name": "python",
   "nbconvert_exporter": "python",
   "pygments_lexer": "ipython3",
   "version": "3.10.8"
  }
 },
 "nbformat": 4,
 "nbformat_minor": 5
}
