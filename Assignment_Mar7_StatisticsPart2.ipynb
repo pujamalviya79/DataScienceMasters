{
 "cells": [
  {
   "cell_type": "code",
   "execution_count": null,
   "id": "1ad9691c-e7c8-4e84-8b80-3d9c07656056",
   "metadata": {},
   "outputs": [],
   "source": [
    "Q1. What are the three measures of central tendency?\n",
    "---------\n",
    "Three measures of Central Tendency are:\n",
    "1. Mean \n",
    "2. Median \n",
    "3. Mode"
   ]
  },
  {
   "cell_type": "code",
   "execution_count": null,
   "id": "b95c379d-390f-45b3-98ee-882345c9c9ab",
   "metadata": {},
   "outputs": [],
   "source": [
    "Q2. What is the difference between the mean, median, and mode? How are they used to measure the\n",
    "central tendency of a dataset?\n",
    "---------\n",
    "Mean : The mean represents the average value of the dataset. \n",
    "        It can be calculated as the sum of all the values in the dataset divided by the number of values.\n",
    "Median : Median is the middle value of the dataset in which the dataset is arranged in the ascending order or in descending order. \n",
    "        When the dataset contains an even number of values, then the median value of the dataset can be found by taking the mean of the middle two values.\n",
    "Mode : The mode represents the frequently occurring value in the dataset. \n",
    "        Sometimes the dataset may contain multiple modes and in some cases, it does not contain any mode at all."
   ]
  },
  {
   "cell_type": "code",
   "execution_count": 10,
   "id": "7bf49aa4-123b-40a6-abf6-d93baf727fe6",
   "metadata": {},
   "outputs": [
    {
     "name": "stdout",
     "output_type": "stream",
     "text": [
      "Mean ::  177.01875\n",
      "Median ::  177.0\n",
      "Mode ::  ModeResult(mode=array([177.]), count=array([3]))\n"
     ]
    },
    {
     "name": "stderr",
     "output_type": "stream",
     "text": [
      "/tmp/ipykernel_5319/1249852521.py:14: FutureWarning: Unlike other reduction functions (e.g. `skew`, `kurtosis`), the default behavior of `mode` typically preserves the axis it acts along. In SciPy 1.11.0, this behavior will change: the default value of `keepdims` will become False, the `axis` over which the statistic is taken will be eliminated, and the value None will no longer be accepted. Set `keepdims` to True or False to avoid this warning.\n",
      "  Mode = stats.mode(list)\n"
     ]
    }
   ],
   "source": [
    "'''Q3. Measure the three measures of central tendency for the given height data:\n",
    "[178,177,176,177,178.2,178,175,179,180,175,178.9,176.2,177,172.5,178,176.5]\n",
    "-------'''\n",
    "import numpy as np\n",
    "from scipy import stats\n",
    "\n",
    "list = [178,177,176,177,178.2,178,175,179,180,175,178.9,176.2,177,172.5,178,176.5]\n",
    "Mean = np.mean(list)\n",
    "print('Mean :: ', Mean)\n",
    "\n",
    "Median = np.median(list)\n",
    "print('Median :: ', Median)\n",
    "\n",
    "Mode = stats.mode(list)\n",
    "print('Mode :: ',Mode)"
   ]
  },
  {
   "cell_type": "code",
   "execution_count": 11,
   "id": "2bda4313-0d1a-4cca-8f58-cb9494a81bd8",
   "metadata": {},
   "outputs": [
    {
     "name": "stdout",
     "output_type": "stream",
     "text": [
      "Standard Deviation ::  1.7885814036548633\n"
     ]
    }
   ],
   "source": [
    "'''Q4. Find the standard deviation for the given data:\n",
    "[178,177,176,177,178.2,178,175,179,180,175,178.9,176.2,177,172.5,178,176.5]'''\n",
    "\n",
    "\n",
    "import numpy as np\n",
    "list = [178,177,176,177,178.2,178,175,179,180,175,178.9,176.2,177,172.5,178,176.5]\n",
    "std = np.std(list)\n",
    "print(\"Standard Deviation :: \", std)"
   ]
  },
  {
   "cell_type": "code",
   "execution_count": null,
   "id": "6507dd4e-1a0e-4d82-a8f3-a447a7f72fad",
   "metadata": {},
   "outputs": [],
   "source": [
    "Q5. How are measures of dispersion such as range, variance, and standard deviation used to describe\n",
    "the spread of a dataset? Provide an example.\n",
    "---------\n",
    "Range: The difference between the highest and lowest values. \n",
    "    Example: \n",
    "        Consider a data set with the ages of 8 participants.\n",
    "        Age\t= [37,19,31,29,21,26,33,36]\n",
    "        First, order the values from low to high to identify the lowest value (L) and the highest value (H).\n",
    "        Age = [19,21,26,29,31,33,36,37]\n",
    "        Subtract the lowest from the highest value.\n",
    "        Range = 37 – 19 = 18\n",
    "\n",
    "Standard deviation: Average distance from the mean.\n",
    "Variance: Average of squared distances from the mean.\n",
    "    Example :\n",
    "        data = [46,69,32,60,52,41]\n",
    "        Mean = (46+69+32+60+52+41)/6 = 50\n",
    "        Deviation from the mean:\n",
    "            46\t46 – 50 = -4\n",
    "            69\t69 – 50 = 19\n",
    "            32\t32 – 50 = -18\n",
    "            60\t60 – 50 = 10\n",
    "            52\t52 – 50 = 2\n",
    "            41\t41 – 50 = -9\n",
    "        Square each deviation and find the sum ::  16 + 361 + 324 + 100 + 4 + 81 = 886\n",
    "        Variance = (886)/(6 - 1) = 886/5 = 177.2\n",
    "        Standard Deviation = sqrt of 177.2 = 13.31"
   ]
  },
  {
   "cell_type": "code",
   "execution_count": null,
   "id": "a2608b96-8269-4875-b978-8a8e5f46a5eb",
   "metadata": {},
   "outputs": [],
   "source": [
    "Q6. What is a Venn diagram?\n",
    "-------\n",
    "A Venn diagram is an illustration that uses circles to show the relationships among things or finite groups of things."
   ]
  },
  {
   "cell_type": "code",
   "execution_count": null,
   "id": "a2f309af-9c58-47a1-8576-96a4333446d1",
   "metadata": {},
   "outputs": [],
   "source": [
    "Q7. For the two given sets A = (2,3,4,5,6,7) & B = (0,2,6,8,10). Find:\n",
    "(i) A ⋂ B\n",
    "(ii) A ⋃ B\n",
    "---------\n",
    "A ⋂ B : (2,3,4,5,6,7) ⋂ (0,2,6,8,10) = (2,6)\n",
    "A ⋃ B : (2,3,4,5,6,7) ⋃ (0,2,6,8,10) = (0,2,3,4,5,6,7,8,10)      "
   ]
  },
  {
   "cell_type": "code",
   "execution_count": null,
   "id": "172c81ab-6e7c-45cb-8460-a7e5858b1cec",
   "metadata": {},
   "outputs": [],
   "source": [
    "Q8. What do you understand about skewness in data?\n",
    "---------\n",
    "Skewness is a measurement of the distortion of symmetrical distribution or asymmetry in a data set. \n",
    "Skewness is demonstrated on a bell curve when data points are not distributed symmetrically to the left and right sides of the median on a bell curve."
   ]
  },
  {
   "cell_type": "code",
   "execution_count": null,
   "id": "d91ff8ac-95df-44ad-90ae-db423916b1aa",
   "metadata": {},
   "outputs": [],
   "source": [
    "Q9. If a data is right skewed then what will be the position of median with respect to mean?\n",
    "--------\n",
    "Mean > Median"
   ]
  },
  {
   "cell_type": "code",
   "execution_count": 9,
   "id": "00c3773f-3034-4beb-aa3c-cb495c34bf62",
   "metadata": {},
   "outputs": [
    {
     "name": "stdout",
     "output_type": "stream",
     "text": [
      "Covariance ::                           Year  Spending_USD  Life_Expectancy\n",
      "Year               201.098848  2.571883e+04        41.915454\n",
      "Spending_USD     25718.827373  4.817761e+06      4166.800912\n",
      "Life_Expectancy     41.915454  4.166801e+03        10.733902\n",
      "Correlation ::                       Year  Spending_USD  Life_Expectancy\n",
      "Year             1.000000      0.931598         0.896117\n",
      "Spending_USD     0.931598      1.000000         0.747407\n",
      "Life_Expectancy  0.896117      0.747407         1.000000\n"
     ]
    },
    {
     "name": "stderr",
     "output_type": "stream",
     "text": [
      "/tmp/ipykernel_5319/223198358.py:20: FutureWarning: The default value of numeric_only in DataFrame.cov is deprecated. In a future version, it will default to False. Select only valid columns or specify the value of numeric_only to silence this warning.\n",
      "  cov = df.cov()\n",
      "/tmp/ipykernel_5319/223198358.py:23: FutureWarning: The default value of numeric_only in DataFrame.corr is deprecated. In a future version, it will default to False. Select only valid columns or specify the value of numeric_only to silence this warning.\n",
      "  corr = df.corr(method='spearman')\n"
     ]
    }
   ],
   "source": [
    "'''Q10. Explain the difference between covariance and correlation. How are these measures used in\n",
    "statistical analysis?\n",
    "--------\n",
    "Covariance: \n",
    "    Covariance is an indicator of the extent to which 2 random variables are dependent on each other. A higher number denotes higher dependency.\n",
    "    The value of covariance lies in the range of -∞ and +∞.\n",
    "    Change in scale affects covariance\n",
    "    \n",
    "Correlation:\n",
    "    Correlation is a statistical measure that indicates how strongly two variables are related.\n",
    "    Correlation is limited to values between the range -1 and +1\n",
    "    Change in scale does not affect the correlation\n",
    "\n",
    "Example:'''\n",
    "    \n",
    "import seaborn as sns\n",
    "import numpy as np\n",
    "    \n",
    "df = sns.load_dataset('healthexp')\n",
    "cov = df.cov()\n",
    "print('Covariance :: ',cov)\n",
    "    \n",
    "corr = df.corr(method='spearman')\n",
    "print('Correlation :: ',corr)"
   ]
  },
  {
   "cell_type": "code",
   "execution_count": null,
   "id": "03dbfa6e-6d64-418c-bcd5-fc17a75d1d5a",
   "metadata": {},
   "outputs": [],
   "source": [
    "Q11. What is the formula for calculating the sample mean? Provide an example calculation for a\n",
    "dataset.\n",
    "------\n",
    "Sample Mean : Sample mean represents the measure of the center of the data.\n",
    "\n",
    "Sample Mean = (Sum of terms) / (Number of Terms)\n",
    "\n",
    "Example : Find the sample mean of 60, 57, 109, 50.\n",
    "    Sum of terms = 60 + 57 + 109 + 50 = 276\n",
    "    Number of terms = 4\n",
    "\n",
    "    mean = (sum of terms)/(number of terms)\n",
    "    mean = 276/4 = 69"
   ]
  },
  {
   "cell_type": "code",
   "execution_count": null,
   "id": "dba15531-a869-4f2d-84b9-2e1a813c51d9",
   "metadata": {},
   "outputs": [],
   "source": [
    "Q12. For a normal distribution data what is the relationship between its measure of central tendency?\n",
    "--------\n",
    "For normally distributed data, all three measures of central tendency will give the same answer."
   ]
  },
  {
   "cell_type": "code",
   "execution_count": null,
   "id": "aad2eca7-c190-4cb3-bbf1-3a4736b65fe0",
   "metadata": {},
   "outputs": [],
   "source": [
    "Q13. How is covariance different from correlation?\n",
    "---------\n",
    "Covariance shows you how the two variables differ, whereas correlation shows you how the two variables are related.\n"
   ]
  },
  {
   "cell_type": "code",
   "execution_count": 14,
   "id": "570cfe43-cb21-42a2-b779-acda2fdf53af",
   "metadata": {},
   "outputs": [
    {
     "name": "stdout",
     "output_type": "stream",
     "text": [
      "Mean without outliners :  5.0\n",
      "Standard Deviation without outliners :  2.581988897471611\n",
      "Mean with outliners :  54.5\n",
      "Standard Deviation with outliners :  148.52020064624205\n"
     ]
    }
   ],
   "source": [
    "'''Q14. How do outliers affect measures of central tendency and dispersion? Provide an example.\n",
    "-------\n",
    "Outliers affect the mean value of the data but have little effect on the median or mode of a given set of data.\n",
    "If the data set contains outliers then the deviation from the mean will increase, causing a high standard deviation.\n",
    "\n",
    "Example:'''\n",
    "import numpy as np\n",
    "\n",
    "data = [1,2,3,4,5,6,7,8,9]\n",
    "Mean = np.mean(data)\n",
    "print(\"Mean without outliners : \", Mean)\n",
    "\n",
    "std = np.std(data)\n",
    "print(\"Standard Deviation without outliners : \", std)\n",
    "\n",
    "data1 = [1,2,3,4,5,6,7,8,9,500]\n",
    "Mean1 = np.mean(data1)\n",
    "print(\"Mean with outliners : \", Mean1)\n",
    "\n",
    "std1 = np.std(data1)\n",
    "print(\"Standard Deviation with outliners : \", std1)"
   ]
  }
 ],
 "metadata": {
  "kernelspec": {
   "display_name": "Python 3 (ipykernel)",
   "language": "python",
   "name": "python3"
  },
  "language_info": {
   "codemirror_mode": {
    "name": "ipython",
    "version": 3
   },
   "file_extension": ".py",
   "mimetype": "text/x-python",
   "name": "python",
   "nbconvert_exporter": "python",
   "pygments_lexer": "ipython3",
   "version": "3.10.8"
  }
 },
 "nbformat": 4,
 "nbformat_minor": 5
}
