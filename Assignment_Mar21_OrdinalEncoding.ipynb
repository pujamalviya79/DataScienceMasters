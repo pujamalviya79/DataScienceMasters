{
 "cells": [
  {
   "cell_type": "code",
   "execution_count": null,
   "id": "438374ad-0bf5-42f2-a6c0-f3db2ccd6af4",
   "metadata": {},
   "outputs": [],
   "source": [
    "Q1. What is the difference between Ordinal Encoding and Label Encoding? Provide an example of when you\n",
    "might choose one over the other.\n",
    "--------\n",
    "In label encoding in Python, we replace the categorical value with a numeric value between 0 and the number of classes minus 1. \n",
    "If the categorical variable value contains 5 distinct classes, we use (0, 1, 2, 3, and 4).\n",
    "\n",
    "An Ordinal Encoder is used to encode categorical features into an ordinal numerical value (ordered set). \n",
    "This approach transforms categorical value into numerical value in ordered sets.\n",
    "This encoding technique appears almost similar to Label Encoding. \n",
    "\n",
    "But, label encoding would not consider whether a variable is ordinal or not, but in the case of ordinal encoding, it will assign a sequence of numerical values as per the order of data.\n",
    "\n",
    "Example:\n",
    "    Use ordinal encoding to preserve order of categorical data i.e. cold, warm, hot; low, medium, high. \n",
    "    Use label encoding or one hot for categorical data, where there's no order in data i.e. dog, cat, whale."
   ]
  },
  {
   "cell_type": "code",
   "execution_count": 7,
   "id": "87b25efb-22a5-4578-a7a7-c4b6089d0bdb",
   "metadata": {},
   "outputs": [
    {
     "data": {
      "text/html": [
       "<div>\n",
       "<style scoped>\n",
       "    .dataframe tbody tr th:only-of-type {\n",
       "        vertical-align: middle;\n",
       "    }\n",
       "\n",
       "    .dataframe tbody tr th {\n",
       "        vertical-align: top;\n",
       "    }\n",
       "\n",
       "    .dataframe thead th {\n",
       "        text-align: right;\n",
       "    }\n",
       "</style>\n",
       "<table border=\"1\" class=\"dataframe\">\n",
       "  <thead>\n",
       "    <tr style=\"text-align: right;\">\n",
       "      <th></th>\n",
       "      <th>class</th>\n",
       "      <th>class_encoded</th>\n",
       "    </tr>\n",
       "  </thead>\n",
       "  <tbody>\n",
       "    <tr>\n",
       "      <th>0</th>\n",
       "      <td>A,</td>\n",
       "      <td>50.000000</td>\n",
       "    </tr>\n",
       "    <tr>\n",
       "      <th>1</th>\n",
       "      <td>B</td>\n",
       "      <td>55.000000</td>\n",
       "    </tr>\n",
       "    <tr>\n",
       "      <th>2</th>\n",
       "      <td>C</td>\n",
       "      <td>57.500000</td>\n",
       "    </tr>\n",
       "    <tr>\n",
       "      <th>3</th>\n",
       "      <td>B</td>\n",
       "      <td>55.000000</td>\n",
       "    </tr>\n",
       "    <tr>\n",
       "      <th>4</th>\n",
       "      <td>C</td>\n",
       "      <td>57.500000</td>\n",
       "    </tr>\n",
       "    <tr>\n",
       "      <th>5</th>\n",
       "      <td>A</td>\n",
       "      <td>81.666667</td>\n",
       "    </tr>\n",
       "    <tr>\n",
       "      <th>6</th>\n",
       "      <td>A</td>\n",
       "      <td>81.666667</td>\n",
       "    </tr>\n",
       "    <tr>\n",
       "      <th>7</th>\n",
       "      <td>A</td>\n",
       "      <td>81.666667</td>\n",
       "    </tr>\n",
       "  </tbody>\n",
       "</table>\n",
       "</div>"
      ],
      "text/plain": [
       "  class  class_encoded\n",
       "0    A,      50.000000\n",
       "1     B      55.000000\n",
       "2     C      57.500000\n",
       "3     B      55.000000\n",
       "4     C      57.500000\n",
       "5     A      81.666667\n",
       "6     A      81.666667\n",
       "7     A      81.666667"
      ]
     },
     "execution_count": 7,
     "metadata": {},
     "output_type": "execute_result"
    }
   ],
   "source": [
    "'''Q2. Explain how Target Guided Ordinal Encoding works and provide an example of when you might use it in\n",
    "a machine learning project.\n",
    "----------\n",
    "Target Guided Ordinal Encoding is the technique where we will take help of our target variable to encode the categorical data.\n",
    "\n",
    "Example:'''\n",
    "    \n",
    "import pandas as pd\n",
    "\n",
    "\n",
    "df=pd.DataFrame({'class':['A,','B','C','B','C','A','A','A'],'Marks':[50,30,70,80,45,97,80,68]})\n",
    "\n",
    "mean_marks=df.groupby('class')['Marks'].mean().to_dict()\n",
    "df['class_encoded']=df['class'].map(mean_marks)\n",
    "df[['class','class_encoded']]"
   ]
  },
  {
   "cell_type": "code",
   "execution_count": null,
   "id": "8399831a-200a-450e-be41-c07c10d6aee4",
   "metadata": {},
   "outputs": [],
   "source": [
    "Q3. Define covariance and explain why it is important in statistical analysis. How is covariance calculated?\n",
    "---------\n",
    "Covariance measures the directional relationship between the returns on two assets. \n",
    "A positive covariance means asset returns move together, while a negative covariance means they move inversely.\n",
    "\n",
    "Covariance is calculated by analyzing at-return surprises (standard deviations from the expected return) or multiplying the correlation between the two random variables by the standard deviation of each variable.\n",
    "For example, in finance, two data sets could be the cost of one company's stock, while the other could be an unrelated company's stock. \n",
    "Since they represent both values in terms of dollars, the units for the measurement would be dollars.\n",
    "\n",
    "Cov(X, Y) = Σ(Xi-µ)(Yj-v) / n\n",
    "\n",
    "Where:\n",
    "Cov(X, Y) represents the covariance of variables X and Y.\n",
    "Σ represents the sum of other parts of the formula.\n",
    "(Xi) represents all values of the X-variable.\n",
    "µ represents the average value of the X-variable.\n",
    "Yj represents all values of the Y-variable.\n",
    "v represents the average value of the Y-variable.\n",
    "Σ represents the sum of the values for both (Xi-µ) and (Yj-v).\n",
    "n represents the total number of data points across both variables."
   ]
  },
  {
   "cell_type": "code",
   "execution_count": 14,
   "id": "4aaea5e7-6a8e-44f4-a58f-acf98dbf342e",
   "metadata": {},
   "outputs": [
    {
     "name": "stdout",
     "output_type": "stream",
     "text": [
      "[2 1 0]\n",
      "[2 1 0]\n",
      "[2 0 1]\n"
     ]
    },
    {
     "name": "stderr",
     "output_type": "stream",
     "text": [
      "/opt/conda/lib/python3.10/site-packages/sklearn/preprocessing/_label.py:116: DataConversionWarning: A column-vector y was passed when a 1d array was expected. Please change the shape of y to (n_samples, ), for example using ravel().\n",
      "  y = column_or_1d(y, warn=True)\n",
      "/opt/conda/lib/python3.10/site-packages/sklearn/preprocessing/_label.py:116: DataConversionWarning: A column-vector y was passed when a 1d array was expected. Please change the shape of y to (n_samples, ), for example using ravel().\n",
      "  y = column_or_1d(y, warn=True)\n",
      "/opt/conda/lib/python3.10/site-packages/sklearn/preprocessing/_label.py:116: DataConversionWarning: A column-vector y was passed when a 1d array was expected. Please change the shape of y to (n_samples, ), for example using ravel().\n",
      "  y = column_or_1d(y, warn=True)\n"
     ]
    }
   ],
   "source": [
    "'''Q4. For a dataset with the following categorical variables: Color (red, green, blue), Size (small, medium,\n",
    "large), and Material (wood, metal, plastic), perform label encoding using Python's scikit-learn library.\n",
    "Show your code and explain the output.\n",
    "---------'''\n",
    "import pandas as pd\n",
    "\n",
    "df=pd.DataFrame({'Color':['red','green','blue'],'Size':['small','medium','large'],'Material':['wood','metal','plastic']})\n",
    "\n",
    "from sklearn.preprocessing import LabelEncoder\n",
    "lbl_encoder=LabelEncoder()\n",
    "\n",
    "color_encoder=lbl_encoder.fit_transform(df[['Color']])\n",
    "print(color_encoder)\n",
    "size_encoder=lbl_encoder.fit_transform(df[['Size']])\n",
    "print(size_encoder)\n",
    "material_encoder=lbl_encoder.fit_transform(df[['Material']])\n",
    "print(material_encoder)"
   ]
  },
  {
   "cell_type": "code",
   "execution_count": 20,
   "id": "c5304dbc-3b6c-41f2-80f5-6eeb904cc7e3",
   "metadata": {},
   "outputs": [
    {
     "name": "stdout",
     "output_type": "stream",
     "text": [
      "4.0\n",
      "26333333.333333332\n"
     ]
    },
    {
     "name": "stderr",
     "output_type": "stream",
     "text": [
      "/tmp/ipykernel_871/1890601190.py:15: FutureWarning: The default value of numeric_only in DataFrame.cov is deprecated. In a future version, it will default to False. Select only valid columns or specify the value of numeric_only to silence this warning.\n",
      "  df.cov()\n"
     ]
    },
    {
     "data": {
      "text/html": [
       "<div>\n",
       "<style scoped>\n",
       "    .dataframe tbody tr th:only-of-type {\n",
       "        vertical-align: middle;\n",
       "    }\n",
       "\n",
       "    .dataframe tbody tr th {\n",
       "        vertical-align: top;\n",
       "    }\n",
       "\n",
       "    .dataframe thead th {\n",
       "        text-align: right;\n",
       "    }\n",
       "</style>\n",
       "<table border=\"1\" class=\"dataframe\">\n",
       "  <thead>\n",
       "    <tr style=\"text-align: right;\">\n",
       "      <th></th>\n",
       "      <th>Age</th>\n",
       "      <th>Income</th>\n",
       "    </tr>\n",
       "  </thead>\n",
       "  <tbody>\n",
       "    <tr>\n",
       "      <th>Age</th>\n",
       "      <td>4.0</td>\n",
       "      <td>1.000000e+04</td>\n",
       "    </tr>\n",
       "    <tr>\n",
       "      <th>Income</th>\n",
       "      <td>10000.0</td>\n",
       "      <td>2.633333e+07</td>\n",
       "    </tr>\n",
       "  </tbody>\n",
       "</table>\n",
       "</div>"
      ],
      "text/plain": [
       "            Age        Income\n",
       "Age         4.0  1.000000e+04\n",
       "Income  10000.0  2.633333e+07"
      ]
     },
     "execution_count": 20,
     "metadata": {},
     "output_type": "execute_result"
    }
   ],
   "source": [
    "'''Q5. Calculate the covariance matrix for the following variables in a dataset: Age, Income, and Education\n",
    "level. Interpret the results.\n",
    "---------'''\n",
    "import pandas as pd\n",
    "\n",
    "df=pd.DataFrame({'Age':[30,32,34],'Income':[35000,42000,45000],'Education Level':['Bachelor','MCA','MBA']})\n",
    "\n",
    "## will find covariance of Age and Income\n",
    "\n",
    "varX = df['Age'].var()\n",
    "print(varX)\n",
    "varY = df['Income'].var()\n",
    "print(varY)\n",
    "\n",
    "df.cov()\n",
    " \n",
    "covariance matrix = [     varX         COV(Age,Income)\n",
    "                    Cov(Income,Age)       varY        ]"
   ]
  },
  {
   "cell_type": "code",
   "execution_count": null,
   "id": "2fc0684a-7394-4f97-a6ab-0e2bcd23aa59",
   "metadata": {},
   "outputs": [],
   "source": [
    "Q6. You are working on a machine learning project with a dataset containing several categorical\n",
    "variables, including \"Gender\" (Male/Female), \"Education Level\" (High School/Bachelor's/Master's/PhD),\n",
    "and \"Employment Status\" (Unemployed/Part-Time/Full-Time). Which encoding method would you use for\n",
    "each variable, and why?\n",
    "--------\n",
    "For Gender , we can use binary numbers, 0 or 1 to represent, using ordinal encoding.\n",
    "For Education Level , we can use Label encoding as we can provide rank for education level from highest to lowest.\n",
    "For Employment status we can use Target guided technique with target variable as Salary."
   ]
  },
  {
   "cell_type": "code",
   "execution_count": 22,
   "id": "0e60f961-38cb-4552-bd62-37bad544cb10",
   "metadata": {},
   "outputs": [
    {
     "data": {
      "text/html": [
       "<div>\n",
       "<style scoped>\n",
       "    .dataframe tbody tr th:only-of-type {\n",
       "        vertical-align: middle;\n",
       "    }\n",
       "\n",
       "    .dataframe tbody tr th {\n",
       "        vertical-align: top;\n",
       "    }\n",
       "\n",
       "    .dataframe thead th {\n",
       "        text-align: right;\n",
       "    }\n",
       "</style>\n",
       "<table border=\"1\" class=\"dataframe\">\n",
       "  <thead>\n",
       "    <tr style=\"text-align: right;\">\n",
       "      <th></th>\n",
       "      <th>Temperature</th>\n",
       "      <th>Humidity</th>\n",
       "      <th>Weather Condition</th>\n",
       "      <th>Wind Direction</th>\n",
       "    </tr>\n",
       "  </thead>\n",
       "  <tbody>\n",
       "    <tr>\n",
       "      <th>0</th>\n",
       "      <td>26</td>\n",
       "      <td>120</td>\n",
       "      <td>Rainy</td>\n",
       "      <td>North</td>\n",
       "    </tr>\n",
       "    <tr>\n",
       "      <th>1</th>\n",
       "      <td>38</td>\n",
       "      <td>105</td>\n",
       "      <td>Cloudy</td>\n",
       "      <td>South</td>\n",
       "    </tr>\n",
       "    <tr>\n",
       "      <th>2</th>\n",
       "      <td>34</td>\n",
       "      <td>140</td>\n",
       "      <td>Sunny</td>\n",
       "      <td>West</td>\n",
       "    </tr>\n",
       "  </tbody>\n",
       "</table>\n",
       "</div>"
      ],
      "text/plain": [
       "   Temperature  Humidity Weather Condition Wind Direction\n",
       "0           26       120             Rainy          North\n",
       "1           38       105            Cloudy          South\n",
       "2           34       140             Sunny           West"
      ]
     },
     "execution_count": 22,
     "metadata": {},
     "output_type": "execute_result"
    }
   ],
   "source": [
    "'''Q7. You are analyzing a dataset with two continuous variables, \"Temperature\" and \"Humidity\", and two\n",
    "categorical variables, \"Weather Condition\" (Sunny/Cloudy/Rainy) and \"Wind Direction\" (North/South/\n",
    "East/West). Calculate the covariance between each pair of variables and interpret the results.\n",
    "---------'''\n",
    "\n",
    "import pandas as pd\n",
    "\n",
    "df=pd.DataFrame({'Temperature':[26,38,34],'Humidity':[120,105,140],'Weather Condition':['Rainy','Cloudy','Sunny'], 'Wind Direction':['North','South','West']})\n",
    "\n",
    "from sklearn.preprocessing import LabelEncoder\n",
    "lbl_encoder=LabelEncoder()\n",
    "\n",
    "color_encoder=lbl_encoder.fit_transform(df[['Color']])"
   ]
  },
  {
   "cell_type": "code",
   "execution_count": null,
   "id": "5599798d-6e9d-4c16-a6e6-86c7794533e2",
   "metadata": {},
   "outputs": [],
   "source": []
  }
 ],
 "metadata": {
  "kernelspec": {
   "display_name": "Python 3 (ipykernel)",
   "language": "python",
   "name": "python3"
  },
  "language_info": {
   "codemirror_mode": {
    "name": "ipython",
    "version": 3
   },
   "file_extension": ".py",
   "mimetype": "text/x-python",
   "name": "python",
   "nbconvert_exporter": "python",
   "pygments_lexer": "ipython3",
   "version": "3.10.8"
  }
 },
 "nbformat": 4,
 "nbformat_minor": 5
}
