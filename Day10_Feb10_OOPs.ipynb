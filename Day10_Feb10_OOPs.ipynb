{
 "cells": [
  {
   "cell_type": "markdown",
   "id": "472bb1b5-820b-4b42-9157-becb369f2fec",
   "metadata": {},
   "source": [
    "## Decorators"
   ]
  },
  {
   "cell_type": "code",
   "execution_count": 1,
   "id": "d371e2ef-d81c-4c3a-82e7-f77ea3e55caf",
   "metadata": {},
   "outputs": [],
   "source": [
    "def test():\n",
    "    print(\"Start of this function\")\n",
    "    print(4+5)\n",
    "    print(\"End of this function\")"
   ]
  },
  {
   "cell_type": "code",
   "execution_count": 2,
   "id": "5ded92b4-9d78-4b64-be22-8e1a3ede27f7",
   "metadata": {},
   "outputs": [
    {
     "name": "stdout",
     "output_type": "stream",
     "text": [
      "Start of this function\n",
      "9\n",
      "End of this function\n"
     ]
    }
   ],
   "source": [
    "test()"
   ]
  },
  {
   "cell_type": "code",
   "execution_count": null,
   "id": "fff82594-6c52-4072-a5aa-e4bc11c78f49",
   "metadata": {},
   "outputs": [],
   "source": [
    "## if we have to print the statements repetatively for each functions"
   ]
  },
  {
   "cell_type": "code",
   "execution_count": 8,
   "id": "aba05c84-8279-44eb-afe1-1208989ac783",
   "metadata": {},
   "outputs": [],
   "source": [
    "def deco(func):\n",
    "    def inner_deco():\n",
    "        print(\"Start of the function\")\n",
    "        func()\n",
    "        print(\"End of the function\")\n",
    "    return inner_deco()"
   ]
  },
  {
   "cell_type": "code",
   "execution_count": 9,
   "id": "a23669d2-0214-4d60-b176-c3d391337728",
   "metadata": {},
   "outputs": [
    {
     "name": "stdout",
     "output_type": "stream",
     "text": [
      "Start of the function\n",
      "9\n",
      "End of the function\n"
     ]
    }
   ],
   "source": [
    "@deco\n",
    "def test1():\n",
    "    print(4+5)"
   ]
  },
  {
   "cell_type": "code",
   "execution_count": 11,
   "id": "93c63ddf-34e4-47f2-968d-be688c635c42",
   "metadata": {},
   "outputs": [],
   "source": [
    "## to get the execution time\n",
    "\n",
    "import time\n",
    "\n",
    "def timer_test(func):\n",
    "    def timer_test_inner():\n",
    "        start = time.time()\n",
    "        func()\n",
    "        end = time.time()\n",
    "        print(\"Total execution time :: \",end-start)\n",
    "    return timer_test_inner()"
   ]
  },
  {
   "cell_type": "code",
   "execution_count": 12,
   "id": "41536c75-6b5b-405f-9dd8-756de87b5c55",
   "metadata": {},
   "outputs": [
    {
     "name": "stdout",
     "output_type": "stream",
     "text": [
      "112\n",
      "Total execution time ::  4.57763671875e-05\n"
     ]
    }
   ],
   "source": [
    "@timer_test\n",
    "def test2():\n",
    "    print(45+67)"
   ]
  },
  {
   "cell_type": "code",
   "execution_count": 17,
   "id": "afb45bc9-1b9b-45ef-b7d8-6bf7f8e0caf0",
   "metadata": {},
   "outputs": [
    {
     "name": "stdout",
     "output_type": "stream",
     "text": [
      "Total execution time ::  3.2407350540161133\n"
     ]
    }
   ],
   "source": [
    "@timer_test\n",
    "def test3():\n",
    "    for i in range(132562527):\n",
    "        pass"
   ]
  },
  {
   "cell_type": "markdown",
   "id": "77c240dc-9736-43f6-aa68-d93aa541ed0d",
   "metadata": {},
   "source": [
    "## Class Methods"
   ]
  },
  {
   "cell_type": "code",
   "execution_count": 18,
   "id": "633c44aa-3e3f-48bb-9007-92561e6c8a26",
   "metadata": {},
   "outputs": [],
   "source": [
    "class pwskills:\n",
    "    def __init__(self, name, email):\n",
    "        self.name = name\n",
    "        self.email = email\n",
    "        \n",
    "    def student_details(self):\n",
    "        print(self.name,self.email)\n",
    "        "
   ]
  },
  {
   "cell_type": "code",
   "execution_count": 19,
   "id": "d01af54f-c40c-4a70-93da-990208a8c619",
   "metadata": {},
   "outputs": [],
   "source": [
    "pw = pwskills(\"Puja\", \"ppppppp@gmail.com\")"
   ]
  },
  {
   "cell_type": "code",
   "execution_count": 21,
   "id": "7ee614bf-33f1-44d8-9d95-7793b20daa59",
   "metadata": {},
   "outputs": [
    {
     "data": {
      "text/plain": [
       "'Puja'"
      ]
     },
     "execution_count": 21,
     "metadata": {},
     "output_type": "execute_result"
    }
   ],
   "source": [
    "pw.name"
   ]
  },
  {
   "cell_type": "code",
   "execution_count": 22,
   "id": "88354f84-36f2-41b6-afa6-090e61f19116",
   "metadata": {},
   "outputs": [
    {
     "data": {
      "text/plain": [
       "'ppppppp@gmail.com'"
      ]
     },
     "execution_count": 22,
     "metadata": {},
     "output_type": "execute_result"
    }
   ],
   "source": [
    "pw.email"
   ]
  },
  {
   "cell_type": "code",
   "execution_count": 23,
   "id": "c74c3ceb-aced-46ce-a3a2-60677672e1d2",
   "metadata": {},
   "outputs": [
    {
     "name": "stdout",
     "output_type": "stream",
     "text": [
      "Puja ppppppp@gmail.com\n"
     ]
    }
   ],
   "source": [
    "pw.student_details()"
   ]
  },
  {
   "cell_type": "code",
   "execution_count": 24,
   "id": "6d2d4440-9b78-44df-b9c3-89d7ebb96ab0",
   "metadata": {},
   "outputs": [],
   "source": [
    "class pwskills1:\n",
    "    def __init__(self, name, email):\n",
    "        self.name = name\n",
    "        self.email = email\n",
    "    \n",
    "    @classmethod\n",
    "    def details(cls, name, email):\n",
    "        return cls(name,email)\n",
    "    \n",
    "    def student_details(self):\n",
    "        print(self.name,self.email)"
   ]
  },
  {
   "cell_type": "code",
   "execution_count": 33,
   "id": "35754595-0719-4bfe-92e7-189943b212ee",
   "metadata": {},
   "outputs": [],
   "source": [
    "## here in above example.. we are passing data to a class directly without init method using @classmethod decorator\n",
    "## this is Function overloading\n",
    "## cls is binding the entire method to the class\n",
    "\n",
    "pw1 = pwskills1.details(\"Ram\", \"ram@gmail.com\")"
   ]
  },
  {
   "cell_type": "code",
   "execution_count": 29,
   "id": "872c5950-0df2-4f68-8bac-1135a5891f18",
   "metadata": {},
   "outputs": [
    {
     "data": {
      "text/plain": [
       "'Ram'"
      ]
     },
     "execution_count": 29,
     "metadata": {},
     "output_type": "execute_result"
    }
   ],
   "source": [
    "pw1.name"
   ]
  },
  {
   "cell_type": "code",
   "execution_count": 30,
   "id": "9eb0ae66-c9ae-4dce-9563-9dadda2a41d5",
   "metadata": {},
   "outputs": [
    {
     "data": {
      "text/plain": [
       "'ram@gmail.com'"
      ]
     },
     "execution_count": 30,
     "metadata": {},
     "output_type": "execute_result"
    }
   ],
   "source": [
    "pw1.email"
   ]
  },
  {
   "cell_type": "code",
   "execution_count": 32,
   "id": "fa95a143-5b92-4918-ab8b-5a4df1fe6c8c",
   "metadata": {},
   "outputs": [
    {
     "name": "stdout",
     "output_type": "stream",
     "text": [
      "Ram ram@gmail.com\n"
     ]
    }
   ],
   "source": [
    "pw1.student_details()"
   ]
  },
  {
   "cell_type": "code",
   "execution_count": 44,
   "id": "7b31c824-7e4d-455a-a25c-4900711202bd",
   "metadata": {},
   "outputs": [],
   "source": [
    "class pwskills2:\n",
    "    \n",
    "    mobile_number = 5485464655\n",
    "    \n",
    "    def __init__(self, name, email):\n",
    "        self.name = name\n",
    "        self.email = email\n",
    "    \n",
    "    @classmethod\n",
    "    def change_number(cls, mobile_num):\n",
    "        pwskills2.mobile_number = mobile_num\n",
    "    \n",
    "    @classmethod\n",
    "    def details(cls, name, email):\n",
    "        return cls(name,email)\n",
    "    \n",
    "    def student_details(self):\n",
    "        print(self.name,self.email,pwskills2.mobile_number)"
   ]
  },
  {
   "cell_type": "code",
   "execution_count": 35,
   "id": "0f082a78-bc3d-44ad-bced-33f4bcd5b4cf",
   "metadata": {},
   "outputs": [
    {
     "data": {
      "text/plain": [
       "5485464655"
      ]
     },
     "execution_count": 35,
     "metadata": {},
     "output_type": "execute_result"
    }
   ],
   "source": [
    "pwskills2.mobile_number"
   ]
  },
  {
   "cell_type": "code",
   "execution_count": null,
   "id": "691ec3fd-a4a9-4742-9bd2-494539faa492",
   "metadata": {},
   "outputs": [],
   "source": [
    "## for class variable we dont have to define an object"
   ]
  },
  {
   "cell_type": "code",
   "execution_count": 38,
   "id": "d98bcc23-da68-48a8-b2fd-e3216904c3f9",
   "metadata": {},
   "outputs": [],
   "source": [
    "pw2 = pwskills2.details(\"Shyam\", \"shyam@gmail.com\")"
   ]
  },
  {
   "cell_type": "code",
   "execution_count": 39,
   "id": "b1028708-ab03-4596-a9b4-0bdaefbae23f",
   "metadata": {},
   "outputs": [
    {
     "name": "stdout",
     "output_type": "stream",
     "text": [
      "Shyam shyam@gmail.com 5485464655\n"
     ]
    }
   ],
   "source": [
    "pw2.student_details()"
   ]
  },
  {
   "cell_type": "code",
   "execution_count": 40,
   "id": "f163b498-00bb-4fc5-a399-a83efa35dd4c",
   "metadata": {},
   "outputs": [],
   "source": [
    "pw2_2 = pwskills2(\"Krishna\", \"Krishna@gmail.com\")"
   ]
  },
  {
   "cell_type": "code",
   "execution_count": 43,
   "id": "44f87d5c-86c6-4b08-bf57-e2132ccc34dc",
   "metadata": {},
   "outputs": [
    {
     "name": "stdout",
     "output_type": "stream",
     "text": [
      "Krishna Krishna@gmail.com 5485464655\n"
     ]
    }
   ],
   "source": [
    "pw2_2.student_details()"
   ]
  },
  {
   "cell_type": "code",
   "execution_count": 45,
   "id": "3bddcdee-d69d-4d64-bccf-4a0de2fe45f9",
   "metadata": {},
   "outputs": [
    {
     "data": {
      "text/plain": [
       "5485464655"
      ]
     },
     "execution_count": 45,
     "metadata": {},
     "output_type": "execute_result"
    }
   ],
   "source": [
    "pwskills2.mobile_number"
   ]
  },
  {
   "cell_type": "code",
   "execution_count": 46,
   "id": "efad8b91-ed4b-480c-bbe3-e3e9f50d4409",
   "metadata": {},
   "outputs": [],
   "source": [
    "pwskills2.change_number(8954557456)"
   ]
  },
  {
   "cell_type": "code",
   "execution_count": 47,
   "id": "8cbd6f8d-5607-496c-9995-636e82217539",
   "metadata": {},
   "outputs": [
    {
     "data": {
      "text/plain": [
       "8954557456"
      ]
     },
     "execution_count": 47,
     "metadata": {},
     "output_type": "execute_result"
    }
   ],
   "source": [
    "pwskills2.mobile_number"
   ]
  },
  {
   "cell_type": "code",
   "execution_count": 48,
   "id": "3dd0aeae-4cf0-49bd-95f9-1bd9c7a07c42",
   "metadata": {},
   "outputs": [],
   "source": [
    "class pwskills3:\n",
    "    \n",
    "    mobile_number = 5485464655\n",
    "    \n",
    "    def __init__(self, name, email):\n",
    "        self.name = name\n",
    "        self.email = email\n",
    "    \n",
    "    @classmethod\n",
    "    def change_number(cls, mobile_num):\n",
    "        pwskills2.mobile_number = mobile_num\n",
    "    \n",
    "    @classmethod\n",
    "    def details(cls, name, email):\n",
    "        return cls(name,email)\n",
    "    \n",
    "    def student_details(self):\n",
    "        print(self.name,self.email,pwskills2.mobile_number)"
   ]
  },
  {
   "cell_type": "code",
   "execution_count": 49,
   "id": "319e29e3-98f2-49f2-a4e8-f4e544c6f533",
   "metadata": {},
   "outputs": [],
   "source": [
    "## external function\n",
    "\n",
    "def course_details(cls, course_name):\n",
    "    print(\"Course details :: \",course_name)"
   ]
  },
  {
   "cell_type": "code",
   "execution_count": 53,
   "id": "9218cb55-e1f0-4b7c-8f9d-2963c8c67ca3",
   "metadata": {},
   "outputs": [],
   "source": [
    "## to access external function through class\n",
    "pwskills3.course_details = classmethod(course_details)"
   ]
  },
  {
   "cell_type": "code",
   "execution_count": 52,
   "id": "fb6ca56b-8f23-4a59-a4e3-034011d5e0d9",
   "metadata": {},
   "outputs": [
    {
     "name": "stdout",
     "output_type": "stream",
     "text": [
      "Course details ::  Data Science Masters\n"
     ]
    }
   ],
   "source": [
    "pwskills3.course_details(\"Data Science Masters\")"
   ]
  },
  {
   "cell_type": "code",
   "execution_count": 54,
   "id": "bad6b218-05f2-4ba9-abf9-05282c142d83",
   "metadata": {},
   "outputs": [],
   "source": [
    "pw3 = pwskills3(\"Krish\", \"krish@gmail.com\")"
   ]
  },
  {
   "cell_type": "code",
   "execution_count": 55,
   "id": "ee9cb503-7b57-4ef0-9e80-574ed6f471e8",
   "metadata": {},
   "outputs": [
    {
     "name": "stdout",
     "output_type": "stream",
     "text": [
      "Course details ::  Web Dev\n"
     ]
    }
   ],
   "source": [
    "pw3.course_details(\"Web Dev\")"
   ]
  },
  {
   "cell_type": "code",
   "execution_count": 56,
   "id": "2b459c50-068c-4866-bc69-4f6387303dd1",
   "metadata": {},
   "outputs": [],
   "source": [
    "## delete\n",
    "class pwskills4:\n",
    "    \n",
    "    mobile_number = 5485464655\n",
    "    \n",
    "    def __init__(self, name, email):\n",
    "        self.name = name\n",
    "        self.email = email\n",
    "    \n",
    "    @classmethod\n",
    "    def change_number(cls, mobile_num):\n",
    "        pwskills2.mobile_number = mobile_num\n",
    "    \n",
    "    @classmethod\n",
    "    def details(cls, name, email):\n",
    "        return cls(name,email)\n",
    "    \n",
    "    def student_details(self):\n",
    "        print(self.name,self.email,pwskills2.mobile_number)"
   ]
  },
  {
   "cell_type": "code",
   "execution_count": 57,
   "id": "664790e2-5f11-4d0f-a85c-b9df8319ed84",
   "metadata": {},
   "outputs": [],
   "source": [
    "del pwskills4.change_number"
   ]
  },
  {
   "cell_type": "code",
   "execution_count": 58,
   "id": "45757d11-9681-4904-a472-749768242e95",
   "metadata": {},
   "outputs": [
    {
     "ename": "AttributeError",
     "evalue": "type object 'pwskills4' has no attribute 'change_number'",
     "output_type": "error",
     "traceback": [
      "\u001b[0;31m---------------------------------------------------------------------------\u001b[0m",
      "\u001b[0;31mAttributeError\u001b[0m                            Traceback (most recent call last)",
      "Cell \u001b[0;32mIn[58], line 1\u001b[0m\n\u001b[0;32m----> 1\u001b[0m \u001b[43mpwskills4\u001b[49m\u001b[38;5;241;43m.\u001b[39;49m\u001b[43mchange_number\u001b[49m\n",
      "\u001b[0;31mAttributeError\u001b[0m: type object 'pwskills4' has no attribute 'change_number'"
     ]
    }
   ],
   "source": [
    "pwskills4.change_number"
   ]
  },
  {
   "cell_type": "code",
   "execution_count": 59,
   "id": "b14f055e-c924-4b10-b94a-56cef31e4c45",
   "metadata": {},
   "outputs": [],
   "source": [
    "delattr(pwskills4, \"details\")"
   ]
  },
  {
   "cell_type": "code",
   "execution_count": 60,
   "id": "f9840b8e-a6ad-49f9-b789-2345a101585b",
   "metadata": {},
   "outputs": [
    {
     "ename": "AttributeError",
     "evalue": "details",
     "output_type": "error",
     "traceback": [
      "\u001b[0;31m---------------------------------------------------------------------------\u001b[0m",
      "\u001b[0;31mAttributeError\u001b[0m                            Traceback (most recent call last)",
      "Cell \u001b[0;32mIn[60], line 1\u001b[0m\n\u001b[0;32m----> 1\u001b[0m \u001b[38;5;28;43mdelattr\u001b[39;49m\u001b[43m(\u001b[49m\u001b[43mpwskills4\u001b[49m\u001b[43m,\u001b[49m\u001b[43m \u001b[49m\u001b[38;5;124;43m\"\u001b[39;49m\u001b[38;5;124;43mdetails\u001b[39;49m\u001b[38;5;124;43m\"\u001b[39;49m\u001b[43m)\u001b[49m\n",
      "\u001b[0;31mAttributeError\u001b[0m: details"
     ]
    }
   ],
   "source": [
    "delattr(pwskills4, \"details\")"
   ]
  },
  {
   "cell_type": "code",
   "execution_count": 61,
   "id": "83a4c8ea-81af-499a-ac0a-4245c80d80ee",
   "metadata": {},
   "outputs": [
    {
     "data": {
      "text/plain": [
       "5485464655"
      ]
     },
     "execution_count": 61,
     "metadata": {},
     "output_type": "execute_result"
    }
   ],
   "source": [
    "pwskills4.mobile_number"
   ]
  },
  {
   "cell_type": "code",
   "execution_count": 62,
   "id": "d3943846-a569-4dcb-8453-9eeb098bb5cc",
   "metadata": {},
   "outputs": [],
   "source": [
    "delattr(pwskills4, \"mobile_number\")"
   ]
  },
  {
   "cell_type": "code",
   "execution_count": 63,
   "id": "15f0fd0a-a376-4281-b496-7984672fd741",
   "metadata": {},
   "outputs": [
    {
     "ename": "AttributeError",
     "evalue": "type object 'pwskills4' has no attribute 'mobile_number'",
     "output_type": "error",
     "traceback": [
      "\u001b[0;31m---------------------------------------------------------------------------\u001b[0m",
      "\u001b[0;31mAttributeError\u001b[0m                            Traceback (most recent call last)",
      "Cell \u001b[0;32mIn[63], line 1\u001b[0m\n\u001b[0;32m----> 1\u001b[0m \u001b[43mpwskills4\u001b[49m\u001b[38;5;241;43m.\u001b[39;49m\u001b[43mmobile_number\u001b[49m\n",
      "\u001b[0;31mAttributeError\u001b[0m: type object 'pwskills4' has no attribute 'mobile_number'"
     ]
    }
   ],
   "source": [
    "pwskills4.mobile_number"
   ]
  },
  {
   "cell_type": "markdown",
   "id": "22a81ada-951f-4ab6-b2c2-6f06c943fd43",
   "metadata": {},
   "source": [
    "## Static Method"
   ]
  },
  {
   "cell_type": "code",
   "execution_count": 1,
   "id": "1c9e8729-e82e-40f8-8baf-703c12cfcba4",
   "metadata": {},
   "outputs": [],
   "source": [
    "class pwskills:\n",
    "    def student_details(self, name, mailId, number):\n",
    "        print(name, mailId, number)"
   ]
  },
  {
   "cell_type": "code",
   "execution_count": 2,
   "id": "a40c1890-1b3a-40a8-ae92-547b634f17d5",
   "metadata": {},
   "outputs": [],
   "source": [
    "pw = pwskills()"
   ]
  },
  {
   "cell_type": "code",
   "execution_count": 3,
   "id": "d2afa3fa-7c46-4e95-965d-7e79211cf2a6",
   "metadata": {},
   "outputs": [
    {
     "name": "stdout",
     "output_type": "stream",
     "text": [
      "Puja puja@gmail.com 2454465456\n"
     ]
    }
   ],
   "source": [
    "pw.student_details(\"Puja\", \"puja@gmail.com\",\"2454465456\")"
   ]
  },
  {
   "cell_type": "code",
   "execution_count": 5,
   "id": "6c59938f-3968-4c8c-83e8-9cdbadff5b2e",
   "metadata": {},
   "outputs": [],
   "source": [
    "class pwskills1:\n",
    "    def student_details(self, name, mailId, number):\n",
    "        print(name, mailId, number) \n",
    "        \n",
    "    ## in case of static method, we are not passing cls like we r passing in class method\n",
    "    @staticmethod\n",
    "    def mentor_class(list_mentor):\n",
    "        print(list_mentor)"
   ]
  },
  {
   "cell_type": "code",
   "execution_count": 7,
   "id": "21682cce-baf7-4ad7-9103-4287454bd008",
   "metadata": {},
   "outputs": [
    {
     "name": "stdout",
     "output_type": "stream",
     "text": [
      "['Sudh', 'Krish']\n"
     ]
    }
   ],
   "source": [
    "pwskills1.mentor_class([\"Sudh\", \"Krish\"])"
   ]
  },
  {
   "cell_type": "code",
   "execution_count": null,
   "id": "cea4c55b-c542-4017-87fb-6ce527876144",
   "metadata": {},
   "outputs": [],
   "source": [
    "## we can call static method directly using classname"
   ]
  },
  {
   "cell_type": "code",
   "execution_count": 8,
   "id": "7eef5572-c05d-4b01-8c2a-175912ae72b6",
   "metadata": {},
   "outputs": [],
   "source": [
    "pw1 = pwskills1()"
   ]
  },
  {
   "cell_type": "code",
   "execution_count": 11,
   "id": "b92d5b93-3af8-433c-bc10-6b8dea46aea8",
   "metadata": {},
   "outputs": [
    {
     "name": "stdout",
     "output_type": "stream",
     "text": [
      "['Sudh', 'Krish']\n"
     ]
    }
   ],
   "source": [
    "## calling static method using object\n",
    "\n",
    "pw1.mentor_class([\"Sudh\",\"Krish\"])"
   ]
  },
  {
   "cell_type": "code",
   "execution_count": null,
   "id": "b060890c-e2d8-4c4a-acfb-7de36cf849a1",
   "metadata": {},
   "outputs": [],
   "source": [
    "## whenever we are defining anything as static, it will be available to all the objects in the class\n",
    "## with static , no need to create object\n",
    "## instance function can be accessed through objects"
   ]
  },
  {
   "cell_type": "code",
   "execution_count": 18,
   "id": "207d49fe-b7b3-4953-a825-a5a75770204a",
   "metadata": {},
   "outputs": [],
   "source": [
    "## can we access tstic method inside instance method\n",
    "\n",
    "class pwskills2:\n",
    "    \n",
    "    def student_details(self, name, mailId, number):\n",
    "        print(name, mailId, number) \n",
    "        \n",
    "    @staticmethod\n",
    "    def mentor_mail_id(mail_Id):\n",
    "        print(mail_Id)\n",
    "    \n",
    "    ## able to access one static method inside another static method\n",
    "    @staticmethod\n",
    "    def mentor_class(list_mentor):\n",
    "        print(list_mentor)\n",
    "        pwskills2.mentor_mail_id([\"krish@gmail.com\", \"sudh@gmail.com\"])\n",
    "        \n",
    "    ## able to call static method inside a class method\n",
    "    @classmethod\n",
    "    def class_name(cls, class_name):\n",
    "        cls.mentor_class([\"Sudh\", \"Krish\"])\n",
    "    \n",
    "    ## able to call static method inside an instance method\n",
    "    def mentor(self,list_mentor):\n",
    "        print(list_mentor)\n",
    "        self.mentor_class([\"Krish\", \"Sudh\"])"
   ]
  },
  {
   "cell_type": "code",
   "execution_count": 19,
   "id": "2fab932e-7e75-48c6-8a3a-1ec7acbf1ba5",
   "metadata": {},
   "outputs": [],
   "source": [
    "pw2 = pwskills2()"
   ]
  },
  {
   "cell_type": "code",
   "execution_count": 20,
   "id": "ec4ca49d-bb90-46c8-8acd-bda8c2913811",
   "metadata": {},
   "outputs": [
    {
     "name": "stdout",
     "output_type": "stream",
     "text": [
      "Puja puja@gnmail.com 7418529630\n"
     ]
    }
   ],
   "source": [
    "pw2.student_details(\"Puja\", \"puja@gnmail.com\", \"7418529630\")"
   ]
  },
  {
   "cell_type": "code",
   "execution_count": 22,
   "id": "1ceb6782-5a56-4a2b-9ab6-52e80e20f880",
   "metadata": {},
   "outputs": [
    {
     "name": "stdout",
     "output_type": "stream",
     "text": [
      "['Krish@gmail.com', 'Sudh@gmail.com']\n"
     ]
    }
   ],
   "source": [
    "pw2.mentor_mail_id([\"Krish@gmail.com\",\"Sudh@gmail.com\"])"
   ]
  },
  {
   "cell_type": "code",
   "execution_count": 23,
   "id": "57805578-63a3-40d7-8ae8-89ead99d8ad3",
   "metadata": {},
   "outputs": [
    {
     "name": "stdout",
     "output_type": "stream",
     "text": [
      "['Sudh', 'Krish']\n",
      "['krish@gmail.com', 'sudh@gmail.com']\n"
     ]
    }
   ],
   "source": [
    "pw2.class_name(\"Data Science Master\")"
   ]
  },
  {
   "cell_type": "code",
   "execution_count": 24,
   "id": "f2662b2e-df31-42d0-a199-8708c0e167fd",
   "metadata": {},
   "outputs": [
    {
     "name": "stdout",
     "output_type": "stream",
     "text": [
      "['Krish', 'Sudh']\n",
      "['Krish', 'Sudh']\n",
      "['krish@gmail.com', 'sudh@gmail.com']\n"
     ]
    }
   ],
   "source": [
    "pw2.mentor([\"Krish\",\"Sudh\"])"
   ]
  },
  {
   "cell_type": "markdown",
   "id": "77a985f4-ff2b-4f97-b297-373224c3597e",
   "metadata": {},
   "source": [
    "## Special (Magic/Dunder) Methods"
   ]
  },
  {
   "cell_type": "code",
   "execution_count": 26,
   "id": "edcd1de4-4fea-4591-965c-3528ce569b99",
   "metadata": {},
   "outputs": [
    {
     "data": {
      "text/plain": [
       "['__abs__',\n",
       " '__add__',\n",
       " '__and__',\n",
       " '__bool__',\n",
       " '__ceil__',\n",
       " '__class__',\n",
       " '__delattr__',\n",
       " '__dir__',\n",
       " '__divmod__',\n",
       " '__doc__',\n",
       " '__eq__',\n",
       " '__float__',\n",
       " '__floor__',\n",
       " '__floordiv__',\n",
       " '__format__',\n",
       " '__ge__',\n",
       " '__getattribute__',\n",
       " '__getnewargs__',\n",
       " '__gt__',\n",
       " '__hash__',\n",
       " '__index__',\n",
       " '__init__',\n",
       " '__init_subclass__',\n",
       " '__int__',\n",
       " '__invert__',\n",
       " '__le__',\n",
       " '__lshift__',\n",
       " '__lt__',\n",
       " '__mod__',\n",
       " '__mul__',\n",
       " '__ne__',\n",
       " '__neg__',\n",
       " '__new__',\n",
       " '__or__',\n",
       " '__pos__',\n",
       " '__pow__',\n",
       " '__radd__',\n",
       " '__rand__',\n",
       " '__rdivmod__',\n",
       " '__reduce__',\n",
       " '__reduce_ex__',\n",
       " '__repr__',\n",
       " '__rfloordiv__',\n",
       " '__rlshift__',\n",
       " '__rmod__',\n",
       " '__rmul__',\n",
       " '__ror__',\n",
       " '__round__',\n",
       " '__rpow__',\n",
       " '__rrshift__',\n",
       " '__rshift__',\n",
       " '__rsub__',\n",
       " '__rtruediv__',\n",
       " '__rxor__',\n",
       " '__setattr__',\n",
       " '__sizeof__',\n",
       " '__str__',\n",
       " '__sub__',\n",
       " '__subclasshook__',\n",
       " '__truediv__',\n",
       " '__trunc__',\n",
       " '__xor__',\n",
       " 'as_integer_ratio',\n",
       " 'bit_count',\n",
       " 'bit_length',\n",
       " 'conjugate',\n",
       " 'denominator',\n",
       " 'from_bytes',\n",
       " 'imag',\n",
       " 'numerator',\n",
       " 'real',\n",
       " 'to_bytes']"
      ]
     },
     "execution_count": 26,
     "metadata": {},
     "output_type": "execute_result"
    }
   ],
   "source": [
    "## to get all the functions related to integer\n",
    "dir(int)"
   ]
  },
  {
   "cell_type": "code",
   "execution_count": null,
   "id": "291348dd-bebb-4432-a1db-559a9bb52f8e",
   "metadata": {},
   "outputs": [],
   "source": [
    "## these are magic/Dunder function"
   ]
  },
  {
   "cell_type": "code",
   "execution_count": 27,
   "id": "b67b7785-d404-4862-9116-82b6d574986d",
   "metadata": {},
   "outputs": [
    {
     "data": {
      "text/plain": [
       "12"
      ]
     },
     "execution_count": 27,
     "metadata": {},
     "output_type": "execute_result"
    }
   ],
   "source": [
    "a=6\n",
    "b=6\n",
    "a+b"
   ]
  },
  {
   "cell_type": "code",
   "execution_count": 28,
   "id": "64e2f9dc-1146-48dd-a9ea-dd362e377810",
   "metadata": {},
   "outputs": [
    {
     "data": {
      "text/plain": [
       "12"
      ]
     },
     "execution_count": 28,
     "metadata": {},
     "output_type": "execute_result"
    }
   ],
   "source": [
    "a.__add__(6)"
   ]
  },
  {
   "cell_type": "code",
   "execution_count": 29,
   "id": "0171e42c-076e-4a03-af58-39443d29e7ea",
   "metadata": {},
   "outputs": [
    {
     "data": {
      "text/plain": [
       "['__add__',\n",
       " '__class__',\n",
       " '__contains__',\n",
       " '__delattr__',\n",
       " '__dir__',\n",
       " '__doc__',\n",
       " '__eq__',\n",
       " '__format__',\n",
       " '__ge__',\n",
       " '__getattribute__',\n",
       " '__getitem__',\n",
       " '__getnewargs__',\n",
       " '__gt__',\n",
       " '__hash__',\n",
       " '__init__',\n",
       " '__init_subclass__',\n",
       " '__iter__',\n",
       " '__le__',\n",
       " '__len__',\n",
       " '__lt__',\n",
       " '__mod__',\n",
       " '__mul__',\n",
       " '__ne__',\n",
       " '__new__',\n",
       " '__reduce__',\n",
       " '__reduce_ex__',\n",
       " '__repr__',\n",
       " '__rmod__',\n",
       " '__rmul__',\n",
       " '__setattr__',\n",
       " '__sizeof__',\n",
       " '__str__',\n",
       " '__subclasshook__',\n",
       " 'capitalize',\n",
       " 'casefold',\n",
       " 'center',\n",
       " 'count',\n",
       " 'encode',\n",
       " 'endswith',\n",
       " 'expandtabs',\n",
       " 'find',\n",
       " 'format',\n",
       " 'format_map',\n",
       " 'index',\n",
       " 'isalnum',\n",
       " 'isalpha',\n",
       " 'isascii',\n",
       " 'isdecimal',\n",
       " 'isdigit',\n",
       " 'isidentifier',\n",
       " 'islower',\n",
       " 'isnumeric',\n",
       " 'isprintable',\n",
       " 'isspace',\n",
       " 'istitle',\n",
       " 'isupper',\n",
       " 'join',\n",
       " 'ljust',\n",
       " 'lower',\n",
       " 'lstrip',\n",
       " 'maketrans',\n",
       " 'partition',\n",
       " 'removeprefix',\n",
       " 'removesuffix',\n",
       " 'replace',\n",
       " 'rfind',\n",
       " 'rindex',\n",
       " 'rjust',\n",
       " 'rpartition',\n",
       " 'rsplit',\n",
       " 'rstrip',\n",
       " 'split',\n",
       " 'splitlines',\n",
       " 'startswith',\n",
       " 'strip',\n",
       " 'swapcase',\n",
       " 'title',\n",
       " 'translate',\n",
       " 'upper',\n",
       " 'zfill']"
      ]
     },
     "execution_count": 29,
     "metadata": {},
     "output_type": "execute_result"
    }
   ],
   "source": [
    "dir(str)"
   ]
  },
  {
   "cell_type": "code",
   "execution_count": 32,
   "id": "027a4196-7913-4bfb-ac2d-24c167156276",
   "metadata": {},
   "outputs": [],
   "source": [
    "class pwskills:\n",
    "    \n",
    "    def __new__(cls):\n",
    "        print(\"This is New\")\n",
    "        \n",
    "    def __init__(self):\n",
    "        print(\"This is init\")"
   ]
  },
  {
   "cell_type": "code",
   "execution_count": 33,
   "id": "3e03ebc6-b016-4667-9342-a9cfa72ef28c",
   "metadata": {},
   "outputs": [
    {
     "name": "stdout",
     "output_type": "stream",
     "text": [
      "This is New\n"
     ]
    }
   ],
   "source": [
    "pw = pwskills()"
   ]
  },
  {
   "cell_type": "code",
   "execution_count": null,
   "id": "8568f2ae-5173-4176-a00e-f0966743262e",
   "metadata": {},
   "outputs": [],
   "source": [
    "## Before init , system will call New "
   ]
  },
  {
   "cell_type": "code",
   "execution_count": 41,
   "id": "c10c22ec-30b2-4a00-b779-b639b784c14c",
   "metadata": {},
   "outputs": [],
   "source": [
    "class pwskills1:\n",
    "    def __init__(self):\n",
    "        self.mobile_number = \"7418529630\"\n",
    "        \n",
    "    def __str__(self):\n",
    "        return \"This is a magic function which will print something\""
   ]
  },
  {
   "cell_type": "code",
   "execution_count": 42,
   "id": "ac242b35-89df-4ab3-8bff-b42f95310b24",
   "metadata": {},
   "outputs": [],
   "source": [
    "pw1 = pwskills1()"
   ]
  },
  {
   "cell_type": "code",
   "execution_count": 36,
   "id": "4c0c6865-4080-41e5-8af3-59b758dd3bdb",
   "metadata": {},
   "outputs": [
    {
     "data": {
      "text/plain": [
       "<__main__.pwskills1 at 0x7ff6eb096440>"
      ]
     },
     "execution_count": 36,
     "metadata": {},
     "output_type": "execute_result"
    }
   ],
   "source": [
    "pw1"
   ]
  },
  {
   "cell_type": "code",
   "execution_count": 37,
   "id": "18dd2ffe-a885-4bb3-ab80-29f7e1d20699",
   "metadata": {},
   "outputs": [
    {
     "data": {
      "text/plain": [
       "'7418529630'"
      ]
     },
     "execution_count": 37,
     "metadata": {},
     "output_type": "execute_result"
    }
   ],
   "source": [
    "pw1.mobile_number"
   ]
  },
  {
   "cell_type": "code",
   "execution_count": 38,
   "id": "e3960b7f-8927-4d53-9a64-c2084c941b0a",
   "metadata": {},
   "outputs": [
    {
     "name": "stdout",
     "output_type": "stream",
     "text": [
      "<__main__.pwskills1 object at 0x7ff6eb096440>\n"
     ]
    }
   ],
   "source": [
    "print(pw1)"
   ]
  },
  {
   "cell_type": "code",
   "execution_count": 43,
   "id": "1338765f-0e88-4908-80c2-33549dc0fab5",
   "metadata": {},
   "outputs": [
    {
     "name": "stdout",
     "output_type": "stream",
     "text": [
      "This is a magic function which will print something\n"
     ]
    }
   ],
   "source": [
    "print(pw1)"
   ]
  },
  {
   "cell_type": "markdown",
   "id": "8171722f-2191-4e90-922d-6c63ec7438b9",
   "metadata": {},
   "source": [
    "## Property Decorators - Getters, Setters and Deleters"
   ]
  },
  {
   "cell_type": "code",
   "execution_count": 8,
   "id": "21b71b88-e638-4fb0-95d0-e557ead55ef9",
   "metadata": {},
   "outputs": [],
   "source": [
    "class pwskills:\n",
    "    \n",
    "    def __init__(self, course_price, course_name):\n",
    "        self.__course_price = course_price\n",
    "        self.course_name =  course_name\n",
    "        "
   ]
  },
  {
   "cell_type": "code",
   "execution_count": 2,
   "id": "64128461-2837-4263-a286-099fa3b4291d",
   "metadata": {},
   "outputs": [],
   "source": [
    "pw = pwskills(3500, \"data science masters\")"
   ]
  },
  {
   "cell_type": "code",
   "execution_count": 3,
   "id": "fa88a336-e4fe-4ea1-9b85-b403424b10ea",
   "metadata": {},
   "outputs": [
    {
     "data": {
      "text/plain": [
       "'data science masters'"
      ]
     },
     "execution_count": 3,
     "metadata": {},
     "output_type": "execute_result"
    }
   ],
   "source": [
    "pw.course_name"
   ]
  },
  {
   "cell_type": "code",
   "execution_count": 5,
   "id": "42d49f4b-0354-4235-9fe2-e85673b228b7",
   "metadata": {},
   "outputs": [
    {
     "ename": "AttributeError",
     "evalue": "'pwskills' object has no attribute 'course_price'",
     "output_type": "error",
     "traceback": [
      "\u001b[0;31m---------------------------------------------------------------------------\u001b[0m",
      "\u001b[0;31mAttributeError\u001b[0m                            Traceback (most recent call last)",
      "Cell \u001b[0;32mIn[5], line 2\u001b[0m\n\u001b[1;32m      1\u001b[0m \u001b[38;5;66;03m## Trying to access a private variable\u001b[39;00m\n\u001b[0;32m----> 2\u001b[0m \u001b[43mpw\u001b[49m\u001b[38;5;241;43m.\u001b[39;49m\u001b[43mcourse_price\u001b[49m\n",
      "\u001b[0;31mAttributeError\u001b[0m: 'pwskills' object has no attribute 'course_price'"
     ]
    }
   ],
   "source": [
    "## Trying to access a private variable\n",
    "pw.course_price"
   ]
  },
  {
   "cell_type": "code",
   "execution_count": 7,
   "id": "345afd4b-efed-4f9f-b78f-d483b01d7660",
   "metadata": {},
   "outputs": [],
   "source": [
    "class pwskills1:\n",
    "    \n",
    "    def __init__(self, course_price, course_name):\n",
    "        self.__course_price = course_price\n",
    "        self.course_name =  course_name\n",
    "        \n",
    "    @property\n",
    "    def course_price_access(self):\n",
    "        return self.__course_price\n",
    "        "
   ]
  },
  {
   "cell_type": "code",
   "execution_count": 9,
   "id": "db3d1e6b-8f97-449e-a80b-ca3b0ee38118",
   "metadata": {},
   "outputs": [],
   "source": [
    "pw1 = pwskills1(3500, \"Data Science Masters\")"
   ]
  },
  {
   "cell_type": "code",
   "execution_count": 10,
   "id": "65865754-555e-4852-877b-1d69204329a7",
   "metadata": {},
   "outputs": [
    {
     "data": {
      "text/plain": [
       "'Data Science Masters'"
      ]
     },
     "execution_count": 10,
     "metadata": {},
     "output_type": "execute_result"
    }
   ],
   "source": [
    "pw1.course_name"
   ]
  },
  {
   "cell_type": "code",
   "execution_count": 12,
   "id": "69e00c5a-6d42-4b15-b0bf-d92b233e88f6",
   "metadata": {},
   "outputs": [
    {
     "data": {
      "text/plain": [
       "3500"
      ]
     },
     "execution_count": 12,
     "metadata": {},
     "output_type": "execute_result"
    }
   ],
   "source": [
    "pw1.course_price_access"
   ]
  },
  {
   "cell_type": "code",
   "execution_count": null,
   "id": "162c8800-5f87-4973-a0c3-9f66383068e0",
   "metadata": {},
   "outputs": [],
   "source": [
    "## how to give access to modify private varianle "
   ]
  },
  {
   "cell_type": "code",
   "execution_count": 26,
   "id": "9c20406d-fdff-46c0-afd9-c9cc86720120",
   "metadata": {},
   "outputs": [],
   "source": [
    "class pwskills2:\n",
    "    \n",
    "    def __init__(self, course_price, course_name):\n",
    "        self.__course_price = course_price\n",
    "        self.course_name =  course_name\n",
    "        \n",
    "    @property\n",
    "    def course_price_access(self):\n",
    "        return self.__course_price\n",
    "        \n",
    "    @course_price_access.setter\n",
    "    def course_price_set(self, price):\n",
    "        if price <= 3500:\n",
    "            pass\n",
    "        else:\n",
    "            self.__course_price = price\n",
    "      \n",
    "    ## give an access to delete \n",
    "    @course_price_access.deleter\n",
    "    def course_price_delete(self):\n",
    "        del self.__course_price\n",
    "   "
   ]
  },
  {
   "cell_type": "code",
   "execution_count": 27,
   "id": "e3cc006b-5c98-4f93-839a-4b4babb7efa7",
   "metadata": {},
   "outputs": [],
   "source": [
    "pw2 = pwskills2(2500,\"Data Science Masters\")"
   ]
  },
  {
   "cell_type": "code",
   "execution_count": 28,
   "id": "e71db92f-2ed3-46ec-a83d-831e2237bddd",
   "metadata": {},
   "outputs": [],
   "source": [
    "pw2.course_price_set = 3000"
   ]
  },
  {
   "cell_type": "code",
   "execution_count": 29,
   "id": "780281bf-dfbf-4194-a3ad-390103fe8841",
   "metadata": {},
   "outputs": [
    {
     "data": {
      "text/plain": [
       "2500"
      ]
     },
     "execution_count": 29,
     "metadata": {},
     "output_type": "execute_result"
    }
   ],
   "source": [
    "pw2.course_price_access"
   ]
  },
  {
   "cell_type": "code",
   "execution_count": 30,
   "id": "428322a8-3e1e-4edf-9304-7ff2b2ee7255",
   "metadata": {},
   "outputs": [],
   "source": [
    "del pw2.course_price_delete"
   ]
  },
  {
   "cell_type": "code",
   "execution_count": 32,
   "id": "5a27e25c-ab1c-4b94-90c9-dea8bf6ee0cc",
   "metadata": {},
   "outputs": [
    {
     "ename": "AttributeError",
     "evalue": "'pwskills2' object has no attribute '_pwskills2__course_price'",
     "output_type": "error",
     "traceback": [
      "\u001b[0;31m---------------------------------------------------------------------------\u001b[0m",
      "\u001b[0;31mAttributeError\u001b[0m                            Traceback (most recent call last)",
      "Cell \u001b[0;32mIn[32], line 2\u001b[0m\n\u001b[1;32m      1\u001b[0m \u001b[38;5;66;03m## error because its already been deleted\u001b[39;00m\n\u001b[0;32m----> 2\u001b[0m \u001b[43mpw2\u001b[49m\u001b[38;5;241;43m.\u001b[39;49m\u001b[43mcourse_price_access\u001b[49m\n",
      "Cell \u001b[0;32mIn[26], line 9\u001b[0m, in \u001b[0;36mpwskills2.course_price_access\u001b[0;34m(self)\u001b[0m\n\u001b[1;32m      7\u001b[0m \u001b[38;5;129m@property\u001b[39m\n\u001b[1;32m      8\u001b[0m \u001b[38;5;28;01mdef\u001b[39;00m \u001b[38;5;21mcourse_price_access\u001b[39m(\u001b[38;5;28mself\u001b[39m):\n\u001b[0;32m----> 9\u001b[0m     \u001b[38;5;28;01mreturn\u001b[39;00m \u001b[38;5;28;43mself\u001b[39;49m\u001b[38;5;241;43m.\u001b[39;49m\u001b[43m__course_price\u001b[49m\n",
      "\u001b[0;31mAttributeError\u001b[0m: 'pwskills2' object has no attribute '_pwskills2__course_price'"
     ]
    }
   ],
   "source": [
    "## error because its already been deleted\n",
    "pw2.course_price_access"
   ]
  }
 ],
 "metadata": {
  "kernelspec": {
   "display_name": "Python 3 (ipykernel)",
   "language": "python",
   "name": "python3"
  },
  "language_info": {
   "codemirror_mode": {
    "name": "ipython",
    "version": 3
   },
   "file_extension": ".py",
   "mimetype": "text/x-python",
   "name": "python",
   "nbconvert_exporter": "python",
   "pygments_lexer": "ipython3",
   "version": "3.10.8"
  }
 },
 "nbformat": 4,
 "nbformat_minor": 5
}
