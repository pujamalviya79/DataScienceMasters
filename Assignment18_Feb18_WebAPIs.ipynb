{
 "cells": [
  {
   "cell_type": "code",
   "execution_count": null,
   "id": "4a1c5025-9851-43b6-8cd2-5edb8c1b3278",
   "metadata": {},
   "outputs": [],
   "source": [
    "Q1. What is an API? Give an example, where an API is used in real life.\n",
    "-------\n",
    "Application Programming Interface (API) is a software interface that allows two applications to interact with each other without any user intervention.\n",
    "\n",
    "Example:\n",
    "    Weather Information\n",
    "    Flight Information\n",
    "    Google Pay"
   ]
  },
  {
   "cell_type": "code",
   "execution_count": null,
   "id": "1100d25d-1d62-4227-8499-a029a650ed76",
   "metadata": {},
   "outputs": [],
   "source": [
    "Q2. Give advantages and disadvantages of using API.\n",
    "----\n",
    "The advantages of APIs are:\n",
    "- Applications: Access to APIs ensures more flexibility in information-transfer processes.\n",
    "- Reach: APIs let you create layers in apps in order to distribute information to different audiences.\n",
    "- Customization: Furthermore, it can serve as a solution to create different experiences for users, letting protocols, functions, and commands be adapted according to specific demands.\n",
    "- Efficiency: When you have content that is automatically published and made available on different channels simultaneously, APIs allow for more efficient data distribution.\n",
    "- Adaptability: One of the greatest benefits of APIs is the ability it has to adapt to changes through data migration and flexibility of services.\n",
    "\n",
    "Disadvantages of API:\n",
    "As a single point of entry, an API is a gateway and can become a hacker's primary target. \n",
    "Once the API is compromised, all other applications and systems become vulnerable."
   ]
  },
  {
   "cell_type": "code",
   "execution_count": null,
   "id": "5783983f-ed59-40ed-985e-7e845ea0f847",
   "metadata": {},
   "outputs": [],
   "source": [
    "Q3. What is a Web API? Differentiate between API and Web API.\n",
    "------\n",
    "Web API is an API which can be accessed over the web using the HTTP protocol.\n",
    "It is a framework that helps you to create and develop HTTP based RESTFUL services. \n",
    "\n",
    "API is an interface that exposes an application's data to outside software, \n",
    "whereas web applications are one type of API with stricter requirements."
   ]
  },
  {
   "cell_type": "code",
   "execution_count": null,
   "id": "d9d9176d-d521-447e-a4f8-86e18ba0f263",
   "metadata": {},
   "outputs": [],
   "source": [
    "Q4. Explain REST and SOAP Architecture. Mention shortcomings of SOAP.\n",
    "-----\n",
    "REST Architecture:\n",
    "REST is a software architectural style that defines the set of rules to be used for creating web services. \n",
    "Web services which follow the REST architectural style are known as RESTful web services. \n",
    "It allows requesting systems to access and manipulate web resources by using a uniform and predefined set of rules.\n",
    "\n",
    "SOAP Architecture:\n",
    "Simple Object Access Protocol(SOAP) is a network protocol for exchanging structured data between nodes. \n",
    "It uses XML format to transfer messages.\n",
    "\n",
    "Shortcomings of SOAP architecture:\n",
    "- Highly complex. In comparison to Rest, SOAP is significantly more complex.\n",
    "- No variety of data formats. SOAP is also extremely limited in its support of data formats.\n",
    "- API calls are not cached.\n",
    "- Uses more bandwidth."
   ]
  },
  {
   "cell_type": "code",
   "execution_count": null,
   "id": "3d015263-2aae-46ea-939f-c68124f9da1d",
   "metadata": {},
   "outputs": [],
   "source": [
    "Q5. Differentiate between REST and SOAP.\n",
    "-----\n",
    "SOAP API:\n",
    "- Relies on SOAP (Simple Object Access Protocol)\n",
    "- Transports data in standard XML format.\n",
    "- Because it is XML based and relies on SOAP, it works with WSDL\n",
    "- Works over HTTP, HTTPS, SMTP, XMPP\n",
    "- Highly structured/typed\tLess structured\n",
    "- Designed with large enterprise applications in mind\n",
    "\n",
    "REST API:\n",
    "- Relies on REST (Representational State Transfer) architecture using HTTP.\n",
    "- Generally transports data in JSON.\n",
    "- It works with GET, POST, PUT, DELETE\n",
    "- Works over HTTP and HTTPS\t\n",
    "- less bulky data\n",
    "- Designed with mobile devices in mind"
   ]
  }
 ],
 "metadata": {
  "kernelspec": {
   "display_name": "Python 3 (ipykernel)",
   "language": "python",
   "name": "python3"
  },
  "language_info": {
   "codemirror_mode": {
    "name": "ipython",
    "version": 3
   },
   "file_extension": ".py",
   "mimetype": "text/x-python",
   "name": "python",
   "nbconvert_exporter": "python",
   "pygments_lexer": "ipython3",
   "version": "3.10.8"
  }
 },
 "nbformat": 4,
 "nbformat_minor": 5
}
