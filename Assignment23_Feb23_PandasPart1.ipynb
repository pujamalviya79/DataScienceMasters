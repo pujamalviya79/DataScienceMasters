{
 "cells": [
  {
   "cell_type": "code",
   "execution_count": 7,
   "id": "da397326-5674-47c4-89f4-949f254694f7",
   "metadata": {},
   "outputs": [
    {
     "name": "stdout",
     "output_type": "stream",
     "text": [
      "0     4\n",
      "1     8\n",
      "2    15\n",
      "3    16\n",
      "4    23\n",
      "5    42\n",
      "dtype: int64\n"
     ]
    }
   ],
   "source": [
    "'''Q1. Create a Pandas Series that contains the following data: 4, 8, 15, 16, 23, and 42. Then, print the series.\n",
    "-----'''\n",
    "\n",
    "import pandas as pd\n",
    "\n",
    "data = [4,8,15,16,23,42]\n",
    "\n",
    "series = pd.Series(data)\n",
    "print(series)"
   ]
  },
  {
   "cell_type": "code",
   "execution_count": 8,
   "id": "70394117-1645-44fc-9feb-7cce955e5f0d",
   "metadata": {},
   "outputs": [
    {
     "name": "stdout",
     "output_type": "stream",
     "text": [
      "0      one\n",
      "1        2\n",
      "2    three\n",
      "3        4\n",
      "4        5\n",
      "5        6\n",
      "6    seven\n",
      "7        8\n",
      "8     nine\n",
      "9      ten\n",
      "dtype: object\n"
     ]
    }
   ],
   "source": [
    "'''Q2. Create a variable of list type containing 10 elements in it, and apply pandas.Series function on the\n",
    "variable print it.\n",
    "------'''\n",
    "\n",
    "import pandas as pd\n",
    "\n",
    "list = [\"one\", 2, \"three\", 4,5,6,\"seven\",8,\"nine\",\"ten\"]\n",
    "\n",
    "series = pd.Series(list)\n",
    "print(series)\n"
   ]
  },
  {
   "cell_type": "code",
   "execution_count": 10,
   "id": "30f59b01-e0d8-4b75-b358-216681e66eec",
   "metadata": {},
   "outputs": [
    {
     "name": "stdout",
     "output_type": "stream",
     "text": [
      "     Name  Age  Gender\n",
      "0   Alice   25  Female\n",
      "1     Bob   30    Male\n",
      "2  Claire   27  Female\n"
     ]
    }
   ],
   "source": [
    "''' Q3. Create a Pandas DataFrame that contains the following data:\n",
    "\n",
    "Then, print the DataFrame.'''\n",
    "\n",
    "import pandas as pd\n",
    "\n",
    "data = [['Alice', 25,'Female'], ['Bob', 30, 'Male'], ['Claire', 27, 'Female']]\n",
    "\n",
    "df = pd.DataFrame(data, columns=['Name', 'Age', 'Gender'])\n",
    "\n",
    "print(df)\n"
   ]
  },
  {
   "cell_type": "code",
   "execution_count": null,
   "id": "1fb45f20-9fd7-42e4-b419-81710d27c961",
   "metadata": {},
   "outputs": [],
   "source": [
    "Q4. What is ‘DataFrame’ in pandas and how is it different from pandas.series? Explain with an example.\n",
    "------\n",
    "Pandas DataFrame is two-dimensional size-mutable, potentially heterogeneous tabular data structure with labeled axes (rows and columns). \n",
    "A Data frame is a two-dimensional data structure, i.e., data is aligned in a tabular fashion in rows and columns. \n",
    "\n",
    "Series can only contain single list with index, whereas dataframe can be made of more than one series or we can say that a dataframe is a collection of series that can be used to analyse the data."
   ]
  },
  {
   "cell_type": "code",
   "execution_count": 14,
   "id": "87e3e069-b1b9-4912-a1a6-8eebb624e5e1",
   "metadata": {},
   "outputs": [
    {
     "name": "stdout",
     "output_type": "stream",
     "text": [
      "     Name  Age  Gender\n",
      "0   Alice   25  Female\n",
      "1     Bob   30    Male\n",
      "2  Claire   27  Female\n",
      "##################\n",
      "     Name  Age\n",
      "0   Alice   25\n",
      "1     Bob   30\n",
      "2  Claire   27\n"
     ]
    }
   ],
   "source": [
    "Q5. What are some common functions you can use to manipulate data in a Pandas DataFrame? Can\n",
    "you give an example of when you might use one of these functions?\n",
    "--------\n",
    "\n",
    "Common data manipulation functions are::\n",
    "- Dropping columns in the data.\n",
    "- Dropping rows in the data.\n",
    "- Renaming a column in the dataset.\n",
    "- Select columns with specific data types.\n",
    "- Slicing the dataset.\n",
    "\n",
    "Example:\n",
    "\n",
    "import pandas as pd\n",
    "\n",
    "data = [['Alice', 25,'Female'], ['Bob', 30, 'Male'], ['Claire', 27, 'Female']]\n",
    "\n",
    "df = pd.DataFrame(data, columns=['Name', 'Age', 'Gender'])\n",
    "\n",
    "print(df)\n",
    "\n",
    "print(\"##################\")\n",
    "\n",
    "df_dropped = df.drop('Gender', axis=1)\n",
    "print(df_dropped)"
   ]
  },
  {
   "cell_type": "code",
   "execution_count": null,
   "id": "9d11c30b-7684-4b3c-80b4-d8512e8c6e30",
   "metadata": {},
   "outputs": [],
   "source": [
    "Q6. Which of the following is mutable in nature Series, DataFrame, Panel?\n",
    "-----\n",
    "- Series: A Series is a one dimensional array like structure with homogeneous data. \n",
    "    The values of the series are mutable means we can change any value in series,\n",
    "    but the size of the series is immutable so we can not change the size of the series.\n",
    "\n",
    "- DataFrame: DataFrame is a two-dimensional array with heterogeneous data. \n",
    "    A DataFrame size is mutable and data is also mutable so we can change the data and size of DataFrame at any time.\n",
    "\n",
    "- Panel: The panel is a three-dimensional data structure with heterogeneous data. \n",
    "    In Panel Data and size are mutable."
   ]
  },
  {
   "cell_type": "code",
   "execution_count": null,
   "id": "0cdceee1-796d-48a7-9ca5-a6f43b9231c3",
   "metadata": {},
   "outputs": [],
   "source": [
    "Q7. Create a DataFrame using multiple Series. Explain with an example.\n",
    "-------\n",
    "\n",
    "import pandas as pd\n",
    "\n",
    "courses = pd.Series([\"DSA\",\"Data Science Masters\",\"Java\"])\n",
    "fees = pd.Series([3200,3500,3700])\n",
    "discount  = pd.Series([1000,2300,1000])\n",
    "\n",
    "# Combine two series.\n",
    "df=pd.concat([courses,fees],axis=1)\n",
    "\n",
    "# It also supports to combine multiple series.\n",
    "df=pd.concat([courses,fees,discount],axis=1)\n",
    "print(df)"
   ]
  }
 ],
 "metadata": {
  "kernelspec": {
   "display_name": "Python 3 (ipykernel)",
   "language": "python",
   "name": "python3"
  },
  "language_info": {
   "codemirror_mode": {
    "name": "ipython",
    "version": 3
   },
   "file_extension": ".py",
   "mimetype": "text/x-python",
   "name": "python",
   "nbconvert_exporter": "python",
   "pygments_lexer": "ipython3",
   "version": "3.10.8"
  }
 },
 "nbformat": 4,
 "nbformat_minor": 5
}
