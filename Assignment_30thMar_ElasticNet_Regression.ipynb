{
 "cells": [
  {
   "cell_type": "code",
   "execution_count": null,
   "id": "c35c99f3-04a7-4860-8fe8-7edf4dfa6134",
   "metadata": {},
   "outputs": [],
   "source": [
    "Q1. What is Elastic Net Regression and how does it differ from other regression techniques?\n",
    "-----------\n",
    "Elastic net linear regression uses the penalties from both the lasso and ridge techniques to regularize regression models. \n",
    "The technique combines both the lasso and ridge regression methods by learning from their shortcomings to improve the regularization of statistical models."
   ]
  },
  {
   "cell_type": "code",
   "execution_count": null,
   "id": "e3415193-2904-41ad-b49e-1c3dc4af9cc8",
   "metadata": {},
   "outputs": [],
   "source": [
    "Q2. How do you choose the optimal values of the regularization parameters for Elastic Net Regression?\n",
    "----------\n",
    "Larger values of alpha imply stronger regularization (less-overfitting, may be underfitting!). \n",
    "Smaller values imply weak regularization (overfitting). \n",
    "We want to build a model that neither overfits nor underfit the data. So, we need to choose an optimal value for alpha.\n",
    "The regularization parameter, ϵ, is reduced from an initial value of 10 by a factor of 0.1 to a value of 1x10-6 when the optimality and integrity conditions are deemed satisfied."
   ]
  },
  {
   "cell_type": "code",
   "execution_count": null,
   "id": "a84a2fd6-71e7-4ff5-ad0d-0aaeefe080cd",
   "metadata": {},
   "outputs": [],
   "source": [
    "Q3. What are the advantages and disadvantages of Elastic Net Regression?\n",
    "----------\n",
    "Advantages:\n",
    "    1. Feature Selection: Like Lasso, ElasticNet performs feature selection, making it easier to interpret the model.\n",
    "    2. Handling Multicollinearity: ElasticNet can handle multicollinearity between variables by grouping them, which can be very useful in certain datasets.\n",
    "    3. Bias-Variance Trade-off: ElasticNet manages the bias-variance trade-off by balancing between Ridge and Lasso regression.\n",
    "Disadvantages:\n",
    "    1. Computationally Intensive: ElasticNet can be computationally expensive on large datasets due to the need to tune the model.\n",
    "    2. Selection of Parameters: The selection of tuning parameters (alpha and lambda) can be tricky, as there is no definitive way to choose these parameters."
   ]
  },
  {
   "cell_type": "code",
   "execution_count": null,
   "id": "a70f84ad-a363-4964-951c-10198c6d832b",
   "metadata": {},
   "outputs": [],
   "source": [
    "Q4. What are some common use cases for Elastic Net Regression?\n",
    "----------\n",
    "ElasticNet is an excellent choice when dealing with large datasets with high dimensionality and multicollinearity. \n",
    "It is also beneficial when you have a dataset where predictors are highly correlated. \n",
    "ElasticNet can automatically perform feature selection and output a parsimonious model, which is a model with fewer parameters.\n",
    "\n",
    "Elastic net can also be used in other applications, such as in sparse PCA, where it obtains principal components that are modified by sparse loadings. \n",
    "The other application is in the kernel elastic net, where the generation of class kernel machines takes place with support vectors."
   ]
  },
  {
   "cell_type": "code",
   "execution_count": null,
   "id": "da877ef0-08ef-4308-85ed-3244db6820d3",
   "metadata": {},
   "outputs": [],
   "source": [
    "Q5. How do you interpret the coefficients in Elastic Net Regression?\n",
    "----------\n",
    "The coefficients of elastic net regression represent the linear relationship between the features and the target variable, adjusted by the regularization terms. \n",
    "The larger the absolute value of a coefficient, the stronger the effect of the corresponding feature on the target variable."
   ]
  },
  {
   "cell_type": "code",
   "execution_count": null,
   "id": "835787ce-f6bf-47e4-9893-fd86f4d5b720",
   "metadata": {},
   "outputs": [],
   "source": [
    "Q6. How do you handle missing values when using Elastic Net Regression?\n",
    "-----------\n",
    "Deleting the column with missing data.\n",
    "Deleting the row with missing data.\n",
    "Filling the Missing Values – Imputation.\n",
    "Other imputation methods.\n",
    "Filling with a Regression Model."
   ]
  },
  {
   "cell_type": "code",
   "execution_count": null,
   "id": "ce23aa4d-6b51-4db0-89d6-b7d0aaf892a8",
   "metadata": {},
   "outputs": [],
   "source": [
    "Q7. How do you use Elastic Net Regression for feature selection?\n",
    "------------\n",
    "These two penalty terms are the L1 and L2 norms of the coefficient vector, which are multiplied by two hyperparameters, alpha and lambda. \n",
    "The L1 norm is used to perform feature selection, whereas the L2 norm is used to perform feature shrinkage.\n",
    "\n",
    "ElasticNet Regression works by adding a penalty equivalent to the sum of the absolute values (L1-norm) of the coefficients and the squares (L2-norm) of the coefficients. \n",
    "This combination allows for learning a sparse model where few of the weights are non-zero like Lasso, while still maintaining the regularization properties of Ridge. \n",
    "ElasticNet is useful when there are multiple features which are correlated with one another.\n",
    "\n",
    "from sklearn.linear_model import ElasticNet\n",
    "\n",
    "# Create an ElasticNet instance\n",
    "enet = ElasticNet(alpha=0.1, l1_ratio=0.5)\n",
    "\n",
    "# Fit the model\n",
    "enet.fit(X_train, y_train)\n",
    "\n",
    "# Predict\n",
    "predictions = enet.predict(X_test)"
   ]
  },
  {
   "cell_type": "code",
   "execution_count": null,
   "id": "cffe082f-9cdd-4abd-92a4-ed738587b13f",
   "metadata": {},
   "outputs": [],
   "source": [
    "Q8. How do you pickle and unpickle a trained Elastic Net Regression model in Python?\n",
    "------------\n",
    "Step 1: We import the pickle module in Python.\n",
    "Step 2: A demo Python list is created which will be pickled.\n",
    "Step 3: pickling is done by saving the model on disc with dump() function \n",
    "Step 4: unpickle it with load() function. \n",
    "Use open() function to create and/or read from a . pkl file and open the file in the binary format by wb for write and rb for read mode."
   ]
  },
  {
   "cell_type": "code",
   "execution_count": null,
   "id": "f061b0aa-e56d-4ab8-97f8-6914faa91278",
   "metadata": {},
   "outputs": [],
   "source": [
    "Q9. What is the purpose of pickling a model in machine learning?\n",
    "-----------\n",
    "Pickle allows you to serialize machine learning models in their existing state, making it possible to use them again as needed. \n",
    "In Python, the “pickle” module provides a way to serialize and deserialize Python objects, including trained machine learning models. \n",
    "By saving a trained model using the pickle module, we can reuse the model for making predictions on new data, without having to retrain the model from scratch."
   ]
  }
 ],
 "metadata": {
  "kernelspec": {
   "display_name": "Python 3 (ipykernel)",
   "language": "python",
   "name": "python3"
  },
  "language_info": {
   "codemirror_mode": {
    "name": "ipython",
    "version": 3
   },
   "file_extension": ".py",
   "mimetype": "text/x-python",
   "name": "python",
   "nbconvert_exporter": "python",
   "pygments_lexer": "ipython3",
   "version": "3.10.8"
  }
 },
 "nbformat": 4,
 "nbformat_minor": 5
}
