{
 "cells": [
  {
   "cell_type": "markdown",
   "id": "657f8133-27ad-4f0c-a8fc-ad0c7b82544c",
   "metadata": {},
   "source": [
    "## Tuple"
   ]
  },
  {
   "cell_type": "code",
   "execution_count": 1,
   "id": "00e51e8b-6a70-4342-9b61-9040b8b35d05",
   "metadata": {},
   "outputs": [
    {
     "data": {
      "text/plain": [
       "tuple"
      ]
     },
     "execution_count": 1,
     "metadata": {},
     "output_type": "execute_result"
    }
   ],
   "source": [
    "t = ()\n",
    "type(t)"
   ]
  },
  {
   "cell_type": "code",
   "execution_count": 2,
   "id": "77c8916f-765b-47b5-84e4-8359a9597a6d",
   "metadata": {},
   "outputs": [
    {
     "data": {
      "text/plain": [
       "tuple"
      ]
     },
     "execution_count": 2,
     "metadata": {},
     "output_type": "execute_result"
    }
   ],
   "source": [
    "t1 = (1,2,3,4,45,67, 2+3j, \"abc\", True)\n",
    "type(t1)"
   ]
  },
  {
   "cell_type": "code",
   "execution_count": 3,
   "id": "38639d4a-db13-4910-b09d-42470f325a94",
   "metadata": {},
   "outputs": [
    {
     "data": {
      "text/plain": [
       "1"
      ]
     },
     "execution_count": 3,
     "metadata": {},
     "output_type": "execute_result"
    }
   ],
   "source": [
    "t1[0]"
   ]
  },
  {
   "cell_type": "code",
   "execution_count": 4,
   "id": "f7768c81-16d6-45c9-a67e-cb01be78f70b",
   "metadata": {},
   "outputs": [
    {
     "data": {
      "text/plain": [
       "(2+3j)"
      ]
     },
     "execution_count": 4,
     "metadata": {},
     "output_type": "execute_result"
    }
   ],
   "source": [
    "t1[6]"
   ]
  },
  {
   "cell_type": "code",
   "execution_count": 6,
   "id": "97080c30-af6c-4075-9962-10a06ed1400e",
   "metadata": {},
   "outputs": [
    {
     "data": {
      "text/plain": [
       "(True, 'abc', (2+3j), 67, 45, 4, 3, 2, 1)"
      ]
     },
     "execution_count": 6,
     "metadata": {},
     "output_type": "execute_result"
    }
   ],
   "source": [
    "## tuple in reverse order\n",
    "t1[::-1]"
   ]
  },
  {
   "cell_type": "code",
   "execution_count": 7,
   "id": "26923009-7144-482c-97ef-06223902d6c4",
   "metadata": {},
   "outputs": [
    {
     "data": {
      "text/plain": [
       "(1, 2, 3)"
      ]
     },
     "execution_count": 7,
     "metadata": {},
     "output_type": "execute_result"
    }
   ],
   "source": [
    "t1[0:3]"
   ]
  },
  {
   "cell_type": "code",
   "execution_count": 19,
   "id": "06605deb-4921-43ba-8002-f8fc3d4331df",
   "metadata": {},
   "outputs": [
    {
     "data": {
      "text/plain": [
       "2"
      ]
     },
     "execution_count": 19,
     "metadata": {},
     "output_type": "execute_result"
    }
   ],
   "source": [
    "## return the count of element present in the tuple\n",
    "## True is considered as 1\n",
    "\n",
    "t1.count(1)"
   ]
  },
  {
   "cell_type": "code",
   "execution_count": 17,
   "id": "0e93b787-728f-4d68-b62f-a894c49f79b7",
   "metadata": {},
   "outputs": [
    {
     "data": {
      "text/plain": [
       "4"
      ]
     },
     "execution_count": 17,
     "metadata": {},
     "output_type": "execute_result"
    }
   ],
   "source": [
    "## return first index of value\n",
    "\n",
    "t1.index(45)"
   ]
  },
  {
   "cell_type": "code",
   "execution_count": 20,
   "id": "618e93bd-1c6f-483c-947d-1855039f987a",
   "metadata": {},
   "outputs": [
    {
     "ename": "TypeError",
     "evalue": "'tuple' object does not support item assignment",
     "output_type": "error",
     "traceback": [
      "\u001b[0;31m---------------------------------------------------------------------------\u001b[0m",
      "\u001b[0;31mTypeError\u001b[0m                                 Traceback (most recent call last)",
      "Cell \u001b[0;32mIn[20], line 1\u001b[0m\n\u001b[0;32m----> 1\u001b[0m \u001b[43mt1\u001b[49m\u001b[43m[\u001b[49m\u001b[38;5;241;43m0\u001b[39;49m\u001b[43m]\u001b[49m\u001b[38;5;241m=\u001b[39m\u001b[38;5;241m25\u001b[39m\n",
      "\u001b[0;31mTypeError\u001b[0m: 'tuple' object does not support item assignment"
     ]
    }
   ],
   "source": [
    "t1[0]=25"
   ]
  },
  {
   "cell_type": "code",
   "execution_count": null,
   "id": "eae61ab7-6154-4b56-a4e7-958d868d6a9b",
   "metadata": {},
   "outputs": [],
   "source": [
    "## list items we can change but tuple items cann't be changed\n",
    "## tuples are immutable"
   ]
  },
  {
   "cell_type": "code",
   "execution_count": 22,
   "id": "d5e08381-40cd-4b24-805c-4a9baffab191",
   "metadata": {},
   "outputs": [
    {
     "name": "stdout",
     "output_type": "stream",
     "text": [
      "1 <class 'int'>\n",
      "2 <class 'int'>\n",
      "3 <class 'int'>\n",
      "4 <class 'int'>\n",
      "45 <class 'int'>\n",
      "67 <class 'int'>\n",
      "(2+3j) <class 'complex'>\n",
      "abc <class 'str'>\n",
      "True <class 'bool'>\n"
     ]
    }
   ],
   "source": [
    "for i in t1:\n",
    "    print(i, type(i))"
   ]
  },
  {
   "cell_type": "code",
   "execution_count": 24,
   "id": "5aeea82e-c23f-4c0e-8126-f610ea8d4c82",
   "metadata": {},
   "outputs": [],
   "source": [
    "t2=(1,2,3,3,4)"
   ]
  },
  {
   "cell_type": "code",
   "execution_count": 25,
   "id": "efa3efe9-0ba5-4948-9df4-9249b300b314",
   "metadata": {},
   "outputs": [
    {
     "data": {
      "text/plain": [
       "(1, 2, 3, 3, 4, 1, 2, 3, 3, 4)"
      ]
     },
     "execution_count": 25,
     "metadata": {},
     "output_type": "execute_result"
    }
   ],
   "source": [
    "t2 * 2"
   ]
  },
  {
   "cell_type": "code",
   "execution_count": 26,
   "id": "af3bea97-98d9-4332-b537-704ec65b9aa6",
   "metadata": {},
   "outputs": [
    {
     "data": {
      "text/plain": [
       "4"
      ]
     },
     "execution_count": 26,
     "metadata": {},
     "output_type": "execute_result"
    }
   ],
   "source": [
    "max(t2)"
   ]
  },
  {
   "cell_type": "code",
   "execution_count": 27,
   "id": "30783fb1-57d7-4614-8c49-62b52d94df1e",
   "metadata": {},
   "outputs": [
    {
     "data": {
      "text/plain": [
       "1"
      ]
     },
     "execution_count": 27,
     "metadata": {},
     "output_type": "execute_result"
    }
   ],
   "source": [
    "min(t2)"
   ]
  },
  {
   "cell_type": "code",
   "execution_count": 28,
   "id": "8d1d30dc-f8fb-434b-8b1d-1df6c035f84b",
   "metadata": {},
   "outputs": [
    {
     "name": "stdout",
     "output_type": "stream",
     "text": [
      "(1, 2, 3, 4, 5, 6, 7, 8)\n"
     ]
    }
   ],
   "source": [
    "tu1 = (1,2,3,4)\n",
    "tu2 = (5,6,7,8)\n",
    "tu3 = tu1+tu2\n",
    "print(tu3)"
   ]
  },
  {
   "cell_type": "code",
   "execution_count": 33,
   "id": "5fe0d8e2-907c-4a81-a6fe-96aff765eba9",
   "metadata": {},
   "outputs": [
    {
     "name": "stdout",
     "output_type": "stream",
     "text": [
      "((1, 2, 3, 4), (5, 6, 7, 8))\n"
     ]
    }
   ],
   "source": [
    "## tuple inside a tuple can be created\n",
    "\n",
    "tu4 = (tu1,tu2)\n",
    "print(tu4)"
   ]
  },
  {
   "cell_type": "code",
   "execution_count": 38,
   "id": "f9129882-c16a-43f7-83db-61e459d3569a",
   "metadata": {},
   "outputs": [
    {
     "data": {
      "text/plain": [
       "((1, 2, 3, 4), [4, 5, 6, 7])"
      ]
     },
     "execution_count": 38,
     "metadata": {},
     "output_type": "execute_result"
    }
   ],
   "source": [
    "## list can be created inside a tuple\n",
    "\n",
    "t4 = ((1,2,3,4),[4,5,6,7])\n",
    "t4"
   ]
  },
  {
   "cell_type": "code",
   "execution_count": 39,
   "id": "bb74c72c-f342-420e-91af-ff2d42f3502b",
   "metadata": {},
   "outputs": [
    {
     "ename": "NameError",
     "evalue": "name 't4' is not defined",
     "output_type": "error",
     "traceback": [
      "\u001b[0;31m---------------------------------------------------------------------------\u001b[0m",
      "\u001b[0;31mNameError\u001b[0m                                 Traceback (most recent call last)",
      "Cell \u001b[0;32mIn[39], line 4\u001b[0m\n\u001b[1;32m      1\u001b[0m \u001b[38;5;66;03m## update is not possible in tuple but delete is possible in tuple\u001b[39;00m\n\u001b[1;32m      3\u001b[0m \u001b[38;5;28;01mdel\u001b[39;00m(t4)\n\u001b[0;32m----> 4\u001b[0m \u001b[43mt4\u001b[49m\n",
      "\u001b[0;31mNameError\u001b[0m: name 't4' is not defined"
     ]
    }
   ],
   "source": [
    "## update is not possible in tuple but delete is possible in tuple\n",
    "\n",
    "del(t4)\n",
    "t4"
   ]
  },
  {
   "cell_type": "code",
   "execution_count": 40,
   "id": "f7622b79-f4b2-4480-a915-dc7c62e39690",
   "metadata": {},
   "outputs": [
    {
     "data": {
      "text/plain": [
       "6"
      ]
     },
     "execution_count": 40,
     "metadata": {},
     "output_type": "execute_result"
    }
   ],
   "source": [
    "## to get the number of elements inside a tuple\n",
    "\n",
    "t5=(1,2,3,5,6,9)\n",
    "len(t5)"
   ]
  },
  {
   "cell_type": "code",
   "execution_count": 41,
   "id": "ee87062f-cad1-4138-aba2-07aa36902080",
   "metadata": {},
   "outputs": [
    {
     "data": {
      "text/plain": [
       "False"
      ]
     },
     "execution_count": 41,
     "metadata": {},
     "output_type": "execute_result"
    }
   ],
   "source": [
    "'abc' in t5"
   ]
  },
  {
   "cell_type": "code",
   "execution_count": 42,
   "id": "786011ee-89d5-4156-9d32-8a93ce70ac9f",
   "metadata": {},
   "outputs": [
    {
     "data": {
      "text/plain": [
       "True"
      ]
     },
     "execution_count": 42,
     "metadata": {},
     "output_type": "execute_result"
    }
   ],
   "source": [
    "9 in t5"
   ]
  },
  {
   "cell_type": "markdown",
   "id": "fd2da485-fa00-447d-a4f4-742de6977dc8",
   "metadata": {},
   "source": [
    "## Sets"
   ]
  },
  {
   "cell_type": "code",
   "execution_count": 43,
   "id": "2d18ed01-b342-4356-b34e-c6eca92188d0",
   "metadata": {},
   "outputs": [
    {
     "data": {
      "text/plain": [
       "dict"
      ]
     },
     "execution_count": 43,
     "metadata": {},
     "output_type": "execute_result"
    }
   ],
   "source": [
    "s={}\n",
    "type(s)"
   ]
  },
  {
   "cell_type": "code",
   "execution_count": 44,
   "id": "21c16ec1-6762-4953-83b6-5be48407a677",
   "metadata": {},
   "outputs": [
    {
     "data": {
      "text/plain": [
       "set"
      ]
     },
     "execution_count": 44,
     "metadata": {},
     "output_type": "execute_result"
    }
   ],
   "source": [
    "s1={1,2,3,4,5}\n",
    "type(s1)"
   ]
  },
  {
   "cell_type": "code",
   "execution_count": 47,
   "id": "9955d522-25af-4d17-817a-02a9c8f7e982",
   "metadata": {},
   "outputs": [
    {
     "data": {
      "text/plain": [
       "{1, 2, 3, 4, 5, 6, 7, 8, 9, 10}"
      ]
     },
     "execution_count": 47,
     "metadata": {},
     "output_type": "execute_result"
    }
   ],
   "source": [
    "## duplicate values can not be saved in sets\n",
    "s2 = {1,2,3,4,5,6,7,8,9,10,1,2,3,4}\n",
    "s2"
   ]
  },
  {
   "cell_type": "code",
   "execution_count": 48,
   "id": "38bbe4b5-230e-4c08-bc0c-ceaa48cc9a21",
   "metadata": {},
   "outputs": [
    {
     "data": {
      "text/plain": [
       "[1, 2, 3, 4, 5, 6, 7, 8, 9, 10]"
      ]
     },
     "execution_count": 48,
     "metadata": {},
     "output_type": "execute_result"
    }
   ],
   "source": [
    "list(s2)"
   ]
  },
  {
   "cell_type": "code",
   "execution_count": 49,
   "id": "bcfe2189-b4b9-4e78-976c-0ab341e30fbd",
   "metadata": {},
   "outputs": [
    {
     "data": {
      "text/plain": [
       "(1, 2, 3, 4, 5, 6, 7, 8, 9, 10)"
      ]
     },
     "execution_count": 49,
     "metadata": {},
     "output_type": "execute_result"
    }
   ],
   "source": [
    "tuple(s2)"
   ]
  },
  {
   "cell_type": "code",
   "execution_count": 50,
   "id": "29fa03fe-7cbc-435d-a5ad-53ed9d32b9f2",
   "metadata": {},
   "outputs": [
    {
     "data": {
      "text/plain": [
       "[1, 2, 3, 4, 5, 7, 6, 5, 43, 3, 2, 1]"
      ]
     },
     "execution_count": 50,
     "metadata": {},
     "output_type": "execute_result"
    }
   ],
   "source": [
    "l=[1,2,3,4,5,7,6,5,43,3,2,1]\n",
    "l"
   ]
  },
  {
   "cell_type": "code",
   "execution_count": 51,
   "id": "85155dbc-a824-482a-be03-f7a25343b7ee",
   "metadata": {},
   "outputs": [
    {
     "data": {
      "text/plain": [
       "{1, 2, 3, 4, 5, 6, 7, 43}"
      ]
     },
     "execution_count": 51,
     "metadata": {},
     "output_type": "execute_result"
    }
   ],
   "source": [
    "set(l)"
   ]
  },
  {
   "cell_type": "code",
   "execution_count": 53,
   "id": "6a65b9f1-7082-46ca-a043-a94e9ceb363e",
   "metadata": {},
   "outputs": [
    {
     "ename": "TypeError",
     "evalue": "unhashable type: 'list'",
     "output_type": "error",
     "traceback": [
      "\u001b[0;31m---------------------------------------------------------------------------\u001b[0m",
      "\u001b[0;31mTypeError\u001b[0m                                 Traceback (most recent call last)",
      "Cell \u001b[0;32mIn[53], line 3\u001b[0m\n\u001b[1;32m      1\u001b[0m \u001b[38;5;66;03m## set used to store data by converting data into hashable form, so list we cant store inside a set\u001b[39;00m\n\u001b[0;32m----> 3\u001b[0m s4 \u001b[38;5;241m=\u001b[39m {\u001b[38;5;241m1\u001b[39m,\u001b[38;5;241m2\u001b[39m,\u001b[38;5;241m3\u001b[39m,\u001b[38;5;241m4\u001b[39m,[\u001b[38;5;241m2\u001b[39m,\u001b[38;5;241m3\u001b[39m,\u001b[38;5;241m4\u001b[39m,\u001b[38;5;241m5\u001b[39m]}\n",
      "\u001b[0;31mTypeError\u001b[0m: unhashable type: 'list'"
     ]
    }
   ],
   "source": [
    "## set used to store data by converting data into hashable form, so list we cant store inside a set\n",
    "## in case of list, we can make changes but in case of tuple its immutable so proper hash index will be created , so set is allowing to store a tuple\n",
    "s4 = {1,2,3,4,[2,3,4,5]}\n"
   ]
  },
  {
   "cell_type": "code",
   "execution_count": 56,
   "id": "ecf0ff66-1d36-4d3b-a093-d8eed57861bf",
   "metadata": {},
   "outputs": [
    {
     "data": {
      "text/plain": [
       "{(5, 4, 3, 2), 1, 2, 3, 4}"
      ]
     },
     "execution_count": 56,
     "metadata": {},
     "output_type": "execute_result"
    }
   ],
   "source": [
    "s5 = {1,2,3,4,(5,4,3,2)}\n",
    "s5"
   ]
  },
  {
   "cell_type": "code",
   "execution_count": 57,
   "id": "f736b6f4-b416-4667-9233-95cac622e64f",
   "metadata": {},
   "outputs": [
    {
     "data": {
      "text/plain": [
       "{1, 2, 3, 4, 'Abc', 'abc'}"
      ]
     },
     "execution_count": 57,
     "metadata": {},
     "output_type": "execute_result"
    }
   ],
   "source": [
    "s7 = {1,2,3,4,\"Abc\",\"abc\"}\n",
    "s7"
   ]
  },
  {
   "cell_type": "code",
   "execution_count": 58,
   "id": "09012283-6ecd-4cf7-a3ed-c8d8485de30f",
   "metadata": {},
   "outputs": [
    {
     "data": {
      "text/plain": [
       "{1, 2, 3, 4, 'abc'}"
      ]
     },
     "execution_count": 58,
     "metadata": {},
     "output_type": "execute_result"
    }
   ],
   "source": [
    "s8 = {1,2,3,4,\"abc\",\"abc\"}\n",
    "s8"
   ]
  },
  {
   "cell_type": "code",
   "execution_count": 60,
   "id": "6db6bc3c-e943-492b-9907-9987188abaaf",
   "metadata": {},
   "outputs": [
    {
     "ename": "TypeError",
     "evalue": "'set' object is not subscriptable",
     "output_type": "error",
     "traceback": [
      "\u001b[0;31m---------------------------------------------------------------------------\u001b[0m",
      "\u001b[0;31mTypeError\u001b[0m                                 Traceback (most recent call last)",
      "Cell \u001b[0;32mIn[60], line 2\u001b[0m\n\u001b[1;32m      1\u001b[0m \u001b[38;5;66;03m## in case of a set we cant do slicing and we cant take values using index\u001b[39;00m\n\u001b[0;32m----> 2\u001b[0m \u001b[43ms8\u001b[49m\u001b[43m[\u001b[49m\u001b[38;5;241;43m0\u001b[39;49m\u001b[43m]\u001b[49m\n",
      "\u001b[0;31mTypeError\u001b[0m: 'set' object is not subscriptable"
     ]
    }
   ],
   "source": [
    "## in case of a set we cant do slicing and we cant take values using index\n",
    "s8[0]"
   ]
  },
  {
   "cell_type": "code",
   "execution_count": 62,
   "id": "a3ba192c-8c91-4161-8932-3bf0c667ebe2",
   "metadata": {},
   "outputs": [
    {
     "name": "stdout",
     "output_type": "stream",
     "text": [
      "1\n",
      "2\n",
      "3\n",
      "4\n",
      "abc\n"
     ]
    }
   ],
   "source": [
    "## with teh help of for loop we can access elements inside a set\n",
    "for i in s8:\n",
    "    print(i)"
   ]
  },
  {
   "cell_type": "code",
   "execution_count": 64,
   "id": "8393dca2-c9c2-4c35-be61-b108174aacfd",
   "metadata": {},
   "outputs": [],
   "source": [
    "s8.add(34)"
   ]
  },
  {
   "cell_type": "code",
   "execution_count": 65,
   "id": "03c263a4-7a13-4b26-9eee-7f7e73be7a34",
   "metadata": {},
   "outputs": [
    {
     "data": {
      "text/plain": [
       "{1, 2, 3, 34, 4, 'abc'}"
      ]
     },
     "execution_count": 65,
     "metadata": {},
     "output_type": "execute_result"
    }
   ],
   "source": [
    "s8"
   ]
  },
  {
   "cell_type": "code",
   "execution_count": 66,
   "id": "5ed7483a-d86a-49f1-a9ba-4ca68ec292a7",
   "metadata": {},
   "outputs": [
    {
     "data": {
      "text/plain": [
       "6"
      ]
     },
     "execution_count": 66,
     "metadata": {},
     "output_type": "execute_result"
    }
   ],
   "source": [
    "len(s8)"
   ]
  },
  {
   "cell_type": "code",
   "execution_count": 69,
   "id": "7f957147-175a-41b6-befb-8ed6f1fe2c23",
   "metadata": {},
   "outputs": [
    {
     "data": {
      "text/plain": [
       "2"
      ]
     },
     "execution_count": 69,
     "metadata": {},
     "output_type": "execute_result"
    }
   ],
   "source": [
    "## pop will remove values based on hash values\n",
    "s8.pop()"
   ]
  },
  {
   "cell_type": "code",
   "execution_count": 70,
   "id": "0e34a855-672e-490b-bc7c-aff9b39cbd12",
   "metadata": {},
   "outputs": [
    {
     "data": {
      "text/plain": [
       "{3, 34, 4, 'abc'}"
      ]
     },
     "execution_count": 70,
     "metadata": {},
     "output_type": "execute_result"
    }
   ],
   "source": [
    "s8"
   ]
  },
  {
   "cell_type": "code",
   "execution_count": 73,
   "id": "9fee5ffb-3b45-4364-bbd7-71fbd607e28c",
   "metadata": {},
   "outputs": [],
   "source": [
    "## clear will remove all the elements from the set\n",
    "s8.clear()"
   ]
  },
  {
   "cell_type": "code",
   "execution_count": 74,
   "id": "56be2781-2a98-4a7d-8ffa-96a0e49d82a5",
   "metadata": {},
   "outputs": [
    {
     "data": {
      "text/plain": [
       "set()"
      ]
     },
     "execution_count": 74,
     "metadata": {},
     "output_type": "execute_result"
    }
   ],
   "source": [
    "s8"
   ]
  },
  {
   "cell_type": "code",
   "execution_count": 76,
   "id": "f917fee6-e2bf-4d19-a387-584811e921fa",
   "metadata": {},
   "outputs": [
    {
     "data": {
      "text/plain": [
       "{4}"
      ]
     },
     "execution_count": 76,
     "metadata": {},
     "output_type": "execute_result"
    }
   ],
   "source": [
    "s9={1,2,3,4}\n",
    "s10={1,2,3,9}\n",
    "\n",
    "s9.difference(s10)"
   ]
  },
  {
   "cell_type": "code",
   "execution_count": 77,
   "id": "d9cc8d70-2ae9-473a-8824-a57dc7e1e5cd",
   "metadata": {},
   "outputs": [
    {
     "data": {
      "text/plain": [
       "{9}"
      ]
     },
     "execution_count": 77,
     "metadata": {},
     "output_type": "execute_result"
    }
   ],
   "source": [
    "s10.difference(s9)"
   ]
  },
  {
   "cell_type": "code",
   "execution_count": 78,
   "id": "f3ead2c8-cf40-45b7-abd9-2ca594397a0c",
   "metadata": {},
   "outputs": [
    {
     "name": "stdout",
     "output_type": "stream",
     "text": [
      "['0', '10', '20', '30', '40', '50']\n"
     ]
    }
   ],
   "source": [
    "list_out=[]\n",
    "\n",
    "for i in range(0,51,10):\n",
    "\n",
    "    list_out.append(str(i))\n",
    "\n",
    "print(list_out)"
   ]
  },
  {
   "cell_type": "code",
   "execution_count": 79,
   "id": "afb7bc61-f1d3-4098-8dd5-af8092f8aa06",
   "metadata": {},
   "outputs": [
    {
     "name": "stdout",
     "output_type": "stream",
     "text": [
      "{1, 4, 9, 16, 25}\n"
     ]
    }
   ],
   "source": [
    "numbers = (1,2,3,4,5, 5,4,3,2,1)\n",
    "\n",
    "list=[]\n",
    "\n",
    "for number in numbers:\n",
    "    list.append(number**2)\n",
    "\n",
    "print(set(list))"
   ]
  },
  {
   "cell_type": "code",
   "execution_count": 80,
   "id": "78eb27b9-4217-477c-b266-699be4c925cb",
   "metadata": {},
   "outputs": [
    {
     "data": {
      "text/plain": [
       "True"
      ]
     },
     "execution_count": 80,
     "metadata": {},
     "output_type": "execute_result"
    }
   ],
   "source": [
    "\"pwskills\"[::-1].upper().replace(\"SLLIKSWP\", \"pwskills\").islower()"
   ]
  },
  {
   "cell_type": "code",
   "execution_count": 81,
   "id": "762928dd-4789-438c-8f2c-5aa57f8383c6",
   "metadata": {},
   "outputs": [
    {
     "name": "stdout",
     "output_type": "stream",
     "text": [
      "I\n",
      "Want\n",
      "To\n",
      "Become\n",
      "A\n",
      "Data\n",
      "Scientist\n"
     ]
    }
   ],
   "source": [
    "s = \"I want to become a data scientist\"\n",
    "\n",
    "for i in s.split():\n",
    "\n",
    "    i.capitalize()\n",
    "\n",
    "    print(i.title())"
   ]
  },
  {
   "cell_type": "markdown",
   "id": "f98f6646-b71b-4924-8755-0741415ddac7",
   "metadata": {},
   "source": [
    "## Dictionary"
   ]
  },
  {
   "cell_type": "code",
   "execution_count": 1,
   "id": "195ce336-a098-4ad6-8915-b91f3bbcdbc3",
   "metadata": {},
   "outputs": [
    {
     "data": {
      "text/plain": [
       "dict"
      ]
     },
     "execution_count": 1,
     "metadata": {},
     "output_type": "execute_result"
    }
   ],
   "source": [
    "d= {}\n",
    "type(d)"
   ]
  },
  {
   "cell_type": "code",
   "execution_count": 3,
   "id": "6ba4fc83-c563-40cd-903e-6300d757f78c",
   "metadata": {},
   "outputs": [
    {
     "data": {
      "text/plain": [
       "{'name': 'puja', 'emailId': 'pp@gmail.com', 'number': 1234567890}"
      ]
     },
     "execution_count": 3,
     "metadata": {},
     "output_type": "execute_result"
    }
   ],
   "source": [
    "d1 = {\"name\" : \"puja\", \"emailId\" : \"pp@gmail.com\", \"number\":1234567890 }\n",
    "d1"
   ]
  },
  {
   "cell_type": "code",
   "execution_count": 4,
   "id": "ffd9d84f-9d0f-4100-9d2d-969e1b6a50a6",
   "metadata": {},
   "outputs": [
    {
     "data": {
      "text/plain": [
       "dict"
      ]
     },
     "execution_count": 4,
     "metadata": {},
     "output_type": "execute_result"
    }
   ],
   "source": [
    "type(d1)"
   ]
  },
  {
   "cell_type": "code",
   "execution_count": null,
   "id": "fc0cc5f9-bfcf-4ae1-819b-de05cbd48426",
   "metadata": {},
   "outputs": [],
   "source": [
    "## data in a disctionary will be stored in kwy value pair\n",
    "## key can be anything, value can be anything"
   ]
  },
  {
   "cell_type": "code",
   "execution_count": 5,
   "id": "34dc7c74-6240-4df6-9937-1eab7f4819a9",
   "metadata": {},
   "outputs": [],
   "source": [
    "d2 = {\"name\": \"abc\", \"name\":\"xyz\"}"
   ]
  },
  {
   "cell_type": "code",
   "execution_count": 7,
   "id": "28b7f01e-69f0-4646-b0d3-a62edc5b01fe",
   "metadata": {},
   "outputs": [
    {
     "data": {
      "text/plain": [
       "{'name': 'xyz'}"
      ]
     },
     "execution_count": 7,
     "metadata": {},
     "output_type": "execute_result"
    }
   ],
   "source": [
    "## dictionary never allows us to take same key multiple times, it will take the latest value if we repeat the key\n",
    "d2"
   ]
  },
  {
   "cell_type": "code",
   "execution_count": 9,
   "id": "6d07727d-d180-4587-b9de-0c22651b46b2",
   "metadata": {},
   "outputs": [
    {
     "data": {
      "text/plain": [
       "{12234: 'abc'}"
      ]
     },
     "execution_count": 9,
     "metadata": {},
     "output_type": "execute_result"
    }
   ],
   "source": [
    "## key can be numeric value also\n",
    "d3 = {12234 : \"abc\"}\n",
    "d3"
   ]
  },
  {
   "cell_type": "code",
   "execution_count": 11,
   "id": "cce50aab-5dfe-48c7-84f7-03642e73fdfd",
   "metadata": {},
   "outputs": [
    {
     "data": {
      "text/plain": [
       "{12.5: 'abc'}"
      ]
     },
     "execution_count": 11,
     "metadata": {},
     "output_type": "execute_result"
    }
   ],
   "source": [
    "## key can be a floating number\n",
    "d4 = {12.5: \"abc\"}\n",
    "d4"
   ]
  },
  {
   "cell_type": "code",
   "execution_count": 12,
   "id": "86eae756-2857-453a-a5fc-f30da700faa3",
   "metadata": {},
   "outputs": [
    {
     "data": {
      "text/plain": [
       "{True: 'abc'}"
      ]
     },
     "execution_count": 12,
     "metadata": {},
     "output_type": "execute_result"
    }
   ],
   "source": [
    "## key can be a boolen value as well\n",
    "d5 = {True:\"abc\"}\n",
    "d5"
   ]
  },
  {
   "cell_type": "code",
   "execution_count": 13,
   "id": "38f0d882-4a7b-4ce7-95a9-d593221b6251",
   "metadata": {},
   "outputs": [
    {
     "ename": "SyntaxError",
     "evalue": "incomplete input (3042665294.py, line 2)",
     "output_type": "error",
     "traceback": [
      "\u001b[0;36m  Cell \u001b[0;32mIn[13], line 2\u001b[0;36m\u001b[0m\n\u001b[0;31m    d6 = {#@ : \"abc\"}\u001b[0m\n\u001b[0m                     ^\u001b[0m\n\u001b[0;31mSyntaxError\u001b[0m\u001b[0;31m:\u001b[0m incomplete input\n"
     ]
    }
   ],
   "source": [
    "## key can not be special character\n",
    "d6 = {#@ : \"abc\"}"
   ]
  },
  {
   "cell_type": "code",
   "execution_count": 15,
   "id": "1788a8a9-b074-413b-b49e-b1c8c765b039",
   "metadata": {},
   "outputs": [
    {
     "data": {
      "text/plain": [
       "{'#@': 'abc'}"
      ]
     },
     "execution_count": 15,
     "metadata": {},
     "output_type": "execute_result"
    }
   ],
   "source": [
    "## here it will take as here key is string\n",
    "d7 = {\"#@\": \"abc\"}\n",
    "d7"
   ]
  },
  {
   "cell_type": "code",
   "execution_count": 17,
   "id": "0fa246ae-afda-416d-a86d-fec866acd074",
   "metadata": {},
   "outputs": [
    {
     "ename": "TypeError",
     "evalue": "unhashable type: 'list'",
     "output_type": "error",
     "traceback": [
      "\u001b[0;31m---------------------------------------------------------------------------\u001b[0m",
      "\u001b[0;31mTypeError\u001b[0m                                 Traceback (most recent call last)",
      "Cell \u001b[0;32mIn[17], line 2\u001b[0m\n\u001b[1;32m      1\u001b[0m \u001b[38;5;66;03m## key cannot be a list\u001b[39;00m\n\u001b[0;32m----> 2\u001b[0m d8 \u001b[38;5;241m=\u001b[39m {[\u001b[38;5;241m1\u001b[39m,\u001b[38;5;241m2\u001b[39m,\u001b[38;5;241m3\u001b[39m]:\u001b[38;5;124m\"\u001b[39m\u001b[38;5;124mabc\u001b[39m\u001b[38;5;124m\"\u001b[39m}\n\u001b[1;32m      3\u001b[0m d8\n",
      "\u001b[0;31mTypeError\u001b[0m: unhashable type: 'list'"
     ]
    }
   ],
   "source": [
    "## key cannot be a list\n",
    "d8 = {[1,2,3]:\"abc\"}\n",
    "d8"
   ]
  },
  {
   "cell_type": "code",
   "execution_count": 19,
   "id": "99376e5d-cce5-4d1b-b2c0-97fd5d7d18b8",
   "metadata": {},
   "outputs": [
    {
     "data": {
      "text/plain": [
       "{(1, 2, 3): 'abc'}"
      ]
     },
     "execution_count": 19,
     "metadata": {},
     "output_type": "execute_result"
    }
   ],
   "source": [
    "## key can be a tuple\n",
    "\n",
    "d9 = {(1,2,3):\"abc\"}\n",
    "d9"
   ]
  },
  {
   "cell_type": "code",
   "execution_count": 20,
   "id": "a0962b49-5f2a-4178-a17d-cec28be2d4c6",
   "metadata": {},
   "outputs": [
    {
     "ename": "TypeError",
     "evalue": "unhashable type: 'set'",
     "output_type": "error",
     "traceback": [
      "\u001b[0;31m---------------------------------------------------------------------------\u001b[0m",
      "\u001b[0;31mTypeError\u001b[0m                                 Traceback (most recent call last)",
      "Cell \u001b[0;32mIn[20], line 2\u001b[0m\n\u001b[1;32m      1\u001b[0m \u001b[38;5;66;03m## set can not be a key\u001b[39;00m\n\u001b[0;32m----> 2\u001b[0m d10 \u001b[38;5;241m=\u001b[39m {{\u001b[38;5;241m1\u001b[39m,\u001b[38;5;241m2\u001b[39m,\u001b[38;5;241m3\u001b[39m}: \u001b[38;5;124m\"\u001b[39m\u001b[38;5;124mabc\u001b[39m\u001b[38;5;124m\"\u001b[39m}\n\u001b[1;32m      3\u001b[0m d10\n",
      "\u001b[0;31mTypeError\u001b[0m: unhashable type: 'set'"
     ]
    }
   ],
   "source": [
    "## set can not be a key\n",
    "d10 = {{1,2,3}: \"abc\"}\n",
    "d10"
   ]
  },
  {
   "cell_type": "code",
   "execution_count": 22,
   "id": "4ab5fc78-ffda-4e2d-a6b2-4914cdd223ff",
   "metadata": {},
   "outputs": [
    {
     "ename": "TypeError",
     "evalue": "unhashable type: 'dict'",
     "output_type": "error",
     "traceback": [
      "\u001b[0;31m---------------------------------------------------------------------------\u001b[0m",
      "\u001b[0;31mTypeError\u001b[0m                                 Traceback (most recent call last)",
      "Cell \u001b[0;32mIn[22], line 2\u001b[0m\n\u001b[1;32m      1\u001b[0m \u001b[38;5;66;03m## dictionary can not be a key\u001b[39;00m\n\u001b[0;32m----> 2\u001b[0m d11 \u001b[38;5;241m=\u001b[39m {{\u001b[38;5;124m\"\u001b[39m\u001b[38;5;124mkey\u001b[39m\u001b[38;5;124m\"\u001b[39m:\u001b[38;5;241m10\u001b[39m}: \u001b[38;5;124m\"\u001b[39m\u001b[38;5;124mabc\u001b[39m\u001b[38;5;124m\"\u001b[39m}\n\u001b[1;32m      3\u001b[0m d11\n",
      "\u001b[0;31mTypeError\u001b[0m: unhashable type: 'dict'"
     ]
    }
   ],
   "source": [
    "## dictionary can not be a key\n",
    "d11 = {{\"key\":10}: \"abc\"}\n",
    "d11"
   ]
  },
  {
   "cell_type": "code",
   "execution_count": 24,
   "id": "944c6a50-4647-4e7d-97da-b0f7d9d43c68",
   "metadata": {},
   "outputs": [
    {
     "data": {
      "text/plain": [
       "{'key': ['DSA', 'Web Dev', 'Java']}"
      ]
     },
     "execution_count": 24,
     "metadata": {},
     "output_type": "execute_result"
    }
   ],
   "source": [
    "## value can be a list\n",
    "d12 = {\"key\":[\"DSA\",\"Web Dev\",\"Java\"]}\n",
    "d12"
   ]
  },
  {
   "cell_type": "code",
   "execution_count": 25,
   "id": "8e240ed1-bf73-4c27-be04-7b30b01f27f3",
   "metadata": {},
   "outputs": [
    {
     "data": {
      "text/plain": [
       "{'key': (1, 2, 3, 4, 5)}"
      ]
     },
     "execution_count": 25,
     "metadata": {},
     "output_type": "execute_result"
    }
   ],
   "source": [
    "## value can be a tuple\n",
    "d13 = {\"key\" : (1,2,3,4,5)}\n",
    "d13"
   ]
  },
  {
   "cell_type": "code",
   "execution_count": 27,
   "id": "0d03a9f5-138f-4763-95f0-93265626c10f",
   "metadata": {},
   "outputs": [
    {
     "data": {
      "text/plain": [
       "{'key': {1, 2, 3, 4}}"
      ]
     },
     "execution_count": 27,
     "metadata": {},
     "output_type": "execute_result"
    }
   ],
   "source": [
    "## value can be a set as well\n",
    "\n",
    "d14 = {\"key\" : {1,2,3,4}}\n",
    "d14"
   ]
  },
  {
   "cell_type": "code",
   "execution_count": 31,
   "id": "6135cede-52de-4212-82dd-f92583b1ba99",
   "metadata": {},
   "outputs": [
    {
     "data": {
      "text/plain": [
       "{'key': ['DS', 'ML'], 'start_date': (28, 14), 'mentors': {'abc', 'pqr', 'xyz'}}"
      ]
     },
     "execution_count": 31,
     "metadata": {},
     "output_type": "execute_result"
    }
   ],
   "source": [
    "d16 = {\"key\": [\"DS\", \"ML\"], \"start_date\":(28,14), \"mentors\":{\"abc\",\"xyz\",\"pqr\"}}\n",
    "d16"
   ]
  },
  {
   "cell_type": "code",
   "execution_count": 29,
   "id": "8b4b9d06-65d3-4e74-ae11-49dcbf7054ce",
   "metadata": {},
   "outputs": [
    {
     "data": {
      "text/plain": [
       "{'key': {'name': 'abc', 'class': 10}}"
      ]
     },
     "execution_count": 29,
     "metadata": {},
     "output_type": "execute_result"
    }
   ],
   "source": [
    "## value can be a disctionary as well\n",
    "## this is called Nested Dictionary\n",
    "\n",
    "d15 = {\"key\": {\"name\":\"abc\",\"class\":10}}\n",
    "d15"
   ]
  },
  {
   "cell_type": "code",
   "execution_count": 32,
   "id": "46114846-da49-4db4-999e-d48c7a93a44b",
   "metadata": {},
   "outputs": [],
   "source": [
    "d16[\"timimgs\"]=(8,8)"
   ]
  },
  {
   "cell_type": "code",
   "execution_count": 33,
   "id": "436f34d5-4bfe-4910-bf5b-4c9b3c74e29d",
   "metadata": {},
   "outputs": [
    {
     "data": {
      "text/plain": [
       "{'key': ['DS', 'ML'],\n",
       " 'start_date': (28, 14),\n",
       " 'mentors': {'abc', 'pqr', 'xyz'},\n",
       " 'timimgs': (8, 8)}"
      ]
     },
     "execution_count": 33,
     "metadata": {},
     "output_type": "execute_result"
    }
   ],
   "source": [
    "d16"
   ]
  },
  {
   "cell_type": "code",
   "execution_count": 35,
   "id": "2d171f08-9956-4f53-ab36-510c25392f19",
   "metadata": {},
   "outputs": [
    {
     "data": {
      "text/plain": [
       "['DS', 'ML']"
      ]
     },
     "execution_count": 35,
     "metadata": {},
     "output_type": "execute_result"
    }
   ],
   "source": [
    "## key will behave like index to retrieve value\n",
    "d16[\"key\"]"
   ]
  },
  {
   "cell_type": "code",
   "execution_count": 36,
   "id": "093b6870-5160-4470-9b33-cea642b16d5d",
   "metadata": {},
   "outputs": [
    {
     "ename": "KeyError",
     "evalue": "'name'",
     "output_type": "error",
     "traceback": [
      "\u001b[0;31m---------------------------------------------------------------------------\u001b[0m",
      "\u001b[0;31mKeyError\u001b[0m                                  Traceback (most recent call last)",
      "Cell \u001b[0;32mIn[36], line 2\u001b[0m\n\u001b[1;32m      1\u001b[0m \u001b[38;5;66;03m## if invalid key will provide, we will get error\u001b[39;00m\n\u001b[0;32m----> 2\u001b[0m \u001b[43md16\u001b[49m\u001b[43m[\u001b[49m\u001b[38;5;124;43m\"\u001b[39;49m\u001b[38;5;124;43mname\u001b[39;49m\u001b[38;5;124;43m\"\u001b[39;49m\u001b[43m]\u001b[49m\n",
      "\u001b[0;31mKeyError\u001b[0m: 'name'"
     ]
    }
   ],
   "source": [
    "## if invalid key will provide, we will get error\n",
    "d16[\"name\"]"
   ]
  },
  {
   "cell_type": "code",
   "execution_count": 37,
   "id": "4dc0e4de-e250-41b9-bd21-00a68b05ad1f",
   "metadata": {},
   "outputs": [],
   "source": [
    "d16[\"name1\"] = \"Puja\""
   ]
  },
  {
   "cell_type": "code",
   "execution_count": 38,
   "id": "07ea34a3-51fb-49e1-9860-e2dce87547de",
   "metadata": {},
   "outputs": [
    {
     "data": {
      "text/plain": [
       "{'key': ['DS', 'ML'],\n",
       " 'start_date': (28, 14),\n",
       " 'mentors': {'abc', 'pqr', 'xyz'},\n",
       " 'timimgs': (8, 8),\n",
       " 'name1': 'Puja'}"
      ]
     },
     "execution_count": 38,
     "metadata": {},
     "output_type": "execute_result"
    }
   ],
   "source": [
    "d16"
   ]
  },
  {
   "cell_type": "code",
   "execution_count": 40,
   "id": "1a2be0b4-fea8-411f-8019-bc1aebd9e0f8",
   "metadata": {},
   "outputs": [
    {
     "data": {
      "text/plain": [
       "'Puja'"
      ]
     },
     "execution_count": 40,
     "metadata": {},
     "output_type": "execute_result"
    }
   ],
   "source": [
    "d16[\"name1\"]"
   ]
  },
  {
   "cell_type": "code",
   "execution_count": 42,
   "id": "2bab7d78-17c0-4692-8c1b-96b3f58c6410",
   "metadata": {},
   "outputs": [
    {
     "data": {
      "text/plain": [
       "'PUJA'"
      ]
     },
     "execution_count": 42,
     "metadata": {},
     "output_type": "execute_result"
    }
   ],
   "source": [
    "d16[\"name1\"].upper()"
   ]
  },
  {
   "cell_type": "code",
   "execution_count": 47,
   "id": "deed9536-4021-44d9-96d6-8f7d656a5568",
   "metadata": {},
   "outputs": [
    {
     "data": {
      "text/plain": [
       "{'key': {'name': 'abc', 'class': 10}}"
      ]
     },
     "execution_count": 47,
     "metadata": {},
     "output_type": "execute_result"
    }
   ],
   "source": [
    "## Nested Dict-- to get value from nested dict\n",
    "d15"
   ]
  },
  {
   "cell_type": "code",
   "execution_count": 48,
   "id": "e8a19f09-d4f2-4ab7-9c7e-b9a9a1ec2c80",
   "metadata": {},
   "outputs": [
    {
     "data": {
      "text/plain": [
       "'abc'"
      ]
     },
     "execution_count": 48,
     "metadata": {},
     "output_type": "execute_result"
    }
   ],
   "source": [
    "d15[\"key\"][\"name\"]"
   ]
  },
  {
   "cell_type": "code",
   "execution_count": 49,
   "id": "6bb4afbf-adb4-4f61-9149-3a7ca00240eb",
   "metadata": {},
   "outputs": [],
   "source": [
    "d15[\"key1\"]=\"afghsa\""
   ]
  },
  {
   "cell_type": "code",
   "execution_count": 50,
   "id": "5fd6b452-3097-4f11-a527-a6c4e9a306a6",
   "metadata": {},
   "outputs": [
    {
     "data": {
      "text/plain": [
       "{'key': {'name': 'abc', 'class': 10}, 'key1': 'afghsa'}"
      ]
     },
     "execution_count": 50,
     "metadata": {},
     "output_type": "execute_result"
    }
   ],
   "source": [
    "d15"
   ]
  },
  {
   "cell_type": "code",
   "execution_count": 51,
   "id": "57bd23c9-390d-4892-ad57-58148930a2ec",
   "metadata": {},
   "outputs": [],
   "source": [
    "del d15[\"key1\"]"
   ]
  },
  {
   "cell_type": "code",
   "execution_count": 52,
   "id": "d4345bb9-4698-4447-9dd9-4eb0fc44a7ae",
   "metadata": {},
   "outputs": [
    {
     "data": {
      "text/plain": [
       "{'key': {'name': 'abc', 'class': 10}}"
      ]
     },
     "execution_count": 52,
     "metadata": {},
     "output_type": "execute_result"
    }
   ],
   "source": [
    "d15"
   ]
  },
  {
   "cell_type": "code",
   "execution_count": 55,
   "id": "d292bfc0-28c6-4134-9b08-7853abf8ff93",
   "metadata": {},
   "outputs": [],
   "source": [
    "## it will clear all data inside dict\n",
    "d15.clear()"
   ]
  },
  {
   "cell_type": "code",
   "execution_count": 56,
   "id": "9f59ce37-78b5-4b18-814c-51ce15c893f7",
   "metadata": {},
   "outputs": [
    {
     "data": {
      "text/plain": [
       "{}"
      ]
     },
     "execution_count": 56,
     "metadata": {},
     "output_type": "execute_result"
    }
   ],
   "source": [
    "d15"
   ]
  },
  {
   "cell_type": "code",
   "execution_count": 58,
   "id": "f5ce70bc-0107-4914-bf7d-41f4f9e51f5f",
   "metadata": {},
   "outputs": [
    {
     "data": {
      "text/plain": [
       "5"
      ]
     },
     "execution_count": 58,
     "metadata": {},
     "output_type": "execute_result"
    }
   ],
   "source": [
    "## it will give total number of kwy value pair inside a dict\n",
    "len(d16)"
   ]
  },
  {
   "cell_type": "code",
   "execution_count": 59,
   "id": "69bdcf42-0e37-4d69-8afc-7ea394aabe3f",
   "metadata": {},
   "outputs": [
    {
     "data": {
      "text/plain": [
       "{'key': ['DS', 'ML'],\n",
       " 'start_date': (28, 14),\n",
       " 'mentors': {'abc', 'pqr', 'xyz'},\n",
       " 'timimgs': (8, 8),\n",
       " 'name1': 'Puja'}"
      ]
     },
     "execution_count": 59,
     "metadata": {},
     "output_type": "execute_result"
    }
   ],
   "source": [
    "d16"
   ]
  },
  {
   "cell_type": "code",
   "execution_count": 60,
   "id": "2175d93f-ce2f-4803-9162-3c0557fe54ac",
   "metadata": {},
   "outputs": [
    {
     "data": {
      "text/plain": [
       "dict_keys(['key', 'start_date', 'mentors', 'timimgs', 'name1'])"
      ]
     },
     "execution_count": 60,
     "metadata": {},
     "output_type": "execute_result"
    }
   ],
   "source": [
    "## extract all the keys\n",
    "d16.keys()"
   ]
  },
  {
   "cell_type": "code",
   "execution_count": 62,
   "id": "1505a42a-dfa5-4533-a852-e127b670d6c4",
   "metadata": {},
   "outputs": [
    {
     "data": {
      "text/plain": [
       "dict_values([['DS', 'ML'], (28, 14), {'pqr', 'xyz', 'abc'}, (8, 8), 'Puja'])"
      ]
     },
     "execution_count": 62,
     "metadata": {},
     "output_type": "execute_result"
    }
   ],
   "source": [
    "## extract all the values\n",
    "d16.values()"
   ]
  },
  {
   "cell_type": "code",
   "execution_count": 63,
   "id": "ae0f4f71-c756-4554-a58d-febf91550c91",
   "metadata": {},
   "outputs": [
    {
     "data": {
      "text/plain": [
       "[['DS', 'ML'], (28, 14), {'abc', 'pqr', 'xyz'}, (8, 8), 'Puja']"
      ]
     },
     "execution_count": 63,
     "metadata": {},
     "output_type": "execute_result"
    }
   ],
   "source": [
    "## convert the above outcome into a list\n",
    "list(d16.values())"
   ]
  },
  {
   "cell_type": "code",
   "execution_count": 64,
   "id": "1d0e458d-46f4-493d-820f-23c9995d69d3",
   "metadata": {},
   "outputs": [
    {
     "data": {
      "text/plain": [
       "['key', 'start_date', 'mentors', 'timimgs', 'name1']"
      ]
     },
     "execution_count": 64,
     "metadata": {},
     "output_type": "execute_result"
    }
   ],
   "source": [
    "list(d16.keys())"
   ]
  },
  {
   "cell_type": "code",
   "execution_count": 65,
   "id": "8fe20b58-c8f2-4b07-a0b5-79b31f410cda",
   "metadata": {},
   "outputs": [
    {
     "data": {
      "text/plain": [
       "dict_items([('key', ['DS', 'ML']), ('start_date', (28, 14)), ('mentors', {'pqr', 'xyz', 'abc'}), ('timimgs', (8, 8)), ('name1', 'Puja')])"
      ]
     },
     "execution_count": 65,
     "metadata": {},
     "output_type": "execute_result"
    }
   ],
   "source": [
    "## extract list of key and value pair\n",
    "d16.items()"
   ]
  },
  {
   "cell_type": "code",
   "execution_count": 66,
   "id": "5883d7c0-64b4-4046-8502-df93c5e772ce",
   "metadata": {},
   "outputs": [
    {
     "data": {
      "text/plain": [
       "[('key', ['DS', 'ML']),\n",
       " ('start_date', (28, 14)),\n",
       " ('mentors', {'abc', 'pqr', 'xyz'}),\n",
       " ('timimgs', (8, 8)),\n",
       " ('name1', 'Puja')]"
      ]
     },
     "execution_count": 66,
     "metadata": {},
     "output_type": "execute_result"
    }
   ],
   "source": [
    "list(d16.items())"
   ]
  },
  {
   "cell_type": "code",
   "execution_count": 67,
   "id": "73452b49-d1e8-4fd4-b611-d2a296daf86f",
   "metadata": {},
   "outputs": [
    {
     "data": {
      "text/plain": [
       "{'key': ['DS', 'ML'],\n",
       " 'start_date': (28, 14),\n",
       " 'mentors': {'abc', 'pqr', 'xyz'},\n",
       " 'timimgs': (8, 8),\n",
       " 'name1': 'Puja'}"
      ]
     },
     "execution_count": 67,
     "metadata": {},
     "output_type": "execute_result"
    }
   ],
   "source": [
    "d16"
   ]
  },
  {
   "cell_type": "code",
   "execution_count": 72,
   "id": "e6992117-6ffc-4022-b50b-32a41fef37a0",
   "metadata": {},
   "outputs": [],
   "source": [
    "## copy the whole date from d16 to d17\n",
    "d17 = d16.copy()"
   ]
  },
  {
   "cell_type": "code",
   "execution_count": 71,
   "id": "59b9711c-7e48-45fc-8d9e-4fc7e532f44f",
   "metadata": {},
   "outputs": [
    {
     "data": {
      "text/plain": [
       "{'key': ['DS', 'ML'],\n",
       " 'start_date': (28, 14),\n",
       " 'mentors': {'abc', 'pqr', 'xyz'},\n",
       " 'timimgs': (8, 8),\n",
       " 'name1': 'Puja'}"
      ]
     },
     "execution_count": 71,
     "metadata": {},
     "output_type": "execute_result"
    }
   ],
   "source": [
    "d17"
   ]
  },
  {
   "cell_type": "code",
   "execution_count": 73,
   "id": "ebde247d-3ba0-444e-b0f2-3d0ef13a87e7",
   "metadata": {},
   "outputs": [],
   "source": [
    "d18=d16"
   ]
  },
  {
   "cell_type": "code",
   "execution_count": 74,
   "id": "29bce3a0-b88f-4e29-a286-67330a218f3f",
   "metadata": {},
   "outputs": [
    {
     "data": {
      "text/plain": [
       "{'key': ['DS', 'ML'],\n",
       " 'start_date': (28, 14),\n",
       " 'mentors': {'abc', 'pqr', 'xyz'},\n",
       " 'timimgs': (8, 8),\n",
       " 'name1': 'Puja'}"
      ]
     },
     "execution_count": 74,
     "metadata": {},
     "output_type": "execute_result"
    }
   ],
   "source": [
    "d18"
   ]
  },
  {
   "cell_type": "code",
   "execution_count": null,
   "id": "54df0161-4723-4459-ba2d-761994b2a499",
   "metadata": {},
   "outputs": [],
   "source": [
    "## copy menthod will do deep copy-- it will try to reserve new space\n",
    "## if will make any kind of change in d16 it will not affect d17\n",
    "## but in equals to method changes will be reflected in d18 as well"
   ]
  },
  {
   "cell_type": "code",
   "execution_count": 77,
   "id": "686c3df7-7d20-46c8-8ef0-0b066627d7cc",
   "metadata": {},
   "outputs": [],
   "source": [
    "d16[\"name1\"] = \"Puja\""
   ]
  },
  {
   "cell_type": "code",
   "execution_count": 78,
   "id": "12a57f0b-0692-4299-92e5-b10607a962d7",
   "metadata": {},
   "outputs": [
    {
     "data": {
      "text/plain": [
       "{'key': ['DS', 'ML'],\n",
       " 'start_date': (28, 14),\n",
       " 'mentors': {'abc', 'pqr', 'xyz'},\n",
       " 'timimgs': (8, 8),\n",
       " 'name1': 'Puja'}"
      ]
     },
     "execution_count": 78,
     "metadata": {},
     "output_type": "execute_result"
    }
   ],
   "source": [
    "d16"
   ]
  },
  {
   "cell_type": "code",
   "execution_count": 79,
   "id": "a45ec734-f561-4b7b-872d-576f5d99df0a",
   "metadata": {},
   "outputs": [],
   "source": [
    "del d16[\"name1\"]"
   ]
  },
  {
   "cell_type": "code",
   "execution_count": 80,
   "id": "ca0ad984-e805-4580-9f26-673947d650ce",
   "metadata": {},
   "outputs": [
    {
     "data": {
      "text/plain": [
       "{'key': ['DS', 'ML'],\n",
       " 'start_date': (28, 14),\n",
       " 'mentors': {'abc', 'pqr', 'xyz'},\n",
       " 'timimgs': (8, 8)}"
      ]
     },
     "execution_count": 80,
     "metadata": {},
     "output_type": "execute_result"
    }
   ],
   "source": [
    "d16"
   ]
  },
  {
   "cell_type": "code",
   "execution_count": 81,
   "id": "f9733987-44ec-46e1-9037-107d6b341e88",
   "metadata": {},
   "outputs": [
    {
     "data": {
      "text/plain": [
       "{'key': ['DS', 'ML'],\n",
       " 'start_date': (28, 14),\n",
       " 'mentors': {'abc', 'pqr', 'xyz'},\n",
       " 'timimgs': (8, 8),\n",
       " 'name1': 'Puja'}"
      ]
     },
     "execution_count": 81,
     "metadata": {},
     "output_type": "execute_result"
    }
   ],
   "source": [
    "d17"
   ]
  },
  {
   "cell_type": "code",
   "execution_count": 82,
   "id": "35f2e618-bb5d-4ea9-81f9-b5429b2962db",
   "metadata": {},
   "outputs": [
    {
     "data": {
      "text/plain": [
       "{'key': ['DS', 'ML'],\n",
       " 'start_date': (28, 14),\n",
       " 'mentors': {'abc', 'pqr', 'xyz'},\n",
       " 'timimgs': (8, 8)}"
      ]
     },
     "execution_count": 82,
     "metadata": {},
     "output_type": "execute_result"
    }
   ],
   "source": [
    "d18"
   ]
  },
  {
   "cell_type": "code",
   "execution_count": 84,
   "id": "420a5aae-ba06-4b7a-8711-3091416c7590",
   "metadata": {},
   "outputs": [
    {
     "data": {
      "text/plain": [
       "(8, 8)"
      ]
     },
     "execution_count": 84,
     "metadata": {},
     "output_type": "execute_result"
    }
   ],
   "source": [
    "## in case of dict .. pop function requires argument, it will remove that specific key and give respective value\n",
    "\n",
    "d16.pop(\"timimgs\")"
   ]
  },
  {
   "cell_type": "code",
   "execution_count": 85,
   "id": "4ad4ca82-b273-4940-b6cb-20291c7b1814",
   "metadata": {},
   "outputs": [
    {
     "data": {
      "text/plain": [
       "{'key': ['DS', 'ML'], 'start_date': (28, 14), 'mentors': {'abc', 'pqr', 'xyz'}}"
      ]
     },
     "execution_count": 85,
     "metadata": {},
     "output_type": "execute_result"
    }
   ],
   "source": [
    "d16"
   ]
  },
  {
   "cell_type": "code",
   "execution_count": 87,
   "id": "fbe431b5-3f3b-4171-8f8e-909d750485d1",
   "metadata": {},
   "outputs": [
    {
     "data": {
      "text/plain": [
       "{1: ('a', 'b', 'c'), 2: ('a', 'b', 'c'), 3: ('a', 'b', 'c')}"
      ]
     },
     "execution_count": 87,
     "metadata": {},
     "output_type": "execute_result"
    }
   ],
   "source": [
    "## here first item will be taken as iterable\n",
    "## and those will be considered as key and second paramenetr will be considered as its respective values\n",
    "\n",
    "d.fromkeys((1,2,3),('a','b','c'))"
   ]
  },
  {
   "cell_type": "code",
   "execution_count": 88,
   "id": "e8aaac25-1d44-4e5b-8191-ae97a44cf79b",
   "metadata": {},
   "outputs": [],
   "source": [
    "d19 = {\"key1\":\"value1\", \"key2\":\"value2\"}\n",
    "d20 = {\"key3\":\"value3\", \"key4\":\"value4\"}\n"
   ]
  },
  {
   "cell_type": "code",
   "execution_count": 89,
   "id": "d4e8be37-bb8c-44f9-acfb-42a3354e9245",
   "metadata": {},
   "outputs": [
    {
     "data": {
      "text/plain": [
       "({'key1': 'value1', 'key2': 'value2'}, {'key3': 'value3', 'key4': 'value4'})"
      ]
     },
     "execution_count": 89,
     "metadata": {},
     "output_type": "execute_result"
    }
   ],
   "source": [
    "## dictionary inside a tuple is possible\n",
    "(d19,d20)"
   ]
  },
  {
   "cell_type": "code",
   "execution_count": 90,
   "id": "e1ad6184-ca3e-4a22-892e-aff3b582df8a",
   "metadata": {},
   "outputs": [],
   "source": [
    "d19.update(d20)"
   ]
  },
  {
   "cell_type": "code",
   "execution_count": 93,
   "id": "dd2529ff-b39d-47d6-9fac-b3312bce1582",
   "metadata": {},
   "outputs": [
    {
     "data": {
      "text/plain": [
       "{'key1': 'value1', 'key2': 'value2', 'key3': 'value3', 'key4': 'value4'}"
      ]
     },
     "execution_count": 93,
     "metadata": {},
     "output_type": "execute_result"
    }
   ],
   "source": [
    "## it has taken an update from d20, means it has copied d20 in d19 \n",
    "d19"
   ]
  },
  {
   "cell_type": "code",
   "execution_count": 92,
   "id": "2bb97028-1ca4-4116-890d-33fd4c0daffc",
   "metadata": {},
   "outputs": [
    {
     "data": {
      "text/plain": [
       "{'key3': 'value3', 'key4': 'value4'}"
      ]
     },
     "execution_count": 92,
     "metadata": {},
     "output_type": "execute_result"
    }
   ],
   "source": [
    "d20"
   ]
  },
  {
   "cell_type": "code",
   "execution_count": 96,
   "id": "86ade144-3abc-440a-9f97-bb8220695946",
   "metadata": {},
   "outputs": [],
   "source": [
    "## get never gives error, it key is not present it will retuen nothing\n",
    "d20.get(\"name\")"
   ]
  },
  {
   "cell_type": "code",
   "execution_count": 95,
   "id": "57a4e790-2ae8-42f0-9f52-c0beb9ef63b6",
   "metadata": {},
   "outputs": [
    {
     "data": {
      "text/plain": [
       "'value3'"
      ]
     },
     "execution_count": 95,
     "metadata": {},
     "output_type": "execute_result"
    }
   ],
   "source": [
    "d20.get(\"key3\")"
   ]
  },
  {
   "cell_type": "markdown",
   "id": "44b92306-262b-45fa-9069-07ff9e73d6a6",
   "metadata": {},
   "source": [
    "## Dictionary Comprehension"
   ]
  },
  {
   "cell_type": "code",
   "execution_count": 98,
   "id": "48bf66c0-f94b-40c6-a330-4c54994a375f",
   "metadata": {},
   "outputs": [
    {
     "data": {
      "text/plain": [
       "{1: 1, 2: 4, 3: 9, 4: 16, 5: 25, 6: 36, 7: 49, 8: 64, 9: 81, 10: 100}"
      ]
     },
     "execution_count": 98,
     "metadata": {},
     "output_type": "execute_result"
    }
   ],
   "source": [
    "{i : i**2 for i in range(1,11)}"
   ]
  },
  {
   "cell_type": "code",
   "execution_count": 100,
   "id": "c6e7c869-fc2e-42b0-9221-820f4027e087",
   "metadata": {},
   "outputs": [
    {
     "data": {
      "text/plain": [
       "{1: 11, 2: 12, 3: 13, 4: 14, 5: 15, 6: 16, 7: 17, 8: 18, 9: 19, 10: 20}"
      ]
     },
     "execution_count": 100,
     "metadata": {},
     "output_type": "execute_result"
    }
   ],
   "source": [
    "{i : i+10  for i in range(1,11)}"
   ]
  },
  {
   "cell_type": "code",
   "execution_count": 106,
   "id": "0178d86d-fa7e-4893-a948-c1b0332659a5",
   "metadata": {},
   "outputs": [
    {
     "data": {
      "text/plain": [
       "{1: 0.0,\n",
       " 2: 0.3010299956639812,\n",
       " 3: 0.47712125471966244,\n",
       " 4: 0.6020599913279624,\n",
       " 5: 0.6989700043360189,\n",
       " 6: 0.7781512503836436,\n",
       " 7: 0.8450980400142568,\n",
       " 8: 0.9030899869919435,\n",
       " 9: 0.9542425094393249,\n",
       " 10: 1.0}"
      ]
     },
     "execution_count": 106,
     "metadata": {},
     "output_type": "execute_result"
    }
   ],
   "source": [
    "import math\n",
    "\n",
    "d21 = {i : math.log10(i) for i in range(1,11)}\n",
    "d21"
   ]
  },
  {
   "cell_type": "code",
   "execution_count": 102,
   "id": "ac146982-c436-49d9-bfeb-6b665abe57e6",
   "metadata": {},
   "outputs": [
    {
     "data": {
      "text/plain": [
       "{'key': ['DS', 'ML'], 'start_date': (28, 14), 'mentors': {'abc', 'pqr', 'xyz'}}"
      ]
     },
     "execution_count": 102,
     "metadata": {},
     "output_type": "execute_result"
    }
   ],
   "source": [
    "d16"
   ]
  },
  {
   "cell_type": "code",
   "execution_count": 103,
   "id": "ecaae1d7-21ef-46db-952a-2caa361a7c4a",
   "metadata": {},
   "outputs": [
    {
     "data": {
      "text/plain": [
       "True"
      ]
     },
     "execution_count": 103,
     "metadata": {},
     "output_type": "execute_result"
    }
   ],
   "source": [
    "'key' in d16"
   ]
  },
  {
   "cell_type": "code",
   "execution_count": 104,
   "id": "f92946a5-184c-4732-970f-7baa5487bb17",
   "metadata": {},
   "outputs": [
    {
     "data": {
      "text/plain": [
       "False"
      ]
     },
     "execution_count": 104,
     "metadata": {},
     "output_type": "execute_result"
    }
   ],
   "source": [
    "'name' in d16"
   ]
  },
  {
   "cell_type": "code",
   "execution_count": 107,
   "id": "2c6495e9-db11-4698-9f90-4f48da00f32b",
   "metadata": {},
   "outputs": [
    {
     "data": {
      "text/plain": [
       "{1: 0.0,\n",
       " 2: 0.3010299956639812,\n",
       " 3: 0.47712125471966244,\n",
       " 4: 0.6020599913279624,\n",
       " 5: 0.6989700043360189,\n",
       " 6: 0.7781512503836436,\n",
       " 7: 0.8450980400142568,\n",
       " 8: 0.9030899869919435,\n",
       " 9: 0.9542425094393249,\n",
       " 10: 1.0}"
      ]
     },
     "execution_count": 107,
     "metadata": {},
     "output_type": "execute_result"
    }
   ],
   "source": [
    "d21"
   ]
  },
  {
   "cell_type": "code",
   "execution_count": 111,
   "id": "1e532a8e-b532-4462-93df-1c4ff408e4ec",
   "metadata": {},
   "outputs": [
    {
     "name": "stdout",
     "output_type": "stream",
     "text": [
      "0.3010299956639812\n",
      "0.6020599913279624\n",
      "0.7781512503836436\n",
      "0.9030899869919435\n",
      "1.0\n"
     ]
    }
   ],
   "source": [
    "## extract only those values whose keys are even numbers\n",
    "\n",
    "for i in d21.keys():\n",
    "    if i%2==0:\n",
    "        print(d21[i])"
   ]
  },
  {
   "cell_type": "code",
   "execution_count": 110,
   "id": "f87ae5bf-785a-4f41-96e4-b853a267b1b1",
   "metadata": {},
   "outputs": [
    {
     "data": {
      "text/plain": [
       "dict_keys([1, 2, 3, 4, 5, 6, 7, 8, 9, 10])"
      ]
     },
     "execution_count": 110,
     "metadata": {},
     "output_type": "execute_result"
    }
   ],
   "source": [
    "d21.keys()"
   ]
  },
  {
   "cell_type": "code",
   "execution_count": 112,
   "id": "ef086d26-4017-4be8-87c9-a57a27c764d6",
   "metadata": {},
   "outputs": [
    {
     "name": "stdout",
     "output_type": "stream",
     "text": [
      "400\n",
      "(200, 300, 400)\n"
     ]
    }
   ],
   "source": [
    "atuple = (100, 200, 300, 400, 500)\n",
    "\n",
    "print(atuple[-2])\n",
    "\n",
    "print(atuple[-4:-1])"
   ]
  },
  {
   "cell_type": "code",
   "execution_count": 113,
   "id": "915d8c72-d869-4633-9336-539a5dd9bae4",
   "metadata": {},
   "outputs": [
    {
     "name": "stdout",
     "output_type": "stream",
     "text": [
      "<class 'str'>\n"
     ]
    }
   ],
   "source": [
    "atuple = (\"Orange\")\n",
    "\n",
    "print(type(atuple))"
   ]
  },
  {
   "cell_type": "code",
   "execution_count": 115,
   "id": "8698ccb7-dd6a-4fc2-99b4-370febb6280c",
   "metadata": {},
   "outputs": [
    {
     "name": "stdout",
     "output_type": "stream",
     "text": [
      "(100, 100)\n"
     ]
    }
   ],
   "source": [
    "atuple = (100,)\n",
    "\n",
    "print(atuple * 2)"
   ]
  },
  {
   "cell_type": "code",
   "execution_count": 116,
   "id": "9791a115-4452-444b-8984-68758070046e",
   "metadata": {},
   "outputs": [
    {
     "name": "stdout",
     "output_type": "stream",
     "text": [
      "True\n"
     ]
    }
   ],
   "source": [
    "dict1 = {\"key1\":1, \"key2\":2}\n",
    "\n",
    "dict2 = {\"key2\":2, \"key1\":1}\n",
    "\n",
    "print(dict1 == dict2)"
   ]
  },
  {
   "cell_type": "code",
   "execution_count": 139,
   "id": "6dd46448-ba35-4bf1-bea0-5e0031096cf0",
   "metadata": {},
   "outputs": [],
   "source": [
    "set1 = {1,2}\n",
    "set2 = {3,4}\n",
    "\n",
    "##set2 = set1.copy()\n",
    "##set2 = set(set1)\n",
    "##set2.update(set1)\n",
    "##set2 = set1"
   ]
  },
  {
   "cell_type": "code",
   "execution_count": 140,
   "id": "d5ecb763-f75d-44b3-90c9-3710d55930ee",
   "metadata": {},
   "outputs": [
    {
     "data": {
      "text/plain": [
       "{1, 2}"
      ]
     },
     "execution_count": 140,
     "metadata": {},
     "output_type": "execute_result"
    }
   ],
   "source": [
    "set2"
   ]
  },
  {
   "cell_type": "code",
   "execution_count": 141,
   "id": "a40eb6c6-5c8a-46e9-b4cd-fb0050d21999",
   "metadata": {},
   "outputs": [
    {
     "data": {
      "text/plain": [
       "{1, 2}"
      ]
     },
     "execution_count": 141,
     "metadata": {},
     "output_type": "execute_result"
    }
   ],
   "source": [
    "set1"
   ]
  },
  {
   "cell_type": "code",
   "execution_count": 142,
   "id": "90c96f2e-d549-47a2-9b87-bebcf533a241",
   "metadata": {},
   "outputs": [
    {
     "name": "stdout",
     "output_type": "stream",
     "text": [
      "{'Blue', 'Pink'}\n"
     ]
    }
   ],
   "source": [
    "set1 = {\"Yellow\", \"Orange\", \"Black\"}\n",
    "\n",
    "set2 = {\"Orange\", \"Blue\", \"Pink\"}\n",
    "\n",
    "set3 = set2.difference(set1)\n",
    "\n",
    "print(set3)"
   ]
  },
  {
   "cell_type": "code",
   "execution_count": 143,
   "id": "16fda375-925f-438f-b6ad-291ce63bb105",
   "metadata": {},
   "outputs": [
    {
     "name": "stdout",
     "output_type": "stream",
     "text": [
      "None\n"
     ]
    }
   ],
   "source": [
    "dict1 = {\"name\": \"Mike\", \"salary\": 8000}\n",
    "\n",
    "temp = dict1.get(\"age\")\n",
    "\n",
    "print(temp)"
   ]
  },
  {
   "cell_type": "code",
   "execution_count": null,
   "id": "5e1b9695-6c24-4b54-bf2d-998511778e69",
   "metadata": {},
   "outputs": [],
   "source": []
  },
  {
   "cell_type": "code",
   "execution_count": null,
   "id": "62c9afb1-866d-47b1-bc1c-605d397f3c53",
   "metadata": {},
   "outputs": [],
   "source": []
  }
 ],
 "metadata": {
  "kernelspec": {
   "display_name": "Python 3 (ipykernel)",
   "language": "python",
   "name": "python3"
  },
  "language_info": {
   "codemirror_mode": {
    "name": "ipython",
    "version": 3
   },
   "file_extension": ".py",
   "mimetype": "text/x-python",
   "name": "python",
   "nbconvert_exporter": "python",
   "pygments_lexer": "ipython3",
   "version": "3.10.8"
  }
 },
 "nbformat": 4,
 "nbformat_minor": 5
}
