{
 "cells": [
  {
   "cell_type": "code",
   "execution_count": null,
   "id": "1076b2bc-fb1b-4fce-99bd-71b32eccf91a",
   "metadata": {},
   "outputs": [],
   "source": [
    "1. Who developed Python Programming language?\n",
    "Guido van Rossum"
   ]
  },
  {
   "cell_type": "code",
   "execution_count": null,
   "id": "ac388a35-8b7f-44db-928f-c3000efbd78c",
   "metadata": {},
   "outputs": [],
   "source": [
    "2. Which type of programming does Python support?\n",
    "High level programming language"
   ]
  },
  {
   "cell_type": "code",
   "execution_count": null,
   "id": "3972981d-561a-4918-abdb-76e494873139",
   "metadata": {},
   "outputs": [],
   "source": [
    "3. Is python case sensitive when dealing with identifiers?\n",
    "Yes"
   ]
  },
  {
   "cell_type": "code",
   "execution_count": null,
   "id": "48459401-3ed9-4666-b15d-ce0f33b67425",
   "metadata": {},
   "outputs": [],
   "source": [
    "4. What is the correct extension of the Python file?\n",
    "ipynb"
   ]
  },
  {
   "cell_type": "code",
   "execution_count": null,
   "id": "9f7bcef7-64ff-4a5c-af06-abf8f0a35ae2",
   "metadata": {},
   "outputs": [],
   "source": [
    "5. Is Python code compiled or interpreted?\n",
    "Interpreted"
   ]
  },
  {
   "cell_type": "code",
   "execution_count": null,
   "id": "61be0872-97df-45ad-88b4-ab76f8f34b79",
   "metadata": {},
   "outputs": [],
   "source": [
    "6. Name a few blocks of code used to define in Python language?\n",
    "functions, class"
   ]
  },
  {
   "cell_type": "code",
   "execution_count": null,
   "id": "edcab6ae-b220-4b9b-8ec7-ca582a8d0653",
   "metadata": {},
   "outputs": [],
   "source": [
    "7. State a character used to give single-line comments in Python?\n",
    "hash # "
   ]
  },
  {
   "cell_type": "code",
   "execution_count": null,
   "id": "b3efe9b9-d8ed-4499-b341-d1a944aace7e",
   "metadata": {},
   "outputs": [],
   "source": [
    "8. Mention functions which can help us to find the version of python that we are currently working on?\n",
    "import sys\n",
    "sys.version"
   ]
  },
  {
   "cell_type": "code",
   "execution_count": null,
   "id": "f80c9aa9-7cb5-4547-9e6f-2af872e46962",
   "metadata": {},
   "outputs": [],
   "source": [
    "9. Python supports the creation of anonymous functions at runtime, using a construct called \n",
    "lambda"
   ]
  },
  {
   "cell_type": "code",
   "execution_count": null,
   "id": "2b334bd1-676a-4b93-9748-ce11ab12bc47",
   "metadata": {},
   "outputs": [],
   "source": [
    "10. What does pip stand for python?\n",
    "preferred installer program - it installs all the supporting tools for python environment"
   ]
  },
  {
   "cell_type": "code",
   "execution_count": null,
   "id": "34bc14d8-0c56-492d-8c71-97a32ef93ada",
   "metadata": {},
   "outputs": [],
   "source": [
    "11. Mention a few built-in functions in python?\n",
    "type(), upper(), lower(), isupper(), isalpha(), print() etc. "
   ]
  },
  {
   "cell_type": "code",
   "execution_count": null,
   "id": "c07dfd56-05ae-4cea-97c1-31cdf71e16ec",
   "metadata": {},
   "outputs": [],
   "source": [
    "12. What is the maximun possible length of an identifier in Python?\n",
    "79 characters"
   ]
  },
  {
   "cell_type": "code",
   "execution_count": null,
   "id": "3ef3a09e-d388-47a3-b186-14ed1a8c8ff1",
   "metadata": {},
   "outputs": [],
   "source": [
    "13. What are the benefits of using Python?\n",
    "- Reusability\n",
    "- Easy to maintain\n",
    "- short and precise coding\n",
    "- platform independent which makes it portable\n",
    "- has many supporting libraries"
   ]
  },
  {
   "cell_type": "code",
   "execution_count": null,
   "id": "9ccd3160-bddf-42b5-9311-5ee5f0e206a9",
   "metadata": {},
   "outputs": [],
   "source": [
    "14. How is memory managed in Python?\n",
    "through a private heap containing all Python objects and data structures"
   ]
  },
  {
   "cell_type": "code",
   "execution_count": null,
   "id": "9fa50e98-9348-428d-9eaa-459873cd4771",
   "metadata": {},
   "outputs": [],
   "source": [
    "15. How to install Python on Windows and set path variables?\n",
    "\n",
    "Right click on My Computer and click on properties.\n",
    "Click on Advanced System settings.\n",
    "Click on Environment Variable tab.\n",
    "Click on new tab of user variables.\n",
    "Write path in variable name.\n",
    "Copy the path of Python folder.\n",
    "Paste path of Python in variable value. \n",
    "Click on Ok button\n",
    "Click on Ok button"
   ]
  },
  {
   "cell_type": "code",
   "execution_count": null,
   "id": "7c33b840-e868-45c9-b3dc-fde6ee076afe",
   "metadata": {},
   "outputs": [],
   "source": [
    "16. Is indentation required in Python?\n",
    "Yes"
   ]
  }
 ],
 "metadata": {
  "kernelspec": {
   "display_name": "Python 3 (ipykernel)",
   "language": "python",
   "name": "python3"
  },
  "language_info": {
   "codemirror_mode": {
    "name": "ipython",
    "version": 3
   },
   "file_extension": ".py",
   "mimetype": "text/x-python",
   "name": "python",
   "nbconvert_exporter": "python",
   "pygments_lexer": "ipython3",
   "version": "3.10.8"
  }
 },
 "nbformat": 4,
 "nbformat_minor": 5
}
