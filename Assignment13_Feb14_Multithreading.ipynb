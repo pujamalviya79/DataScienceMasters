{
 "cells": [
  {
   "cell_type": "code",
   "execution_count": null,
   "id": "27ff6ace-9c02-4cfd-89fc-37534cb066cf",
   "metadata": {},
   "outputs": [],
   "source": [
    "1. What is multithreading in python? Why is it used? Name the module used to handle threads in python\n",
    "-------\n",
    "Multithreading is a threading technique in Python programming to run multiple threads concurrently by rapidly switching between threads with a CPU help.\n",
    "\n",
    "Multithreading is used for:\n",
    "- efficient utilization of the resources as the threads share the data space and memory.\n",
    "- concurrent and parallel occurrence of various tasks\n",
    "- It causes a reduction in time consumption or response time, thereby increasing the performance.\n",
    "\n",
    "Module - Threading "
   ]
  },
  {
   "cell_type": "code",
   "execution_count": null,
   "id": "bb5df991-006a-42fc-962b-16e34dbda1bb",
   "metadata": {},
   "outputs": [],
   "source": [
    "2. Why threading module used? Write the use of the following functions\n",
    "a. activeCount()\n",
    "b. currentThread()\n",
    "c. enumerate()\n",
    "-------\n",
    "Threading module is used to achieve multithreading.\n",
    "\n",
    "a. activeCount() -- Returns the number of thread objects that are active.\n",
    "b. currentThread() -- Returns the number of thread objects in the caller's thread control.\n",
    "c. enumerate() -- Returns a list of all thread objects that are currently active."
   ]
  },
  {
   "cell_type": "code",
   "execution_count": null,
   "id": "d9cce38c-70ed-4909-b05d-9dab406ae925",
   "metadata": {},
   "outputs": [],
   "source": [
    "3. Explain the following functions\n",
    "a. run()\n",
    "b. start()\n",
    "c. join()\n",
    "d. isAlive()\n",
    "---------\n",
    "a. run() -- The run() method is the entry point for a thread.\n",
    "b. start() -- To start a thread, we use start method of Thread class.\n",
    "            The start() method starts a thread by calling the run method.\n",
    "c. join() -- Once the threads start, the current program also keeps on executing. \n",
    "            In order to stop execution of current program until a thread is complete, we use join method.\n",
    "d. isAlive() -- The isAlive() method checks whether a thread is still executing."
   ]
  },
  {
   "cell_type": "code",
   "execution_count": 3,
   "id": "7757c935-badc-46df-9358-17e96abb6bdd",
   "metadata": {},
   "outputs": [
    {
     "name": "stdout",
     "output_type": "stream",
     "text": [
      " Calculate the square root of the given number\n",
      " Square is :  16\n",
      " Square is :  25\n",
      " Square is :  36\n",
      " Square is :  49\n",
      " Square is :  4\n",
      " Calculate the cube of  the given number\n",
      " Cube is :  64\n",
      " Cube is :  125\n",
      " Cube is :  216\n",
      " Cube is :  343\n",
      " Cube is :  8\n"
     ]
    }
   ],
   "source": [
    "''' 4. Write a python program to create two threads. Thread one must print the list of squares and thread\n",
    "two must print the list of cubes\n",
    "--------- '''\n",
    "import threading\n",
    "  \n",
    "def cal_sqre(num):  \n",
    "    print(\" Calculate the square root of the given number\")  \n",
    "    for n in num: \n",
    "        print(' Square is : ', n * n)  \n",
    "\n",
    "def cal_cube(num): \n",
    "    print(\" Calculate the cube of  the given number\")  \n",
    "    for n in num:  \n",
    "        print(\" Cube is : \", n * n *n)  \n",
    "\n",
    "lst = [4, 5, 6, 7, 2]\n",
    "  \n",
    "th1 = threading.Thread(target=cal_sqre, args=(lst, ))  \n",
    "th2 = threading.Thread(target=cal_cube, args=(lst, ))  \n",
    "th1.start()  \n",
    "th2.start()  "
   ]
  },
  {
   "cell_type": "code",
   "execution_count": null,
   "id": "ebfbe06a-5c1f-4887-ba5e-53278fe19baa",
   "metadata": {},
   "outputs": [],
   "source": [
    "5. State advantages and disadvantages of multithreading\n",
    "--------\n",
    "Advantages of multithreading:\n",
    "-- Efficient utilization of resources as the threads share the same memory and data space.\n",
    "-- Allows the concurrent appearance of multiple tasks and reduces the response time. \n",
    "-- This improves the performance.\n",
    "-- Simplified and streamlined program coding\n",
    "-- Decreased cost of maintenance\n",
    "-- Better use of CPU resource\n",
    "\n",
    "Disadvantages of multithreading:\n",
    "-- Complex debugging and testing processes\n",
    "-- Overhead switching of context\n",
    "-- Increased potential for deadlock occurrence\n",
    "-- Increased difficulty level in writing a program\n",
    "-- Unpredictable results"
   ]
  },
  {
   "cell_type": "code",
   "execution_count": null,
   "id": "2454adda-5b86-44b5-a4e9-70bb37534bb1",
   "metadata": {},
   "outputs": [],
   "source": [
    "6. Explain deadlocks and race conditions.\n",
    "-----\n",
    "deadlocks --\n",
    "Two threads hold locks on different resources, each waiting indefinitely for the other to release its lock.\n",
    "\n",
    "Race conditions -- \n",
    "A race condition occurs when two threads access a shared variable at the same time. \n",
    "The first thread reads the variable, and the second thread reads the same value from the variable"
   ]
  }
 ],
 "metadata": {
  "kernelspec": {
   "display_name": "Python 3 (ipykernel)",
   "language": "python",
   "name": "python3"
  },
  "language_info": {
   "codemirror_mode": {
    "name": "ipython",
    "version": 3
   },
   "file_extension": ".py",
   "mimetype": "text/x-python",
   "name": "python",
   "nbconvert_exporter": "python",
   "pygments_lexer": "ipython3",
   "version": "3.10.8"
  }
 },
 "nbformat": 4,
 "nbformat_minor": 5
}
