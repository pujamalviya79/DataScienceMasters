{
 "cells": [
  {
   "cell_type": "code",
   "execution_count": null,
   "id": "2c48b922-0c84-43f1-b3d1-10bce9336289",
   "metadata": {},
   "outputs": [],
   "source": [
    "Q1. What is Bayes' theorem?\n",
    "----------------------------------\n",
    "\n",
    "Bayes theorem describes the probability of occurrence of an event related to any condition. \n",
    "It is also considered for the case of conditional probability. \n",
    "Bayes theorem is also known as the formula for the probability of \"causes\".\n"
   ]
  },
  {
   "cell_type": "code",
   "execution_count": null,
   "id": "9af4bfc4-9bd3-4253-8826-d70129ecae13",
   "metadata": {},
   "outputs": [],
   "source": [
    "Q2. What is the formula for Bayes' theorem?\n",
    "----------------------------------------\n",
    "\n",
    "P(A|B)=(P(B|A)P(A))/P(B)\n",
    "where 𝐴 and 𝐵 are events and 𝑃(𝐵)≠0\n",
    "\n",
    "𝑃(𝐴|𝐵) is a conditional probability: the probability of event 𝐴 occurring given that 𝐵 is true. \n",
    "It is also called the posterior probability of 𝐴 given 𝐵.\n",
    "\n",
    "𝑃(𝐵|𝐴) is also a conditional probability: the probability of event 𝐵 occurring given that 𝐴 is true. \n",
    "It can also be interpreted as the likelihood of 𝐴 given a fixed 𝐵 because P(𝐵|𝐴)=𝐿(𝐴|𝐵)\n",
    "\n",
    "𝑃(𝐴) and 𝑃(𝐵) are the probabilities of observing 𝐴 and 𝐵 respectively without any given conditions; they are known as the prior probability and marginal probability."
   ]
  },
  {
   "cell_type": "code",
   "execution_count": null,
   "id": "f6fb8d25-2641-4423-ad5a-53465225e1eb",
   "metadata": {},
   "outputs": [],
   "source": [
    "Q3. How is Bayes' theorem used in practice?\n",
    "---------------------------------------\n",
    "\n",
    "A person has undertaken a job. \n",
    "The probabilities of completion of the job on time with and without rain are 0.44 and 0.95 respectively.\n",
    "If the probability that it will rain is 0.45, then determine the probability that the job will be completed on time.\n",
    "\n",
    "Let E1 be the event that the mining job will be completed on time and E2 be the event that it rains. We have,\n",
    "\n",
    "P(A) = 0.45,\n",
    "P(no rain) = P(B) = 1 − P(A) = 1 − 0.45 = 0.55\n",
    "\n",
    "By multiplication law of probability,\n",
    "P(E1) = 0.44, and P(E2) = 0.95\n",
    "\n",
    "Since, events A and B form partitions of the sample space S, by total probability theorem, we have\n",
    "P(E) = P(A) P(E1) + P(B) P(E2)\n",
    "\n",
    "⇒ P(E) = 0.45 × 0.44 + 0.55 × 0.95\n",
    "⇒ P(E) = 0.198 + 0.5225 = 0.7205\n",
    "\n",
    "So, the probability that the job will be completed on time is 0.7205"
   ]
  },
  {
   "cell_type": "code",
   "execution_count": null,
   "id": "6c903027-1da9-449b-b937-5a59625b9af7",
   "metadata": {},
   "outputs": [],
   "source": [
    "Q4. What is the relationship between Bayes' theorem and conditional probability?\n",
    "----------------------------------\n",
    "\n",
    "The Bayes theorem states that the probability of an event is based on prior knowledge of the conditions that might be related to the event. \n",
    "It is also used to examine the case of conditional probability.\n",
    "Conditional probability is the likelihood of an outcome occurring based on a previous outcome in similar circumstances.\n",
    "Bayes Theorem provides a way to revise existing predictions or theories given new or additional evidence.\n",
    "\n",
    "Example:\n",
    "    A bag P contains 6 white and 6 blue balls, while another bag Q contains 3 white and 3 blue balls.\n",
    "    One ball is randomly drawn from one of the bags, and it is found to be blue. \n",
    "    Calculate the probability that it was drawn from bag P.\n",
    "    \n",
    "    Let E1 be the event of selecting bag P, E2 be the event of selecting bag Q, and A be the event of drawing a blue ball.\n",
    "    Then,\n",
    "\n",
    "    P (E1) = P (E2) = 1/2\n",
    "    P(A/E1) = P (Drawing a blue ball from bag P) = 6/12 = 1/2\n",
    "    P(A/E2) = P (Drawing a blue ball from bag Q) = 3/6 = 1/2\n",
    "\n",
    "    Using the Bayes theorem, the probability of drawing a blue ball from bag P out of two bags P and Q is given below.\n",
    "    P(E1/A)=P(E1)P(A|E1) / P(E1)P(A|E1)+P(E2)P(A|E2)\n",
    "            =1/2\n",
    "    "
   ]
  },
  {
   "cell_type": "code",
   "execution_count": null,
   "id": "c6e7807c-f608-430f-8bcc-b4d5c4a906b4",
   "metadata": {},
   "outputs": [],
   "source": [
    "Q5. How do you choose which type of Naive Bayes classifier to use for any given problem?\n",
    "---------------------------------------\n",
    "\n",
    "1. Bernoulli Naive Bayes : Used whenever our features is following Bernoullis distribution, then we need to use Bernoullis Naive Bayes Algorithm.\n",
    "2. Multinomila Naive Bayes : When our feature is of text type, then we need to use Multinomial Naive Bayes Algorithm. Eg.: Spam Email detection\n",
    "3. Gaussian Naive Bayes : When our features is following Gaussian or Normal distribution, then we need to use Gaussian Naive Bayes Algorithm. Eg.: Iris dataset\n"
   ]
  },
  {
   "cell_type": "code",
   "execution_count": null,
   "id": "7ae101bc-0272-48c9-be39-e0e9989d5be5",
   "metadata": {},
   "outputs": [],
   "source": [
    "Q6. Assignment:\n",
    "You have a dataset with two features, X1 and X2, and two possible classes, A and B. You want to use Naive\n",
    "Bayes to classify a new instance with features X1 = 3 and X2 = 4. The following table shows the frequency of\n",
    "each feature value for each class:\n",
    "Class X1=1 X1=2 X1=3 X2=1 X2=2 X2=3 X2=4\n",
    "A 3 3 4 4 3 3 3\n",
    "B 2 2 1 2 2 2 3\n",
    "Assuming equal prior probabilities for each class, which class would Naive Bayes predict the new instance\n",
    "to belong to?\n",
    "-------------------------------------------\n",
    "\n",
    "To apply Naive Bayes classification, we need to calculate the conditional probabilities of each class:\n",
    "\n",
    "For Class A:\n",
    "𝑃(𝑋1=3∣𝐴)=4/13 \n",
    "𝑃(𝑋2=4∣𝐴)=3/13\n",
    "𝑃(𝐴)=1/2 (assuming equal prior probabilities)\n",
    "\n",
    "For Class B:\n",
    "𝑃(𝑋1=3∣𝐵)=1/7\n",
    "𝑃(𝑋2=4∣𝐵)=3/7\n",
    "𝑃(𝐵)=1/2 (assuming equal prior probabilities)\n",
    "\n",
    "Now, lets calculate the probabilities using the Naive Bayes assumption (independence assumption):\n",
    "\n",
    "For Class A:\n",
    "𝑃(𝐴∣𝑋1=3,𝑋2=4)∝𝑃(𝑋1=3∣𝐴)×𝑃(𝑋2=4∣𝐴)×𝑃(𝐴)\n",
    "=4/13 × 3/13 × 1/2\n",
    "=12/169\n",
    "\n",
    "For Class B:\n",
    "P(B∣X1=3,X2=4)∝P(X1=3∣B)×P(X2=4∣B)×P(B)\n",
    "=1/7 × 3/7 × 1/2\n",
    "=3/98\n",
    "\n",
    "Since \n",
    "12/169 > 3/98, Naive Bayes would predict that the new instance belongs to Class A."
   ]
  }
 ],
 "metadata": {
  "kernelspec": {
   "display_name": "Python 3 (ipykernel)",
   "language": "python",
   "name": "python3"
  },
  "language_info": {
   "codemirror_mode": {
    "name": "ipython",
    "version": 3
   },
   "file_extension": ".py",
   "mimetype": "text/x-python",
   "name": "python",
   "nbconvert_exporter": "python",
   "pygments_lexer": "ipython3",
   "version": "3.10.8"
  }
 },
 "nbformat": 4,
 "nbformat_minor": 5
}
