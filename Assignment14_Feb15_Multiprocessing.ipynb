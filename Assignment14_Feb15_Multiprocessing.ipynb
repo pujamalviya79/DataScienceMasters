{
 "cells": [
  {
   "cell_type": "code",
   "execution_count": null,
   "id": "db0ab938-700e-4638-a6d1-fe1959defcc0",
   "metadata": {},
   "outputs": [],
   "source": [
    "Q1. What is multiprocessing in python? Why is it useful? \n",
    "\n",
    "-------\n",
    "Multiprocessing in Python is a built-in package that allows the system to run multiple processes simultaneously. \n",
    "It will enable the breaking of applications into smaller threads that can run independently.\n",
    "\n",
    "It sis useful because it:\n",
    "- offers both local and remote concurrency, \n",
    "- effectively side-stepping the Global Interpreter Lock by using subprocesses instead of threads"
   ]
  },
  {
   "cell_type": "code",
   "execution_count": null,
   "id": "0a851510-5518-413b-b144-531b4a1f104a",
   "metadata": {},
   "outputs": [],
   "source": [
    "Q2. What are the differences between multiprocessing and multithreading?\n",
    "-----\n",
    "Multiprocessing:-\n",
    "In Multiprocessing, CPUs are added for increasing computing power.\n",
    "In Multiprocessing, Many processes are executed simultaneously.\n",
    "Multiprocessing are classified into Symmetric and Asymmetric.\n",
    "In Multiprocessing, Process creation is a time-consuming process.\n",
    "In Multiprocessing, every process owned a separate address space.\n",
    "\n",
    "MultiThreading:-\n",
    "In Multithreading, many threads are created of a single process for increasing computing power.\n",
    "In multithreading, many threads of a process are executed simultaneously.\n",
    "Multithreading is not classified in any categories.\n",
    "In Multithreading, process creation is according to economical.\n",
    "In Multithreading, a common address space is shared by all the threads."
   ]
  },
  {
   "cell_type": "code",
   "execution_count": 4,
   "id": "be67d34b-ef33-4423-9019-3d95ed9998a9",
   "metadata": {},
   "outputs": [
    {
     "name": "stdout",
     "output_type": "stream",
     "text": [
      "Square: 100\n",
      "Cube: 1000\n",
      "Done!\n"
     ]
    }
   ],
   "source": [
    "'''Q3. Write a python code to create a process using the multiprocessing module.\n",
    "--------'''\n",
    "\n",
    "import multiprocessing\n",
    "  \n",
    "def print_cube(num):\n",
    "    print(\"Cube: {}\".format(num * num * num))\n",
    "\n",
    "def print_square(num):\n",
    "    print(\"Square: {}\".format(num * num))\n",
    "    \n",
    "if __name__ == \"__main__\":\n",
    "    p1 = multiprocessing.Process(target=print_square, args=(10, ))\n",
    "    p2 = multiprocessing.Process(target=print_cube, args=(10, ))\n",
    "  \n",
    "    p1.start()\n",
    "    p2.start()\n",
    "  \n",
    "    p1.join()\n",
    "    p2.join()\n",
    "  \n",
    "    print(\"Done!\")\n"
   ]
  },
  {
   "cell_type": "code",
   "execution_count": null,
   "id": "a11e95e8-aff9-4ec7-ba3b-fb737e7f61c0",
   "metadata": {},
   "outputs": [],
   "source": [
    "Q4. What is a multiprocessing pool in python? Why is it used?\n",
    "-------\n",
    "Python multiprocessing Pool can be used for parallel execution of a function across multiple input values, distributing the input data across processes.\n",
    "The pool.map() takes the function that we want parallelize and an iterable as the arguments.\n",
    "\n",
    "Multiprocessing pool is used to support data parallelism.\n",
    "The pool allows us to do multiple jobs per process."
   ]
  },
  {
   "cell_type": "code",
   "execution_count": 5,
   "id": "c2d5dbd3-e39d-4c54-8f57-46967949dc4e",
   "metadata": {},
   "outputs": [
    {
     "name": "stdout",
     "output_type": "stream",
     "text": [
      "[1, 4, 9]\n"
     ]
    }
   ],
   "source": [
    "''' Q5. How can we create a pool of worker processes in python using the multiprocessing module?\n",
    "------\n",
    "Pool object which offers a convenient means of parallelizing the execution of a function across multiple input values, distributing the input data across processes.\n",
    "'''\n",
    "from multiprocessing import Pool\n",
    "\n",
    "def f(x):\n",
    "    return x*x\n",
    "\n",
    "if __name__ == '__main__':\n",
    "    with Pool(5) as p:\n",
    "        print(p.map(f, [1, 2, 3]))\n",
    "\n"
   ]
  },
  {
   "cell_type": "code",
   "execution_count": 6,
   "id": "d4d8c0fb-6beb-44cd-9eb3-1b1fcf93b7d0",
   "metadata": {},
   "outputs": [
    {
     "name": "stdout",
     "output_type": "stream",
     "text": [
      "First number is 5 \n",
      "Second number is 10\n",
      "Third number is 15 \n",
      "Fourth number is 20\n",
      "Done!\n"
     ]
    }
   ],
   "source": [
    "'''Q6. Write a python program to create 4 processes, each process should print a different number using the \n",
    "multiprocessing module in python.\n",
    "------'''\n",
    "\n",
    "import multiprocessing\n",
    "  \n",
    "def firstProcess(num1):\n",
    "    print(\"First number is {} \".format(num1))\n",
    "\n",
    "def secondProcess(num2):\n",
    "    print(\"Second number is {}\".format(num2))\n",
    "    \n",
    "def thirdProcess(num3):\n",
    "    print(\"Third number is {} \".format(num3))\n",
    "\n",
    "def fourthProcess(num4):\n",
    "    print(\"Fourth number is {}\".format(num4))\n",
    "    \n",
    "if __name__ == \"__main__\":\n",
    "    p1 = multiprocessing.Process(target=firstProcess, args=(5, ))\n",
    "    p2 = multiprocessing.Process(target=secondProcess, args=(10, ))\n",
    "    p3 = multiprocessing.Process(target=thirdProcess, args=(15, ))\n",
    "    p4 = multiprocessing.Process(target=fourthProcess, args=(20, ))\n",
    "  \n",
    "    p1.start()\n",
    "    p2.start()\n",
    "    p3.start()\n",
    "    p4.start()\n",
    "  \n",
    "    p1.join()\n",
    "    p2.join()\n",
    "    p3.join()\n",
    "    p4.join()\n",
    "  \n",
    "    print(\"Done!\")"
   ]
  }
 ],
 "metadata": {
  "kernelspec": {
   "display_name": "Python 3 (ipykernel)",
   "language": "python",
   "name": "python3"
  },
  "language_info": {
   "codemirror_mode": {
    "name": "ipython",
    "version": 3
   },
   "file_extension": ".py",
   "mimetype": "text/x-python",
   "name": "python",
   "nbconvert_exporter": "python",
   "pygments_lexer": "ipython3",
   "version": "3.10.8"
  }
 },
 "nbformat": 4,
 "nbformat_minor": 5
}
