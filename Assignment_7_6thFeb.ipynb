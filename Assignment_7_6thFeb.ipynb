{
 "cells": [
  {
   "cell_type": "code",
   "execution_count": 32,
   "id": "a0129482-e08f-4453-a91c-14957e3b14aa",
   "metadata": {},
   "outputs": [
    {
     "name": "stdout",
     "output_type": "stream",
     "text": [
      "[1, 2, 3, 4, 44, 55, 66, 34, 56, 78, 89, 34, 1, 2, 3, 1, 4, 34, 55, 67, 78, 89, 45, 22, 61, 34, 56]\n"
     ]
    },
    {
     "data": {
      "text/plain": [
       "4134711838987085478833841242112000"
      ]
     },
     "execution_count": 32,
     "metadata": {},
     "output_type": "execute_result"
    }
   ],
   "source": [
    "''' Q1. Create a function which will take a list as an argument and return the product of all the numbers\n",
    "after creating a flat list.\n",
    "Use the below-given list as an argument for your function.\n",
    "list1 = [1,2,3,4, [44,55,66, True], False, (34,56,78,89,34), {1,2,3,3,2,1}, {1:34, \"key2\": [55, 67, 78, 89], 4: (45,\n",
    "22, 61, 34)}, [56, 'data science'], 'Machine Learning']\n",
    "Note: you must extract numeric keys and values of the dictionary also.\n",
    "\n",
    "\n",
    "--------- '''\n",
    "\n",
    "list1 = [1,2,3,4, [44,55,66, True], False, (34,56,78,89,34), {1,2,3,3,2,1}, {1:34, \"key2\": [55, 67, 78, 89], 4: (45,\n",
    "22, 61, 34)}, [56, 'data science'], 'Machine Learning']\n",
    "\n",
    "def func():\n",
    "    l = []\n",
    "    for i in list1:\n",
    "        if type(i) == int:\n",
    "            l.append(i)\n",
    "        elif type(i) == list or type(i) == tuple or type(i) == set:\n",
    "            for ele in i:\n",
    "                if type(ele) == int:\n",
    "                    l.append(ele)\n",
    "        elif type(i) == dict:\n",
    "            n = list(i.keys())\n",
    "            for j in n:\n",
    "                if type(j) == int:\n",
    "                    l.append(j)\n",
    "            \n",
    "            m = list(i.values())\n",
    "            for k in m:\n",
    "                if type(k) == int:\n",
    "                    l.append(k)\n",
    "                elif type(k) == list or type(k) == tuple:\n",
    "                    for ele1 in k:\n",
    "                        if type(ele1) == int:\n",
    "                            l.append(ele1)\n",
    "    \n",
    "    print(l)\n",
    "    \n",
    "    result = 1\n",
    "    for ele in l:\n",
    "        result = result*ele\n",
    "    return result\n",
    "\n",
    "func()"
   ]
  },
  {
   "cell_type": "code",
   "execution_count": 80,
   "id": "eb16eb11-9d84-4efa-abb2-b0356ae5c479",
   "metadata": {},
   "outputs": [
    {
     "name": "stdout",
     "output_type": "stream",
     "text": [
      "Initial String is :: i want to become a data scientist.\n",
      "Encrypted string is ::  r$dzmg$gl$yvxlnv$z$wzgz$hxrvmgrhg.\n"
     ]
    }
   ],
   "source": [
    "''' Q2. Write a python program for encrypting a message sent to you by your friend. The logic of encryption\n",
    "should be such that, for a the output should be z. For b, the output should be y. For c, the output should\n",
    "be x respectively. Also, the whitespace should be replaced with a dollar sign. Keep the punctuation\n",
    "marks unchanged.\n",
    "Input Sentence: I want to become a Data Scientist.\n",
    "Encrypt the above input sentence using the program you just created.\n",
    "Note: Convert the given input sentence into lowercase before encrypting. The final output should be\n",
    "lowercase.\n",
    "\n",
    "-------- '''\n",
    "\n",
    "str1 = \"I want to become a Data Scientist.\"\n",
    "str2 = str1.lower()\n",
    "print(\"Initial String is ::\",str2)\n",
    "\n",
    "dict1 = {\"a\": \"z\", \"b\": \"y\", \"c\": \"x\", \"d\": \"w\", \"e\": \"v\" ,\"f\":\"u\" , \"g\":\"t\" , \"h\":\"s\", \"i\":\"r\" , \n",
    "        \"j\":\"q\", \"k\":\"p\", \"l\":\"o\" , \"m\":\"n\" , \"n\":\"m\" , \"o\":\"l\" , \"p\":\"k\" , \"q\":\"j\" , \"r\":\"i\" ,\n",
    "        \"s\":\"h\" , \"t\":\"g\", \"u\":\"f\", \"v\":\"e\" , \"w\":\"d\" , \"x\":\"c\", \"y\":\"b\" , \"z\":\"a\", \" \":\"$\", \".\":\".\"}\n",
    "\n",
    "str3 = \"\"\n",
    "for ele in str2:\n",
    "    value = dict1[ele]\n",
    "    str3 = str3+value\n",
    "    \n",
    "print(\"Encrypted string is :: \",str3)"
   ]
  }
 ],
 "metadata": {
  "kernelspec": {
   "display_name": "Python 3 (ipykernel)",
   "language": "python",
   "name": "python3"
  },
  "language_info": {
   "codemirror_mode": {
    "name": "ipython",
    "version": 3
   },
   "file_extension": ".py",
   "mimetype": "text/x-python",
   "name": "python",
   "nbconvert_exporter": "python",
   "pygments_lexer": "ipython3",
   "version": "3.10.8"
  }
 },
 "nbformat": 4,
 "nbformat_minor": 5
}
