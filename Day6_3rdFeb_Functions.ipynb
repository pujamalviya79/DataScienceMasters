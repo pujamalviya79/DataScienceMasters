{
 "cells": [
  {
   "cell_type": "markdown",
   "id": "0a483f30-e822-4be3-ae14-67cf0c673ae7",
   "metadata": {},
   "source": [
    "## Functions"
   ]
  },
  {
   "cell_type": "code",
   "execution_count": 1,
   "id": "cac915a4-5896-49d3-b60d-0a659db4f0de",
   "metadata": {},
   "outputs": [
    {
     "ename": "SyntaxError",
     "evalue": "incomplete input (2690612609.py, line 2)",
     "output_type": "error",
     "traceback": [
      "\u001b[0;36m  Cell \u001b[0;32mIn[1], line 2\u001b[0;36m\u001b[0m\n\u001b[0;31m    \u001b[0m\n\u001b[0m    ^\u001b[0m\n\u001b[0;31mSyntaxError\u001b[0m\u001b[0;31m:\u001b[0m incomplete input\n"
     ]
    }
   ],
   "source": [
    "def test():\n",
    "    "
   ]
  },
  {
   "cell_type": "code",
   "execution_count": null,
   "id": "717e223f-ee71-491e-a4da-ce83045c9bc7",
   "metadata": {},
   "outputs": [],
   "source": [
    "## function definition is not given above"
   ]
  },
  {
   "cell_type": "code",
   "execution_count": 2,
   "id": "2c1ef09e-40b7-4b83-9044-820d3e9a3868",
   "metadata": {},
   "outputs": [],
   "source": [
    "def test():\n",
    "    pass"
   ]
  },
  {
   "cell_type": "code",
   "execution_count": 3,
   "id": "e0ea5d50-342b-4f18-9dae-d297f4b80628",
   "metadata": {},
   "outputs": [],
   "source": [
    "def test1():\n",
    "    print(\"This is my first function\")"
   ]
  },
  {
   "cell_type": "code",
   "execution_count": 4,
   "id": "28388ae9-fc40-4b3d-a6bb-d6762899881d",
   "metadata": {},
   "outputs": [
    {
     "name": "stdout",
     "output_type": "stream",
     "text": [
      "This is my first function\n"
     ]
    }
   ],
   "source": [
    "test1()"
   ]
  },
  {
   "cell_type": "code",
   "execution_count": null,
   "id": "cf7b0cc6-5c32-4a24-bed7-7e6481ed2aca",
   "metadata": {},
   "outputs": [],
   "source": [
    "## advantage of function\n",
    "### increases reusability\n",
    "### increases modularity"
   ]
  },
  {
   "cell_type": "code",
   "execution_count": 5,
   "id": "9d0e47b1-1818-40ae-b501-0309b05c7c6d",
   "metadata": {},
   "outputs": [
    {
     "name": "stdout",
     "output_type": "stream",
     "text": [
      "This is my first function\n"
     ]
    },
    {
     "ename": "TypeError",
     "evalue": "unsupported operand type(s) for +: 'NoneType' and 'str'",
     "output_type": "error",
     "traceback": [
      "\u001b[0;31m---------------------------------------------------------------------------\u001b[0m",
      "\u001b[0;31mTypeError\u001b[0m                                 Traceback (most recent call last)",
      "Cell \u001b[0;32mIn[5], line 1\u001b[0m\n\u001b[0;32m----> 1\u001b[0m \u001b[43mtest1\u001b[49m\u001b[43m(\u001b[49m\u001b[43m)\u001b[49m\u001b[38;5;241;43m+\u001b[39;49m\u001b[38;5;124;43m\"\u001b[39;49m\u001b[38;5;124;43m Test\u001b[39;49m\u001b[38;5;124;43m\"\u001b[39;49m\n",
      "\u001b[0;31mTypeError\u001b[0m: unsupported operand type(s) for +: 'NoneType' and 'str'"
     ]
    }
   ],
   "source": [
    "test1()+\" Test\""
   ]
  },
  {
   "cell_type": "code",
   "execution_count": null,
   "id": "dd6c65bb-540c-44d0-8b99-77bc2f38f700",
   "metadata": {},
   "outputs": [],
   "source": [
    "## Above operation is not possible becoz test1() function has return type NoneType\n",
    "## NoneType can not be concatenated with str\n",
    "## test1() has only print statement and print statement has NoneType as return type\n",
    "## with print function we cannot get any primitive type return"
   ]
  },
  {
   "cell_type": "code",
   "execution_count": 6,
   "id": "d49876f2-e1f3-4daa-94bb-c29e3f1bcc27",
   "metadata": {},
   "outputs": [],
   "source": [
    "def test2():\n",
    "    return \"This is my function with return\""
   ]
  },
  {
   "cell_type": "code",
   "execution_count": 8,
   "id": "19f77c7a-27f9-423d-bb00-5aeccf2c6043",
   "metadata": {},
   "outputs": [
    {
     "data": {
      "text/plain": [
       "'This is my function with return Test'"
      ]
     },
     "execution_count": 8,
     "metadata": {},
     "output_type": "execute_result"
    }
   ],
   "source": [
    "test2()+ \" Test\""
   ]
  },
  {
   "cell_type": "code",
   "execution_count": 9,
   "id": "0fb08540-0dac-424f-8b97-da1b556d5f6b",
   "metadata": {},
   "outputs": [],
   "source": [
    "def test3():\n",
    "    return 1,2,4,\"pwskills\",2.5"
   ]
  },
  {
   "cell_type": "code",
   "execution_count": 11,
   "id": "12ba4278-d298-4615-b82f-645b6a481361",
   "metadata": {},
   "outputs": [
    {
     "data": {
      "text/plain": [
       "(1, 2, 4, 'pwskills', 2.5)"
      ]
     },
     "execution_count": 11,
     "metadata": {},
     "output_type": "execute_result"
    }
   ],
   "source": [
    "## it is possible to get multiple returns from a single function\n",
    "test3()"
   ]
  },
  {
   "cell_type": "code",
   "execution_count": 12,
   "id": "f73b323d-d478-457d-b029-f2dd03c8a8f0",
   "metadata": {},
   "outputs": [],
   "source": [
    "a,b,c,d=1,2,3.6,True"
   ]
  },
  {
   "cell_type": "code",
   "execution_count": 13,
   "id": "b044997d-8674-433f-b377-98b6b91b826d",
   "metadata": {},
   "outputs": [
    {
     "data": {
      "text/plain": [
       "1"
      ]
     },
     "execution_count": 13,
     "metadata": {},
     "output_type": "execute_result"
    }
   ],
   "source": [
    "a"
   ]
  },
  {
   "cell_type": "code",
   "execution_count": 14,
   "id": "5d136896-8376-4023-91af-0c9192588fdd",
   "metadata": {},
   "outputs": [
    {
     "data": {
      "text/plain": [
       "2"
      ]
     },
     "execution_count": 14,
     "metadata": {},
     "output_type": "execute_result"
    }
   ],
   "source": [
    "b"
   ]
  },
  {
   "cell_type": "code",
   "execution_count": 15,
   "id": "34177533-2d51-460d-9640-acfd93d214e4",
   "metadata": {},
   "outputs": [
    {
     "data": {
      "text/plain": [
       "3.6"
      ]
     },
     "execution_count": 15,
     "metadata": {},
     "output_type": "execute_result"
    }
   ],
   "source": [
    "c"
   ]
  },
  {
   "cell_type": "code",
   "execution_count": 16,
   "id": "ba5c0eb6-6a0c-49c4-ad2c-1a4be3428476",
   "metadata": {},
   "outputs": [
    {
     "data": {
      "text/plain": [
       "True"
      ]
     },
     "execution_count": 16,
     "metadata": {},
     "output_type": "execute_result"
    }
   ],
   "source": [
    "d"
   ]
  },
  {
   "cell_type": "code",
   "execution_count": 18,
   "id": "c333721b-e963-4e82-a602-9ac4d6e6128a",
   "metadata": {},
   "outputs": [
    {
     "data": {
      "text/plain": [
       "(1, 2, 4, 'pwskills', 2.5)"
      ]
     },
     "execution_count": 18,
     "metadata": {},
     "output_type": "execute_result"
    }
   ],
   "source": [
    "## it will return values in a tuple\n",
    "test3()"
   ]
  },
  {
   "cell_type": "code",
   "execution_count": 19,
   "id": "cd810fbe-cea6-4bb3-b35d-7b0f38a34530",
   "metadata": {},
   "outputs": [
    {
     "data": {
      "text/plain": [
       "1"
      ]
     },
     "execution_count": 19,
     "metadata": {},
     "output_type": "execute_result"
    }
   ],
   "source": [
    "test3()[0]"
   ]
  },
  {
   "cell_type": "code",
   "execution_count": 20,
   "id": "e650368d-3514-4d91-bccb-35e5da44f5e5",
   "metadata": {},
   "outputs": [
    {
     "data": {
      "text/plain": [
       "2.5"
      ]
     },
     "execution_count": 20,
     "metadata": {},
     "output_type": "execute_result"
    }
   ],
   "source": [
    "test3()[4]"
   ]
  },
  {
   "cell_type": "code",
   "execution_count": 22,
   "id": "a679551c-c58c-4aee-bcf2-3b6585a3392a",
   "metadata": {},
   "outputs": [],
   "source": [
    "a,b,c,d,e=test3()"
   ]
  },
  {
   "cell_type": "code",
   "execution_count": 23,
   "id": "3d2834ea-5ed7-4b67-bb5c-061f281e8f5a",
   "metadata": {},
   "outputs": [
    {
     "data": {
      "text/plain": [
       "1"
      ]
     },
     "execution_count": 23,
     "metadata": {},
     "output_type": "execute_result"
    }
   ],
   "source": [
    "a"
   ]
  },
  {
   "cell_type": "code",
   "execution_count": 24,
   "id": "bc042b86-d0b1-4a26-af4f-bb1fe31bc92c",
   "metadata": {},
   "outputs": [
    {
     "data": {
      "text/plain": [
       "2"
      ]
     },
     "execution_count": 24,
     "metadata": {},
     "output_type": "execute_result"
    }
   ],
   "source": [
    "b"
   ]
  },
  {
   "cell_type": "code",
   "execution_count": 25,
   "id": "bdf31f1f-8b9f-44a2-b3eb-c2ef78dca975",
   "metadata": {},
   "outputs": [
    {
     "data": {
      "text/plain": [
       "4"
      ]
     },
     "execution_count": 25,
     "metadata": {},
     "output_type": "execute_result"
    }
   ],
   "source": [
    "c"
   ]
  },
  {
   "cell_type": "code",
   "execution_count": 26,
   "id": "1cce387e-044d-4df5-b6f1-5bbc68b0fef0",
   "metadata": {},
   "outputs": [
    {
     "data": {
      "text/plain": [
       "'pwskills'"
      ]
     },
     "execution_count": 26,
     "metadata": {},
     "output_type": "execute_result"
    }
   ],
   "source": [
    "d"
   ]
  },
  {
   "cell_type": "code",
   "execution_count": 27,
   "id": "c61cd07e-fb68-4159-b50a-649cf1efc4de",
   "metadata": {},
   "outputs": [
    {
     "data": {
      "text/plain": [
       "2.5"
      ]
     },
     "execution_count": 27,
     "metadata": {},
     "output_type": "execute_result"
    }
   ],
   "source": [
    "e"
   ]
  },
  {
   "cell_type": "code",
   "execution_count": 28,
   "id": "923a58bf-2bbd-4f08-9b94-6881596ed200",
   "metadata": {},
   "outputs": [],
   "source": [
    "def test4():\n",
    "    a = 3*4+5\n",
    "    return a"
   ]
  },
  {
   "cell_type": "code",
   "execution_count": 29,
   "id": "550b25b4-38b1-46a9-83db-47f1b70f887c",
   "metadata": {},
   "outputs": [
    {
     "data": {
      "text/plain": [
       "17"
      ]
     },
     "execution_count": 29,
     "metadata": {},
     "output_type": "execute_result"
    }
   ],
   "source": [
    "test4()"
   ]
  },
  {
   "cell_type": "code",
   "execution_count": 30,
   "id": "e8e8868b-7106-47e2-89c5-8da50dba0291",
   "metadata": {},
   "outputs": [
    {
     "data": {
      "text/plain": [
       "int"
      ]
     },
     "execution_count": 30,
     "metadata": {},
     "output_type": "execute_result"
    }
   ],
   "source": [
    "type(test4())"
   ]
  },
  {
   "cell_type": "code",
   "execution_count": 32,
   "id": "76d388a4-269f-4c1c-9191-7db5d94e4ddd",
   "metadata": {},
   "outputs": [],
   "source": [
    "def test5(a,b):\n",
    "    c = a + b\n",
    "    return c"
   ]
  },
  {
   "cell_type": "code",
   "execution_count": 33,
   "id": "123c0ac1-1e3b-46e2-916a-6f5e9e9fe82a",
   "metadata": {},
   "outputs": [
    {
     "data": {
      "text/plain": [
       "3"
      ]
     },
     "execution_count": 33,
     "metadata": {},
     "output_type": "execute_result"
    }
   ],
   "source": [
    "test5(1,2)"
   ]
  },
  {
   "cell_type": "code",
   "execution_count": 34,
   "id": "906e4cea-535c-4801-bb34-5078e4c92d24",
   "metadata": {},
   "outputs": [
    {
     "data": {
      "text/plain": [
       "'abcxyz'"
      ]
     },
     "execution_count": 34,
     "metadata": {},
     "output_type": "execute_result"
    }
   ],
   "source": [
    "test5(\"abc\",\"xyz\")"
   ]
  },
  {
   "cell_type": "code",
   "execution_count": 35,
   "id": "ed531ee2-1d42-4936-b19f-0bb4e475fdd9",
   "metadata": {},
   "outputs": [
    {
     "ename": "TypeError",
     "evalue": "can only concatenate str (not \"int\") to str",
     "output_type": "error",
     "traceback": [
      "\u001b[0;31m---------------------------------------------------------------------------\u001b[0m",
      "\u001b[0;31mTypeError\u001b[0m                                 Traceback (most recent call last)",
      "Cell \u001b[0;32mIn[35], line 1\u001b[0m\n\u001b[0;32m----> 1\u001b[0m \u001b[43mtest5\u001b[49m\u001b[43m(\u001b[49m\u001b[38;5;124;43m\"\u001b[39;49m\u001b[38;5;124;43mabc\u001b[39;49m\u001b[38;5;124;43m\"\u001b[39;49m\u001b[43m,\u001b[49m\u001b[38;5;241;43m7\u001b[39;49m\u001b[43m)\u001b[49m\n",
      "Cell \u001b[0;32mIn[32], line 2\u001b[0m, in \u001b[0;36mtest5\u001b[0;34m(a, b)\u001b[0m\n\u001b[1;32m      1\u001b[0m \u001b[38;5;28;01mdef\u001b[39;00m \u001b[38;5;21mtest5\u001b[39m(a,b):\n\u001b[0;32m----> 2\u001b[0m     c \u001b[38;5;241m=\u001b[39m \u001b[43ma\u001b[49m\u001b[43m \u001b[49m\u001b[38;5;241;43m+\u001b[39;49m\u001b[43m \u001b[49m\u001b[43mb\u001b[49m\n\u001b[1;32m      3\u001b[0m     \u001b[38;5;28;01mreturn\u001b[39;00m c\n",
      "\u001b[0;31mTypeError\u001b[0m: can only concatenate str (not \"int\") to str"
     ]
    }
   ],
   "source": [
    "test5(\"abc\",7)"
   ]
  },
  {
   "cell_type": "code",
   "execution_count": 36,
   "id": "b9304f8b-7dd3-42dc-b078-afe773106075",
   "metadata": {},
   "outputs": [
    {
     "data": {
      "text/plain": [
       "[1, 2, 3, 4, 'a', 'b', 5, 6]"
      ]
     },
     "execution_count": 36,
     "metadata": {},
     "output_type": "execute_result"
    }
   ],
   "source": [
    "test5([1,2,3,4],['a','b',5,6])"
   ]
  },
  {
   "cell_type": "code",
   "execution_count": 37,
   "id": "c246195e-6537-4843-baf7-786d49abf21a",
   "metadata": {},
   "outputs": [
    {
     "data": {
      "text/plain": [
       "'firstsecond'"
      ]
     },
     "execution_count": 37,
     "metadata": {},
     "output_type": "execute_result"
    }
   ],
   "source": [
    "test5(b=\"second\",a=\"first\")"
   ]
  },
  {
   "cell_type": "code",
   "execution_count": 48,
   "id": "34f1a171-f029-48e2-9ae7-eb51fc4308eb",
   "metadata": {},
   "outputs": [],
   "source": [
    "l = [1,2,3,4,5,\"abc\",\"xyz\",[2,3,5,6]]"
   ]
  },
  {
   "cell_type": "code",
   "execution_count": 41,
   "id": "3dda21a2-b628-4460-9d44-0b60ce01bb82",
   "metadata": {},
   "outputs": [],
   "source": [
    "## create a function which will take list as an input and give me final list with all the numeric value\n",
    "\n",
    "def test6(lst):\n",
    "    n = []\n",
    "    for i in lst:\n",
    "        if type(i) == int or type(i) == float:\n",
    "            n.append(i)\n",
    "    return n"
   ]
  },
  {
   "cell_type": "code",
   "execution_count": 42,
   "id": "06449077-60be-43db-b687-e8462e6d4191",
   "metadata": {},
   "outputs": [
    {
     "data": {
      "text/plain": [
       "[1, 2, 3, 4, 5]"
      ]
     },
     "execution_count": 42,
     "metadata": {},
     "output_type": "execute_result"
    }
   ],
   "source": [
    "test6(l)"
   ]
  },
  {
   "cell_type": "code",
   "execution_count": 43,
   "id": "61f680af-8aa9-4c9c-92ab-44110af9ee5b",
   "metadata": {},
   "outputs": [],
   "source": [
    "def test7(lst):\n",
    "    n = []\n",
    "    for i in lst:\n",
    "        if type(i) == int or type(i) == float:\n",
    "            n.append(i)\n",
    "        elif type(i) == list:\n",
    "            for j in i:\n",
    "                if type(j) == int or type(j) == float:\n",
    "                    n.append(j)\n",
    "    return n"
   ]
  },
  {
   "cell_type": "code",
   "execution_count": 45,
   "id": "938ab2d2-2f64-42a6-bd1a-87a13ae3ceb7",
   "metadata": {},
   "outputs": [
    {
     "data": {
      "text/plain": [
       "[1, 2, 3, 4, 5, 2, 3, 5, 6]"
      ]
     },
     "execution_count": 45,
     "metadata": {},
     "output_type": "execute_result"
    }
   ],
   "source": [
    "test7(l)"
   ]
  },
  {
   "cell_type": "code",
   "execution_count": 51,
   "id": "90b68024-8312-4f11-b788-696c360b0814",
   "metadata": {},
   "outputs": [],
   "source": [
    "def test7(lst):\n",
    "    n=[]\n",
    "    for i in lst:\n",
    "        if type(i)==list:\n",
    "            for j in i:\n",
    "                if type(j) == int or type(j)==float:\n",
    "                    n.append(j)\n",
    "        else:\n",
    "            if type(i) == int or type(i) == float:\n",
    "                n.append(i)\n",
    "    return n"
   ]
  },
  {
   "cell_type": "code",
   "execution_count": 52,
   "id": "b972af34-5185-488e-9377-936a56446798",
   "metadata": {},
   "outputs": [
    {
     "data": {
      "text/plain": [
       "[1, 2, 3, 4, 5, 2, 3, 5, 6]"
      ]
     },
     "execution_count": 52,
     "metadata": {},
     "output_type": "execute_result"
    }
   ],
   "source": [
    "test7(l)"
   ]
  },
  {
   "cell_type": "code",
   "execution_count": 62,
   "id": "3f96ae2d-3481-4949-81c0-6c1443705972",
   "metadata": {},
   "outputs": [],
   "source": [
    "def test8(a,b,c,d,e):\n",
    "    pass\n",
    "\n",
    "## when we dont know how many arguments this function can take, then we can use *\n",
    "\n",
    "def test9(*args):\n",
    "    return args"
   ]
  },
  {
   "cell_type": "code",
   "execution_count": 58,
   "id": "af036ac4-e17b-406b-849c-c4770361782c",
   "metadata": {},
   "outputs": [
    {
     "data": {
      "text/plain": [
       "(1, 2)"
      ]
     },
     "execution_count": 58,
     "metadata": {},
     "output_type": "execute_result"
    }
   ],
   "source": [
    "test9(1,2)"
   ]
  },
  {
   "cell_type": "code",
   "execution_count": 59,
   "id": "4071d3ce-d18e-47e9-b514-04a5d2ac80c5",
   "metadata": {},
   "outputs": [
    {
     "data": {
      "text/plain": [
       "(1, 2, 3, 'abc', (1, 2, 3))"
      ]
     },
     "execution_count": 59,
     "metadata": {},
     "output_type": "execute_result"
    }
   ],
   "source": [
    "test9(1,2,3,\"abc\",(1,2,3))"
   ]
  },
  {
   "cell_type": "code",
   "execution_count": 60,
   "id": "13ac432d-5af6-4bae-9648-46074e60b008",
   "metadata": {},
   "outputs": [],
   "source": [
    "## args is not a keyword , we can use any name there\n",
    "def test10(*puja):\n",
    "    return puja"
   ]
  },
  {
   "cell_type": "code",
   "execution_count": 61,
   "id": "40a8fa65-e738-4b7b-a3ca-e33a10848254",
   "metadata": {},
   "outputs": [
    {
     "data": {
      "text/plain": [
       "('name', 'name1')"
      ]
     },
     "execution_count": 61,
     "metadata": {},
     "output_type": "execute_result"
    }
   ],
   "source": [
    "test10(\"name\",\"name1\")"
   ]
  },
  {
   "cell_type": "code",
   "execution_count": 63,
   "id": "111102d9-da29-4f45-874f-b42a552e49a0",
   "metadata": {},
   "outputs": [],
   "source": [
    "def test11(*args,a):\n",
    "    return args,a"
   ]
  },
  {
   "cell_type": "code",
   "execution_count": 64,
   "id": "d989638e-6dd9-4380-8fe0-3a6eaf752ad8",
   "metadata": {},
   "outputs": [
    {
     "ename": "TypeError",
     "evalue": "test11() missing 1 required keyword-only argument: 'a'",
     "output_type": "error",
     "traceback": [
      "\u001b[0;31m---------------------------------------------------------------------------\u001b[0m",
      "\u001b[0;31mTypeError\u001b[0m                                 Traceback (most recent call last)",
      "Cell \u001b[0;32mIn[64], line 1\u001b[0m\n\u001b[0;32m----> 1\u001b[0m \u001b[43mtest11\u001b[49m\u001b[43m(\u001b[49m\u001b[38;5;241;43m3\u001b[39;49m\u001b[43m)\u001b[49m\n",
      "\u001b[0;31mTypeError\u001b[0m: test11() missing 1 required keyword-only argument: 'a'"
     ]
    }
   ],
   "source": [
    "test11(3)"
   ]
  },
  {
   "cell_type": "code",
   "execution_count": 65,
   "id": "ee92daa7-151f-42a1-bad6-8974b8b3cc96",
   "metadata": {},
   "outputs": [
    {
     "data": {
      "text/plain": [
       "((1, 2, 3, 4, 5), 7)"
      ]
     },
     "execution_count": 65,
     "metadata": {},
     "output_type": "execute_result"
    }
   ],
   "source": [
    "test11(1,2,3,4,5,a=7)"
   ]
  },
  {
   "cell_type": "code",
   "execution_count": 3,
   "id": "304ccb8c-f003-4041-b1b7-289960fb7cdf",
   "metadata": {},
   "outputs": [],
   "source": [
    "def test12(*args):\n",
    "    l1 = []\n",
    "    for i in args:\n",
    "        if type(i) == list:\n",
    "            l1.append(i)\n",
    "    return l1"
   ]
  },
  {
   "cell_type": "code",
   "execution_count": 4,
   "id": "b97b9db0-3fc9-47dd-8561-b4d1ec7b5bc8",
   "metadata": {},
   "outputs": [
    {
     "data": {
      "text/plain": [
       "[[4, 5], [9, 67]]"
      ]
     },
     "execution_count": 4,
     "metadata": {},
     "output_type": "execute_result"
    }
   ],
   "source": [
    "test12(1,2,3,[4,5],(5,6),'abc',[9,67])"
   ]
  },
  {
   "cell_type": "code",
   "execution_count": 5,
   "id": "4fcc2fc7-f840-4b12-96be-bc719cd459e4",
   "metadata": {},
   "outputs": [],
   "source": [
    "## if we hv to pass n number of key value pair\n",
    "\n",
    "def test13(**kwargs):\n",
    "    return kwargs"
   ]
  },
  {
   "cell_type": "code",
   "execution_count": 7,
   "id": "99a9ce43-c774-4d78-b345-f9e2403f831e",
   "metadata": {},
   "outputs": [
    {
     "data": {
      "text/plain": [
       "{}"
      ]
     },
     "execution_count": 7,
     "metadata": {},
     "output_type": "execute_result"
    }
   ],
   "source": [
    "test13()"
   ]
  },
  {
   "cell_type": "code",
   "execution_count": 8,
   "id": "f5fa7ca0-6a2c-4559-b438-753fc3e50ace",
   "metadata": {},
   "outputs": [
    {
     "data": {
      "text/plain": [
       "{'a': 34, 'b': 67, 'c': 'abc', 'd': ('xyz', 'pqr')}"
      ]
     },
     "execution_count": 8,
     "metadata": {},
     "output_type": "execute_result"
    }
   ],
   "source": [
    "test13(a=34,b=67,c='abc',d=('xyz','pqr'))"
   ]
  },
  {
   "cell_type": "code",
   "execution_count": 13,
   "id": "0fb3d699-0c0a-4353-8817-1e8010101d73",
   "metadata": {},
   "outputs": [],
   "source": [
    "def test14(**kwargs):\n",
    "    for i in kwargs.keys():\n",
    "        if type(kwargs[i]) == list:\n",
    "            return i,kwargs[i]"
   ]
  },
  {
   "cell_type": "code",
   "execution_count": 15,
   "id": "0936bc5d-165f-4c18-ac43-832d9c9616da",
   "metadata": {},
   "outputs": [
    {
     "data": {
      "text/plain": [
       "('e', [1, 4, 6])"
      ]
     },
     "execution_count": 15,
     "metadata": {},
     "output_type": "execute_result"
    }
   ],
   "source": [
    "test14(a=34,b=67,c='abc',d=('xyz','pqr'),e=[1,4,6])"
   ]
  },
  {
   "cell_type": "code",
   "execution_count": 19,
   "id": "c66d4b8a-25e5-4e84-9f7e-720f7f423a00",
   "metadata": {},
   "outputs": [],
   "source": [
    "## can pass n number of data along with n number of key value pair\n",
    "def test15(*args, **kwargs):\n",
    "    return args,kwargs"
   ]
  },
  {
   "cell_type": "code",
   "execution_count": 18,
   "id": "d9fb4f10-5b29-4f94-9d4d-5ca768a4ae71",
   "metadata": {},
   "outputs": [
    {
     "data": {
      "text/plain": [
       "((2, 3, 4, 5, 'abc'), {'a': 67, 'b': 57})"
      ]
     },
     "execution_count": 18,
     "metadata": {},
     "output_type": "execute_result"
    }
   ],
   "source": [
    "test15(2,3,4,5,'abc',a=67,b=57)"
   ]
  },
  {
   "cell_type": "markdown",
   "id": "466f5c34-3887-4cf0-8263-834280f9cf58",
   "metadata": {},
   "source": [
    "## Generator Functions"
   ]
  },
  {
   "cell_type": "code",
   "execution_count": 1,
   "id": "2bf34015-d8b0-479c-b74a-c9d05fe80084",
   "metadata": {},
   "outputs": [
    {
     "data": {
      "text/plain": [
       "range(1, 10)"
      ]
     },
     "execution_count": 1,
     "metadata": {},
     "output_type": "execute_result"
    }
   ],
   "source": [
    "range(1,10)"
   ]
  },
  {
   "cell_type": "code",
   "execution_count": 2,
   "id": "4dd17eaf-1a68-4985-94ab-502625f774a7",
   "metadata": {},
   "outputs": [
    {
     "name": "stdout",
     "output_type": "stream",
     "text": [
      "1\n",
      "2\n",
      "3\n",
      "4\n",
      "5\n",
      "6\n",
      "7\n",
      "8\n",
      "9\n"
     ]
    }
   ],
   "source": [
    "for i in range(1,10):\n",
    "    print(i)"
   ]
  },
  {
   "cell_type": "code",
   "execution_count": 6,
   "id": "d3177d91-9705-4f8e-8db3-27e8f15f7787",
   "metadata": {},
   "outputs": [],
   "source": [
    "l = [1,2,3,4,5,6,7,8,9,7,8,9,\"abc\",\"pwskills\"]"
   ]
  },
  {
   "cell_type": "code",
   "execution_count": 4,
   "id": "6664e96e-f28d-46a7-9b13-54b291b30608",
   "metadata": {},
   "outputs": [],
   "source": [
    "def test16(lst):\n",
    "    n = []\n",
    "    for i in lst:\n",
    "        if type(i)==int:\n",
    "            n.append(i)\n",
    "    return n"
   ]
  },
  {
   "cell_type": "code",
   "execution_count": 7,
   "id": "1bf46f92-87a8-4d0b-9456-64234806659b",
   "metadata": {},
   "outputs": [
    {
     "data": {
      "text/plain": [
       "[1, 2, 3, 4, 5, 6, 7, 8, 9, 7, 8, 9]"
      ]
     },
     "execution_count": 7,
     "metadata": {},
     "output_type": "execute_result"
    }
   ],
   "source": [
    "test16(l)"
   ]
  },
  {
   "cell_type": "code",
   "execution_count": null,
   "id": "60e0701c-f02b-4d65-ac4a-749ccb2044fd",
   "metadata": {},
   "outputs": [],
   "source": [
    "## yield is used to create generator function"
   ]
  },
  {
   "cell_type": "code",
   "execution_count": 15,
   "id": "107a300f-2b42-48f5-9eae-32e20de3b409",
   "metadata": {},
   "outputs": [],
   "source": [
    "# Fibonacci Series \n",
    "## 0,1,1,2,3,5,8,13,21,34,......\n",
    "\n",
    "def test_fib(n):\n",
    "    a,b=0,1\n",
    "    for i in range(0,n):\n",
    "        yield a\n",
    "        a,b=b,a+b"
   ]
  },
  {
   "cell_type": "code",
   "execution_count": 13,
   "id": "a9fd4a87-e38e-45da-aac7-fef6f6b70c5c",
   "metadata": {},
   "outputs": [
    {
     "data": {
      "text/plain": [
       "<generator object test_fib at 0x7fed4256b0d0>"
      ]
     },
     "execution_count": 13,
     "metadata": {},
     "output_type": "execute_result"
    }
   ],
   "source": [
    "## if we call directly then it will return as a generator function\n",
    "test_fib(10)"
   ]
  },
  {
   "cell_type": "code",
   "execution_count": 14,
   "id": "e8ecb961-0d97-422c-85ea-42ea3791e5be",
   "metadata": {},
   "outputs": [
    {
     "name": "stdout",
     "output_type": "stream",
     "text": [
      "0\n",
      "1\n",
      "1\n",
      "2\n",
      "3\n",
      "5\n",
      "8\n",
      "13\n",
      "21\n",
      "34\n"
     ]
    }
   ],
   "source": [
    "## to get the actual value we have to use the for loop\n",
    "for i in test_fib(10):\n",
    "    print(i)"
   ]
  },
  {
   "cell_type": "code",
   "execution_count": null,
   "id": "0c78e339-c1da-4724-a8d3-9741fccdaae3",
   "metadata": {},
   "outputs": [],
   "source": []
  }
 ],
 "metadata": {
  "kernelspec": {
   "display_name": "Python 3 (ipykernel)",
   "language": "python",
   "name": "python3"
  },
  "language_info": {
   "codemirror_mode": {
    "name": "ipython",
    "version": 3
   },
   "file_extension": ".py",
   "mimetype": "text/x-python",
   "name": "python",
   "nbconvert_exporter": "python",
   "pygments_lexer": "ipython3",
   "version": "3.10.8"
  }
 },
 "nbformat": 4,
 "nbformat_minor": 5
}
