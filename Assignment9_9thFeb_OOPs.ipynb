{
 "cells": [
  {
   "cell_type": "code",
   "execution_count": 1,
   "id": "569adecb-679d-4a78-b28a-10644df2898c",
   "metadata": {},
   "outputs": [],
   "source": [
    "''' Q1, Create a vehicle class with an init method having instance variables as name_of_vehicle, max_speed\n",
    "and average_of_vehicle. '''\n",
    "\n",
    "class vehicle():\n",
    "    \n",
    "    def __init__(self,name_of_vehicle,max_speed, average_of_vehicle):\n",
    "        self.name_of_vehicle = name_of_vehicle\n",
    "        self.max_speed = max_speed\n",
    "        self.average_of_vehicle = average_of_vehicle\n"
   ]
  },
  {
   "cell_type": "code",
   "execution_count": 18,
   "id": "d75dd14c-805a-4ac5-946f-394e3601b457",
   "metadata": {},
   "outputs": [
    {
     "data": {
      "text/plain": [
       "('Innova', '7')"
      ]
     },
     "execution_count": 18,
     "metadata": {},
     "output_type": "execute_result"
    }
   ],
   "source": [
    "''' Q2. Create a child class car from the vehicle class created in Que 1, which will inherit the vehicle class.\n",
    "Create a method named seating_capacity which takes capacity as an argument and returns the name of\n",
    "the vehicle and its seating capacity. '''\n",
    "\n",
    "class car(vehicle):\n",
    "    \n",
    "    def seating_capacity(self,capacity):\n",
    "        return self.name_of_vehicle, capacity\n",
    "    \n",
    "\n",
    "obj_car = car(\"Innova\", \"250\" , \"120\")\n",
    "\n",
    "obj_car.seating_capacity(\"7\")"
   ]
  },
  {
   "cell_type": "code",
   "execution_count": 22,
   "id": "b200b590-e23c-4c5b-878f-9f51e34dcb67",
   "metadata": {},
   "outputs": [
    {
     "name": "stdout",
     "output_type": "stream",
     "text": [
      "This is class 3\n",
      "This is class 2\n",
      "This is class 1\n"
     ]
    }
   ],
   "source": [
    "''' Q3. What is multiple inheritance? Write a python code to demonstrate multiple inheritance.\n",
    "-----\n",
    "When a class is derived from more than one class, the process is known as multiple inheritance. \n",
    "\n",
    "Example: '''\n",
    "    \n",
    "class class1():\n",
    "    \n",
    "    def class1_method(self):\n",
    "        print(\"This is class 1\")\n",
    "        \n",
    "        \n",
    "class class2():\n",
    "    \n",
    "    def class2_method(self):\n",
    "        print(\"This is class 2\")\n",
    "        \n",
    "class class3(class1, class2):\n",
    "    \n",
    "    def class3_method(self):\n",
    "        print(\"This is class 3\")\n",
    "        \n",
    "obj_class3 = class3()\n",
    "\n",
    "obj_class3.class3_method()\n",
    "obj_class3.class2_method()\n",
    "obj_class3.class1_method()"
   ]
  },
  {
   "cell_type": "code",
   "execution_count": 24,
   "id": "2d3ad2ca-a519-4ebd-a54d-a2d1274eed89",
   "metadata": {},
   "outputs": [
    {
     "name": "stdout",
     "output_type": "stream",
     "text": [
      "25\n"
     ]
    }
   ],
   "source": [
    "''' Q4. What are getter and setter in python? Create a class and create a getter and a setter method in this\n",
    "class.\n",
    "\n",
    "-----\n",
    "getters and setters in python are used to avoid direct access of a class, i.e., private variables cannot be accessed or modified directly by an external user.\n",
    "'''\n",
    "\n",
    "class Student():\n",
    "    def __init__(self,age=0):\n",
    "        self.age = age\n",
    "    \n",
    "    ## getter method\n",
    "    def get_age(self):\n",
    "        return self._age\n",
    "    \n",
    "    ## setter method\n",
    "    def set_age(self,x):\n",
    "        self._age = x\n",
    "        \n",
    "rohan = Student()\n",
    "rohan.set_age(\"25\")\n",
    "rohan.get_age()\n",
    "  \n",
    "print(rohan._age)\n"
   ]
  },
  {
   "cell_type": "code",
   "execution_count": 27,
   "id": "4db265d9-225d-489b-b74a-9ba1566adb7d",
   "metadata": {},
   "outputs": [
    {
     "name": "stdout",
     "output_type": "stream",
     "text": [
      "This is parent class\n",
      "This is child class\n"
     ]
    }
   ],
   "source": [
    "''' Q5.What is method overriding in python? Write a python code to demonstrate method overriding.\n",
    "\n",
    "-----\n",
    "Method Overriding -- This is an ability that allows a sub-class to provide a specific implementation of a method that is already provided by one of its super class or parent class.\n",
    "When a method in a sub-class is having same name, same parameters or signature and same return type similar to the method in its super class, then the method in the sub-class is said to override the method in its super class.\n",
    "\n",
    "'''\n",
    "\n",
    "class Parent():\n",
    "    \n",
    "    def __init__(self):\n",
    "        self.value = \"This is parent class\"\n",
    "        \n",
    "    def showValue(self):\n",
    "        print(self.value)\n",
    "        \n",
    "class child(Parent):\n",
    "    \n",
    "    def __init__(self):\n",
    "        self.value = \"This is child class\"\n",
    "        \n",
    "    def showValue(self):\n",
    "        print(self.value)\n",
    "        \n",
    "obj_Parent = Parent()\n",
    "obj_Child = child()\n",
    "\n",
    "obj_Parent.showValue()\n",
    "obj_Child.showValue()"
   ]
  }
 ],
 "metadata": {
  "kernelspec": {
   "display_name": "Python 3 (ipykernel)",
   "language": "python",
   "name": "python3"
  },
  "language_info": {
   "codemirror_mode": {
    "name": "ipython",
    "version": 3
   },
   "file_extension": ".py",
   "mimetype": "text/x-python",
   "name": "python",
   "nbconvert_exporter": "python",
   "pygments_lexer": "ipython3",
   "version": "3.10.8"
  }
 },
 "nbformat": 4,
 "nbformat_minor": 5
}
