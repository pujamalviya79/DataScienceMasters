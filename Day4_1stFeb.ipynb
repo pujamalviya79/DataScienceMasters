{
 "cells": [
  {
   "cell_type": "markdown",
   "id": "515833c1-ba3e-4513-9335-acb651a65c5b",
   "metadata": {},
   "source": [
    "## Strings and Lists"
   ]
  },
  {
   "cell_type": "code",
   "execution_count": 8,
   "id": "2a5dfea5-67d4-497b-8283-8dd351710762",
   "metadata": {},
   "outputs": [],
   "source": [
    "name=\"data science\""
   ]
  },
  {
   "cell_type": "code",
   "execution_count": 5,
   "id": "f2df5277-21bf-4ed4-b084-dd56123b0f8f",
   "metadata": {},
   "outputs": [
    {
     "data": {
      "text/plain": [
       "'Data Science'"
      ]
     },
     "execution_count": 5,
     "metadata": {},
     "output_type": "execute_result"
    }
   ],
   "source": [
    "## title will return the string with first letter of each word as capital\n",
    "name.title()"
   ]
  },
  {
   "cell_type": "code",
   "execution_count": 6,
   "id": "7873e83e-8672-4517-8537-71edff6db8fd",
   "metadata": {},
   "outputs": [
    {
     "data": {
      "text/plain": [
       "'Data science'"
      ]
     },
     "execution_count": 6,
     "metadata": {},
     "output_type": "execute_result"
    }
   ],
   "source": [
    "## capitalise will make first character in capital \n",
    "name.capitalize()"
   ]
  },
  {
   "cell_type": "markdown",
   "id": "8160f3e5-05de-45e4-9e50-fa4fdfe93497",
   "metadata": {},
   "source": [
    "## Reverse the string"
   ]
  },
  {
   "cell_type": "code",
   "execution_count": 13,
   "id": "1f0f6e03-256c-42dd-a304-7f427bb9c38c",
   "metadata": {},
   "outputs": [
    {
     "data": {
      "text/plain": [
       "<reversed at 0x7fc86c1959f0>"
      ]
     },
     "execution_count": 13,
     "metadata": {},
     "output_type": "execute_result"
    }
   ],
   "source": [
    "## inbuilt function reversed() can be used\n",
    "## it will give string representation\n",
    "reversed(name)"
   ]
  },
  {
   "cell_type": "code",
   "execution_count": 9,
   "id": "c01decd9-80e7-427c-a8db-980accd22920",
   "metadata": {},
   "outputs": [
    {
     "data": {
      "text/plain": [
       "'e c n e i c s   a t a d'"
      ]
     },
     "execution_count": 9,
     "metadata": {},
     "output_type": "execute_result"
    }
   ],
   "source": [
    "' '.join(reversed(name))"
   ]
  },
  {
   "cell_type": "code",
   "execution_count": 11,
   "id": "0e1fbbde-37ad-4801-a26c-284c2b880365",
   "metadata": {},
   "outputs": [
    {
     "data": {
      "text/plain": [
       "'WHellooHellorHellolHellod'"
      ]
     },
     "execution_count": 11,
     "metadata": {},
     "output_type": "execute_result"
    }
   ],
   "source": [
    "## in join every character will join one by one\n",
    "\n",
    "abc = \"Hello\"\n",
    "xyz = \"World\"\n",
    "\n",
    "abc.join(xyz)"
   ]
  },
  {
   "cell_type": "code",
   "execution_count": 12,
   "id": "dd5baa0b-515b-4861-a80f-f40ebfe2981a",
   "metadata": {},
   "outputs": [
    {
     "data": {
      "text/plain": [
       "'a n t'"
      ]
     },
     "execution_count": 12,
     "metadata": {},
     "output_type": "execute_result"
    }
   ],
   "source": [
    "' '.join(\"ant\")"
   ]
  },
  {
   "cell_type": "code",
   "execution_count": 16,
   "id": "a81113fa-651d-440a-b769-a3d4fd4fccf6",
   "metadata": {},
   "outputs": [
    {
     "data": {
      "text/plain": [
       "['t', 'n', 'a']"
      ]
     },
     "execution_count": 16,
     "metadata": {},
     "output_type": "execute_result"
    }
   ],
   "source": [
    "## typecasting reversed function\n",
    "list(reversed(\"ant\"))"
   ]
  },
  {
   "cell_type": "code",
   "execution_count": 15,
   "id": "315ae418-7aa4-4cf7-a25c-7752ccdc983e",
   "metadata": {},
   "outputs": [
    {
     "data": {
      "text/plain": [
       "['a', 'n', 't']"
      ]
     },
     "execution_count": 15,
     "metadata": {},
     "output_type": "execute_result"
    }
   ],
   "source": [
    "list(\"ant\")"
   ]
  },
  {
   "cell_type": "code",
   "execution_count": 17,
   "id": "94ab957c-8882-4fa9-9a8b-7560c2191a50",
   "metadata": {},
   "outputs": [
    {
     "name": "stdout",
     "output_type": "stream",
     "text": [
      "ecneics atad"
     ]
    }
   ],
   "source": [
    "for i in list(reversed(name)):\n",
    "    print(i,end='')"
   ]
  },
  {
   "cell_type": "code",
   "execution_count": 19,
   "id": "b448e93a-4191-4b2b-bdf8-04f879b61d7b",
   "metadata": {},
   "outputs": [
    {
     "data": {
      "text/plain": [
       "'PWSkills'"
      ]
     },
     "execution_count": 19,
     "metadata": {},
     "output_type": "execute_result"
    }
   ],
   "source": [
    "## Removing characters from the end of the string\n",
    "## strip will remove leading and trailing white spaces\n",
    "str_a = \" PWSkills \"\n",
    "str_a.strip()"
   ]
  },
  {
   "cell_type": "code",
   "execution_count": 20,
   "id": "4adc3351-ce73-433e-9db0-06a03cbbd2f6",
   "metadata": {},
   "outputs": [
    {
     "data": {
      "text/plain": [
       "'PWSkills '"
      ]
     },
     "execution_count": 20,
     "metadata": {},
     "output_type": "execute_result"
    }
   ],
   "source": [
    "## remove leading whitespace from the string\n",
    "str_a.lstrip()"
   ]
  },
  {
   "cell_type": "code",
   "execution_count": 21,
   "id": "a6b1b6ee-8e45-4d82-986f-5a54c72b9fca",
   "metadata": {},
   "outputs": [
    {
     "data": {
      "text/plain": [
       "' PWSkills'"
      ]
     },
     "execution_count": 21,
     "metadata": {},
     "output_type": "execute_result"
    }
   ],
   "source": [
    "## remove trailing whitespace from the string\n",
    "str_a.rstrip()"
   ]
  },
  {
   "cell_type": "code",
   "execution_count": 25,
   "id": "0f2a4830-d034-497c-8fa9-6c62651763b5",
   "metadata": {},
   "outputs": [
    {
     "data": {
      "text/plain": [
       "'Greetings from PWSkills'"
      ]
     },
     "execution_count": 25,
     "metadata": {},
     "output_type": "execute_result"
    }
   ],
   "source": [
    "## we cannot replace a character in string by selecting char using index, but we can replace a word\n",
    "## it will return a new copy of the string\n",
    "str_1 = \"Greetings to PWSkills\"\n",
    "str_1.replace(\"to\",\"from\")"
   ]
  },
  {
   "cell_type": "code",
   "execution_count": 26,
   "id": "fc1927d0-798d-45cc-949c-8c5c3df77c9a",
   "metadata": {},
   "outputs": [],
   "source": [
    "var1=str_1.replace(\"o\",\"t\")"
   ]
  },
  {
   "cell_type": "code",
   "execution_count": 28,
   "id": "ce778575-c4db-474c-af75-75e0b829b0d3",
   "metadata": {},
   "outputs": [
    {
     "name": "stdout",
     "output_type": "stream",
     "text": [
      "140498784856512\n",
      "140498784857712\n"
     ]
    }
   ],
   "source": [
    "print(id(str_1))\n",
    "print(id(var1))"
   ]
  },
  {
   "cell_type": "code",
   "execution_count": 29,
   "id": "e7f6eccb-a8d1-415a-88d0-627f425e7c98",
   "metadata": {},
   "outputs": [
    {
     "data": {
      "text/plain": [
       "'Hello \\tWorld'"
      ]
     },
     "execution_count": 29,
     "metadata": {},
     "output_type": "execute_result"
    }
   ],
   "source": [
    "\"Hello \\tWorld\""
   ]
  },
  {
   "cell_type": "code",
   "execution_count": 30,
   "id": "f6b809cf-6f4e-4720-b864-55df6970e3eb",
   "metadata": {},
   "outputs": [
    {
     "data": {
      "text/plain": [
       "'Hello   World'"
      ]
     },
     "execution_count": 30,
     "metadata": {},
     "output_type": "execute_result"
    }
   ],
   "source": [
    "\"Hello \\tWorld\".expandtabs()"
   ]
  },
  {
   "cell_type": "code",
   "execution_count": 33,
   "id": "e5ca1976-4288-4c12-9157-c5c28981f63d",
   "metadata": {},
   "outputs": [
    {
     "name": "stdout",
     "output_type": "stream",
     "text": [
      "Welcome to PWSkills.Welcome to Data Science Masters\n"
     ]
    }
   ],
   "source": [
    "str1=\"Welcome to PWSkills.Welcome to Dat cience Masters\"\n",
    "str1=str1.replace(\"Dat\",\"Data\").replace(\"cience\",\"Science\")\n",
    "print(str1)"
   ]
  },
  {
   "cell_type": "code",
   "execution_count": 34,
   "id": "db23df98-295a-4716-a3ff-bc98b678db2d",
   "metadata": {},
   "outputs": [
    {
     "data": {
      "text/plain": [
       "False"
      ]
     },
     "execution_count": 34,
     "metadata": {},
     "output_type": "execute_result"
    }
   ],
   "source": [
    "str1.isupper()"
   ]
  },
  {
   "cell_type": "code",
   "execution_count": 35,
   "id": "35b9dad5-03e4-4060-bd45-0abea7974089",
   "metadata": {},
   "outputs": [
    {
     "data": {
      "text/plain": [
       "True"
      ]
     },
     "execution_count": 35,
     "metadata": {},
     "output_type": "execute_result"
    }
   ],
   "source": [
    "str2=\"HELLO\"\n",
    "str2.isupper()"
   ]
  },
  {
   "cell_type": "code",
   "execution_count": 37,
   "id": "be3fe3a7-c485-4435-a789-f644cf3602ec",
   "metadata": {},
   "outputs": [
    {
     "data": {
      "text/plain": [
       "False"
      ]
     },
     "execution_count": 37,
     "metadata": {},
     "output_type": "execute_result"
    }
   ],
   "source": [
    "str1.islower()"
   ]
  },
  {
   "cell_type": "code",
   "execution_count": 38,
   "id": "9ea7d9c8-1983-4464-85cc-bb1f17fba9ae",
   "metadata": {},
   "outputs": [
    {
     "data": {
      "text/plain": [
       "False"
      ]
     },
     "execution_count": 38,
     "metadata": {},
     "output_type": "execute_result"
    }
   ],
   "source": [
    "str1.isspace()"
   ]
  },
  {
   "cell_type": "code",
   "execution_count": 39,
   "id": "09459e36-46a5-4795-ad5d-7b00f1d3505d",
   "metadata": {},
   "outputs": [
    {
     "data": {
      "text/plain": [
       "True"
      ]
     },
     "execution_count": 39,
     "metadata": {},
     "output_type": "execute_result"
    }
   ],
   "source": [
    "' '.isspace()"
   ]
  },
  {
   "cell_type": "code",
   "execution_count": 40,
   "id": "b904026f-10c4-4f58-b704-3fc2318be27f",
   "metadata": {},
   "outputs": [
    {
     "name": "stdout",
     "output_type": "stream",
     "text": [
      "True\n",
      "False\n",
      "False\n",
      "True\n",
      "True\n"
     ]
    }
   ],
   "source": [
    "## check all the characters in string are alphanumeric\n",
    "abc = \"abcg12875\"\n",
    "print(abc.isalnum())\n",
    "print(abc.isalpha())\n",
    "print(abc.isnumeric())\n",
    "print(abc.isprintable())\n",
    "print(abc.isidentifier())"
   ]
  },
  {
   "cell_type": "code",
   "execution_count": 42,
   "id": "210e5fae-9880-459f-9b85-2cecccafbd4d",
   "metadata": {},
   "outputs": [
    {
     "name": "stdout",
     "output_type": "stream",
     "text": [
      "11\n",
      "11\n"
     ]
    }
   ],
   "source": [
    "## to count number of charaters in the string\n",
    "str3=\"Hello World\"\n",
    "count=0\n",
    "for i in str3:\n",
    "    count = count+1\n",
    "    \n",
    "print(count)\n",
    "\n",
    "print(len(str3))"
   ]
  },
  {
   "cell_type": "code",
   "execution_count": 43,
   "id": "c379d2ea-71d2-4a00-b0a0-449e2fb2c412",
   "metadata": {},
   "outputs": [
    {
     "name": "stdout",
     "output_type": "stream",
     "text": [
      "H\n",
      "e\n",
      "l\n",
      "l\n",
      "o\n",
      " \n",
      "W\n",
      "o\n",
      "r\n",
      "l\n",
      "d\n"
     ]
    }
   ],
   "source": [
    "## display characters one by one\n",
    "for i in str3:\n",
    "    print(i)"
   ]
  },
  {
   "cell_type": "code",
   "execution_count": 46,
   "id": "17f51fc0-b1ce-442e-adda-eab28ae46f0b",
   "metadata": {},
   "outputs": [
    {
     "name": "stdout",
     "output_type": "stream",
     "text": [
      "0 = H\n",
      "1 = e\n",
      "2 = l\n",
      "3 = l\n",
      "4 = o\n",
      "5 =  \n",
      "6 = W\n",
      "7 = o\n",
      "8 = r\n",
      "9 = l\n",
      "10 = d\n"
     ]
    }
   ],
   "source": [
    "## to display with respect with index\n",
    "for i in range(len(str3)):\n",
    "    print(i,\"=\",str3[i])"
   ]
  },
  {
   "cell_type": "code",
   "execution_count": 47,
   "id": "4e445a36-8968-4023-97d9-aaff9fb49af8",
   "metadata": {},
   "outputs": [
    {
     "name": "stdout",
     "output_type": "stream",
     "text": [
      "e\n",
      "c\n",
      "n\n",
      "e\n",
      "i\n",
      "c\n",
      "S\n"
     ]
    }
   ],
   "source": [
    "## we can use index to iterate string reverse direction\n",
    "\n",
    "str4 = \"Science\"\n",
    "for i in range(len(str4)-1,-1,-1):\n",
    "    print(str4[i])"
   ]
  },
  {
   "cell_type": "code",
   "execution_count": 52,
   "id": "5e2ece00-7016-4491-829f-c36cc7887d8b",
   "metadata": {},
   "outputs": [
    {
     "name": "stdout",
     "output_type": "stream",
     "text": [
      "e\n",
      "c\n",
      "n\n",
      "e\n",
      "i\n",
      "c\n",
      "S\n"
     ]
    }
   ],
   "source": [
    "ch = len(str4)-1\n",
    "while ch>=0:\n",
    "    print(str4[ch])\n",
    "    ch = ch-1\n",
    "    "
   ]
  },
  {
   "cell_type": "code",
   "execution_count": 55,
   "id": "8cbaf8a4-7a8d-4540-bb08-d374ebd06325",
   "metadata": {},
   "outputs": [
    {
     "name": "stdout",
     "output_type": "stream",
     "text": [
      "ecneicS"
     ]
    }
   ],
   "source": [
    "for i in range(len(str4)):\n",
    "    print(str4[len(str4) - (i+1)],end='')"
   ]
  },
  {
   "cell_type": "code",
   "execution_count": 56,
   "id": "905a431c-db42-441a-bb50-2f1412fc7a09",
   "metadata": {},
   "outputs": [
    {
     "name": "stdout",
     "output_type": "stream",
     "text": [
      "p is not a vowel\n",
      "w is not a vowel\n",
      "s is not a vowel\n",
      "k is not a vowel\n",
      "i is  vowel\n",
      "l is not a vowel\n",
      "l is not a vowel\n",
      "s is not a vowel\n"
     ]
    }
   ],
   "source": [
    "Name = 'pwskills'\n",
    "vowels = \"AaEeIiOoUu\"\n",
    "\n",
    "for ch in Name:\n",
    "    if ch in vowels:\n",
    "        print(\"{} is  vowel\".format(ch))\n",
    "    else:\n",
    "        print(\"{} is not a vowel\".format(ch))"
   ]
  },
  {
   "cell_type": "markdown",
   "id": "1e632f41-e010-4a60-bac6-456fa2f2c26e",
   "metadata": {},
   "source": [
    "## Lists"
   ]
  },
  {
   "cell_type": "code",
   "execution_count": 57,
   "id": "5f64b0b8-a381-4b27-abb0-e5dd2dd8f851",
   "metadata": {},
   "outputs": [],
   "source": [
    "lst1 = [\"abc\", \"xyz\", \"pqr\", 123]"
   ]
  },
  {
   "cell_type": "code",
   "execution_count": 58,
   "id": "d42a35aa-07d2-462f-968d-0fb7604bb22c",
   "metadata": {},
   "outputs": [
    {
     "data": {
      "text/plain": [
       "[1, 2, 3, 4, 5]"
      ]
     },
     "execution_count": 58,
     "metadata": {},
     "output_type": "execute_result"
    }
   ],
   "source": [
    "list([1,2,3,4,5])"
   ]
  },
  {
   "cell_type": "code",
   "execution_count": 60,
   "id": "2c745a7a-3326-440b-abef-e99b082936a6",
   "metadata": {},
   "outputs": [
    {
     "data": {
      "text/plain": [
       "[123, 'pqr', 'xyz', 'abc']"
      ]
     },
     "execution_count": 60,
     "metadata": {},
     "output_type": "execute_result"
    }
   ],
   "source": [
    "## list is an ordered collection of elements\n",
    "## ordered means it has proper index\n",
    "## lists are mutable\n",
    "lst1[::-1]"
   ]
  },
  {
   "cell_type": "code",
   "execution_count": 61,
   "id": "1678af6e-7808-4237-b33e-d521f7257c89",
   "metadata": {},
   "outputs": [
    {
     "data": {
      "text/plain": [
       "['abc']"
      ]
     },
     "execution_count": 61,
     "metadata": {},
     "output_type": "execute_result"
    }
   ],
   "source": [
    "lst1[-4::-1]"
   ]
  },
  {
   "cell_type": "code",
   "execution_count": 62,
   "id": "5b765fac-c597-4c50-ab29-4903e1ae20b1",
   "metadata": {},
   "outputs": [
    {
     "data": {
      "text/plain": [
       "[]"
      ]
     },
     "execution_count": 62,
     "metadata": {},
     "output_type": "execute_result"
    }
   ],
   "source": [
    "lst1[-4:3:-1]"
   ]
  },
  {
   "cell_type": "code",
   "execution_count": 63,
   "id": "b38087ad-bf09-4f8f-be7d-1813140072be",
   "metadata": {},
   "outputs": [
    {
     "data": {
      "text/plain": [
       "[]"
      ]
     },
     "execution_count": 63,
     "metadata": {},
     "output_type": "execute_result"
    }
   ],
   "source": [
    "lst1[-4:-2:-1]"
   ]
  },
  {
   "cell_type": "code",
   "execution_count": 64,
   "id": "71ab09a7-599f-462c-a238-6a59be7dcf55",
   "metadata": {},
   "outputs": [
    {
     "data": {
      "text/plain": [
       "['pqr', 'xyz']"
      ]
     },
     "execution_count": 64,
     "metadata": {},
     "output_type": "execute_result"
    }
   ],
   "source": [
    "lst1[-2:-4:-1]"
   ]
  },
  {
   "cell_type": "code",
   "execution_count": 66,
   "id": "3a991860-4186-4130-9416-ab3cd5c49b4b",
   "metadata": {},
   "outputs": [
    {
     "data": {
      "text/plain": [
       "['abc', 'xyz', 'pqr', 123, 321, 'ele']"
      ]
     },
     "execution_count": 66,
     "metadata": {},
     "output_type": "execute_result"
    }
   ],
   "source": [
    "## list concatenation\n",
    "lst1 + [321,\"ele\"]"
   ]
  },
  {
   "cell_type": "code",
   "execution_count": 69,
   "id": "7656a5fd-4282-4d05-a868-c4009acacd87",
   "metadata": {},
   "outputs": [
    {
     "data": {
      "text/plain": [
       "['abc', 'xyz', 'pqr', 123, [321, 'ele']]"
      ]
     },
     "execution_count": 69,
     "metadata": {},
     "output_type": "execute_result"
    }
   ],
   "source": [
    "## multi nested list \n",
    "lst2=lst1 +[[321,\"ele\"]]\n",
    "lst2"
   ]
  },
  {
   "cell_type": "code",
   "execution_count": 72,
   "id": "6d3f2d66-8e62-4cca-b43a-deb5b27ee6e5",
   "metadata": {},
   "outputs": [
    {
     "data": {
      "text/plain": [
       "[321, 'ele']"
      ]
     },
     "execution_count": 72,
     "metadata": {},
     "output_type": "execute_result"
    }
   ],
   "source": [
    "lst2[-1]"
   ]
  },
  {
   "cell_type": "code",
   "execution_count": 73,
   "id": "c84da824-17c5-425e-b660-8f25fd4cf683",
   "metadata": {},
   "outputs": [
    {
     "data": {
      "text/plain": [
       "321"
      ]
     },
     "execution_count": 73,
     "metadata": {},
     "output_type": "execute_result"
    }
   ],
   "source": [
    "lst2[-1][0]"
   ]
  },
  {
   "cell_type": "code",
   "execution_count": 74,
   "id": "7dafdb6f-9d5c-48a1-878a-d972da5dd914",
   "metadata": {},
   "outputs": [
    {
     "data": {
      "text/plain": [
       "['abc', 'xyz', 'pqr', 123, 'abc', 'xyz', 'pqr', 123]"
      ]
     },
     "execution_count": 74,
     "metadata": {},
     "output_type": "execute_result"
    }
   ],
   "source": [
    "lst1*2"
   ]
  },
  {
   "cell_type": "code",
   "execution_count": 77,
   "id": "56d2859b-76ea-4008-8414-f1236b555c9a",
   "metadata": {},
   "outputs": [
    {
     "name": "stdout",
     "output_type": "stream",
     "text": [
      "pqr\n"
     ]
    }
   ],
   "source": [
    "## check pqr is present or not in the list and if its present then stop there\n",
    "\n",
    "for ele in lst1:\n",
    "    if \"pqr\" in ele:\n",
    "        print(ele)\n",
    "        break"
   ]
  },
  {
   "cell_type": "code",
   "execution_count": 78,
   "id": "e4f36a7d-5348-44e4-96ef-d79cbc4123da",
   "metadata": {},
   "outputs": [
    {
     "data": {
      "text/plain": [
       "True"
      ]
     },
     "execution_count": 78,
     "metadata": {},
     "output_type": "execute_result"
    }
   ],
   "source": [
    "## check element inside list\n",
    "lst = [1,2,3,4,5]\n",
    "\n",
    "4 in lst"
   ]
  },
  {
   "cell_type": "code",
   "execution_count": 79,
   "id": "0e276a6c-9e9e-41c2-b6f6-6536eab2da55",
   "metadata": {},
   "outputs": [
    {
     "data": {
      "text/plain": [
       "False"
      ]
     },
     "execution_count": 79,
     "metadata": {},
     "output_type": "execute_result"
    }
   ],
   "source": [
    "6 in lst"
   ]
  },
  {
   "cell_type": "code",
   "execution_count": 80,
   "id": "65a52676-b7aa-4fc1-8a8f-992e32237346",
   "metadata": {},
   "outputs": [],
   "source": [
    "lst3 = [\"Zebra\",\"Monkey\",\"Donkey\",\"Lion\"]\n",
    "lst4 = [5,6,2,9,5,8,6]"
   ]
  },
  {
   "cell_type": "code",
   "execution_count": 84,
   "id": "1a12f6da-05fb-4fdc-baa2-fa5258abdef1",
   "metadata": {},
   "outputs": [
    {
     "name": "stdout",
     "output_type": "stream",
     "text": [
      "Zebra\n"
     ]
    }
   ],
   "source": [
    "## print max of lst3\n",
    "## it will print as per the ASCII value\n",
    "\n",
    "print(max(lst3))"
   ]
  },
  {
   "cell_type": "code",
   "execution_count": 86,
   "id": "22c53cee-a7cb-4777-8a87-be8ac31ddfc0",
   "metadata": {},
   "outputs": [
    {
     "name": "stdout",
     "output_type": "stream",
     "text": [
      "Donkey\n"
     ]
    }
   ],
   "source": [
    "print(min(lst3))"
   ]
  },
  {
   "cell_type": "code",
   "execution_count": 87,
   "id": "bb1d7f42-193f-4b92-9e9b-12d3d5b98c86",
   "metadata": {},
   "outputs": [
    {
     "name": "stdout",
     "output_type": "stream",
     "text": [
      "9\n"
     ]
    }
   ],
   "source": [
    "print(max(lst4))"
   ]
  },
  {
   "cell_type": "code",
   "execution_count": 88,
   "id": "674ae5f5-4aa7-426d-8428-ce48ba59b365",
   "metadata": {},
   "outputs": [
    {
     "name": "stdout",
     "output_type": "stream",
     "text": [
      "2\n"
     ]
    }
   ],
   "source": [
    "print(min(lst4))"
   ]
  },
  {
   "cell_type": "code",
   "execution_count": 93,
   "id": "5ddb38b5-fc59-495b-81cc-f519fd204ca4",
   "metadata": {},
   "outputs": [
    {
     "data": {
      "text/plain": [
       "['Zebra', 'Monkey', 'Donkey', 'Lion', 'Dog', 'Dog', 'Dog', 'Dog']"
      ]
     },
     "execution_count": 93,
     "metadata": {},
     "output_type": "execute_result"
    }
   ],
   "source": [
    "## append will add value at the last\n",
    "lst3.append(\"Dog\")\n",
    "lst3"
   ]
  },
  {
   "cell_type": "code",
   "execution_count": 96,
   "id": "5da8514c-19e3-466f-be64-04ae7c05e53e",
   "metadata": {},
   "outputs": [
    {
     "data": {
      "text/plain": [
       "'Dog'"
      ]
     },
     "execution_count": 96,
     "metadata": {},
     "output_type": "execute_result"
    }
   ],
   "source": [
    "## if will not provide index then by default it will remove last element\n",
    "lst3.pop()"
   ]
  },
  {
   "cell_type": "code",
   "execution_count": 97,
   "id": "7b1dcf40-8464-4a80-84da-0310adeacf8f",
   "metadata": {},
   "outputs": [
    {
     "data": {
      "text/plain": [
       "['Zebra', 'Monkey', 'Donkey', 'Lion', 'Dog', 'Dog']"
      ]
     },
     "execution_count": 97,
     "metadata": {},
     "output_type": "execute_result"
    }
   ],
   "source": [
    "lst3"
   ]
  },
  {
   "cell_type": "code",
   "execution_count": 98,
   "id": "5eb743fc-ed41-4796-86f1-be9d2e1623d8",
   "metadata": {},
   "outputs": [
    {
     "data": {
      "text/plain": [
       "'Dog'"
      ]
     },
     "execution_count": 98,
     "metadata": {},
     "output_type": "execute_result"
    }
   ],
   "source": [
    "lst3.pop(4)"
   ]
  },
  {
   "cell_type": "code",
   "execution_count": 99,
   "id": "5abcc774-f8df-404a-ad87-ee55e40653f4",
   "metadata": {},
   "outputs": [
    {
     "data": {
      "text/plain": [
       "['Zebra', 'Monkey', 'Donkey', 'Lion', 'Dog']"
      ]
     },
     "execution_count": 99,
     "metadata": {},
     "output_type": "execute_result"
    }
   ],
   "source": [
    "lst3"
   ]
  },
  {
   "cell_type": "code",
   "execution_count": 103,
   "id": "425e468b-22da-4873-b36d-b5484ee3a781",
   "metadata": {},
   "outputs": [
    {
     "data": {
      "text/plain": [
       "['Dog', 'Lion', 'Donkey', 'Monkey', 'Zebra']"
      ]
     },
     "execution_count": 103,
     "metadata": {},
     "output_type": "execute_result"
    }
   ],
   "source": [
    "lst3.reverse()\n",
    "lst3"
   ]
  },
  {
   "cell_type": "code",
   "execution_count": 104,
   "id": "d95e5656-2f94-461b-bf55-2c1287b0989b",
   "metadata": {},
   "outputs": [
    {
     "data": {
      "text/plain": [
       "['Dog', 'Donkey', 'Lion', 'Monkey', 'Zebra']"
      ]
     },
     "execution_count": 104,
     "metadata": {},
     "output_type": "execute_result"
    }
   ],
   "source": [
    "lst3.sort()\n",
    "lst3"
   ]
  },
  {
   "cell_type": "code",
   "execution_count": 106,
   "id": "7f8355dd-cfdb-4d5a-9239-98f2b8b7dd01",
   "metadata": {},
   "outputs": [
    {
     "data": {
      "text/plain": [
       "['Zebra', 'Monkey', 'Lion', 'Element', 'Donkey', 'Dog', 'Cat']"
      ]
     },
     "execution_count": 106,
     "metadata": {},
     "output_type": "execute_result"
    }
   ],
   "source": [
    "lst3.sort(reverse=True)\n",
    "lst3"
   ]
  },
  {
   "cell_type": "code",
   "execution_count": 105,
   "id": "511c0177-51f7-4730-a426-63ecf2bdb0ea",
   "metadata": {},
   "outputs": [
    {
     "data": {
      "text/plain": [
       "['Dog', 'Donkey', 'Lion', 'Monkey', 'Zebra', 'Cat', 'Element']"
      ]
     },
     "execution_count": 105,
     "metadata": {},
     "output_type": "execute_result"
    }
   ],
   "source": [
    "## to append multiple elements\n",
    "\n",
    "lst3.extend([\"Cat\",\"Element\"])\n",
    "lst3"
   ]
  },
  {
   "cell_type": "markdown",
   "id": "e6cdb6ec-bc5c-4ac6-99de-5374b5060fcc",
   "metadata": {},
   "source": [
    "## Nested Lists"
   ]
  },
  {
   "cell_type": "code",
   "execution_count": 107,
   "id": "c48173a0-7b11-4d08-9c32-a5fe37c1bc18",
   "metadata": {},
   "outputs": [
    {
     "data": {
      "text/plain": [
       "[[1, 2, 3], [4, 5, 6], [7, 8, 9]]"
      ]
     },
     "execution_count": 107,
     "metadata": {},
     "output_type": "execute_result"
    }
   ],
   "source": [
    "lst_1=[1,2,3]\n",
    "lst_2=[4,5,6]\n",
    "lst_3=[7,8,9]\n",
    "\n",
    "matrix = [lst_1,lst_2,lst_3]\n",
    "matrix"
   ]
  },
  {
   "cell_type": "code",
   "execution_count": 108,
   "id": "fd1835d4-4b59-4787-80cd-c36c6f52b518",
   "metadata": {},
   "outputs": [
    {
     "data": {
      "text/plain": [
       "6"
      ]
     },
     "execution_count": 108,
     "metadata": {},
     "output_type": "execute_result"
    }
   ],
   "source": [
    "## to get 6\n",
    "matrix[1][2]"
   ]
  },
  {
   "cell_type": "code",
   "execution_count": 109,
   "id": "dfd16f9a-f7bb-46b1-abe8-52c95f27df55",
   "metadata": {},
   "outputs": [
    {
     "data": {
      "text/plain": [
       "[8, 9]"
      ]
     },
     "execution_count": 109,
     "metadata": {},
     "output_type": "execute_result"
    }
   ],
   "source": [
    "matrix[2][1:]"
   ]
  },
  {
   "cell_type": "code",
   "execution_count": 110,
   "id": "78cf4884-abca-4576-bb68-84644b123501",
   "metadata": {},
   "outputs": [
    {
     "data": {
      "text/plain": [
       "(1, 4, 7)"
      ]
     },
     "execution_count": 110,
     "metadata": {},
     "output_type": "execute_result"
    }
   ],
   "source": [
    "matrix[0][0],matrix[1][0],matrix[2][0]"
   ]
  },
  {
   "cell_type": "code",
   "execution_count": 111,
   "id": "3d95a9b2-8db9-4111-85e6-eb6c2f58b5ee",
   "metadata": {},
   "outputs": [
    {
     "data": {
      "text/plain": [
       "[0, 1, 2, 3, 4, 5, 6, 7, 8, 9, 10, 11, 12, 13, 14, 15, 16, 17, 18, 19]"
      ]
     },
     "execution_count": 111,
     "metadata": {},
     "output_type": "execute_result"
    }
   ],
   "source": [
    "## List Comprehension\n",
    "\n",
    "[i for i in range(20)]"
   ]
  },
  {
   "cell_type": "code",
   "execution_count": 123,
   "id": "47644499-2cfa-4dd8-a1da-c0b9de869cf5",
   "metadata": {},
   "outputs": [
    {
     "data": {
      "text/plain": [
       "[0, 'ODD', 2, 'ODD', 4, 'ODD', 6, 'ODD', 8, 'ODD']"
      ]
     },
     "execution_count": 123,
     "metadata": {},
     "output_type": "execute_result"
    }
   ],
   "source": [
    "## Even numbers\n",
    "\n",
    "[i if i%2==0 else \"ODD\" for i in range(0,10)]"
   ]
  },
  {
   "cell_type": "code",
   "execution_count": 130,
   "id": "77cf9757-db9f-4648-be67-1c0119a389aa",
   "metadata": {},
   "outputs": [
    {
     "name": "stdout",
     "output_type": "stream",
     "text": [
      "20\n",
      "16\n",
      "20\n",
      "16\n"
     ]
    }
   ],
   "source": [
    "lst = [1,2,3,4,5,6,7,8]\n",
    "\n",
    "sum_even = 0\n",
    "sum_odd = 0\n",
    "\n",
    "## normal code\n",
    "\n",
    "for i in lst:\n",
    "    if i%2 == 0:\n",
    "        sum_even = sum_even+i\n",
    "    else:\n",
    "        sum_odd = sum_odd+i\n",
    "print(sum_even)\n",
    "print(sum_odd)\n",
    "\n",
    "## string comprehension\n",
    "\n",
    "even_sum = sum([num for num in lst if num%2==0])\n",
    "print(even_sum)\n",
    "\n",
    "odd_sum = sum([num for num in lst if num%2!=0])\n",
    "print(odd_sum)"
   ]
  },
  {
   "cell_type": "code",
   "execution_count": 131,
   "id": "8299f6b3-e020-4616-92c8-f54befd673e7",
   "metadata": {},
   "outputs": [
    {
     "data": {
      "text/plain": [
       "[1, 4, 9, 16, 25, 36, 49, 64]"
      ]
     },
     "execution_count": 131,
     "metadata": {},
     "output_type": "execute_result"
    }
   ],
   "source": [
    "[num**2 for num in lst]"
   ]
  },
  {
   "cell_type": "code",
   "execution_count": 134,
   "id": "6ddda855-2dda-43cf-a909-6f58b3231f19",
   "metadata": {},
   "outputs": [
    {
     "data": {
      "text/plain": [
       "[3, 8]"
      ]
     },
     "execution_count": 134,
     "metadata": {},
     "output_type": "execute_result"
    }
   ],
   "source": [
    "## print only positive numbers\n",
    "lst = [-1,0,3,-4,-6,8]\n",
    "\n",
    "[num for num in lst if num>0]"
   ]
  },
  {
   "cell_type": "code",
   "execution_count": 135,
   "id": "417925f5-10eb-4cf5-9341-eda40dbf2870",
   "metadata": {},
   "outputs": [
    {
     "data": {
      "text/plain": [
       "['a', 'b', 'c', 'd']"
      ]
     },
     "execution_count": 135,
     "metadata": {},
     "output_type": "execute_result"
    }
   ],
   "source": [
    "## create list of only first letters of words in a list\n",
    "\n",
    "words = [\"apple\",\"banana\",\"cherry\",\"date\"]\n",
    "[word[0] for word in words]"
   ]
  },
  {
   "cell_type": "code",
   "execution_count": 136,
   "id": "67defc6c-f282-4184-845f-715d1bf2b96a",
   "metadata": {},
   "outputs": [
    {
     "data": {
      "text/plain": [
       "[32.18, 68.0, 86.0, 104.0, 122.0]"
      ]
     },
     "execution_count": 136,
     "metadata": {},
     "output_type": "execute_result"
    }
   ],
   "source": [
    "## convert list of temperatures from celcius to farenheit \n",
    "\n",
    "celsius_temp = [0.10,20,30,40,50]\n",
    "[(9/5)*temp +32 for temp in celsius_temp]"
   ]
  },
  {
   "cell_type": "code",
   "execution_count": 139,
   "id": "e3661f6b-73f4-4331-a22c-8a650c6b8794",
   "metadata": {},
   "outputs": [
    {
     "data": {
      "text/plain": [
       "[1, 2, 3, 4, 5, 6, 7, 8, 9]"
      ]
     },
     "execution_count": 139,
     "metadata": {},
     "output_type": "execute_result"
    }
   ],
   "source": [
    "## Flatten a list of lists into a single list\n",
    "lists = [[1,2,3],[4,5,6],[7,8,9]]\n",
    "\n",
    "[j for i in lists for j in i]"
   ]
  },
  {
   "cell_type": "code",
   "execution_count": null,
   "id": "c9915aa3-de02-4590-b34d-e9440a16e526",
   "metadata": {},
   "outputs": [],
   "source": [
    "## Assignment\n",
    "\n",
    "## Create a list of only the prime numbers from a given list\n",
    "numbers=[1,2,3,4,5,6,7,8,9,10]\n",
    "\n",
    "## create a list of all the possible combinations of 2 elements from a list\n",
    "numbers=[1,2,3,4,5]"
   ]
  },
  {
   "cell_type": "code",
   "execution_count": null,
   "id": "2e1929a2-9a88-4e38-bff6-327fc7e63c8d",
   "metadata": {},
   "outputs": [],
   "source": []
  }
 ],
 "metadata": {
  "kernelspec": {
   "display_name": "Python 3 (ipykernel)",
   "language": "python",
   "name": "python3"
  },
  "language_info": {
   "codemirror_mode": {
    "name": "ipython",
    "version": 3
   },
   "file_extension": ".py",
   "mimetype": "text/x-python",
   "name": "python",
   "nbconvert_exporter": "python",
   "pygments_lexer": "ipython3",
   "version": "3.10.8"
  }
 },
 "nbformat": 4,
 "nbformat_minor": 5
}
