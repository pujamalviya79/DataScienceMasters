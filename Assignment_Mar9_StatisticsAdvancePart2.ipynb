{
 "cells": [
  {
   "cell_type": "code",
   "execution_count": null,
   "id": "28b9a137-fb11-4bea-a0e3-a9ee01b94f1f",
   "metadata": {},
   "outputs": [],
   "source": [
    "Q1: What are the Probability Mass Function (PMF) and Probability Density Function (PDF)? Explain with\n",
    "an example.\n",
    "---------\n",
    "Probability mass function is a function that gives the probability that a discrete random variable is exactly equal to some value. \n",
    "Sometimes it is also known as the discrete density function.\n",
    "Example:\n",
    "    Suppose a fair coin is tossed twice and the sample space is recorded as S = [HH, HT, TH, TT]. \n",
    "    The probability of getting heads needs to be determined. Let X be the random variable that shows how many heads are obtained. \n",
    "    X can take on the values 0, 1, 2. The probability that X will be equal to 1 is 0.5. \n",
    "    Thus, it can be said that the probability mass function of X evaluated at 1 will be 0.5.\n",
    "    \n",
    "Probability density function, or density of a continuous random variable, \n",
    "is a function whose value at any given sample in the sample space can be interpreted as providing a relative likelihood that the value of the random variable would be equal to that sample.\n",
    "Example: \n",
    "    Suppose we have a continuous random variable whose probability density function is given by f(x) = x + 2, when 0 < x ≤ 2. We want to find P(0.5 < X < 1). \n",
    "    Then we integrate x + 2 within the limits 0.5 and 1. This gives us 1.375. \n",
    "    Thus, the probability that the continuous random variable lies between 0.5 and 1 is 1.375."
   ]
  },
  {
   "cell_type": "code",
   "execution_count": null,
   "id": "a3f1b25f-ef1b-4ceb-a5e8-c9c1f0b71964",
   "metadata": {},
   "outputs": [],
   "source": [
    "Q2: What is Cumulative Density Function (CDF)? Explain with an example. Why CDF is used?\n",
    "---------\n",
    "CDF of a random variable ‘X’ is a function which can be defined as,\n",
    "FX(x) = P(X ≤ x)\n",
    "\n",
    "The right-hand side of the cumulative distribution function formula represents the probability of a random variable ‘X’ which takes the value that is less than or equal to that of the x. \n",
    "The semi-closed interval in which the probability of ‘X’ lies is [a.b], where a < b, \n",
    "P(a < X ≤ b) = Fx(b) - Fx(a)\n",
    "\n",
    "Example:\n",
    "    Given the CDF F(x) for the discrete random variable X, \n",
    "    x    =  1    2     3     4   5\n",
    "    F(X) = 0.2  0.32  0.67  0.9  1\n",
    "    Find: P(X = 3)\n",
    "    CDF = FX(x) = P(X ≤ x)\n",
    "    To obtain the CDF of the given distribution, here we have to solve till the value is less than or equal to three. \n",
    "    F(3) = P(X  3) = P(X = 1) + P(X = 2) + P(X = 3)\n",
    "    \n",
    "The CDF is used to describe the probability distribution of random variables.\n",
    "It can be used to describe the probability for a discrete, continuous or mixed variable."
   ]
  },
  {
   "cell_type": "code",
   "execution_count": null,
   "id": "989f899c-5dba-4d08-be47-10908f840c9f",
   "metadata": {},
   "outputs": [],
   "source": [
    "Q3: What are some examples of situations where the normal distribution might be used as a model?\n",
    "Explain how the parameters of the normal distribution relate to the shape of the distribution.\n",
    "---------\n",
    "1. Height: The height of people is an example of normal distribution. \n",
    "    Most of the people in a specific population are of average height. \n",
    "    The number of people taller and shorter than the average height people is almost equal, and a very small number of people are either extremely tall or extremely short. \n",
    "    Several genetic and environmental factors influence height. \n",
    "2. Rolling a Dice: A fair rolling of dice is also a good example of normal distribution. \n",
    "    In an experiment, it has been found that when a dice is rolled 100 times, chances to get ‘1’ are 15-18% and if we roll the dice 1000 times,\n",
    "    the chances to get ‘1’ is, again, the same, which averages to 16.7% (1/6). \n",
    "    If we roll two dice simultaneously, there are 36 possible combinations. \n",
    "    The probability of rolling ‘1’ (with six possible combinations) again averages to around 16.7%, i.e., (6/36). \n",
    "    More the number of dice more elaborate will be the normal distribution graph. \n",
    "    \n",
    "The two main parameters of a (normal) distribution are the mean and standard deviation. \n",
    "The parameters determine the shape and probabilities of the distribution. \n",
    "Shape of Normal Distribution A normal distribution is symmetric from the peak of the curve, where the mean is. \n",
    "This means that most of the observed data is clustered near the mean, while the data become less frequent when farther away from the mean. \n",
    "The resultant graph appears as bell-shaped where the mean, median, and mode are of the same values and appear at the peak of the curve."
   ]
  },
  {
   "cell_type": "code",
   "execution_count": null,
   "id": "b05e2e6e-fed1-4025-ac31-810f9db0c1a7",
   "metadata": {},
   "outputs": [],
   "source": [
    "Q4: Explain the importance of Normal Distribution. Give a few real-life examples of Normal\n",
    "Distribution.\n",
    "---------\n",
    "The normal distribution is an important probability distribution in math and statistics because many continuous data in nature and psychology display this bell-shaped curve when compiled and graphed.\n",
    "\n",
    "Examples:\n",
    "1. Tossing a Coin: Flipping a coin is one of the oldest methods for settling disputes. \n",
    "    We all have flipped a coin before a match or game. \n",
    "    The perceived fairness in flipping a coin lies in the fact that it has equal chances to come up with either result. \n",
    "    The chances of getting a head are 1/2, and the same is for tails. \n",
    "    When we add both, it equals one. \n",
    "    If we toss coins multiple times, the sum of the probability of getting heads and tails will always remain 1.\n",
    "2. IQ: In this scenario of increasing competition, most parents, as well as children, want to analyze the Intelligent Quotient level. \n",
    "    Well, the IQ of a particular population is a normal distribution curve; \n",
    "    where the IQ of a majority of the people in the population lies in the normal range whereas the IQ of the rest of the population lives in the deviated range.\n",
    "3. Blood Pressure: Blood pressure generally follows a Gaussian distribution (normal) in the general population, \n",
    "    and it makes Gaussian mixture models a suitable candidate for modelling blood pressure behaviour."
   ]
  },
  {
   "cell_type": "code",
   "execution_count": null,
   "id": "80ff5470-94c6-4000-abcf-24dd94c3f85f",
   "metadata": {},
   "outputs": [],
   "source": [
    "Q5: What is Bernaulli Distribution? Give an Example. What is the difference between Bernoulli\n",
    "Distribution and Binomial Distribution?\n",
    "---------\n",
    "Bernoulli distribution is a discrete probability distribution. \n",
    "It describes the probability of achieving a “success” or “failure” from a Bernoulli trial. \n",
    "A Bernoulli trial is an event that has only two possible outcomes (success or failure). \n",
    "For example, will a coin land on heads (success) or tails (failure)\n",
    "\n",
    "Difference between Bernoulli Distribution and Binomial Distribution:\n",
    "1. Bernoulli deals with the outcome of the single trial of the event, \n",
    "    whereas Binomial deals with the outcome of the multiple trials of the single event.\n",
    "2. Bernoulli is used when the outcome of an event is required for only one time, \n",
    "    whereas the Binomial is used when the outcome of an event is required multiple times. "
   ]
  },
  {
   "cell_type": "code",
   "execution_count": null,
   "id": "8d065b17-b488-42d7-87d8-8655483ba0d0",
   "metadata": {},
   "outputs": [],
   "source": [
    "Q6. Consider a dataset with a mean of 50 and a standard deviation of 10. If we assume that the dataset\n",
    "is normally distributed, what is the probability that a randomly selected observation will be greater\n",
    "than 60? Use the appropriate formula and show your calculations.\n",
    "---------\n",
    "mean = 50\n",
    "std = 10\n",
    "\n",
    "z-score = (60-50)/10 = 1\n",
    "\n",
    "from z-score table, value at z-score 1 is 0.84134\n",
    "\n",
    "The probability of randomly selected observation greater than 60 is 1-0.84134 = 0.15866"
   ]
  },
  {
   "cell_type": "code",
   "execution_count": null,
   "id": "5074dcac-f4fc-4c2b-b8a6-13f4d3f9370c",
   "metadata": {},
   "outputs": [],
   "source": [
    "Q7: Explain uniform Distribution with an example.\n",
    "---------\n",
    "Uniform distributions are probability distributions with equally likely outcomes. \n",
    "In a discrete uniform distribution, outcomes are discrete and have the same probability. \n",
    "In a continuous uniform distribution, outcomes are continuous and infinite. \n",
    "In a normal distribution, data around the mean occur more frequently.\n",
    "\n",
    "Example:\n",
    "    A deck of cards has within it uniform distributions because the likelihood of drawing a heart, a club, a diamond, or a spade is equally likely.\n",
    "    A coin also has a uniform distribution because the probability of getting either heads or tails in a coin toss is the same."
   ]
  },
  {
   "cell_type": "code",
   "execution_count": null,
   "id": "e40dff2f-a694-4ea8-967d-fadf48524160",
   "metadata": {},
   "outputs": [],
   "source": [
    "Q8: What is the z score? State the importance of the z score.\n",
    "---------\n",
    "Z-score indicates how much a given value differs from the standard deviation. \n",
    "The Z-score, or standard score, is the number of standard deviations a given data point lies above or below mean. \n",
    "Standard deviation is essentially a reflection of the amount of variability within a given data set.\n",
    "\n",
    "The z-score is particularly important because it tells you not only something about the value itself, but also where the value lies in the distribution.\n",
    "Z-scores are important because they offer a comparison between two scores that are not in the same normal distribution. "
   ]
  },
  {
   "cell_type": "code",
   "execution_count": null,
   "id": "aad03353-e499-4f87-b568-75e2bb8850cb",
   "metadata": {},
   "outputs": [],
   "source": [
    "Q9: What is Central Limit Theorem? State the significance of the Central Limit Theorem.\n",
    "---------\n",
    "The central limit theorem (CLT) states that the distribution of sample means approximates a normal distribution as the sample size gets larger.\n",
    "\n",
    "Significance of Central Limit Theorem\n",
    "Political/election polling is a great example of how you can use CLT. These polls are used to estimate the number of people who support a specific candidate.\n",
    "You use the CLT in various census fields to calculate various population details, such as family income, electricity consumption, individual salaries, and so on."
   ]
  },
  {
   "cell_type": "code",
   "execution_count": null,
   "id": "f2068a1f-add7-46a4-ae65-122ab27ecec9",
   "metadata": {},
   "outputs": [],
   "source": [
    "Q10: State the assumptions of the Central Limit Theorem.\n",
    "---------\n",
    "Assumptions Behind the Central Limit Theorem\n",
    "It needs to be sampled at random. \n",
    "The samples should be unrelated to one another. \n",
    "One sample should not impact the others. \n",
    "When taking samples without replacement, the sample size should not exceed 10% of the population."
   ]
  }
 ],
 "metadata": {
  "kernelspec": {
   "display_name": "Python 3 (ipykernel)",
   "language": "python",
   "name": "python3"
  },
  "language_info": {
   "codemirror_mode": {
    "name": "ipython",
    "version": 3
   },
   "file_extension": ".py",
   "mimetype": "text/x-python",
   "name": "python",
   "nbconvert_exporter": "python",
   "pygments_lexer": "ipython3",
   "version": "3.10.8"
  }
 },
 "nbformat": 4,
 "nbformat_minor": 5
}
