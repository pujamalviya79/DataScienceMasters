{
 "cells": [
  {
   "cell_type": "code",
   "execution_count": null,
   "id": "e74eba98-ccff-49b2-9664-e3908091e85a",
   "metadata": {},
   "outputs": [],
   "source": [
    "Q1. Explain the concept of precision and recall in the context of classification models.\n",
    "----------\n",
    "Precision:\n",
    "    Precision can be seen as a measure of quality\n",
    "    Precision shows how often an ML model is correct when predicting the target class\n",
    "    Higher precision means that an algorithm returns more relevant results than irrelevant ones\n",
    "Recall:\n",
    "    Recall as a measure of quantity\n",
    "    Recall shows whether an ML model can find all objects of the target class\n",
    "    High recall means that an algorithm returns most of the relevant results "
   ]
  },
  {
   "cell_type": "code",
   "execution_count": null,
   "id": "e7f1761f-8449-42b7-a65b-17cd998876f6",
   "metadata": {},
   "outputs": [],
   "source": [
    "Q2. What is the F1 score and how is it calculated? How is it different from precision and recall?\n",
    "-----------\n",
    "F1-score is the evaluation matrix that combines two matrices: Precision and Recall, into a single metric by taking their harmonic mean. \n",
    "In simple terms, the f1 score is the weighted average mean of Precision and Recall.\n",
    "\n",
    "F1 score = 2*Precision*Recall/Precision+Recall\n",
    "\n",
    "Fi score is different from Precision and Recall as it is a measure that combines recall and precision."
   ]
  },
  {
   "cell_type": "code",
   "execution_count": null,
   "id": "bd21b1be-4db2-4599-ad37-3809c9040646",
   "metadata": {},
   "outputs": [],
   "source": [
    "Q3. What is ROC and AUC, and how are they used to evaluate the performance of classification models?\n",
    "------------\n",
    "ROC: Receiver Operating Characteristic Curve\n",
    "    ROC is a probability curve.\n",
    "    ROC or Receiver Operating Characteristic curve represents a probability graph to show the performance of a classification model at different threshold levels. \n",
    "    The curve is plotted between two parameters, which are: True Positive Rate or TPR and False Positive Rate or FPR\n",
    "    \n",
    "AUC: Area Under the Curve\n",
    "    AUC represents the degree or measure of separability\n",
    "    AUC is known for Area Under the ROC curve. \n",
    "    AUC calculates the two-dimensional area under the entire ROC curve ranging from (0,0) to (1,1)\n",
    "\n",
    "    In the ROC curve, AUC computes the performance of the binary classifier across different thresholds and provides an aggregate measure. \n",
    "    The value of AUC ranges from 0 to 1, which means an excellent model will have AUC near 1, and hence it will show a good measure of Separability."
   ]
  },
  {
   "cell_type": "code",
   "execution_count": null,
   "id": "164caf01-b3dc-4d8c-86b2-f50ecdb77129",
   "metadata": {},
   "outputs": [],
   "source": [
    "Q4. How do you choose the best metric to evaluate the performance of a classification model?\n",
    "What is multiclass classification and how is it different from binary classification?\n",
    "-----------\n",
    "Metrics like accuracy, precision, recall are good ways to evaluate classification models for balanced datasets, but if the data is imbalanced then other methods like ROC/AUC perform better in evaluating the model performance.\n",
    "To choose best metrics we should follow below steps:\n",
    "    Define the problem type\n",
    "    Identify the stakeholders and goals\n",
    "    Choose relevant and interpretable metrics\n",
    "    Consider multiple and complementary metrics\n",
    "    Evaluate the trade-offs between metrics\n",
    "\n",
    "Multiclass Classification is where each data sample is assigned one and only one label from more than two classes.\n",
    "\n",
    "Binary Classification\n",
    "    In binary classification, the goal is to classify the input into one of two classes or categories. \n",
    "    Example – On the basis of the given health conditions of a person, we have to determine whether the person has a certain disease or not.\n",
    "\n",
    "Multiclass Classification\n",
    "    In multi-class classification, the goal is to classify the input into one of several classes or categories. \n",
    "    For Example – On the basis of data about different species of flowers, we have to determine which specie our observation belongs to."
   ]
  },
  {
   "cell_type": "code",
   "execution_count": null,
   "id": "8c0ce907-94bc-4bee-8c19-b776fe4b5b4b",
   "metadata": {},
   "outputs": [],
   "source": [
    "Q5. Explain how logistic regression can be used for multiclass classification.\n",
    "-----------\n",
    "\n",
    "Logistic regression can be applied to solve multiclass problems. \n",
    "For each class, build a logistic regression to find the probability the observation belongs to that class. \n",
    "For each data point, predict the class with the highest probability. \n",
    "Normalizes probabilities so they sum to 1.\n",
    "\n",
    "One-vs-Rest (OvR) multiclass strategy\n",
    "When there are more than two classes in the target vector, the one-vs-rest strategy allows logistic regression to train a separate model for each class comparing with all the remaining classes. \n",
    "Therefore, this is also known as the One-vs-All (OvA) strategy.\n",
    "This method creates one logistic regression model for each class against all other classes. \n",
    "If the target vector has four classes (e.g. Cat, Dog, Monkey, Bear), this strategy will create four separate models in the following way.\n",
    "\n",
    "Model 1: Cat vs [Dog, Monkey, Bear]\n",
    "Model 2: Dog vs [Cat, Monkey, Bear]\n",
    "Model 3: Monkey vs [Cat, Dog, Bear]\n",
    "Model 4: Bear vs [Cat, Dog, Monkey]\n",
    "\n",
    "We can implement the OvR strategy with logistic regression by specifying the multi_class=\"ovr\" argument.\n",
    "\n",
    "# Create one-vs-rest logistic regression instance\n",
    "from sklearn.linear_model import LogisticRegression\n",
    "\n",
    "model = LogisticRegression(multi_class=\"ovr\")\n",
    "\n",
    "# Train the model\n",
    "model.fit(X_train, y_train)\n",
    "\n",
    "# Make predictions\n",
    "y_pred = model.predict(X_test)"
   ]
  },
  {
   "cell_type": "code",
   "execution_count": null,
   "id": "418aa260-615d-4f39-86db-cab79d2cc3b5",
   "metadata": {},
   "outputs": [],
   "source": [
    "Q6. Describe the steps involved in an end-to-end project for multiclass classification.\n",
    "-----------\n",
    "Approach for multiclass classification:\n",
    "    Load dataset from the source.\n",
    "    Split the dataset into “training” and “test” data.\n",
    "    Train Decision tree, SVM, and KNN classifiers on the training data.\n",
    "    Use the above classifiers to predict labels for the test data.\n",
    "    Measure accuracy and visualize classification."
   ]
  },
  {
   "cell_type": "code",
   "execution_count": null,
   "id": "1001c16f-3565-4b4e-a919-a2dfc9567095",
   "metadata": {},
   "outputs": [],
   "source": [
    "Q7. What is model deployment and why is it important?\n",
    "-----------\n",
    "Model deployment is the process of putting machine learning models into production. \n",
    "It is important because, this makes the model's predictions available to users, developers or systems, so they can make business decisions based on data, interact with their application (like recognize a face in an image) and so on."
   ]
  },
  {
   "cell_type": "code",
   "execution_count": null,
   "id": "710a3774-8a77-4b21-9bbc-cefb266cbcfc",
   "metadata": {},
   "outputs": [],
   "source": [
    "Q8. Explain how multi-cloud platforms are used for model deployment.\n",
    "-----------\n",
    "Multicloud deployments interconnect services from separate cloud environments for different purposes without having to connect the clouds.\n",
    "\n",
    "Multi cloud is the use of two or more cloud providers together, they might be public, private or a mix of both to achieve the organization’s goals. \n",
    "Basically it is the use of various types of cloud operators to have more features and increase their organization’s flexibility which also covers the disadvantages of the individual platforms. \n",
    "Companies prefer multi-cloud environments as they can distribute computing resources and minimize the risk of downtime and data loss.\n",
    "Multi cloud allows one organization to use most appropriate and most beneficial cloud options based on their business requirement that may be public or private cloud for each separate application. "
   ]
  },
  {
   "cell_type": "code",
   "execution_count": null,
   "id": "1ed97738-86bc-4abf-adaa-9aceef6d0756",
   "metadata": {},
   "outputs": [],
   "source": [
    "Q9. Discuss the benefits and challenges of deploying machine learning models in a multi-cloud\n",
    "environment.\n",
    "----------\n",
    "Benefits:\n",
    "    Innovation –\n",
    "        Multi cloud strategy have the flexibility to rapidly innovate while also taking advantage of the best features every cloud provider gives. \n",
    "        This helps the development teams to focus on innovating without the limitation of the providers holding them back.\n",
    "    Risk Mitigation –\n",
    "        Cloud providers have different locations across the globe that can be picked to host the cloud environment.\n",
    "    Vendor lock-in –\n",
    "        By taking service from multiple cloud providers the risk of getting stuck on a single provider in case the provider goes out of business or change their term of service.\n",
    "    Power Negotiation –\n",
    "        If there are multiple providers it is easy to negotiate with the providers for better pricing.\n",
    "    Latency –\n",
    "        Being able to select which region to host your cloud environment is very useful as the organization can pick regions which will have less traffic and provide lower latency to the customer.\n",
    "        \n",
    "Challenges:\n",
    "    1.Finding the right providers.\n",
    "    2.Integration or setting up a bridge among the different environments owned for data flow.\n",
    "    3.Picking out locations and price which will be suit their needs.\n",
    "    4.Securing them by regular monitoring the data clouds."
   ]
  }
 ],
 "metadata": {
  "kernelspec": {
   "display_name": "Python 3 (ipykernel)",
   "language": "python",
   "name": "python3"
  },
  "language_info": {
   "codemirror_mode": {
    "name": "ipython",
    "version": 3
   },
   "file_extension": ".py",
   "mimetype": "text/x-python",
   "name": "python",
   "nbconvert_exporter": "python",
   "pygments_lexer": "ipython3",
   "version": "3.10.8"
  }
 },
 "nbformat": 4,
 "nbformat_minor": 5
}
