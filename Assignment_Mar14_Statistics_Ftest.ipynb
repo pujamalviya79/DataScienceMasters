{
 "cells": [
  {
   "cell_type": "code",
   "execution_count": 1,
   "id": "cee76887-4234-4844-abee-40fc4a5585cf",
   "metadata": {},
   "outputs": [
    {
     "name": "stdout",
     "output_type": "stream",
     "text": [
      "f_test ::  5.986829727187206\n",
      "p_value ::  3.7870435399280677\n"
     ]
    }
   ],
   "source": [
    "'''Q1. Write a Python function that takes in two arrays of data and calculates the F-value for a variance ratio\n",
    "test. The function should return the F-value and the corresponding p-value for the test.\n",
    "-----------'''\n",
    "\n",
    "import numpy as np\n",
    "import scipy.stats as stat\n",
    "\n",
    "sample1 = [15,18,22,26,29,29,42,45]\n",
    "sample2 = [15,16,14,18,18,22,25,25]\n",
    "\n",
    "f_test=np.var(sample1)/np.var(sample2)\n",
    "\n",
    "print('f_test :: ',f_test)\n",
    "\n",
    "df1=len(sample1)-1\n",
    "df2=len(sample2)-1\n",
    "significance_value=0.05\n",
    "\n",
    "p_value=stat.f.ppf(q=1-significance_value,dfn=df1,dfd=df2)\n",
    "print('p_value :: ',p_value)"
   ]
  },
  {
   "cell_type": "code",
   "execution_count": null,
   "id": "f2cf4216-8cfe-413b-8f3a-cdee5a50ebeb",
   "metadata": {},
   "outputs": [],
   "source": [
    "Q2. Given a significance level of 0.05 and the degrees of freedom for the numerator and denominator of an\n",
    "F-distribution, write a Python function that returns the critical F-value for a two-tailed test.\n",
    "--------\n",
    "df1=len(sample1)-1\n",
    "df2=len(sample2)-1\n",
    "significance_value=0.05\n",
    "\n",
    "critical_value=stat.f.ppf(q=1-significance_value,dfn=df1,dfd=df2)"
   ]
  },
  {
   "cell_type": "code",
   "execution_count": 15,
   "id": "2363d6ba-9392-47c7-a563-06a92e096f58",
   "metadata": {},
   "outputs": [
    {
     "name": "stdout",
     "output_type": "stream",
     "text": [
      "f_test ::  2.982030108549723\n",
      "p_value ::  3.178893104458269\n",
      "We fail to reject the null hypothesis\n"
     ]
    }
   ],
   "source": [
    "'''Q3. Write a Python program that generates random samples from two normal distributions with known\n",
    "\n",
    "variances and uses an F-test to determine if the variances are equal. The program should output the F-\n",
    "value, degrees of freedom, and p-value for the test.\n",
    "\n",
    "---------'''\n",
    "import numpy as np\n",
    "\n",
    "sample1 = np.random.rand(10)\n",
    "sample2 = np.random.rand(10)\n",
    "\n",
    "f_test=np.var(sample1)/np.var(sample2)\n",
    "print('f_test :: ',f_test)\n",
    "\n",
    "df1=len(sample1)-1\n",
    "df2=len(sample2)-1\n",
    "significance_value=0.05\n",
    "\n",
    "critical_value=stat.f.ppf(q=1-significance_value,dfn=df1,dfd=df2)\n",
    "print('p_value :: ',critical_value)\n",
    "\n",
    "if f_test>critical_value:\n",
    "    print(\"Reject the Null Hypothesis\")\n",
    "else:\n",
    "    print(\"We fail to reject the null hypothesis\")"
   ]
  },
  {
   "cell_type": "code",
   "execution_count": 17,
   "id": "b6ad5532-426f-425f-8394-b623e6d084e2",
   "metadata": {},
   "outputs": [
    {
     "name": "stdout",
     "output_type": "stream",
     "text": [
      "f_test ::  0.6666666666666666\n",
      "critical_value ::  2.8179304699530863\n",
      "We fail to reject the null hypothesis\n"
     ]
    }
   ],
   "source": [
    "'''Q4.The variances of two populations are known to be 10 and 15. A sample of 12 observations is taken from\n",
    "each population. Conduct an F-test at the 5% significance level to determine if the variances are\n",
    "significantly different.\n",
    "------\n",
    "Ho: var1 != var2\n",
    "Ha: var1 = var2'''\n",
    "\n",
    "var1 = 10\n",
    "var2 = 15\n",
    "\n",
    "f_test=var1/var2\n",
    "print('f_test :: ',f_test)\n",
    "\n",
    "df1=12-1\n",
    "df2=12-1\n",
    "significance_value=0.05\n",
    "\n",
    "critical_value=stat.f.ppf(q=1-significance_value,dfn=df1,dfd=df2)\n",
    "print('critical_value :: ',critical_value)\n",
    "\n",
    "if f_test>critical_value:\n",
    "    print(\"Reject the Null Hypothesis\")\n",
    "else:\n",
    "    print(\"We fail to reject the null hypothesis\")"
   ]
  },
  {
   "cell_type": "code",
   "execution_count": 18,
   "id": "c74507a2-b463-4b3b-8c77-a2f1b1db9117",
   "metadata": {},
   "outputs": [
    {
     "name": "stdout",
     "output_type": "stream",
     "text": [
      "f_test ::  0.8333333333333334\n",
      "critical_value ::  2.659072104348157\n",
      "We fail to reject the null hypothesis\n"
     ]
    }
   ],
   "source": [
    "'''Q5. A manufacturer claims that the variance of the diameter of a certain product is 0.005. A sample of 25\n",
    "products is taken, and the sample variance is found to be 0.006. Conduct an F-test at the 1% significance\n",
    "level to determine if the claim is justified.\n",
    "---------\n",
    "\n",
    "Ho: var1=var2\n",
    "Ha: var1 != var2'''\n",
    "\n",
    "var1 = 0.005\n",
    "var2 = 0.006\n",
    "\n",
    "f_test=var1/var2\n",
    "print('f_test :: ',f_test)\n",
    "\n",
    "df1=25-1\n",
    "df2=25-1\n",
    "significance_value=0.01\n",
    "\n",
    "critical_value=stat.f.ppf(q=1-significance_value,dfn=df1,dfd=df2)\n",
    "print('critical_value :: ',critical_value)\n",
    "\n",
    "if f_test>critical_value:\n",
    "    print(\"Reject the Null Hypothesis\")\n",
    "else:\n",
    "    print(\"We fail to reject the null hypothesis\")"
   ]
  },
  {
   "cell_type": "code",
   "execution_count": 6,
   "id": "9f616672-b879-43d3-94b6-61176a06d569",
   "metadata": {},
   "outputs": [
    {
     "name": "stdout",
     "output_type": "stream",
     "text": [
      "Mean ::  0.6666666666666667\n",
      "Variance ::  1.9466666666666668\n"
     ]
    }
   ],
   "source": [
    "'''Q6. Write a Python function that takes in the degrees of freedom for the numerator and denominator of an\n",
    "F-distribution and calculates the mean and variance of the distribution. The function should return the\n",
    "mean and variance as a tuple.\n",
    "------'''\n",
    "\n",
    "df1 = 15\n",
    "df2 = 9\n",
    "\n",
    "μ=(df1/df2) - 1\n",
    "print('Mean :: ', μ)\n",
    "\n",
    "FStatistic = 2.92\n",
    "\n",
    "variance = 2.92*μ\n",
    "print('Variance :: ', variance)\n",
    "\n"
   ]
  },
  {
   "cell_type": "code",
   "execution_count": 8,
   "id": "e5f593d3-04c1-4b99-a4c0-902e066b44f9",
   "metadata": {},
   "outputs": [
    {
     "name": "stdout",
     "output_type": "stream",
     "text": [
      "f_test ::  1.25\n",
      "critical_value ::  2.121954566976902\n",
      "We fail to reject the null hypothesis\n"
     ]
    }
   ],
   "source": [
    "'''Q7. A random sample of 10 measurements is taken from a normal population with unknown variance. The\n",
    "sample variance is found to be 25. Another random sample of 15 measurements is taken from another\n",
    "normal population with unknown variance, and the sample variance is found to be 20. Conduct an F-test\n",
    "at the 10% significance level to determine if the variances are significantly different.\n",
    "-----------\n",
    "Ho: var1=var2\n",
    "Ha: var1!=var2'''\n",
    "\n",
    "import scipy.stats as stat\n",
    "\n",
    "n1=10\n",
    "var1=25\n",
    "n2=15\n",
    "var2=20\n",
    "\n",
    "f_test=var1/var2\n",
    "print('f_test :: ',f_test)\n",
    "\n",
    "df1=10-1\n",
    "df2=15-1\n",
    "significance_value=0.1\n",
    "\n",
    "critical_value=stat.f.ppf(q=1-significance_value,dfn=df1,dfd=df2)\n",
    "print('critical_value :: ',critical_value)\n",
    "\n",
    "if f_test>critical_value:\n",
    "    print(\"Reject the Null Hypothesis\")\n",
    "else:\n",
    "    print(\"We fail to reject the null hypothesis\")"
   ]
  },
  {
   "cell_type": "code",
   "execution_count": 10,
   "id": "139940e0-d07e-4e0d-b279-eebdc73396c8",
   "metadata": {},
   "outputs": [
    {
     "name": "stdout",
     "output_type": "stream",
     "text": [
      "f_test ::  1.496767651159843\n",
      "critical_value ::  4.950288068694318\n",
      "We fail to reject the null hypothesis\n"
     ]
    }
   ],
   "source": [
    "'''Q8. The following data represent the waiting times in minutes at two different restaurants on a Saturday\n",
    "night: Restaurant A: 24, 25, 28, 23, 22, 20, 27; Restaurant B: 31, 33, 35, 30, 32, 36. Conduct an F-test at the 5%\n",
    "significance level to determine if the variances are significantly different.\n",
    "--------\n",
    "Ho: var1=var2\n",
    "Ha: var1!=var2'''\n",
    "\n",
    "import numpy as np\n",
    "import scipy.stats as stat\n",
    "\n",
    "RestaurantA= [24, 25, 28, 23, 22, 20, 27]\n",
    "RestaurantB= [31, 33, 35, 30, 32, 36]\n",
    "significance_value=0.05\n",
    "\n",
    "f_test=np.var(RestaurantA)/np.var(RestaurantB)\n",
    "\n",
    "print('f_test :: ',f_test)\n",
    "\n",
    "df1=len(RestaurantA)-1\n",
    "df2=len(RestaurantB)-1\n",
    "\n",
    "critical_value=stat.f.ppf(q=1-significance_value,dfn=df1,dfd=df2)\n",
    "print('critical_value :: ',critical_value)\n",
    "\n",
    "if f_test>critical_value:\n",
    "    print(\"Reject the Null Hypothesis\")\n",
    "else:\n",
    "    print(\"We fail to reject the null hypothesis\")"
   ]
  },
  {
   "cell_type": "code",
   "execution_count": 11,
   "id": "b2bccfc5-ce4b-443b-8972-6f872592db21",
   "metadata": {},
   "outputs": [
    {
     "name": "stdout",
     "output_type": "stream",
     "text": [
      "f_test ::  1.9442622950819677\n",
      "critical_value ::  5.050329057632646\n",
      "We fail to reject the null hypothesis\n"
     ]
    }
   ],
   "source": [
    "'''Q9. The following data represent the test scores of two groups of students: Group A: 80, 85, 90, 92, 87, 83;\n",
    "Group B: 75, 78, 82, 79, 81, 84. Conduct an F-test at the 1% significance level to determine if the variances\n",
    "are significantly different.\n",
    "-----------\n",
    "Ho: var1=var2\n",
    "Ha: var1!=var2'''\n",
    "\n",
    "import numpy as np\n",
    "import scipy.stats as stat\n",
    "\n",
    "GroupA = [80, 85, 90, 92, 87, 83]\n",
    "GroupB = [75, 78, 82, 79, 81, 84]\n",
    "\n",
    "f_test=np.var(GroupA)/np.var(GroupB)\n",
    "\n",
    "print('f_test :: ',f_test)\n",
    "\n",
    "df1=len(GroupA)-1\n",
    "df2=len(GroupB)-1\n",
    "\n",
    "critical_value=stat.f.ppf(q=1-significance_value,dfn=df1,dfd=df2)\n",
    "print('critical_value :: ',critical_value)\n",
    "\n",
    "if f_test>critical_value:\n",
    "    print(\"Reject the Null Hypothesis\")\n",
    "else:\n",
    "    print(\"We fail to reject the null hypothesis\")"
   ]
  }
 ],
 "metadata": {
  "kernelspec": {
   "display_name": "Python 3 (ipykernel)",
   "language": "python",
   "name": "python3"
  },
  "language_info": {
   "codemirror_mode": {
    "name": "ipython",
    "version": 3
   },
   "file_extension": ".py",
   "mimetype": "text/x-python",
   "name": "python",
   "nbconvert_exporter": "python",
   "pygments_lexer": "ipython3",
   "version": "3.10.8"
  }
 },
 "nbformat": 4,
 "nbformat_minor": 5
}
