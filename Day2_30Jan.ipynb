{
 "cells": [
  {
   "cell_type": "code",
   "execution_count": 1,
   "id": "9e3f2eeb-c1fe-4f1c-86f9-953f8d42db1f",
   "metadata": {},
   "outputs": [],
   "source": [
    "## Day2"
   ]
  },
  {
   "cell_type": "code",
   "execution_count": 2,
   "id": "4403f1ae-8a56-494f-bba6-58008992655c",
   "metadata": {},
   "outputs": [
    {
     "name": "stdout",
     "output_type": "stream",
     "text": [
      "Hello World\n"
     ]
    }
   ],
   "source": [
    "print(\"Hello World\")"
   ]
  },
  {
   "cell_type": "code",
   "execution_count": 3,
   "id": "34a39a69-b4c3-45c4-9d57-7081bfb8d345",
   "metadata": {},
   "outputs": [
    {
     "name": "stdout",
     "output_type": "stream",
     "text": [
      "123\n"
     ]
    }
   ],
   "source": [
    "print(123)"
   ]
  },
  {
   "cell_type": "code",
   "execution_count": 4,
   "id": "8fdf4f7d-bf7e-4def-8b5f-c2fc196a2040",
   "metadata": {},
   "outputs": [
    {
     "name": "stdout",
     "output_type": "stream",
     "text": [
      "Age is ::  30\n"
     ]
    }
   ],
   "source": [
    "age=30\n",
    "print(\"Age is :: \", age)"
   ]
  },
  {
   "cell_type": "code",
   "execution_count": 5,
   "id": "5a724e66-c534-44d6-9f61-951e7defd756",
   "metadata": {},
   "outputs": [
    {
     "name": "stdout",
     "output_type": "stream",
     "text": [
      "Age is :: {age}\n"
     ]
    }
   ],
   "source": [
    "print(\"Age is :: {age}\")"
   ]
  },
  {
   "cell_type": "code",
   "execution_count": 8,
   "id": "8aaba743-42c1-44da-b04a-4c71afe46f19",
   "metadata": {},
   "outputs": [
    {
     "name": "stdout",
     "output_type": "stream",
     "text": [
      "Age is :: 30\n"
     ]
    }
   ],
   "source": [
    "# formatting\n",
    "# f string\n",
    "print(f\"Age is :: {age}\")"
   ]
  },
  {
   "cell_type": "code",
   "execution_count": 10,
   "id": "b75f1b52-1e9a-4969-ac96-d6ca1de6279d",
   "metadata": {},
   "outputs": [
    {
     "name": "stdout",
     "output_type": "stream",
     "text": [
      "Name is :: Ram and age is :: 30\n"
     ]
    }
   ],
   "source": [
    "## format()\n",
    "\n",
    "name=\"Ram\"\n",
    "age=30\n",
    "print(\"Name is :: {} and age is :: {}\".format(name,age))"
   ]
  },
  {
   "cell_type": "code",
   "execution_count": 11,
   "id": "5694f083-efef-4808-bbc8-dfd60ec20d28",
   "metadata": {},
   "outputs": [
    {
     "name": "stdout",
     "output_type": "stream",
     "text": [
      "Name is :: Ram and age is 30\n"
     ]
    }
   ],
   "source": [
    "## placeholder\n",
    "print(\"Name is :: {firstname} and age is {firstage}\".format(firstage=age,firstname=name))"
   ]
  },
  {
   "cell_type": "code",
   "execution_count": 13,
   "id": "29a9f569-eec2-44e4-9180-5228ac1f8d7b",
   "metadata": {},
   "outputs": [
    {
     "name": "stdout",
     "output_type": "stream",
     "text": [
      "My age is 31 and i have completed : my degree BTech with the name of Puja\n"
     ]
    }
   ],
   "source": [
    "name = \"Puja\"\n",
    "age = 31\n",
    "degree = \"BTech\"\n",
    "\n",
    "## print :: My age is 32 and i have completed : my degree of BE with the name of Puja\n",
    "\n",
    "print(\"My age is {} and i have completed : my degree {} with the name of {}\".format(age,degree,name))"
   ]
  },
  {
   "cell_type": "code",
   "execution_count": 14,
   "id": "11e5a59d-ae11-4d83-9daf-59e1b80d607a",
   "metadata": {},
   "outputs": [
    {
     "name": "stdout",
     "output_type": "stream",
     "text": [
      "My age is 31 and i have completed : my degree BTech with the name of Puja\n"
     ]
    }
   ],
   "source": [
    "print(f\"My age is {age} and i have completed : my degree {degree} with the name of {name}\")"
   ]
  },
  {
   "cell_type": "code",
   "execution_count": 19,
   "id": "f5ef5aa5-e4fc-4cec-97e5-ee33bbe61a0b",
   "metadata": {},
   "outputs": [
    {
     "name": "stdout",
     "output_type": "stream",
     "text": [
      "Can vote\n"
     ]
    }
   ],
   "source": [
    "## Control Flow\n",
    "## Decision making statements\n",
    "\n",
    "# if statement\n",
    "## colon indiicates the start of the if block\n",
    "\n",
    "age=18\n",
    "\n",
    "if age>=18:\n",
    "    print(\"Can vote\")"
   ]
  },
  {
   "cell_type": "code",
   "execution_count": 18,
   "id": "e5162407-3f71-4d4f-bb04-b065bc725509",
   "metadata": {},
   "outputs": [],
   "source": [
    "age=16\n",
    "\n",
    "if age>=18:\n",
    "    print(\"Can vote\")"
   ]
  },
  {
   "cell_type": "code",
   "execution_count": 20,
   "id": "75e70b63-a845-4a73-b957-8f90abed8676",
   "metadata": {},
   "outputs": [
    {
     "name": "stdin",
     "output_type": "stream",
     "text": [
      "Please provide age ::  17\n"
     ]
    },
    {
     "data": {
      "text/plain": [
       "'17'"
      ]
     },
     "execution_count": 20,
     "metadata": {},
     "output_type": "execute_result"
    }
   ],
   "source": [
    "input(\"Please provide age :: \")"
   ]
  },
  {
   "cell_type": "code",
   "execution_count": 21,
   "id": "8deddab1-ce4f-4fca-8061-b0982552b239",
   "metadata": {},
   "outputs": [
    {
     "name": "stdin",
     "output_type": "stream",
     "text": [
      "Please provide age ::  20\n"
     ]
    }
   ],
   "source": [
    "age = input(\"Please provide age :: \")"
   ]
  },
  {
   "cell_type": "code",
   "execution_count": 22,
   "id": "bc5ed8ee-1fa7-4c56-a97b-66e4112a7d5e",
   "metadata": {},
   "outputs": [
    {
     "name": "stdout",
     "output_type": "stream",
     "text": [
      "20\n"
     ]
    }
   ],
   "source": [
    "print(age)"
   ]
  },
  {
   "cell_type": "code",
   "execution_count": 24,
   "id": "0c8b425e-6237-4db9-92ee-4f13aa999923",
   "metadata": {},
   "outputs": [
    {
     "name": "stdin",
     "output_type": "stream",
     "text": [
      "Please provide age ::  25\n"
     ]
    }
   ],
   "source": [
    "age = int(input(\"Please provide age :: \"))"
   ]
  },
  {
   "cell_type": "code",
   "execution_count": 25,
   "id": "4d3593b7-ea27-4d46-a2c3-138f603b3502",
   "metadata": {},
   "outputs": [
    {
     "data": {
      "text/plain": [
       "int"
      ]
     },
     "execution_count": 25,
     "metadata": {},
     "output_type": "execute_result"
    }
   ],
   "source": [
    "type(age)"
   ]
  },
  {
   "cell_type": "code",
   "execution_count": 29,
   "id": "41193120-528a-44ed-872d-27ac24af7386",
   "metadata": {},
   "outputs": [
    {
     "name": "stdin",
     "output_type": "stream",
     "text": [
      "Please provide age ::  25\n"
     ]
    },
    {
     "name": "stdout",
     "output_type": "stream",
     "text": [
      "You are a young blood\n"
     ]
    }
   ],
   "source": [
    "# take an input of age\n",
    "# check whether age is >=18 and age <=45\n",
    "# display a message you are young blood\n",
    "\n",
    "age = int(input(\"Please provide age :: \"))\n",
    "\n",
    "if age>=18 and age<=45:\n",
    "    print(\"You are a young blood\")\n"
   ]
  },
  {
   "cell_type": "code",
   "execution_count": 30,
   "id": "a90f430b-5d46-4a61-87f4-6e0c1490c6b2",
   "metadata": {},
   "outputs": [
    {
     "name": "stdin",
     "output_type": "stream",
     "text": [
      "Please provide age ::  12\n"
     ]
    },
    {
     "name": "stdout",
     "output_type": "stream",
     "text": [
      "Thank You for applying, we will let u know\n"
     ]
    }
   ],
   "source": [
    "# if else statement\n",
    "age = int(input(\"Please provide age :: \"))\n",
    "\n",
    "if age>=18 and age<=45:\n",
    "    print(\"You are a young blood\")\n",
    "else:\n",
    "    print(\"Thank You for applying, we will let u know\")"
   ]
  },
  {
   "cell_type": "code",
   "execution_count": 34,
   "id": "27dceab8-d475-4705-a4b4-9bfad8d592b9",
   "metadata": {},
   "outputs": [
    {
     "name": "stdin",
     "output_type": "stream",
     "text": [
      "Please provide product price ::  2000\n"
     ]
    },
    {
     "name": "stdout",
     "output_type": "stream",
     "text": [
      "Selling price is ::  1600.0\n"
     ]
    }
   ],
   "source": [
    "## mall \n",
    "## any product >1000 has 20% off\n",
    "## any product <=1000 discount of 30% off\n",
    "\n",
    "product_price = int(input(\"Please provide product price :: \"))\n",
    "\n",
    "if(product_price > 1000):\n",
    "    price = product_price - (0.2*product_price)\n",
    "    print(\"Selling price is :: \",price)\n",
    "else:\n",
    "    price = product_price - (0.3*product_price)\n",
    "    print(\"Selling price is :: \",price)\n"
   ]
  },
  {
   "cell_type": "code",
   "execution_count": 37,
   "id": "5fdeae64-334e-46c4-8616-fa7253de7b35",
   "metadata": {},
   "outputs": [
    {
     "name": "stdin",
     "output_type": "stream",
     "text": [
      "Please provide product price ::  4000\n"
     ]
    },
    {
     "name": "stdout",
     "output_type": "stream",
     "text": [
      "Selling price is :: 3200.0\n"
     ]
    }
   ],
   "source": [
    "product_price = int(input(\"Please provide product price :: \"))\n",
    "\n",
    "if(product_price > 1000):\n",
    "    print(\"Selling price is :: {}\".format(product_price*0.8))\n",
    "else:\n",
    "    print(\"Selling price is :: {}\".format(product_price*0.7))"
   ]
  },
  {
   "cell_type": "code",
   "execution_count": 39,
   "id": "f8a80146-797a-48da-9fa2-46be7b56224a",
   "metadata": {},
   "outputs": [
    {
     "name": "stdin",
     "output_type": "stream",
     "text": [
      "Please provide product price ::  2000\n"
     ]
    },
    {
     "name": "stdout",
     "output_type": "stream",
     "text": [
      "Selling price is :: 1600.0\n"
     ]
    }
   ],
   "source": [
    "product_price = int(input(\"Please provide product price :: \"))\n",
    "\n",
    "if(product_price > 1000):\n",
    "    print(f\"Selling price is :: {product_price*0.8}\")\n",
    "else:\n",
    "    print(f\"Selling price is :: {product_price*0.7}\")"
   ]
  },
  {
   "cell_type": "code",
   "execution_count": 55,
   "id": "f9cdc9ef-fd60-489c-a7f2-f1d41e1b05a8",
   "metadata": {},
   "outputs": [
    {
     "name": "stdin",
     "output_type": "stream",
     "text": [
      "Please provide product price ::  4000\n"
     ]
    },
    {
     "name": "stdout",
     "output_type": "stream",
     "text": [
      "Wowwwww You get a trip to GOA\n",
      "Selling price is :: 3200.0\n"
     ]
    }
   ],
   "source": [
    "## mall \n",
    "## any product >3000 has 20% off\n",
    "## any product >2000 <=3000 discount of 30% off\n",
    "## product 100 and <=2000 40% off\n",
    "## if price is 2999 then additional gift\n",
    "## if price is equal to 4000 then u will get a trip to GOA\n",
    "\n",
    "product_price = int(input(\"Please provide product price :: \"))\n",
    "\n",
    "if(product_price > 3000):\n",
    "    if(product_price == 4000):\n",
    "        print(\"Wowwwww You get a trip to GOA\")\n",
    "    print(f\"Selling price is :: {product_price*0.8}\")\n",
    "elif (product_price > 2000 and product_price <= 3000):\n",
    "    if(product_price == 2999):\n",
    "        print(\"Congratulations You will get an additional gift\")\n",
    "    print(f\"Selling price is :: {product_price*0.7}\")\n",
    "elif (product_price > 100 and product_price <= 2000):\n",
    "    print(f\"Selling price is :: {product_price*0.6}\")\n",
    "else:\n",
    "    print(\"Lets drink a cup of tea\")\n"
   ]
  },
  {
   "cell_type": "code",
   "execution_count": 57,
   "id": "d6de1685-7dc3-4152-96cd-da7121adeb01",
   "metadata": {},
   "outputs": [
    {
     "name": "stdin",
     "output_type": "stream",
     "text": [
      "Provide a number ::  2000\n"
     ]
    },
    {
     "name": "stdout",
     "output_type": "stream",
     "text": [
      "Go Home\n"
     ]
    }
   ],
   "source": [
    "# Single statements\n",
    "\n",
    "val=int(input(\"Provide a number :: \"))\n",
    "if(val<=999):print(\"Value is \",val)\n",
    "else:print(\"Go Home\")"
   ]
  },
  {
   "cell_type": "code",
   "execution_count": 58,
   "id": "33013692-b932-4499-8126-acedf0ee7068",
   "metadata": {},
   "outputs": [
    {
     "name": "stdout",
     "output_type": "stream",
     "text": [
      "Joining Age ::  46\n",
      "Joining Age ::  47\n",
      "Joining Age ::  48\n",
      "Joining Age ::  49\n",
      "Joining Age ::  50\n",
      "Joining Age ::  51\n",
      "Joining Age ::  52\n",
      "Joining Age ::  53\n",
      "Joining Age ::  54\n",
      "Joining Age ::  55\n",
      "Joining Age ::  56\n",
      "Joining Age ::  57\n",
      "Joining Age ::  58\n",
      "Joining Age ::  59\n",
      "Joining Age ::  60\n",
      "Joining Age ::  61\n"
     ]
    }
   ],
   "source": [
    "## while loop\n",
    "\n",
    "joining_Age = 45\n",
    "\n",
    "while(joining_Age<=60):\n",
    "    joining_Age=joining_Age+1\n",
    "    print(\"Joining Age :: \",joining_Age)\n",
    "    "
   ]
  },
  {
   "cell_type": "code",
   "execution_count": 61,
   "id": "279f05ba-9260-40df-bd95-eebeaa72dbdc",
   "metadata": {},
   "outputs": [
    {
     "name": "stdout",
     "output_type": "stream",
     "text": [
      "Joining Age ::  45\n",
      "Joining Age ::  46\n",
      "Joining Age ::  47\n",
      "Joining Age ::  48\n",
      "Joining Age ::  49\n",
      "Joining Age ::  50\n",
      "Joining Age ::  51\n",
      "Joining Age ::  52\n",
      "Joining Age ::  53\n",
      "Joining Age ::  54\n",
      "Joining Age ::  55\n",
      "Joining Age ::  56\n",
      "Joining Age ::  57\n",
      "Joining Age ::  58\n",
      "Joining Age ::  59\n",
      "Joining Age ::  60\n",
      "Its time for retirement\n"
     ]
    }
   ],
   "source": [
    "## while loop with else block\n",
    "\n",
    "joining_Age = 45\n",
    "\n",
    "while(joining_Age<=60):\n",
    "    print(\"Joining Age :: \",joining_Age)\n",
    "    joining_Age=joining_Age+1\n",
    "else:\n",
    "    print(\"Its time for retirement\")"
   ]
  },
  {
   "cell_type": "code",
   "execution_count": 63,
   "id": "eba6ac05-ad0d-482d-8032-859a91b6bef4",
   "metadata": {},
   "outputs": [
    {
     "name": "stdout",
     "output_type": "stream",
     "text": [
      "Total Amount ::  1000\n",
      "Total Amount ::  900\n",
      "Total Amount ::  800\n",
      "Total Amount ::  700\n",
      "Total Amount ::  600\n",
      "Total Amount ::  500\n",
      "Total Amount ::  400\n",
      "Total Amount ::  300\n",
      "Total Amount ::  200\n",
      "Total Amount ::  100\n",
      "Put more Money !!!\n"
     ]
    }
   ],
   "source": [
    "## ATM with 1000rs\n",
    "\n",
    "total_amt=1000\n",
    "while(total_amt!=0):\n",
    "    print(\"Total Amount :: \",total_amt)\n",
    "    total_amt=total_amt-100\n",
    "else:\n",
    "    print(\"Put more Money !!!\")"
   ]
  },
  {
   "cell_type": "code",
   "execution_count": 72,
   "id": "b6f69740-1db4-4729-9c67-b851100b24c7",
   "metadata": {},
   "outputs": [
    {
     "name": "stdout",
     "output_type": "stream",
     "text": [
      "abc\n",
      "abc\n",
      "23\n",
      "45\n",
      "Apple\n"
     ]
    }
   ],
   "source": [
    "## For loop\n",
    "\n",
    "list=[\"abc\",23,45,\"Apple\"]\n",
    "\n",
    "type(list)\n",
    "\n",
    "firstElement = list[0]\n",
    "print(firstElement)\n",
    "\n",
    "for a in list:\n",
    "    print(a)"
   ]
  },
  {
   "cell_type": "code",
   "execution_count": 83,
   "id": "f251580b-fccb-4075-a5de-e510a16a27aa",
   "metadata": {},
   "outputs": [
    {
     "name": "stdout",
     "output_type": "stream",
     "text": [
      "AppleThe fruit is Apple\n",
      "BananaPearPapayaCoconut"
     ]
    }
   ],
   "source": [
    "## to get list elements in one line use end=''\n",
    "\n",
    "fruits_list = [\"Apple\",\"Banana\",\"Pear\",\"Papaya\",\"Coconut\"]\n",
    "\n",
    "for ele in fruits_list:\n",
    "    print(ele,end='')\n",
    "    if(ele == \"Apple\"):\n",
    "        print(\"The fruit is Apple\")"
   ]
  },
  {
   "cell_type": "raw",
   "id": "b7b9f7c3-4eda-4d20-bebe-d6ea92dc2a4b",
   "metadata": {},
   "source": []
  },
  {
   "cell_type": "code",
   "execution_count": 80,
   "id": "16e9528e-d7be-42dc-9f80-e34f1565d83c",
   "metadata": {},
   "outputs": [
    {
     "name": "stdout",
     "output_type": "stream",
     "text": [
      "m\n",
      "a\n",
      "n\n",
      "g\n",
      "o\n",
      "m\n"
     ]
    }
   ],
   "source": [
    "fruit = \"mango\"\n",
    "\n",
    "for x in fruit:\n",
    "    print(x)\n",
    "    \n",
    "print(fruit[0])"
   ]
  },
  {
   "cell_type": "code",
   "execution_count": 92,
   "id": "7dc3569b-b61f-4ffc-991a-3b673e7472ca",
   "metadata": {},
   "outputs": [
    {
     "name": "stdout",
     "output_type": "stream",
     "text": [
      "*\n",
      "**\n",
      "***\n",
      "****\n",
      "*****\n",
      "******\n",
      "*******\n"
     ]
    }
   ],
   "source": [
    "## Nested loops\n",
    "\n",
    "## \\r is return -- to go to next line\n",
    "\n",
    "n=7\n",
    "\n",
    "for i in range(0,n):\n",
    "    for j in range(0,i+1):\n",
    "        print(\"*\",end=\"\")\n",
    "    print(\"\\r\")"
   ]
  },
  {
   "cell_type": "code",
   "execution_count": 93,
   "id": "df88bd8b-3538-4fe7-be1e-80afff93b2fc",
   "metadata": {},
   "outputs": [
    {
     "name": "stdout",
     "output_type": "stream",
     "text": [
      "*\n",
      "\n",
      "**\n",
      "\n",
      "***\n",
      "\n",
      "****\n",
      "\n",
      "*****\n",
      "\n",
      "******\n",
      "\n",
      "*******\n",
      "\n"
     ]
    }
   ],
   "source": [
    "## \\n is new line\n",
    "n=7\n",
    "\n",
    "for i in range(0,n):\n",
    "    for j in range(0,i+1):\n",
    "        print(\"*\",end=\"\")\n",
    "    print(\"\\n\")"
   ]
  },
  {
   "cell_type": "code",
   "execution_count": 87,
   "id": "7efb4d36-47b5-4c31-8aa0-290015098c01",
   "metadata": {},
   "outputs": [
    {
     "name": "stdout",
     "output_type": "stream",
     "text": [
      "1\n",
      "2\n",
      "3\n",
      "4\n",
      "5\n",
      "1\n",
      "3\n",
      "5\n",
      "7\n",
      "9\n"
     ]
    }
   ],
   "source": [
    "##range(1,6)\n",
    "## takes 1st number , excludes last number\n",
    "## 3rd number is step size\n",
    "\n",
    "for i in range(1,6):\n",
    "    print(i)\n",
    "    \n",
    "for j in range(1,10,2):\n",
    "    print(j)"
   ]
  },
  {
   "cell_type": "code",
   "execution_count": null,
   "id": "55460bd9-0b40-46ba-8c2a-4e7cbc92d4cd",
   "metadata": {},
   "outputs": [],
   "source": [
    "## loop controls\n",
    "\n",
    "##break and continue\n",
    "\n"
   ]
  },
  {
   "cell_type": "code",
   "execution_count": 94,
   "id": "4c7aa790-e3a2-4c97-8279-7ebc9d4978be",
   "metadata": {},
   "outputs": [
    {
     "name": "stdout",
     "output_type": "stream",
     "text": [
      "Apple\n",
      "The fruit is Banana\n"
     ]
    }
   ],
   "source": [
    "fruits_list = [\"Apple\",\"Banana\",\"Pear\",\"Papaya\",\"Coconut\"]\n",
    "\n",
    "for i in fruits_list:\n",
    "    if i==\"Banana\":\n",
    "        print(\"The fruit is Banana\")\n",
    "        break\n",
    "    print(i)"
   ]
  },
  {
   "cell_type": "code",
   "execution_count": 95,
   "id": "ae1bab7e-59f3-4352-8080-4d9bcd4600a3",
   "metadata": {},
   "outputs": [
    {
     "name": "stdout",
     "output_type": "stream",
     "text": [
      "Apple\n",
      "The fruit is Banana\n",
      "Banana\n",
      "Pear\n",
      "Papaya\n",
      "Coconut\n"
     ]
    }
   ],
   "source": [
    "for i in fruits_list:\n",
    "    if i==\"Banana\":\n",
    "        print(\"The fruit is Banana\")\n",
    "        pass\n",
    "    print(i)"
   ]
  },
  {
   "cell_type": "code",
   "execution_count": 96,
   "id": "ff25bc08-6218-4023-bd82-d8a72fa72931",
   "metadata": {},
   "outputs": [
    {
     "name": "stdout",
     "output_type": "stream",
     "text": [
      "Apple\n",
      "The fruit is Banana\n",
      "Pear\n",
      "Papaya\n",
      "Coconut\n"
     ]
    }
   ],
   "source": [
    "for i in fruits_list:\n",
    "    if i==\"Banana\":\n",
    "        print(\"The fruit is Banana\")\n",
    "        continue\n",
    "    print(i)"
   ]
  }
 ],
 "metadata": {
  "kernelspec": {
   "display_name": "Python 3 (ipykernel)",
   "language": "python",
   "name": "python3"
  },
  "language_info": {
   "codemirror_mode": {
    "name": "ipython",
    "version": 3
   },
   "file_extension": ".py",
   "mimetype": "text/x-python",
   "name": "python",
   "nbconvert_exporter": "python",
   "pygments_lexer": "ipython3",
   "version": "3.10.8"
  }
 },
 "nbformat": 4,
 "nbformat_minor": 5
}
