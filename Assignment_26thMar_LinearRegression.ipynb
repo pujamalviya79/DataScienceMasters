{
 "cells": [
  {
   "cell_type": "code",
   "execution_count": null,
   "id": "34f2f7cc-6b7c-46e2-8486-5f1b6a01cb9a",
   "metadata": {},
   "outputs": [],
   "source": [
    "Q1. Explain the difference between simple linear regression and multiple linear regression. Provide an\n",
    "example of each.\n",
    "--------\n",
    "Simple linear regression has only one x and one y variable. \n",
    "Multiple linear regression has one y and two or more x variables.\n",
    "\n",
    "Example:\n",
    "    Simple Regression: When we predict rent (Dependent Variable) based on square feet (Independent Variable) alone that is simple linear regression.\n",
    "    \n",
    "    Multiple Regression: When we predict rent (Dependent Variable) based on square feet (Independent Variable 1) and age (Independent Variable 2) of the building that is an example of multiple linear regression."
   ]
  },
  {
   "cell_type": "code",
   "execution_count": null,
   "id": "41ff7376-1752-463f-88a6-f3aab7d102f0",
   "metadata": {},
   "outputs": [],
   "source": [
    "Q2. Discuss the assumptions of linear regression. How can you check whether these assumptions hold in\n",
    "a given dataset?\n",
    "-------\n",
    "\n",
    "There are four assumptions associated with a linear regression model: \n",
    "    1. Linearity: The relationship between X and the mean of Y is linear. \n",
    "    2. Homoscedasticity: The variance of residual is the same for any value of X. \n",
    "    3. Independence: Observations are independent of each other.\n",
    "    4. Normality: For any fixed value of X, Y is normally distributed.\n",
    "    \n",
    "We can check this assumption using the Scale-Location plot. \n",
    "In this plot we can see the fitted values vs the square root of the standardized residuals. \n",
    "Ideally, we would want to see the residual points equally spread around the red line, which would indicate constant variance."
   ]
  },
  {
   "cell_type": "code",
   "execution_count": null,
   "id": "25638a17-41a6-491f-bef5-8c531eca825c",
   "metadata": {},
   "outputs": [],
   "source": [
    "Q3. How do you interpret the slope and intercept in a linear regression model? Provide an example using\n",
    "a real-world scenario.\n",
    "--------\n",
    "Interpret the slope: \n",
    "    If the speed of the club hitting the ball increases by 1 mph, then the model predicts that the length the ball travels increases by 57.66 yards. \n",
    "Interpret the intercept: \n",
    "    If the ball is hit with a speed of 0 mph, then the model predicts that the length the ball travels will be 3.18 yards."
   ]
  },
  {
   "cell_type": "code",
   "execution_count": null,
   "id": "a8b34e67-08aa-4b7e-881b-95674064874f",
   "metadata": {},
   "outputs": [],
   "source": [
    "Q4. Explain the concept of gradient descent. How is it used in machine learning?\n",
    "--------\n",
    "Gradient Descent is an optimization algorithm for finding a local minimum of a differentiable function. \n",
    "\n",
    "Gradient descent in machine learning is simply used to find the values of a function's parameters (coefficients) that minimize a cost function as far as possible."
   ]
  },
  {
   "cell_type": "code",
   "execution_count": null,
   "id": "420cd73e-39c9-4385-9c92-b4868b221f08",
   "metadata": {},
   "outputs": [],
   "source": [
    "Q5. Describe the multiple linear regression model. How does it differ from simple linear regression?\n",
    "---------\n",
    "Multiple regression is a broader class of regressions that encompasses linear and nonlinear regressions with multiple explanatory variables.\n",
    "Whereas linear regress only has one independent variable impacting the slope of the relationship, multiple regression incorporates multiple independent variables.\n"
   ]
  },
  {
   "cell_type": "code",
   "execution_count": null,
   "id": "5d5086f6-af29-4810-be40-9c4a809111d7",
   "metadata": {},
   "outputs": [],
   "source": [
    "Q6. Explain the concept of multicollinearity in multiple linear regression. How can you detect and\n",
    "address this issue?\n",
    "--------\n",
    "Multicollinearity exists whenever an independent variable is highly correlated with one or more of the other independent variables in a multiple regression equation. \n",
    "Multicollinearity is a problem because it will make the statistical inferences less reliable.\n",
    "We can check multicollinearity two ways: correlation coefficients and variance inflation factor (VIF) values. \n",
    "To check it using correlation coefficients, simply throw all predictor variables into a correlation matrix and look for coefficients with magnitudes of .80 or higher."
   ]
  },
  {
   "cell_type": "code",
   "execution_count": null,
   "id": "1403b663-0515-410b-a05f-dd02fb3a4982",
   "metadata": {},
   "outputs": [],
   "source": [
    "Q7. Describe the polynomial regression model. How is it different from linear regression?\n",
    "--------\n",
    "A polynomial regression model is a machine learning model that can capture non-linear relationships between variables by fitting a non-linear regression line, which may not be possible with simple linear regression. \n",
    "It is used when linear regression models may not adequately capture the complexity of the relationship.\n",
    "\n",
    "If we apply a linear model on a linear dataset, then it provides us a good result as we have seen in Simple Linear Regression, \n",
    "but if we apply the same model without any modification on a non-linear dataset, then it will produce a drastic output. \n",
    "Due to which loss function will increase, the error rate will be high, and accuracy will be decreased.\n",
    "\n",
    "So for such cases, where data points are arranged in a non-linear fashion, we need the Polynomial Regression model. \n",
    "We can understand it in a better way using the below comparison diagram of the linear dataset and non-linear dataset."
   ]
  },
  {
   "cell_type": "code",
   "execution_count": null,
   "id": "e13a2735-0188-4493-90ca-2bb618e118f4",
   "metadata": {},
   "outputs": [],
   "source": [
    "Q8. What are the advantages and disadvantages of polynomial regression compared to linear\n",
    "regression? In what situations would you prefer to use polynomial regression?\n",
    "--------\n",
    "Advantages:\n",
    "    1. Works on any size of the dataset\n",
    "    2. Works very well on non-linear problems\n",
    "    \n",
    "Disadvantages:\n",
    "    We need to choose the right polynimial degree for good bias/variance tradeoff."
   ]
  }
 ],
 "metadata": {
  "kernelspec": {
   "display_name": "Python 3 (ipykernel)",
   "language": "python",
   "name": "python3"
  },
  "language_info": {
   "codemirror_mode": {
    "name": "ipython",
    "version": 3
   },
   "file_extension": ".py",
   "mimetype": "text/x-python",
   "name": "python",
   "nbconvert_exporter": "python",
   "pygments_lexer": "ipython3",
   "version": "3.10.8"
  }
 },
 "nbformat": 4,
 "nbformat_minor": 5
}
