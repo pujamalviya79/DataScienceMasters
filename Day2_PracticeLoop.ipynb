{
 "cells": [
  {
   "cell_type": "code",
   "execution_count": 1,
   "id": "01f70ca3-7387-44ed-93bf-b5ffaec0b7b2",
   "metadata": {},
   "outputs": [
    {
     "name": "stdout",
     "output_type": "stream",
     "text": [
      "*****"
     ]
    }
   ],
   "source": [
    "### print *****\n",
    "\n",
    "n=5\n",
    "\n",
    "for i in range(n):\n",
    "    print(\"*\",end='')"
   ]
  },
  {
   "cell_type": "code",
   "execution_count": 6,
   "id": "88e8324c-4429-4d36-a2e5-8ae9a5d09ded",
   "metadata": {},
   "outputs": [
    {
     "name": "stdout",
     "output_type": "stream",
     "text": [
      "* * * * * \n",
      "* * * * * \n",
      "* * * * * \n",
      "* * * * * \n",
      "* * * * * \n"
     ]
    }
   ],
   "source": [
    "### print 5*5 square pattern\n",
    "\n",
    "n=5\n",
    "\n",
    "for i in range(n):\n",
    "    for j in range(n):\n",
    "        print(\"*\",end=' ')\n",
    "    print()\n"
   ]
  },
  {
   "cell_type": "code",
   "execution_count": 10,
   "id": "f2b98db4-a152-4470-9fc4-7ac4ace4236a",
   "metadata": {},
   "outputs": [
    {
     "name": "stdout",
     "output_type": "stream",
     "text": [
      "* \n",
      "* * \n",
      "* * * \n",
      "* * * * \n",
      "* * * * * \n"
     ]
    }
   ],
   "source": [
    "## Increasing triangle pattern\n",
    "\n",
    "n=5\n",
    "\n",
    "for i in range(n):\n",
    "    for j in range(i+1):\n",
    "        print(\"*\",end=' ')\n",
    "    print()"
   ]
  },
  {
   "cell_type": "code",
   "execution_count": 11,
   "id": "e970fd1d-7f54-49f4-aeaf-e3d71c8dcae4",
   "metadata": {},
   "outputs": [
    {
     "name": "stdout",
     "output_type": "stream",
     "text": [
      "* * * * * \n",
      "* * * * \n",
      "* * * \n",
      "* * \n",
      "* \n"
     ]
    }
   ],
   "source": [
    "## Decreasing triangle\n",
    "\n",
    "n=5\n",
    "\n",
    "for i in range(n):\n",
    "    for j in range(i,n):\n",
    "        print(\"*\",end=' ')\n",
    "    print()"
   ]
  },
  {
   "cell_type": "code",
   "execution_count": 14,
   "id": "f8efc9ca-b2b0-4f6a-8d74-42cf21a04488",
   "metadata": {},
   "outputs": [
    {
     "name": "stdout",
     "output_type": "stream",
     "text": [
      "          * \n",
      "        * * * \n",
      "      * * * * * \n",
      "    * * * * * * * \n",
      "  * * * * * * * * * \n"
     ]
    }
   ],
   "source": [
    "## Hill Pattern or Pyramid pattern\n",
    "\n",
    "n=5\n",
    "\n",
    "for i in range(n):\n",
    "    for j in range(i,n):\n",
    "        print(\" \",end=' ')\n",
    "        \n",
    "    for j in range(i+1):\n",
    "        print(\"*\",end=' ')\n",
    "        \n",
    "    for j in range(i):\n",
    "        print(\"*\",end=' ')\n",
    "    print()\n"
   ]
  },
  {
   "cell_type": "code",
   "execution_count": 24,
   "id": "54ee446f-f7cd-4c67-99ab-9f0557ed4ed1",
   "metadata": {},
   "outputs": [
    {
     "name": "stdout",
     "output_type": "stream",
     "text": [
      "  * * * * * \n",
      "    * * * * \n",
      "      * * * \n",
      "        * * \n",
      "          * \n"
     ]
    }
   ],
   "source": [
    "## Reverse triangle\n",
    "\n",
    "n=5\n",
    "\n",
    "for i in range(n):\n",
    "        \n",
    "    for j in range(i+1):\n",
    "        print(\" \",end=' ')\n",
    "        \n",
    "    for j in range(i,n):\n",
    "        print(\"*\",end=' ')\n",
    "    print()"
   ]
  },
  {
   "cell_type": "code",
   "execution_count": 26,
   "id": "dfdec12d-e660-4e6b-977b-81f43ec5c893",
   "metadata": {},
   "outputs": [
    {
     "name": "stdout",
     "output_type": "stream",
     "text": [
      "  * * * * * * * * * \n",
      "    * * * * * * * \n",
      "      * * * * * \n",
      "        * * * \n",
      "          * \n"
     ]
    }
   ],
   "source": [
    "## Reverse hill pattern\n",
    "\n",
    "n=5\n",
    "\n",
    "for i in range(n):\n",
    "        \n",
    "    for j in range(i+1):\n",
    "        print(\" \",end=' ')\n",
    "        \n",
    "    for j in range(i,n):\n",
    "        print(\"*\",end=' ')\n",
    "        \n",
    "    for j in range(i,n-1):\n",
    "        print(\"*\",end=' ')\n",
    "    print()\n"
   ]
  },
  {
   "cell_type": "code",
   "execution_count": 30,
   "id": "85beaefa-5ba7-4722-9f7d-13a4ee0be659",
   "metadata": {},
   "outputs": [
    {
     "name": "stdout",
     "output_type": "stream",
     "text": [
      "          * \n",
      "        * * * \n",
      "      * * * * * \n",
      "    * * * * * * * \n",
      "  * * * * * * * * * \n",
      "    * * * * * * * \n",
      "      * * * * * \n",
      "        * * * \n",
      "          * \n"
     ]
    }
   ],
   "source": [
    "## Diamond pattern\n",
    "\n",
    "n=5\n",
    "\n",
    "for i in range(n-1):\n",
    "    for j in range(i,n):\n",
    "        print(\" \",end=' ')\n",
    "        \n",
    "    for j in range(i+1):\n",
    "        print(\"*\",end=' ')\n",
    "        \n",
    "    for j in range(i):\n",
    "        print(\"*\",end=' ')\n",
    "    print()\n",
    "    \n",
    "for i in range(n):\n",
    "        \n",
    "    for j in range(i+1):\n",
    "        print(\" \",end=' ')\n",
    "        \n",
    "    for j in range(i,n):\n",
    "        print(\"*\",end=' ')\n",
    "        \n",
    "    for j in range(i,n-1):\n",
    "        print(\"*\",end=' ')\n",
    "    print()\n",
    "   \n",
    "\n"
   ]
  },
  {
   "cell_type": "code",
   "execution_count": null,
   "id": "0def389d-30b9-4dfa-a4b2-ab4728f00c8c",
   "metadata": {},
   "outputs": [],
   "source": []
  }
 ],
 "metadata": {
  "kernelspec": {
   "display_name": "Python 3 (ipykernel)",
   "language": "python",
   "name": "python3"
  },
  "language_info": {
   "codemirror_mode": {
    "name": "ipython",
    "version": 3
   },
   "file_extension": ".py",
   "mimetype": "text/x-python",
   "name": "python",
   "nbconvert_exporter": "python",
   "pygments_lexer": "ipython3",
   "version": "3.10.8"
  }
 },
 "nbformat": 4,
 "nbformat_minor": 5
}
