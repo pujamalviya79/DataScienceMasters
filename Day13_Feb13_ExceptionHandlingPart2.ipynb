{
 "cells": [
  {
   "cell_type": "markdown",
   "id": "816627a4-3ef5-41c2-9b54-7c000b82b36a",
   "metadata": {},
   "source": [
    "## List of general exception"
   ]
  },
  {
   "cell_type": "code",
   "execution_count": 1,
   "id": "5346084e-1db4-4924-b9c7-dfaf0a976c24",
   "metadata": {},
   "outputs": [
    {
     "name": "stdout",
     "output_type": "stream",
     "text": [
      "division by zero\n"
     ]
    }
   ],
   "source": [
    "try:\n",
    "    a=10\n",
    "    10/0\n",
    "except ZeroDivisionError as e:\n",
    "    print(e)"
   ]
  },
  {
   "cell_type": "code",
   "execution_count": 2,
   "id": "a602c0e3-08ca-4252-aecf-0354692e4fd8",
   "metadata": {},
   "outputs": [
    {
     "name": "stdout",
     "output_type": "stream",
     "text": [
      "invalid literal for int() with base 10: 'Puja'\n"
     ]
    }
   ],
   "source": [
    "try:\n",
    "    int(\"Puja\")\n",
    "except (ValueError, TypeError) as e:\n",
    "    print(e)"
   ]
  },
  {
   "cell_type": "code",
   "execution_count": 4,
   "id": "c29df681-4606-4a48-ab04-175a2aec93b5",
   "metadata": {},
   "outputs": [
    {
     "name": "stdout",
     "output_type": "stream",
     "text": [
      "This will catch an exception\n"
     ]
    }
   ],
   "source": [
    "## not recommneded\n",
    "try:\n",
    "    int(\"Puja\")\n",
    "except:\n",
    "    print(\"This will catch an exception\")"
   ]
  },
  {
   "cell_type": "code",
   "execution_count": 5,
   "id": "00470d6f-304d-4e7e-a269-230d70762a53",
   "metadata": {},
   "outputs": [
    {
     "name": "stdout",
     "output_type": "stream",
     "text": [
      "No module named 'puja'\n"
     ]
    }
   ],
   "source": [
    "try:\n",
    "    import puja\n",
    "except ImportError as e:\n",
    "    print(e)"
   ]
  },
  {
   "cell_type": "code",
   "execution_count": 6,
   "id": "1949efdc-40bc-497b-96ca-7915d946faa4",
   "metadata": {},
   "outputs": [
    {
     "name": "stdout",
     "output_type": "stream",
     "text": [
      "'key10'\n"
     ]
    }
   ],
   "source": [
    "try:\n",
    "    d = {1:[3,4,5,6], \"key\" : \"Puja\"}\n",
    "    d[\"key10\"]\n",
    "except KeyError as e:\n",
    "    print(e)"
   ]
  },
  {
   "cell_type": "code",
   "execution_count": 7,
   "id": "7d6251de-a876-4ec6-a020-bae66b093942",
   "metadata": {},
   "outputs": [
    {
     "name": "stdout",
     "output_type": "stream",
     "text": [
      "'str' object has no attribute 'test'\n"
     ]
    }
   ],
   "source": [
    "try:\n",
    "    \"sudh\".test()\n",
    "except AttributeError as e:\n",
    "    print(e)"
   ]
  },
  {
   "cell_type": "code",
   "execution_count": 8,
   "id": "34a7a7f1-405a-4cb2-b3b1-1398e169b7af",
   "metadata": {},
   "outputs": [
    {
     "name": "stdout",
     "output_type": "stream",
     "text": [
      "list index out of range\n"
     ]
    }
   ],
   "source": [
    "try:\n",
    "    l = [1,2,3,4,5,6,7]\n",
    "    l[10]\n",
    "except IndexError as e:\n",
    "    print(e)"
   ]
  },
  {
   "cell_type": "code",
   "execution_count": 10,
   "id": "2dfed237-5b41-4a61-9b49-98f614ba1254",
   "metadata": {},
   "outputs": [
    {
     "name": "stdout",
     "output_type": "stream",
     "text": [
      "unsupported operand type(s) for +: 'int' and 'str'\n"
     ]
    }
   ],
   "source": [
    "try:\n",
    "    123 + \"Puja\"\n",
    "except TypeError as e:\n",
    "    print(e)"
   ]
  },
  {
   "cell_type": "code",
   "execution_count": 11,
   "id": "be92828d-5a77-49a1-af77-278eb1b88988",
   "metadata": {},
   "outputs": [
    {
     "name": "stdout",
     "output_type": "stream",
     "text": [
      "[Errno 2] No such file or directory: 'newTestFile.txt'\n"
     ]
    }
   ],
   "source": [
    "try:\n",
    "    with open(\"newTestFile.txt\", \"r\") as f:\n",
    "        f.read()\n",
    "except FileNotFoundError as e:\n",
    "    print(e)"
   ]
  },
  {
   "cell_type": "code",
   "execution_count": 15,
   "id": "50db5a78-8a72-4562-84cd-fd6161092bc9",
   "metadata": {},
   "outputs": [
    {
     "name": "stdout",
     "output_type": "stream",
     "text": [
      "test [Errno 2] No such file or directory: 'newTestFile.txt'\n"
     ]
    }
   ],
   "source": [
    "## here in this case Exception is super class so it will execute then rest exception will not execute as Super class block is at first\n",
    "\n",
    "try:\n",
    "    with open(\"newTestFile.txt\", \"r\") as f:\n",
    "        f.read()\n",
    "except Exception as e:\n",
    "    print(\"test\",e)\n",
    "except FileNotFoundError as e:\n",
    "    print(\"This is ,y file not found type error\")"
   ]
  },
  {
   "cell_type": "code",
   "execution_count": 16,
   "id": "e460bc94-df0f-4813-bb93-87136c1caff3",
   "metadata": {},
   "outputs": [],
   "source": [
    "def test():\n",
    "    try:\n",
    "        with open(\"newTestFile.txt\", \"r\") as f:\n",
    "            f.read()\n",
    "    except Exception as e:\n",
    "        print(\"test\",e)\n",
    "    except FileNotFoundError as e:\n",
    "        print(\"This is ,y file not found type error\")"
   ]
  },
  {
   "cell_type": "code",
   "execution_count": 17,
   "id": "4b51b763-60c0-4fb3-ad28-f9bbb2a88a5a",
   "metadata": {},
   "outputs": [
    {
     "name": "stdout",
     "output_type": "stream",
     "text": [
      "test [Errno 2] No such file or directory: 'newTestFile.txt'\n"
     ]
    }
   ],
   "source": [
    "test()"
   ]
  },
  {
   "cell_type": "markdown",
   "id": "333885e0-0994-46c2-9d4b-3ba5348de5b5",
   "metadata": {},
   "source": [
    "## Best Practice in Exception Handling"
   ]
  },
  {
   "cell_type": "code",
   "execution_count": 19,
   "id": "9a3cb6f4-4b5d-46bb-8838-826f58e98e1c",
   "metadata": {},
   "outputs": [
    {
     "name": "stdout",
     "output_type": "stream",
     "text": [
      "division by zero\n",
      "division by zero\n"
     ]
    }
   ],
   "source": [
    "## use always a specific Exception\n",
    "\n",
    "try:\n",
    "    10/0\n",
    "except Exception as e:\n",
    "    print(e)\n",
    "    \n",
    "    \n",
    "## instaed use below:\n",
    "try:\n",
    "    10/0\n",
    "except ZeroDivisionError as e:\n",
    "    print(e)"
   ]
  },
  {
   "cell_type": "code",
   "execution_count": 20,
   "id": "1c94828a-c127-430c-8978-b3c78eb98765",
   "metadata": {},
   "outputs": [
    {
     "name": "stdout",
     "output_type": "stream",
     "text": [
      "This is Zero division error handling block ::  division by zero\n"
     ]
    }
   ],
   "source": [
    "## print always a valid message\n",
    "\n",
    "try:\n",
    "    10/0\n",
    "except ZeroDivisionError as e:\n",
    "    print(\"This is Zero division error handling block :: \",e)"
   ]
  },
  {
   "cell_type": "code",
   "execution_count": 21,
   "id": "4fa3abba-b77f-4b33-857d-f3f863a703bd",
   "metadata": {},
   "outputs": [],
   "source": [
    "## always try to log\n",
    "import logging\n",
    "\n",
    "logging.basicConfig(filename = \"error.log\", level = logging.ERROR)\n",
    "\n",
    "try:\n",
    "    10/0\n",
    "except ZeroDivisionError as e:\n",
    "    logging.error(\"This is Zero division error handling block :: {e}\".format(e=e))"
   ]
  },
  {
   "cell_type": "code",
   "execution_count": 22,
   "id": "61534abc-e9ac-41b0-b956-bfbec15692d6",
   "metadata": {},
   "outputs": [],
   "source": [
    "## Always avoid to write a multiple exception handling\n",
    "try:\n",
    "    10/0\n",
    "except FileNotFoundError as e:\n",
    "    logging.error(\"This is file not Found error {e}\".format(e=e))\n",
    "except AttributeError as e:\n",
    "    logging.error(\"This is attribute error {e}\".format(e=e))\n",
    "except ZeroDivisionError as e:\n",
    "    logging.error(\"This is Zero division error handling block :: {e}\".format(e=e))"
   ]
  },
  {
   "cell_type": "code",
   "execution_count": null,
   "id": "c4d1df5a-a04b-437d-adde-035cb9e0be16",
   "metadata": {},
   "outputs": [],
   "source": [
    "## Always try to prepare a proper documentation"
   ]
  },
  {
   "cell_type": "code",
   "execution_count": 23,
   "id": "478cc8c2-5318-4976-b5b3-917e81f57b55",
   "metadata": {},
   "outputs": [],
   "source": [
    "## CleanUp all the resources\n",
    "\n",
    "try:\n",
    "    with open(\"test.txt\",'w') as f:\n",
    "        f.write(\"This is my msg to file.\")\n",
    "except FileNotFoundError as e:\n",
    "    logging.error(\"This is file not found error {}\".format(e))\n",
    "finally:\n",
    "    f.close()"
   ]
  }
 ],
 "metadata": {
  "kernelspec": {
   "display_name": "Python 3 (ipykernel)",
   "language": "python",
   "name": "python3"
  },
  "language_info": {
   "codemirror_mode": {
    "name": "ipython",
    "version": 3
   },
   "file_extension": ".py",
   "mimetype": "text/x-python",
   "name": "python",
   "nbconvert_exporter": "python",
   "pygments_lexer": "ipython3",
   "version": "3.10.8"
  }
 },
 "nbformat": 4,
 "nbformat_minor": 5
}
