{
 "cells": [
  {
   "cell_type": "markdown",
   "id": "fd921d3a-ce81-43a4-8436-37442bacbef9",
   "metadata": {},
   "source": [
    "## Polymorphism"
   ]
  },
  {
   "cell_type": "code",
   "execution_count": 1,
   "id": "029312e1-7976-431a-8375-ac81d1a5fb4f",
   "metadata": {},
   "outputs": [],
   "source": [
    "def test(a,b):\n",
    "    return a+b"
   ]
  },
  {
   "cell_type": "code",
   "execution_count": 2,
   "id": "f38c3387-0c1a-42a1-bf31-cdef2a2ee47c",
   "metadata": {},
   "outputs": [
    {
     "data": {
      "text/plain": [
       "9"
      ]
     },
     "execution_count": 2,
     "metadata": {},
     "output_type": "execute_result"
    }
   ],
   "source": [
    "test(4,5)"
   ]
  },
  {
   "cell_type": "code",
   "execution_count": 3,
   "id": "e47bde73-52b1-4402-818a-458feab6a497",
   "metadata": {},
   "outputs": [
    {
     "data": {
      "text/plain": [
       "'abcxyz'"
      ]
     },
     "execution_count": 3,
     "metadata": {},
     "output_type": "execute_result"
    }
   ],
   "source": [
    "test(\"abc\",\"xyz\")"
   ]
  },
  {
   "cell_type": "code",
   "execution_count": 4,
   "id": "5273d851-5950-4c89-ac2d-8e82df56a8e6",
   "metadata": {},
   "outputs": [
    {
     "data": {
      "text/plain": [
       "[1, 2, 3, 4, 5, 6, 7]"
      ]
     },
     "execution_count": 4,
     "metadata": {},
     "output_type": "execute_result"
    }
   ],
   "source": [
    "test([1,2,3,4],[5,6,7])"
   ]
  },
  {
   "cell_type": "code",
   "execution_count": 5,
   "id": "4123e9e1-cb55-4389-9392-b41b60d78f86",
   "metadata": {},
   "outputs": [],
   "source": [
    "class data_science:\n",
    "    def syllabus(self):\n",
    "        print(\"This is method for data science syllabus\")"
   ]
  },
  {
   "cell_type": "code",
   "execution_count": 6,
   "id": "e41ef7e0-04f0-4585-82ec-015e331e4a31",
   "metadata": {},
   "outputs": [],
   "source": [
    "class web_dev:\n",
    "    def syllabus(self):\n",
    "        print(\"This is method for web-dev syllabus\")"
   ]
  },
  {
   "cell_type": "code",
   "execution_count": 11,
   "id": "ef4ced70-9c70-444e-9270-de8d1de5b49c",
   "metadata": {},
   "outputs": [],
   "source": [
    "def class_parser(class_obj):\n",
    "    for i in class_obj:\n",
    "        i.syllabus()"
   ]
  },
  {
   "cell_type": "code",
   "execution_count": 7,
   "id": "4ac291c0-af51-4b4d-9607-f74b07567371",
   "metadata": {},
   "outputs": [],
   "source": [
    "obj_data_science = data_science()\n",
    "obj_web_dev = web_dev()"
   ]
  },
  {
   "cell_type": "code",
   "execution_count": 8,
   "id": "3930d803-d1ab-4d18-9725-03adf4f71e16",
   "metadata": {},
   "outputs": [],
   "source": [
    "class_obj = [obj_data_science, obj_web_dev]"
   ]
  },
  {
   "cell_type": "code",
   "execution_count": 12,
   "id": "e64ed5d4-e41b-480e-9722-9980d998deff",
   "metadata": {},
   "outputs": [
    {
     "name": "stdout",
     "output_type": "stream",
     "text": [
      "This is method for data science syllabus\n",
      "This is method for web-dev syllabus\n"
     ]
    }
   ],
   "source": [
    "class_parser(class_obj)"
   ]
  },
  {
   "cell_type": "markdown",
   "id": "81997d19-5103-4ebd-a996-9aa63371fee0",
   "metadata": {},
   "source": [
    "## Encapsulation"
   ]
  },
  {
   "cell_type": "code",
   "execution_count": null,
   "id": "d38adea9-d35c-4b47-bb04-bf3c2be4c5aa",
   "metadata": {},
   "outputs": [],
   "source": [
    "## Constructors is a method use dto pass data in a method"
   ]
  },
  {
   "cell_type": "code",
   "execution_count": 13,
   "id": "184b0d56-27c7-46cd-ac06-74a0294c9912",
   "metadata": {},
   "outputs": [],
   "source": [
    "class test:\n",
    "    def __init__(self,a,b):\n",
    "        self.a = a\n",
    "        self.b = b"
   ]
  },
  {
   "cell_type": "code",
   "execution_count": 14,
   "id": "b1a53b58-8f81-42c8-a8b3-9daa46393d06",
   "metadata": {},
   "outputs": [],
   "source": [
    "t = test(45,56)"
   ]
  },
  {
   "cell_type": "code",
   "execution_count": 15,
   "id": "808f4846-c537-4218-943e-6847714ccd1d",
   "metadata": {},
   "outputs": [
    {
     "data": {
      "text/plain": [
       "45"
      ]
     },
     "execution_count": 15,
     "metadata": {},
     "output_type": "execute_result"
    }
   ],
   "source": [
    "t.a"
   ]
  },
  {
   "cell_type": "code",
   "execution_count": 16,
   "id": "ece5358f-b2e6-4062-b5b3-569bbc7294e5",
   "metadata": {},
   "outputs": [
    {
     "data": {
      "text/plain": [
       "56"
      ]
     },
     "execution_count": 16,
     "metadata": {},
     "output_type": "execute_result"
    }
   ],
   "source": [
    "t.b"
   ]
  },
  {
   "cell_type": "code",
   "execution_count": 17,
   "id": "9a21a57e-3df8-4682-9dfe-8ad8ec5f78b8",
   "metadata": {},
   "outputs": [
    {
     "data": {
      "text/plain": [
       "<__main__.test at 0x7f8f24f49450>"
      ]
     },
     "execution_count": 17,
     "metadata": {},
     "output_type": "execute_result"
    }
   ],
   "source": [
    "t"
   ]
  },
  {
   "cell_type": "code",
   "execution_count": 45,
   "id": "cba901d1-6a7d-4e94-8184-a2c683540d8a",
   "metadata": {},
   "outputs": [],
   "source": [
    "## Encapsulation is an idea which will allow you to prevent any kind of direct access of a data or direct modification of data\n",
    "## __ will come before variable (double underscore)\n",
    "## __ will make variables private, with the help of object we cant access private variables\n",
    "\n",
    "\n",
    "class car:\n",
    "    def __init__ (self,year,make,model,speed):\n",
    "        self.__year = year\n",
    "        self.__make = make\n",
    "        self.__model = model\n",
    "        self.__speed = speed\n",
    "        \n",
    "    def set_speed(self, speed):\n",
    "        self.__speed = 0 if speed < 0 else speed\n",
    "        \n",
    "    def get_speed(self):\n",
    "        return self.__speed"
   ]
  },
  {
   "cell_type": "code",
   "execution_count": 46,
   "id": "ae153357-26a3-4588-81ce-449e6ef8066c",
   "metadata": {},
   "outputs": [],
   "source": [
    "obj_car = car(2021,\"Toyota\",\"Innova\",12)"
   ]
  },
  {
   "cell_type": "code",
   "execution_count": 41,
   "id": "8e896484-e5b8-44c7-877a-734506b39a54",
   "metadata": {},
   "outputs": [
    {
     "ename": "NameError",
     "evalue": "name 'obj' is not defined",
     "output_type": "error",
     "traceback": [
      "\u001b[0;31m---------------------------------------------------------------------------\u001b[0m",
      "\u001b[0;31mNameError\u001b[0m                                 Traceback (most recent call last)",
      "Cell \u001b[0;32mIn[41], line 1\u001b[0m\n\u001b[0;32m----> 1\u001b[0m \u001b[43mobj\u001b[49m\u001b[38;5;241m.\u001b[39mcar\n",
      "\u001b[0;31mNameError\u001b[0m: name 'obj' is not defined"
     ]
    }
   ],
   "source": [
    "obj.car"
   ]
  },
  {
   "cell_type": "code",
   "execution_count": null,
   "id": "56623339-7374-4821-9a60-196bb5f29c53",
   "metadata": {},
   "outputs": [],
   "source": [
    "## we cant access private variables through an object, thats why above error"
   ]
  },
  {
   "cell_type": "code",
   "execution_count": 22,
   "id": "bdad3a0d-4431-4edc-ac81-3bb866927a74",
   "metadata": {},
   "outputs": [
    {
     "data": {
      "text/plain": [
       "2021"
      ]
     },
     "execution_count": 22,
     "metadata": {},
     "output_type": "execute_result"
    }
   ],
   "source": [
    "obj_car._car__year"
   ]
  },
  {
   "cell_type": "code",
   "execution_count": null,
   "id": "f0255ecd-cdba-4653-9d49-4241ea8a63f9",
   "metadata": {},
   "outputs": [],
   "source": [
    "## as a creator of the class we can access like above, pass underscore class double underscore variable name"
   ]
  },
  {
   "cell_type": "code",
   "execution_count": 47,
   "id": "8305a02f-e5aa-4a94-980c-d37f09a9d868",
   "metadata": {},
   "outputs": [],
   "source": [
    "obj_car.set_speed(-1234)"
   ]
  },
  {
   "cell_type": "code",
   "execution_count": 49,
   "id": "012c9184-522a-4abb-9c4f-10b0949a2893",
   "metadata": {},
   "outputs": [],
   "source": [
    "obj_car.set_speed(2345)"
   ]
  },
  {
   "cell_type": "code",
   "execution_count": 50,
   "id": "d7d0682f-7fee-4944-a888-347de065f65e",
   "metadata": {},
   "outputs": [
    {
     "data": {
      "text/plain": [
       "2345"
      ]
     },
     "execution_count": 50,
     "metadata": {},
     "output_type": "execute_result"
    }
   ],
   "source": [
    "obj_car.get_speed()"
   ]
  },
  {
   "cell_type": "code",
   "execution_count": 52,
   "id": "d20e1784-81cd-4dc7-b1d0-3a4883d50975",
   "metadata": {},
   "outputs": [],
   "source": [
    "class bank_account:\n",
    "    \n",
    "    def __init__(self,balance):\n",
    "        self.__balance = balance\n",
    "        \n",
    "    def deposit(self, amount):\n",
    "        self.__balance = self.__balance + amount\n",
    "        \n",
    "    def withdraw(self, amount):\n",
    "        if self.__balance >= amount:\n",
    "            self.__balance = self.__balance - amount\n",
    "            return True\n",
    "        else:\n",
    "            return False\n",
    "        \n",
    "    def get_balance(self):\n",
    "        return self.__balance"
   ]
  },
  {
   "cell_type": "code",
   "execution_count": 53,
   "id": "7d5855e6-6e3b-45aa-900c-b7454804bcb6",
   "metadata": {},
   "outputs": [],
   "source": [
    "obj_bank_account = bank_account(1000)"
   ]
  },
  {
   "cell_type": "code",
   "execution_count": 54,
   "id": "6876b0b5-1e68-4097-9f71-0fc4aa6164dc",
   "metadata": {},
   "outputs": [
    {
     "data": {
      "text/plain": [
       "1000"
      ]
     },
     "execution_count": 54,
     "metadata": {},
     "output_type": "execute_result"
    }
   ],
   "source": [
    "obj_bank_account.get_balance()"
   ]
  },
  {
   "cell_type": "code",
   "execution_count": 55,
   "id": "30ea9bd5-96eb-4aaa-bf21-35c6168cda04",
   "metadata": {},
   "outputs": [],
   "source": [
    "obj_bank_account.deposit(1000)"
   ]
  },
  {
   "cell_type": "code",
   "execution_count": 56,
   "id": "ec3f7426-b33a-4e07-8f86-7944f969cdf8",
   "metadata": {},
   "outputs": [
    {
     "data": {
      "text/plain": [
       "2000"
      ]
     },
     "execution_count": 56,
     "metadata": {},
     "output_type": "execute_result"
    }
   ],
   "source": [
    "obj_bank_account.get_balance()"
   ]
  },
  {
   "cell_type": "code",
   "execution_count": 57,
   "id": "55477c78-ed9f-41e4-a79d-69f026a2be5c",
   "metadata": {},
   "outputs": [
    {
     "data": {
      "text/plain": [
       "False"
      ]
     },
     "execution_count": 57,
     "metadata": {},
     "output_type": "execute_result"
    }
   ],
   "source": [
    "obj_bank_account.withdraw(2500)"
   ]
  },
  {
   "cell_type": "code",
   "execution_count": 58,
   "id": "79e179f6-d167-4080-abf6-29682c23c2a5",
   "metadata": {},
   "outputs": [
    {
     "data": {
      "text/plain": [
       "True"
      ]
     },
     "execution_count": 58,
     "metadata": {},
     "output_type": "execute_result"
    }
   ],
   "source": [
    "obj_bank_account.withdraw(500)"
   ]
  },
  {
   "cell_type": "code",
   "execution_count": 59,
   "id": "041a3f21-b511-4cc1-ba41-609ab6c41a06",
   "metadata": {},
   "outputs": [
    {
     "data": {
      "text/plain": [
       "1500"
      ]
     },
     "execution_count": 59,
     "metadata": {},
     "output_type": "execute_result"
    }
   ],
   "source": [
    "obj_bank_account.get_balance()"
   ]
  },
  {
   "cell_type": "markdown",
   "id": "702f7dd1-cc20-4932-bb2d-5025ddd2c800",
   "metadata": {},
   "source": [
    "## Inheritance"
   ]
  },
  {
   "cell_type": "code",
   "execution_count": null,
   "id": "afeb0dfe-e74e-4b2f-a65b-597e40bed400",
   "metadata": {},
   "outputs": [],
   "source": [
    "## A child class can inherit the behaviour of parent class"
   ]
  },
  {
   "cell_type": "code",
   "execution_count": 60,
   "id": "8d705e9b-8cbb-4837-8710-b8b6a6300163",
   "metadata": {},
   "outputs": [],
   "source": [
    "class parent:\n",
    "    \n",
    "    def test_parent(self):\n",
    "        print(\"This is Parent class\")"
   ]
  },
  {
   "cell_type": "code",
   "execution_count": 61,
   "id": "8fbe7312-cbdd-49dc-9446-38960c966eda",
   "metadata": {},
   "outputs": [],
   "source": [
    "class child(parent):\n",
    "    pass"
   ]
  },
  {
   "cell_type": "code",
   "execution_count": 62,
   "id": "7b73a0aa-7244-4a4e-aad1-da42ae3eae85",
   "metadata": {},
   "outputs": [],
   "source": [
    "obj_child = child()"
   ]
  },
  {
   "cell_type": "code",
   "execution_count": 64,
   "id": "dc9e562b-6671-4947-94ec-ca075bfbbc20",
   "metadata": {},
   "outputs": [
    {
     "name": "stdout",
     "output_type": "stream",
     "text": [
      "This is Parent class\n"
     ]
    }
   ],
   "source": [
    "## there is no method in child class, but it is able to access parent class method\n",
    "\n",
    "obj_child.test_parent()"
   ]
  },
  {
   "cell_type": "code",
   "execution_count": 68,
   "id": "cfd07ba7-95cb-4981-80a8-1b46e792afa7",
   "metadata": {},
   "outputs": [],
   "source": [
    "##  Multi-level Inheritance\n",
    "## class 1 is inherited inside class 2 , and class 2 is inherited inside class 3, then class 3 will be able to access class 2 and class 1 methods\n",
    "\n",
    "class class1 :\n",
    "    def test_class1(self):\n",
    "        print(\"This is class1\")"
   ]
  },
  {
   "cell_type": "code",
   "execution_count": 69,
   "id": "d071cb2d-d4aa-4f2a-b283-d22c2f3f9af9",
   "metadata": {},
   "outputs": [],
   "source": [
    "class class2(class1) :\n",
    "    def test_class2(self):\n",
    "        print(\"This is class 2\")"
   ]
  },
  {
   "cell_type": "code",
   "execution_count": 70,
   "id": "131f5cab-0f5e-4f41-a523-c9a88f356a32",
   "metadata": {},
   "outputs": [],
   "source": [
    "class class3(class2):\n",
    "    def test_class3(self):\n",
    "        print(\"This is class 3\")"
   ]
  },
  {
   "cell_type": "code",
   "execution_count": 71,
   "id": "b3243028-028b-4e2d-ac1a-6a4b6aa4daae",
   "metadata": {},
   "outputs": [],
   "source": [
    "obj_class3 = class3()"
   ]
  },
  {
   "cell_type": "code",
   "execution_count": 72,
   "id": "30a4fc8c-c88c-4520-8b11-330f4b4f4494",
   "metadata": {},
   "outputs": [
    {
     "name": "stdout",
     "output_type": "stream",
     "text": [
      "This is class1\n"
     ]
    }
   ],
   "source": [
    "obj_class3.test_class1()"
   ]
  },
  {
   "cell_type": "code",
   "execution_count": 73,
   "id": "7e411ed1-a3c0-4809-b417-a50d7e0fabdf",
   "metadata": {},
   "outputs": [
    {
     "name": "stdout",
     "output_type": "stream",
     "text": [
      "This is class 2\n"
     ]
    }
   ],
   "source": [
    "obj_class3.test_class2()"
   ]
  },
  {
   "cell_type": "code",
   "execution_count": 74,
   "id": "a47e6100-408d-4039-8acc-974e46338ba6",
   "metadata": {},
   "outputs": [
    {
     "name": "stdout",
     "output_type": "stream",
     "text": [
      "This is class1\n"
     ]
    }
   ],
   "source": [
    "obj_class3.test_class1()"
   ]
  },
  {
   "cell_type": "code",
   "execution_count": null,
   "id": "f3376808-f7ea-4593-8c6e-60d2d4bb065d",
   "metadata": {},
   "outputs": [],
   "source": [
    "## Multiple Inheritance\n",
    "## child inherits properties from multiple parent class"
   ]
  },
  {
   "cell_type": "code",
   "execution_count": 75,
   "id": "e5843400-2c99-4ff2-8f7b-a5f1147c574a",
   "metadata": {},
   "outputs": [],
   "source": [
    "class class1:\n",
    "    def test_class1(self):\n",
    "        print(\"This is class 1\")"
   ]
  },
  {
   "cell_type": "code",
   "execution_count": 76,
   "id": "321614dc-fdc1-4f91-b64b-5e27d3e8f08d",
   "metadata": {},
   "outputs": [],
   "source": [
    "class class2:\n",
    "    def test_class2(self):\n",
    "        print(\"This is class 2\")"
   ]
  },
  {
   "cell_type": "code",
   "execution_count": 77,
   "id": "f5044a90-e750-4825-94d3-c30c90d35f14",
   "metadata": {},
   "outputs": [],
   "source": [
    "class class3(class1,class2):\n",
    "    def test_class3(self):\n",
    "        print(\"This is class 3\")"
   ]
  },
  {
   "cell_type": "code",
   "execution_count": 78,
   "id": "a31cc09f-eb1c-4c94-ba35-27be48bf6b2f",
   "metadata": {},
   "outputs": [],
   "source": [
    "obj_class3 = class3()"
   ]
  },
  {
   "cell_type": "code",
   "execution_count": 79,
   "id": "d510be79-6506-49a0-8d72-9fde9a4e6a55",
   "metadata": {},
   "outputs": [
    {
     "name": "stdout",
     "output_type": "stream",
     "text": [
      "This is class 1\n"
     ]
    }
   ],
   "source": [
    "obj_class3.test_class1()"
   ]
  },
  {
   "cell_type": "code",
   "execution_count": 81,
   "id": "72949034-c808-4aa0-8965-1d073af7970c",
   "metadata": {},
   "outputs": [
    {
     "name": "stdout",
     "output_type": "stream",
     "text": [
      "This is class 2\n"
     ]
    }
   ],
   "source": [
    "obj_class3.test_class2()"
   ]
  },
  {
   "cell_type": "code",
   "execution_count": 82,
   "id": "7c10c948-68aa-4b89-b494-2c54db97b869",
   "metadata": {},
   "outputs": [
    {
     "name": "stdout",
     "output_type": "stream",
     "text": [
      "This is class 3\n"
     ]
    }
   ],
   "source": [
    "obj_class3.test_class3()"
   ]
  },
  {
   "cell_type": "code",
   "execution_count": null,
   "id": "6df3205e-91ba-454a-9451-a26fb3002718",
   "metadata": {},
   "outputs": [],
   "source": []
  }
 ],
 "metadata": {
  "kernelspec": {
   "display_name": "Python 3 (ipykernel)",
   "language": "python",
   "name": "python3"
  },
  "language_info": {
   "codemirror_mode": {
    "name": "ipython",
    "version": 3
   },
   "file_extension": ".py",
   "mimetype": "text/x-python",
   "name": "python",
   "nbconvert_exporter": "python",
   "pygments_lexer": "ipython3",
   "version": "3.10.8"
  }
 },
 "nbformat": 4,
 "nbformat_minor": 5
}
