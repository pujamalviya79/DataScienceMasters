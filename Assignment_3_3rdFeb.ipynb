{
 "cells": [
  {
   "cell_type": "code",
   "execution_count": null,
   "id": "2fc0ee24-76aa-442f-842d-5ee586a13cfa",
   "metadata": {},
   "outputs": [],
   "source": [
    "1. Characteristics of tuple\n",
    "\n",
    "Tuple is an ordered collection\n",
    "Tuple is unchangeable\n",
    "Tuple can be written in round brackets\n",
    "Tuple allows duplicate values\n",
    "Tuple items can be of any datatype\n",
    "We can access the tuple item by index\n",
    "Tuples are immutable"
   ]
  },
  {
   "cell_type": "code",
   "execution_count": null,
   "id": "aaf7e0a8-8e31-46ad-86c7-27c60ec875cd",
   "metadata": {},
   "outputs": [],
   "source": [
    "2. Two tuple methods in python:\n",
    "    \n",
    "    count()\n",
    "        Example ----\n",
    "        vowels = ('a','e','i','o','u')\n",
    "        count = vowels.count('i')\n",
    "        print(count)\n",
    "    Output -- 2\n",
    "    \n",
    "    index()\n",
    "        Example ----\n",
    "        vowels = ('a','e','i','o','u')\n",
    "        index = vowels.index('i')\n",
    "        print(index)\n",
    "    Output -- 2\n",
    "    \n",
    "    Tuple has only two inbuild functions as compared to lists because tuples are immutable but lists are mutable\n",
    "    "
   ]
  },
  {
   "cell_type": "code",
   "execution_count": null,
   "id": "a594cde3-5c1d-4ddc-96a2-1876a5e8db18",
   "metadata": {},
   "outputs": [],
   "source": [
    "3. Which collection in python doesnot allow duplicate items\n",
    "-- Sets\n",
    "\n",
    "List = [1,1,1,2,1,3,1,4,2,1,2,2,2,3,2,4,3,1,3,2,3,3,3,4,4,1,4,2,4,3,4,4]\n",
    "convert this list into set to remove duplicate items\n",
    "\n",
    "set1 = set(List)\n",
    "print(set1)\n",
    "Output -- {1,2,3,4}\n"
   ]
  },
  {
   "cell_type": "code",
   "execution_count": null,
   "id": "46c85761-ea34-4f6f-907a-dd2847a33150",
   "metadata": {},
   "outputs": [],
   "source": [
    "4. Difference between union() and update() with Examples\n",
    "\n",
    "union() -- returns a new set with all the items from both the sets\n",
    "Example -- \n",
    "set1 = {'a','b','c'}\n",
    "set2 = {1,2,3}\n",
    "\n",
    "set3 = set1.union(set2)\n",
    "print(set3)\n",
    "\n",
    "Output -- {'b',3,2,1,'c','a'}\n",
    "\n",
    "update() -- inserts the items in set2 into set1\n",
    "Example --\n",
    "set1 = {'a','b','c'}\n",
    "set2 = {1,2,3}\n",
    "\n",
    "set3 = set1.update(set2)\n",
    "print(set3)\n",
    "\n",
    "Output -- {'a','b',2,3,'c',1}"
   ]
  },
  {
   "cell_type": "code",
   "execution_count": null,
   "id": "05ecb888-118b-4055-8949-caa9c7fd1da2",
   "metadata": {},
   "outputs": [],
   "source": [
    "5. What is a dictionary? Give Example. \n",
    "\n",
    "-- Dectionary are used to store data values in Key:Value pairs.\n",
    "Dictionary is ordered.\n",
    "\n",
    "Example : \n",
    "    d1 = {\"Name\": \"Puja\", \"Course\": \"Data Scienec Masters\",\"DurationInMonths\":7}\n"
   ]
  },
  {
   "cell_type": "code",
   "execution_count": null,
   "id": "c7af9353-08a8-45a0-b9e7-2b7fea85e86f",
   "metadata": {},
   "outputs": [],
   "source": [
    "6. Can we create a nested dictionary? Give example by creating one-level nested dictionary\n",
    "\n",
    "Yes we can craete Nested Dictionary, means value inside a dictionary can be another dictionary\n",
    "\n",
    "Example: \n",
    "    d1 = {\"key\": {\"name\":\"abc\",\"class\":10}}"
   ]
  },
  {
   "cell_type": "code",
   "execution_count": null,
   "id": "02014614-978c-4631-9538-9a9ed066447b",
   "metadata": {},
   "outputs": [],
   "source": [
    "7. Use setDefault() to add key 'topics' and value '[\"Python\",\"Machine Learning\",\"Deep Learning\"]'\n",
    "\n",
    "dict1 = {'language':'Python','course':'Data Science Masters'}\n",
    "dict3 = dict1.setdefault('topics','[\"Python\",\"Machine Learning\",\"Deep Learning\"]')\n",
    "dict3"
   ]
  },
  {
   "cell_type": "code",
   "execution_count": null,
   "id": "0a0cf8c2-4805-4beb-b577-337bb8e56bf4",
   "metadata": {},
   "outputs": [],
   "source": [
    "8. What are the three view objects in dictionaries?\n",
    "Use the three build-in functions to display these three view objects of the given dictionary.\n",
    "\n",
    "dict1 = {'Sports':'Cricket','Teams':['India','Australia','England','South Africa','SriLanka','New Zealand']}\n",
    "\n",
    "\n",
    "------\n",
    "The three view objects in a dictionary are:\n",
    "    Keys\n",
    "    Values\n",
    "    Items\n",
    "    \n",
    "dict1 = {'Sports':'Cricket','Teams':['India','Australia','England','South Africa','SriLanka','New Zealand']}\n",
    "\n",
    "Keys: -- \n",
    "dict1.keys()\n",
    "\n",
    "output -- dict_keys(['Sports', 'Teams'])\n",
    "\n",
    "Values: --\n",
    "dict1.values()\n",
    "\n",
    "output -- dict_values(['Cricket', ['India', 'Australia', 'England', 'South Africa', 'SriLanka', 'New Zealand']])\n",
    "\n",
    "Items: --\n",
    "dict1.items()\n",
    "\n",
    "output -- dict_items([('Sports', 'Cricket'), ('Teams', ['India', 'Australia', 'England', 'South Africa', 'SriLanka', 'New Zealand'])])\n",
    "\n"
   ]
  }
 ],
 "metadata": {
  "kernelspec": {
   "display_name": "Python 3 (ipykernel)",
   "language": "python",
   "name": "python3"
  },
  "language_info": {
   "codemirror_mode": {
    "name": "ipython",
    "version": 3
   },
   "file_extension": ".py",
   "mimetype": "text/x-python",
   "name": "python",
   "nbconvert_exporter": "python",
   "pygments_lexer": "ipython3",
   "version": "3.10.8"
  }
 },
 "nbformat": 4,
 "nbformat_minor": 5
}
