{
 "cells": [
  {
   "cell_type": "code",
   "execution_count": null,
   "id": "86a5b6e9-7c12-4d82-b316-fe3f5b27157d",
   "metadata": {},
   "outputs": [],
   "source": [
    "1. What is an Exception in Python? Write the difference between Exceptions and Syntax errors.\n",
    "------\n",
    "An exception is an event, which occurs during the execution of a program that disrupts the normal flow of the program's instructions.\n",
    "\n",
    "Exceptions - occurs at runtime\n",
    "Syntax error - occurs at compile time\n"
   ]
  },
  {
   "cell_type": "code",
   "execution_count": null,
   "id": "ff483653-6939-474b-aaa0-2de95530f95c",
   "metadata": {},
   "outputs": [],
   "source": [
    "2. What happens when an exception is noy handled? Explain with an example.\n",
    "-----\n",
    "If an exception is not hadled (with a except block), the runtime system will abort the program (i.e. crash) and an exception message will print to the console.\n",
    "\n",
    "Example : \n",
    "    a=10\n",
    "    a/0\n",
    "    \n",
    "    Console Output:\n",
    "        \n",
    "---------------------------------------------------------------------------\n",
    "ZeroDivisionError                         Traceback (most recent call last)\n",
    "Cell In[3], line 1\n",
    "----> 1 a/0\n",
    "\n",
    "ZeroDivisionError: division by zero"
   ]
  },
  {
   "cell_type": "code",
   "execution_count": null,
   "id": "a087aab5-f738-48d7-a154-8b3012a04f6d",
   "metadata": {},
   "outputs": [],
   "source": [
    "3. Which Python statements are used to catch and handle exceptions? Explain with an example.\n",
    "-------\n",
    "except is used to catch and handle exception.\n",
    "\n",
    "Example : \n",
    "    try : \n",
    "    f = open(\"testRead.txt\", 'r')\n",
    "except Exception as e :\n",
    "    print(\"This is my except block \",e)\n",
    "    \n",
    "Output ----\n",
    "This is my except block  [Errno 2] No such file or directory: 'testRead.txt'"
   ]
  },
  {
   "cell_type": "code",
   "execution_count": null,
   "id": "b16f8cc8-cde9-4e35-a134-b7586120df03",
   "metadata": {},
   "outputs": [],
   "source": [
    "4. Explain with an example:\n",
    "    a. try and else\n",
    "    b. finally\n",
    "    c. raise\n",
    "    \n",
    "-------\n",
    "try and else\n",
    "\n",
    "try:\n",
    "    print(\"Hello World !!!\")\n",
    "except:\n",
    "    print(\"Something went wrong\")\n",
    "else:\n",
    "    print(\"Nothing went wrong\")\n",
    "\n",
    "    \n",
    "Output ----\n",
    "Hello World !!!\n",
    "Nothing went wrong\n",
    "\n",
    "---------\n",
    "finally\n",
    "\n",
    "def divide(x, y):\n",
    "    try:\n",
    "        result = x // y\n",
    "    except ZeroDivisionError:\n",
    "        print(\"Sorry ! You are dividing by zero \")\n",
    "    else:\n",
    "        print(\"Yeah ! Your answer is :\", result)\n",
    "    finally: \n",
    "        print('This is always executed')  \n",
    "\n",
    "divide(3, 2)\n",
    "divide(3, 0)\n",
    "\n",
    "Output ----\n",
    "Yeah ! Your answer is : 1\n",
    "This is always executed\n",
    "Sorry ! You are dividing by zero \n",
    "This is always executed"
   ]
  },
  {
   "cell_type": "code",
   "execution_count": null,
   "id": "25558e2b-d659-4ead-8e1b-05d3627f99ac",
   "metadata": {},
   "outputs": [],
   "source": [
    "5. What are Custom Exceptions in python? Why do we need Custom Exceptions? Explain with an example.\n",
    "----------\n",
    "Custom exceptions provide you the flexibility to add attributes and methods that are not part of a standard Python exception.\n",
    "\n",
    "Built-in exceptions offer information about Python-related problems, and custom exceptions will add information about project-related problems, thats why we need custom exceptions.\n",
    "\n",
    "Example:\n",
    "    \n",
    "    class MyErrorClass(Exception):\n",
    " \n",
    "    def __init__(self, value):\n",
    "        self.value = value\n",
    " \n",
    "    def __str__(self):\n",
    "        return(repr(self.value))\n",
    " \n",
    "    try:\n",
    "        raise(MyErrorClass(3*2))\n",
    "    except MyError as error:\n",
    "        print('A New Exception occurred: ', error.value)\n",
    "        \n",
    "        \n",
    "Output -----\n",
    "('A New Exception occurred: ', 6)"
   ]
  },
  {
   "cell_type": "code",
   "execution_count": null,
   "id": "3bb40096-824b-40e2-ab50-f45f7860ab26",
   "metadata": {},
   "outputs": [],
   "source": [
    "6. Create a custom exception class. Use this class to handle an exception.\n",
    "----------\n",
    "class validateBudgetPrice(Exception):\n",
    "    \n",
    "    def __init__(self, msg):\n",
    "        self.msg = msg\n",
    "        \n",
    "price = int(input(\"Enter price :: \"))\n",
    "\n",
    "def validatePrice(price):\n",
    "    if price<0:\n",
    "        raise validateBudgetPrice(\"Entered price {price} is negative\".format(price=price))\n",
    "    elif age > 2500:\n",
    "        raise validateBudgetPrice(\"Entered price {price} is very high. It's out of Budget\".format(price=price))\n",
    "    else:\n",
    "        print(\"Entered price is under budget\")\n",
    "        \n",
    "try: \n",
    "    price = int(input(\"Enter price :: \"))\n",
    "    validatePrice(price)\n",
    "except validateBudgetPrice as e:\n",
    "    print(e)\n",
    "    \n",
    "Output:\n",
    "    \n"
   ]
  },
  {
   "cell_type": "code",
   "execution_count": null,
   "id": "b43037ea-b620-4ff5-834c-c8582fe88a3a",
   "metadata": {},
   "outputs": [
    {
     "name": "stdin",
     "output_type": "stream",
     "text": [
      "Enter price ::  4500\n"
     ]
    }
   ],
   "source": [
    "class validateBudgetPrice(Exception):\n",
    "    \n",
    "    def __init__(self, msg):\n",
    "        self.msg = msg\n",
    "\n",
    "def validatePrice(price):\n",
    "    if price<0:\n",
    "        raise validateBudgetPrice(\"Entered price {price} is negative\".format(price=price))\n",
    "    elif price > 2500:\n",
    "        raise validateBudgetPrice(\"Entered price {price} is very high. It's out of Budget\".format(price=price))\n",
    "    else:\n",
    "        print(\"Entered price is under budget\")\n",
    "        \n",
    "try: \n",
    "    price = int(input(\"Enter price :: \"))\n",
    "    validatePrice(price)\n",
    "except validateBudgetPrice as e:\n",
    "    print(e)"
   ]
  }
 ],
 "metadata": {
  "kernelspec": {
   "display_name": "Python 3 (ipykernel)",
   "language": "python",
   "name": "python3"
  },
  "language_info": {
   "codemirror_mode": {
    "name": "ipython",
    "version": 3
   },
   "file_extension": ".py",
   "mimetype": "text/x-python",
   "name": "python",
   "nbconvert_exporter": "python",
   "pygments_lexer": "ipython3",
   "version": "3.10.8"
  }
 },
 "nbformat": 4,
 "nbformat_minor": 5
}
