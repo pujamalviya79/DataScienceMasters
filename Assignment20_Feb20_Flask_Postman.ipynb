{
 "cells": [
  {
   "cell_type": "code",
   "execution_count": null,
   "id": "aa64f823-ed62-40ea-9233-aa3bbbcfed0c",
   "metadata": {},
   "outputs": [],
   "source": [
    "Q1. Explain GET and POST methods.\n",
    "------- \n",
    "GET :\n",
    "    - GET method is used to transfer data from client to server in HTTP protocol \n",
    "    - GET carries request parameter appended in URL string\n",
    "POST :\n",
    "    - POST method is used to transfer data from client to server in HTTP protocol\n",
    "    - POST carries request parameter in message body which makes it more secure way of transferring data from client to server."
   ]
  },
  {
   "cell_type": "code",
   "execution_count": null,
   "id": "410dcf1c-7185-4bbe-82e5-41751a8709fb",
   "metadata": {},
   "outputs": [],
   "source": [
    "Q2. Why is request used in Flask?\n",
    "-------\n",
    "The Request, in Flask, is an object that contains all the data sent from the Client to Server. "
   ]
  },
  {
   "cell_type": "code",
   "execution_count": null,
   "id": "b421101e-b885-4d7c-a1c0-daa6c7b81417",
   "metadata": {},
   "outputs": [],
   "source": [
    "Q3. Why is redirect() used in Flask?\n",
    "--------\n",
    "Flask class has a redirect() function. \n",
    "When this function is called, it returns a response object and redirects the user to another target location with specified status code. \n",
    "location parameter is the URL where response should be redirected."
   ]
  },
  {
   "cell_type": "code",
   "execution_count": null,
   "id": "7eb388b8-4cfa-470a-845a-665c4dce0902",
   "metadata": {},
   "outputs": [],
   "source": [
    "Q4. What are templates in Flask? Why is the render_template() function used?\n",
    "--------\n",
    "Templates are files that contain static data as well as placeholders for dynamic data. \n",
    "A template is rendered with specific data to produce a final document.\n",
    "\n",
    "Flask render_template() function can be used to render the external HTML file to be returned as the response from the view function."
   ]
  },
  {
   "cell_type": "code",
   "execution_count": null,
   "id": "4b8de6eb-86ea-43bf-91a5-8f0f14d4cacd",
   "metadata": {},
   "outputs": [],
   "source": [
    "Q5. Create a simple API. Use Postman to test it. Attach the screenshot of the output in the Jupyter Notebook.\n",
    "---------\n",
    "@app.route('/postman_action',methods=['POST'])\n",
    "def details():\n",
    "    if(request.method == 'POST'):\n",
    "        usertype = request.json['usertype']\n",
    "        name = request.json['name']\n",
    "        Id = int(request.json['Id'])\n",
    "        if usertype == 'Teacher':\n",
    "            result = \"The Id detail of \" + name + ' is ' + Id\n",
    "        if usertype == 'Student':\n",
    "            result = \"The Id detail of \" + name + \"is \" + Id\n",
    "            \n",
    "        return jsonify(result)"
   ]
  },
  {
   "cell_type": "code",
   "execution_count": null,
   "id": "c4e329fe-6ba6-4d73-8531-f13c6baad008",
   "metadata": {},
   "outputs": [],
   "source": []
  }
 ],
 "metadata": {
  "kernelspec": {
   "display_name": "Python 3 (ipykernel)",
   "language": "python",
   "name": "python3"
  },
  "language_info": {
   "codemirror_mode": {
    "name": "ipython",
    "version": 3
   },
   "file_extension": ".py",
   "mimetype": "text/x-python",
   "name": "python",
   "nbconvert_exporter": "python",
   "pygments_lexer": "ipython3",
   "version": "3.10.8"
  }
 },
 "nbformat": 4,
 "nbformat_minor": 5
}
