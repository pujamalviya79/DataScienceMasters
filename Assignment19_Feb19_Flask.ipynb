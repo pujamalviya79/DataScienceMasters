{
 "cells": [
  {
   "cell_type": "code",
   "execution_count": null,
   "id": "bc65a961-78d0-46c8-8a1e-daa586260668",
   "metadata": {},
   "outputs": [],
   "source": [
    "Q1. What is Flask Framework? What are the advantages of Flask Framework?\n",
    "-----\n",
    "Flask is a web framework, it’s a Python module that lets you develop web applications easily.\n",
    "It’s has a small and easy-to-extend core: it’s a microframework that doesn’t include an ORM (Object Relational Manager) or such features.\n",
    "\n",
    "Advantages of flask:\n",
    "- Scalable : Flask’s status is microframework means that you can use it to grow a tech project such as a web app incredibly quickly.\n",
    "- Flexible : It can be easily rearranged and moved around.\n",
    "- Easy to negotiate : The microframework is easy to understand for web developers,not just saving them time and effort but also giving them more control over their code and what is possible.\n",
    "- Lightweight : There are few constituent parts that need to be assembled and reassembled, and it doesn’t rely on a large number of extensions to function.\n",
    "- Documentation : Flask users will find a healthy number of examples and tips arranged in a structured manner."
   ]
  },
  {
   "cell_type": "code",
   "execution_count": null,
   "id": "b126a7d1-a3a1-4f19-bc9f-15b400beba44",
   "metadata": {},
   "outputs": [],
   "source": [
    "Q2. Create a simple Flask application to display ‘Hello World!!’. Attach the screenshot of the output in\n",
    "Jupyter Notebook.\n",
    "-----\n",
    "from flask import Flask\n",
    "\n",
    "## object creation\n",
    "app = Flask(__name__)\n",
    "\n",
    "## using flask object call route\n",
    "@app.route(\"/\")\n",
    "def hello_world():\n",
    "    return \"<h1>Hello, World!</h1>\"\n",
    "\n",
    "if __name__==\"__main__\":\n",
    "    app.run(host=\"0.0.0.0\")\n",
    "    \n",
    "Output:\n",
    "\n",
    "    url: https://red-librarian-qibij.pwskills.app:5000/\n",
    "    \n",
    "    Hello, World!\n",
    "    "
   ]
  },
  {
   "cell_type": "code",
   "execution_count": null,
   "id": "c6c98fd6-6318-4723-a577-d05b63752647",
   "metadata": {},
   "outputs": [],
   "source": [
    "Q3. What is App routing in Flask? Why do we use app routes?\n",
    "-------\n",
    "App Routing means mapping the URLs to a specific function that will handle the logic for that URL.\n",
    "\n",
    "To bind a function to an URL path we use the app.route decorator.\n",
    "\n",
    "Example:\n",
    "    \n",
    "from flask import Flask\n",
    "  \n",
    "app = Flask(__name__)\n",
    "\n",
    "@app.route(\"/hello\")\n",
    "def hello():\n",
    "    return \"Hello, Welcome !!!\"\n",
    "    \n",
    "@app.route(\"/\")\n",
    "def index():\n",
    "    return \"Welcome Home\"\n",
    "  \n",
    "if __name__ == \"__main__\":\n",
    "    app.run(debug=True)\n"
   ]
  },
  {
   "cell_type": "code",
   "execution_count": null,
   "id": "dc476838-04e3-4013-b917-e6f548e23612",
   "metadata": {},
   "outputs": [],
   "source": [
    "Q4. Create a “/welcome” route to display the welcome message “Welcome to ABC Corporation” and a “/”\n",
    "route to show the following details:\n",
    "Company Name: ABC Corporation\n",
    "Location: India\n",
    "Contact Detail: 999-999-9999\n",
    "Attach the screenshot of the output in Jupyter Notebook.\n",
    "\n",
    "\n",
    "-----\n",
    "from flask import Flask\n",
    "\n",
    "app = Flask(__name__)\n",
    "\n",
    "@app.route(\"/welcome\")\n",
    "def hello_world1():\n",
    "    return \"<h1>Welcome to ABC Corporation</h1>\"\n",
    "\n",
    "@app.route(\"/\")\n",
    "def hello_welcome():\n",
    "    return \"\"\"Company Name: {name}\n",
    "            Location: {loc} \n",
    "            Contact Detail: {contact}\n",
    "            \"\"\".format(name='ABC Corporation',loc='India',contact='999-999-9999')\n",
    "\n",
    "Output:\n",
    "    url : https://red-librarian-qibij.pwskills.app:5000/welcome\n",
    "    Welcome to ABC Corporation\n",
    "    \n",
    "    url : https://red-librarian-qibij.pwskills.app:5000/\n",
    "    Company Name: ABC Corporation Location: India Contact Detail: 999-999-9999\n"
   ]
  },
  {
   "cell_type": "code",
   "execution_count": null,
   "id": "b1376aeb-bbca-43e5-838d-086bb5a6fa7f",
   "metadata": {},
   "outputs": [],
   "source": [
    "Q5. What function is used in Flask for URL Building? Write a Python code to demonstrate the working of the\n",
    "url_for() function.\n",
    "------\n",
    "To build a URL to a specific function, use the url_for() function. \n",
    "It accepts the name of the function as its first argument and any number of keyword arguments, each corresponding to a variable part of the URL rule.\n",
    "Example:\n",
    "    \n",
    "\n"
   ]
  },
  {
   "cell_type": "code",
   "execution_count": null,
   "id": "eb2f7ad6-bf17-4569-bdbc-e8589e87f0b3",
   "metadata": {},
   "outputs": [],
   "source": []
  }
 ],
 "metadata": {
  "kernelspec": {
   "display_name": "Python 3 (ipykernel)",
   "language": "python",
   "name": "python3"
  },
  "language_info": {
   "codemirror_mode": {
    "name": "ipython",
    "version": 3
   },
   "file_extension": ".py",
   "mimetype": "text/x-python",
   "name": "python",
   "nbconvert_exporter": "python",
   "pygments_lexer": "ipython3",
   "version": "3.10.8"
  }
 },
 "nbformat": 4,
 "nbformat_minor": 5
}
