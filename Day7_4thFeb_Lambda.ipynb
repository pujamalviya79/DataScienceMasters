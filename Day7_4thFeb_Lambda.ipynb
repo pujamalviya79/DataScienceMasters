{
 "cells": [
  {
   "cell_type": "markdown",
   "id": "ab2cf518-a51f-436b-b349-f6b78227cdae",
   "metadata": {},
   "source": [
    "## Lambda Function"
   ]
  },
  {
   "cell_type": "code",
   "execution_count": 1,
   "id": "d11276af-096d-4ef2-ad37-fcf5939ec8c0",
   "metadata": {},
   "outputs": [],
   "source": [
    "n=3\n",
    "p=2"
   ]
  },
  {
   "cell_type": "code",
   "execution_count": 2,
   "id": "ff2fdd0f-1c81-43b2-b88d-8777398b8af6",
   "metadata": {},
   "outputs": [],
   "source": [
    "def test(n,p):\n",
    "    return n**p"
   ]
  },
  {
   "cell_type": "code",
   "execution_count": 3,
   "id": "3fdb387e-c40b-46b7-8cd3-20d7fd8be020",
   "metadata": {},
   "outputs": [
    {
     "data": {
      "text/plain": [
       "9"
      ]
     },
     "execution_count": 3,
     "metadata": {},
     "output_type": "execute_result"
    }
   ],
   "source": [
    "test(3,2)"
   ]
  },
  {
   "cell_type": "code",
   "execution_count": 14,
   "id": "6a76bbd5-4a1b-4ccf-b0b7-4f225f3b0e07",
   "metadata": {},
   "outputs": [
    {
     "data": {
      "text/plain": [
       "<function __main__.<lambda>(n, p)>"
      ]
     },
     "execution_count": 14,
     "metadata": {},
     "output_type": "execute_result"
    }
   ],
   "source": [
    "## lambda func is an anonymous function\n",
    "## its an adhoc function\n",
    "## it is not having any name\n",
    "## save lambda func in some variable\n",
    "## after colon, provide the func execution definition\n",
    "a = lambda n,p : n**p\n",
    "a"
   ]
  },
  {
   "cell_type": "code",
   "execution_count": 8,
   "id": "6fce292c-ee93-4e6b-a9e6-988717e6b861",
   "metadata": {},
   "outputs": [
    {
     "data": {
      "text/plain": [
       "9"
      ]
     },
     "execution_count": 8,
     "metadata": {},
     "output_type": "execute_result"
    }
   ],
   "source": [
    "a(3,2)"
   ]
  },
  {
   "cell_type": "code",
   "execution_count": 11,
   "id": "11f76c51-2ae0-4fae-ab59-1f2a94061a6f",
   "metadata": {},
   "outputs": [
    {
     "data": {
      "text/plain": [
       "7"
      ]
     },
     "execution_count": 11,
     "metadata": {},
     "output_type": "execute_result"
    }
   ],
   "source": [
    "add = lambda x,y : x+y\n",
    "add(3,4)"
   ]
  },
  {
   "cell_type": "code",
   "execution_count": 12,
   "id": "6e63acda-e9d9-4af0-9366-80e1d4028e1d",
   "metadata": {},
   "outputs": [],
   "source": [
    "c_to_f = lambda c : (9/5)*c+32"
   ]
  },
  {
   "cell_type": "code",
   "execution_count": 13,
   "id": "f1493c7b-a122-4523-9257-157a76073c66",
   "metadata": {},
   "outputs": [
    {
     "data": {
      "text/plain": [
       "93.2"
      ]
     },
     "execution_count": 13,
     "metadata": {},
     "output_type": "execute_result"
    }
   ],
   "source": [
    "c_to_f(34)"
   ]
  },
  {
   "cell_type": "code",
   "execution_count": 16,
   "id": "55472ea1-b617-4610-8dcb-82a110bab9d0",
   "metadata": {},
   "outputs": [
    {
     "data": {
      "text/plain": [
       "34"
      ]
     },
     "execution_count": 16,
     "metadata": {},
     "output_type": "execute_result"
    }
   ],
   "source": [
    "max_two = lambda x,y : x if x>y else y\n",
    "max_two(34,23)"
   ]
  },
  {
   "cell_type": "code",
   "execution_count": 17,
   "id": "aab6c0ad-80f0-46b5-817e-44b12ceb4ef3",
   "metadata": {},
   "outputs": [
    {
     "data": {
      "text/plain": [
       "67"
      ]
     },
     "execution_count": 17,
     "metadata": {},
     "output_type": "execute_result"
    }
   ],
   "source": [
    "max_two(3,67)"
   ]
  },
  {
   "cell_type": "code",
   "execution_count": 22,
   "id": "e5a49265-49ce-47bc-8de8-bd7768799692",
   "metadata": {},
   "outputs": [
    {
     "data": {
      "text/plain": [
       "8"
      ]
     },
     "execution_count": 22,
     "metadata": {},
     "output_type": "execute_result"
    }
   ],
   "source": [
    "s = \"pwskills\"\n",
    "\n",
    "## find the length of the string s using lambda func\n",
    "\n",
    "len_str = lambda a : len(a)\n",
    "len_str(s)"
   ]
  },
  {
   "cell_type": "markdown",
   "id": "5456c581-de59-4cbd-a4e8-5a4707c7b618",
   "metadata": {},
   "source": [
    "## Map Reduce , Filter function"
   ]
  },
  {
   "cell_type": "code",
   "execution_count": 25,
   "id": "11085071-9fa7-446a-9280-8e840c326920",
   "metadata": {},
   "outputs": [],
   "source": [
    "l = [1,2,3,4,5]"
   ]
  },
  {
   "cell_type": "code",
   "execution_count": 28,
   "id": "d91b83a0-82c8-4d9b-9fa6-0bdc53db8b34",
   "metadata": {},
   "outputs": [
    {
     "data": {
      "text/plain": [
       "[1, 4, 9, 16, 25]"
      ]
     },
     "execution_count": 28,
     "metadata": {},
     "output_type": "execute_result"
    }
   ],
   "source": [
    "def test1(lst):\n",
    "    l1 = []\n",
    "    for i in lst:\n",
    "        l1.append(i**2)\n",
    "    return l1\n",
    "\n",
    "test1(l)"
   ]
  },
  {
   "cell_type": "code",
   "execution_count": 30,
   "id": "2853934d-e464-41b3-a1f7-7a31da5a55aa",
   "metadata": {},
   "outputs": [],
   "source": [
    "def sq(x):\n",
    "    return x**2"
   ]
  },
  {
   "cell_type": "code",
   "execution_count": 34,
   "id": "042c03ea-0377-48b3-a344-1b58022f86c1",
   "metadata": {},
   "outputs": [
    {
     "data": {
      "text/plain": [
       "<map at 0x7f8950dc5990>"
      ]
     },
     "execution_count": 34,
     "metadata": {},
     "output_type": "execute_result"
    }
   ],
   "source": [
    "## mapper functions takes two arguments, first is a function and second is an iterable\n",
    "\n",
    "map(sq,l)"
   ]
  },
  {
   "cell_type": "code",
   "execution_count": 33,
   "id": "7442cfc7-0b85-4944-9b3f-ef1b940970a9",
   "metadata": {},
   "outputs": [
    {
     "data": {
      "text/plain": [
       "[1, 4, 9, 16, 25]"
      ]
     },
     "execution_count": 33,
     "metadata": {},
     "output_type": "execute_result"
    }
   ],
   "source": [
    "list(map(sq,l))"
   ]
  },
  {
   "cell_type": "code",
   "execution_count": 35,
   "id": "79659b26-54c7-40c1-abd4-5331c85267fe",
   "metadata": {},
   "outputs": [
    {
     "data": {
      "text/plain": [
       "[1, 4, 9, 16, 25]"
      ]
     },
     "execution_count": 35,
     "metadata": {},
     "output_type": "execute_result"
    }
   ],
   "source": [
    "list(map(lambda x : x**2, l))"
   ]
  },
  {
   "cell_type": "code",
   "execution_count": 36,
   "id": "cc1eefe3-1c80-43cb-adc3-e9931fbad3f6",
   "metadata": {},
   "outputs": [
    {
     "data": {
      "text/plain": [
       "[11, 12, 13, 14, 15]"
      ]
     },
     "execution_count": 36,
     "metadata": {},
     "output_type": "execute_result"
    }
   ],
   "source": [
    "list(map(lambda x : x+10, l))"
   ]
  },
  {
   "cell_type": "code",
   "execution_count": 37,
   "id": "1862e2a1-d7a4-41b5-b810-8b0cbcd98ee0",
   "metadata": {},
   "outputs": [
    {
     "data": {
      "text/plain": [
       "['1', '2', '3', '4', '5']"
      ]
     },
     "execution_count": 37,
     "metadata": {},
     "output_type": "execute_result"
    }
   ],
   "source": [
    "list(map(lambda x : str(x), l))"
   ]
  },
  {
   "cell_type": "code",
   "execution_count": 38,
   "id": "fda6b20f-9047-4eac-b467-0f0368febff6",
   "metadata": {},
   "outputs": [
    {
     "data": {
      "text/plain": [
       "[7, 9, 11, 13, 15]"
      ]
     },
     "execution_count": 38,
     "metadata": {},
     "output_type": "execute_result"
    }
   ],
   "source": [
    "l1 = [1,2,3,4,5]\n",
    "l2 = [6,7,8,9,10]\n",
    "\n",
    "list(map(lambda x,y : x+y,l1,l2))"
   ]
  },
  {
   "cell_type": "code",
   "execution_count": 40,
   "id": "5a29a80c-df5a-4b4a-aba8-990de0685b31",
   "metadata": {},
   "outputs": [
    {
     "data": {
      "text/plain": [
       "[2, 4, 6, 8, 10]"
      ]
     },
     "execution_count": 40,
     "metadata": {},
     "output_type": "execute_result"
    }
   ],
   "source": [
    "l1 = [1,2,3,4,5]\n",
    "l2 = [6,7,8,9,10]\n",
    "\n",
    "list(map(lambda x,y : x+y,l1,l1))"
   ]
  },
  {
   "cell_type": "code",
   "execution_count": 41,
   "id": "1227d329-48b8-4d3a-8f7a-0fe70d4d4fd8",
   "metadata": {},
   "outputs": [
    {
     "data": {
      "text/plain": [
       "[7, 9, 11, 13, 15]"
      ]
     },
     "execution_count": 41,
     "metadata": {},
     "output_type": "execute_result"
    }
   ],
   "source": [
    "f = lambda x,y : x+y\n",
    "\n",
    "list(map(f,l1,l2))"
   ]
  },
  {
   "cell_type": "code",
   "execution_count": 42,
   "id": "675de8de-707a-4afd-a0ff-2d85a8b21066",
   "metadata": {},
   "outputs": [
    {
     "data": {
      "text/plain": [
       "['P', 'W', 'S', 'K', 'I', 'L', 'L', 'S']"
      ]
     },
     "execution_count": 42,
     "metadata": {},
     "output_type": "execute_result"
    }
   ],
   "source": [
    "s = \"pwskills\"\n",
    "\n",
    "list(map(lambda x : x.upper(),s))"
   ]
  },
  {
   "cell_type": "code",
   "execution_count": 43,
   "id": "286cd8ac-a662-4bf3-b50e-2ca2391f1638",
   "metadata": {},
   "outputs": [],
   "source": [
    "## for using Reduce  function we have to call a library functools and import reduce\n",
    "\n",
    "from functools import reduce"
   ]
  },
  {
   "cell_type": "code",
   "execution_count": 46,
   "id": "10fcb319-b59d-4c49-aceb-51aebfd4960a",
   "metadata": {},
   "outputs": [
    {
     "data": {
      "text/plain": [
       "21"
      ]
     },
     "execution_count": 46,
     "metadata": {},
     "output_type": "execute_result"
    }
   ],
   "source": [
    "l3 = [1,2,3,4,5,6]\n",
    "\n",
    "## find the summation of all the element\n",
    "\n",
    "reduce(lambda x,y : x+y, l3)"
   ]
  },
  {
   "cell_type": "code",
   "execution_count": 47,
   "id": "ceff0486-7dd6-4fa4-916e-29b4ddd56e61",
   "metadata": {},
   "outputs": [],
   "source": [
    "def add(x,y):\n",
    "    return x+y"
   ]
  },
  {
   "cell_type": "code",
   "execution_count": 48,
   "id": "9f98c24c-b53a-40d5-b6fa-bc9b71d6b6d3",
   "metadata": {},
   "outputs": [
    {
     "data": {
      "text/plain": [
       "15"
      ]
     },
     "execution_count": 48,
     "metadata": {},
     "output_type": "execute_result"
    }
   ],
   "source": [
    "reduce(add,l)"
   ]
  },
  {
   "cell_type": "code",
   "execution_count": null,
   "id": "6b0c32fe-f895-4711-9882-470b9d2f736a",
   "metadata": {},
   "outputs": [],
   "source": [
    "## reduce function will always takes a function as an argument where only two arguments are there in the function\n"
   ]
  },
  {
   "cell_type": "code",
   "execution_count": 49,
   "id": "ffaa0303-6967-44fc-a4d7-4f502765c597",
   "metadata": {},
   "outputs": [
    {
     "data": {
      "text/plain": [
       "1"
      ]
     },
     "execution_count": 49,
     "metadata": {},
     "output_type": "execute_result"
    }
   ],
   "source": [
    "## if will pass only 1 element , then it will work for two parameters\n",
    "## this is an exceptional case\n",
    "\n",
    "reduce (lambda x,y : x+y ,[1])"
   ]
  },
  {
   "cell_type": "code",
   "execution_count": 51,
   "id": "fde81dd0-426d-480c-aa70-0c77db2b09c8",
   "metadata": {},
   "outputs": [
    {
     "data": {
      "text/plain": [
       "6"
      ]
     },
     "execution_count": 51,
     "metadata": {},
     "output_type": "execute_result"
    }
   ],
   "source": [
    "reduce (lambda x,y: z if x>y else y, l3)"
   ]
  },
  {
   "cell_type": "code",
   "execution_count": 52,
   "id": "1e0f07e4-c76a-40b1-a900-510253b171c3",
   "metadata": {},
   "outputs": [
    {
     "data": {
      "text/plain": [
       "[1, 2, 3, 4, 5]"
      ]
     },
     "execution_count": 52,
     "metadata": {},
     "output_type": "execute_result"
    }
   ],
   "source": [
    "l"
   ]
  },
  {
   "cell_type": "code",
   "execution_count": 54,
   "id": "7a3659ae-b5b0-4a03-b54e-cde38170fb5c",
   "metadata": {},
   "outputs": [
    {
     "data": {
      "text/plain": [
       "[2, 4]"
      ]
     },
     "execution_count": 54,
     "metadata": {},
     "output_type": "execute_result"
    }
   ],
   "source": [
    "list(filter(lambda x : x%2==0,l))"
   ]
  },
  {
   "cell_type": "code",
   "execution_count": 55,
   "id": "d08a4451-e2c5-429a-a31c-d7e60c94f6f3",
   "metadata": {},
   "outputs": [
    {
     "data": {
      "text/plain": [
       "[1, 3, 5]"
      ]
     },
     "execution_count": 55,
     "metadata": {},
     "output_type": "execute_result"
    }
   ],
   "source": [
    "list(filter(lambda x : x%2 !=0, l))"
   ]
  },
  {
   "cell_type": "code",
   "execution_count": 57,
   "id": "8e1a776c-b4f9-4397-a415-b51cfa2ac51e",
   "metadata": {},
   "outputs": [
    {
     "data": {
      "text/plain": [
       "[-2, -4, -6]"
      ]
     },
     "execution_count": 57,
     "metadata": {},
     "output_type": "execute_result"
    }
   ],
   "source": [
    "l4 = [-2,3,-4,5,-6,8]\n",
    "\n",
    "## to get all the negative numbers\n",
    "list(filter(lambda x : x<0,l4))"
   ]
  },
  {
   "cell_type": "code",
   "execution_count": 59,
   "id": "867e0d56-8351-43ef-80a8-1bd4fe7d4d48",
   "metadata": {},
   "outputs": [
    {
     "data": {
      "text/plain": [
       "[3, 5, 8]"
      ]
     },
     "execution_count": 59,
     "metadata": {},
     "output_type": "execute_result"
    }
   ],
   "source": [
    "## to get all the positive numbers\n",
    "list(filter(lambda x : x>=0,l4))"
   ]
  },
  {
   "cell_type": "code",
   "execution_count": 60,
   "id": "64a6b723-e306-4531-9303-9cf649d347da",
   "metadata": {},
   "outputs": [
    {
     "data": {
      "text/plain": [
       "['abc', 'kumar', 'Ram']"
      ]
     },
     "execution_count": 60,
     "metadata": {},
     "output_type": "execute_result"
    }
   ],
   "source": [
    "l5 = [\"abc\", \"pwskills\", \"kumar\", \"Bangalore\", \"krishna\", \"Ram\"]\n",
    "\n",
    "list(filter(lambda x : len(x)<6, l5))"
   ]
  }
 ],
 "metadata": {
  "kernelspec": {
   "display_name": "Python 3 (ipykernel)",
   "language": "python",
   "name": "python3"
  },
  "language_info": {
   "codemirror_mode": {
    "name": "ipython",
    "version": 3
   },
   "file_extension": ".py",
   "mimetype": "text/x-python",
   "name": "python",
   "nbconvert_exporter": "python",
   "pygments_lexer": "ipython3",
   "version": "3.10.8"
  }
 },
 "nbformat": 4,
 "nbformat_minor": 5
}
