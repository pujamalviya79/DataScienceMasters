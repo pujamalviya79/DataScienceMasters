{
 "cells": [
  {
   "cell_type": "code",
   "execution_count": 3,
   "id": "b7757a63-4ed1-475c-a6c8-5dfbb9f31842",
   "metadata": {},
   "outputs": [
    {
     "data": {
      "text/plain": [
       "array(['1', '2', '3', '4', '5'], dtype='<U1')"
      ]
     },
     "execution_count": 3,
     "metadata": {},
     "output_type": "execute_result"
    }
   ],
   "source": [
    "'''Consider the below code to answer further questions:'''\n",
    "import numpy as np\n",
    "list_ = [ '1' , '2' , '3' , '4' , '5' ]\n",
    "array_list = np.array(object = list_)\n",
    "array_list"
   ]
  },
  {
   "cell_type": "code",
   "execution_count": 14,
   "id": "3e5378fd-5aec-404e-8f31-8041676ee750",
   "metadata": {},
   "outputs": [
    {
     "name": "stdout",
     "output_type": "stream",
     "text": [
      "list_ Datatype :  <class 'list'>\n",
      "Arraylist Datatype : <U1\n"
     ]
    }
   ],
   "source": [
    "'''Q1. Is there any difference in the data type of variables list_ and array_list? If there is then write a code\n",
    "to print the data types of both the variables.\n",
    "--------'''\n",
    "\n",
    "While Python lists store a collection of ordered, alterable data objects, NumPy arrays only store a single type of object.\n",
    "\n",
    "listtype = type(list_)\n",
    "print('list_ Datatype : ',listtype)\n",
    "\n",
    "print('Arraylist Datatype :', array_list.dtype)"
   ]
  },
  {
   "cell_type": "code",
   "execution_count": 31,
   "id": "15d9b566-ad46-4674-89f2-ea27c561fb8e",
   "metadata": {},
   "outputs": [
    {
     "name": "stdout",
     "output_type": "stream",
     "text": [
      "<class 'str'>\n",
      "<class 'str'>\n",
      "<class 'str'>\n",
      "<class 'str'>\n",
      "<class 'str'>\n",
      "<class 'numpy.str_'>\n",
      "<class 'numpy.str_'>\n",
      "<class 'numpy.str_'>\n",
      "<class 'numpy.str_'>\n",
      "<class 'numpy.str_'>\n"
     ]
    }
   ],
   "source": [
    "'''Q2. Write a code to print the data type of each and every element of both the variables list_ and\n",
    "arra_list.\n",
    "--------'''\n",
    "\n",
    "for ele in list_:\n",
    "    print(type(ele))\n",
    "    \n",
    "size = array_list.size\n",
    "\n",
    "for i in range(0,size):\n",
    "    print(type(array_list[i]))"
   ]
  },
  {
   "cell_type": "code",
   "execution_count": 32,
   "id": "3ae5f80a-2171-4cd0-8e44-215dd7e88a24",
   "metadata": {},
   "outputs": [
    {
     "name": "stdout",
     "output_type": "stream",
     "text": [
      "list_ Datatype :  <class 'list'>\n",
      "Arraylist Datatype : int64\n",
      "<class 'list'>\n",
      "<class 'list'>\n",
      "5\n",
      "<class 'numpy.ndarray'>\n",
      "<class 'numpy.ndarray'>\n"
     ]
    }
   ],
   "source": [
    "'''Q3. Considering the following changes in the variable, array_list:\n",
    "array_list = np.array(object = list_, dtype = int)\n",
    "Will there be any difference in the data type of the elements present in both the variables, list_ and\n",
    "arra_list? If so then print the data types of each and every element present in both the variables, list_\n",
    "and arra_list.\n",
    "Consider the below code to answer further questions:\n",
    "import numpy as np\n",
    "num_list = [ [ 1 , 2 , 3 ] , [ 4 , 5 , 6 ] ]\n",
    "num_array = np.array(object = num_list)\n",
    "--------'''\n",
    "\n",
    "import numpy as np\n",
    "num_list = [ [ 1 , 2 , 3 ] , [ 4 , 5 , 6 ] ]\n",
    "num_array = np.array(object = num_list)\n",
    "\n",
    "listtype = type(num_list)\n",
    "print('list_ Datatype : ',listtype)\n",
    "\n",
    "print('Arraylist Datatype :', num_array.dtype)\n",
    "\n",
    "for ele in num_list:\n",
    "    print(type(ele))\n",
    "    \n",
    "count = num_array.ndim\n",
    "print(size)\n",
    "\n",
    "for i in range(0,count):\n",
    "    print(type(num_array[i]))\n"
   ]
  },
  {
   "cell_type": "code",
   "execution_count": 29,
   "id": "e9534362-c8ef-447d-bd7b-6e9209a9f032",
   "metadata": {},
   "outputs": [
    {
     "name": "stdout",
     "output_type": "stream",
     "text": [
      "num_array shape ::  (2, 3)\n",
      "num_array size ::  6\n"
     ]
    }
   ],
   "source": [
    "'''Q4. Write a code to find the following characteristics of variable, num_array:\n",
    "(i) shape\n",
    "(ii) size'''\n",
    "\n",
    "shape = num_array.shape\n",
    "print('num_array shape :: ',shape)\n",
    "\n",
    "size = num_array.size\n",
    "print('num_array size :: ',size)"
   ]
  },
  {
   "cell_type": "code",
   "execution_count": 34,
   "id": "01abb91d-19a5-428d-ab8a-d59ace16fe44",
   "metadata": {},
   "outputs": [
    {
     "name": "stdout",
     "output_type": "stream",
     "text": [
      "[[0. 0. 0.]\n",
      " [0. 0. 0.]\n",
      " [0. 0. 0.]]\n",
      "Size ::  9\n",
      "Shape ::  (3, 3)\n"
     ]
    }
   ],
   "source": [
    "'''Q5. Write a code to create numpy array of 3*3 matrix containing zeros only, using a numpy array\n",
    "creation function.\n",
    "[Hint: The size of the array will be 9 and the shape will be (3,3).]\n",
    "------'''\n",
    "\n",
    "import numpy as np\n",
    "\n",
    "npArr = np.zeros((3,3))\n",
    "print(npArr)\n",
    "\n",
    "print('Size :: ',npArr.size)\n",
    "print('Shape :: ',npArr.shape)"
   ]
  },
  {
   "cell_type": "code",
   "execution_count": 37,
   "id": "34cba842-91ad-4c83-855b-af483b8f3f03",
   "metadata": {},
   "outputs": [
    {
     "name": "stdout",
     "output_type": "stream",
     "text": [
      "[[1. 0. 0. 0. 0.]\n",
      " [0. 1. 0. 0. 0.]\n",
      " [0. 0. 1. 0. 0.]\n",
      " [0. 0. 0. 1. 0.]\n",
      " [0. 0. 0. 0. 1.]]\n"
     ]
    }
   ],
   "source": [
    "'''Q6. Create an identity matrix of shape (5,5) using numpy functions?\n",
    "[Hint: An identity matrix is a matrix containing 1 diagonally and other elements will be 0.]'''\n",
    "\n",
    "import numpy as np\n",
    "\n",
    "npArr = np.eye(5,5)\n",
    "print(npArr)"
   ]
  }
 ],
 "metadata": {
  "kernelspec": {
   "display_name": "Python 3 (ipykernel)",
   "language": "python",
   "name": "python3"
  },
  "language_info": {
   "codemirror_mode": {
    "name": "ipython",
    "version": 3
   },
   "file_extension": ".py",
   "mimetype": "text/x-python",
   "name": "python",
   "nbconvert_exporter": "python",
   "pygments_lexer": "ipython3",
   "version": "3.10.8"
  }
 },
 "nbformat": 4,
 "nbformat_minor": 5
}
