{
 "cells": [
  {
   "cell_type": "code",
   "execution_count": null,
   "id": "ea127d4b-d646-4ac6-97c4-16d028043c14",
   "metadata": {},
   "outputs": [],
   "source": [
    "Q1: What is Estimation Statistics? Explain point estimate and interval estimate.\n",
    "---------\n",
    "Estimation is a division of statistics and signal processing that determines the values of parameters through measured and observed empirical data.\n",
    "\n",
    "Point Estimate : \n",
    "    A point estimate is a single value estimate of a parameter. \n",
    "    For instance, a sample mean is a point estimate of a population mean.\n",
    "    \n",
    "Interval Estimate : \n",
    "    An interval estimate gives you a range of values where the parameter is expected to lie. \n",
    "    A confidence interval is the most common type of interval estimate."
   ]
  },
  {
   "cell_type": "code",
   "execution_count": null,
   "id": "4f867491-4887-454f-9642-61df07b7f9d6",
   "metadata": {},
   "outputs": [],
   "source": [
    "Q2. Write a Python function to estimate the population mean using a sample mean and standard\n",
    "deviation.\n",
    "---------\n",
    "The mean and standard deviation of the tax value of all vehicles registered in a certain state are μ=13525 and σ=4180.\n",
    "\n",
    "Suppose random samples of size 100 are drawn from the population of vehicles. \n",
    "What are the mean μX and standard deviation σX of the sample mean X?\n",
    "Solution\n",
    "n = 100\n",
    "μX=μ=13525 \n",
    "σX=σ/√n = 4180 / √100 = 418"
   ]
  },
  {
   "cell_type": "code",
   "execution_count": null,
   "id": "e60db274-4347-445c-869a-f50e27e098e6",
   "metadata": {},
   "outputs": [],
   "source": [
    "Q3: What is Hypothesis testing? Why is it used? State the importance of Hypothesis testing.\n",
    "---------\n",
    "Hypothesis testing is an act in statistics whereby an analyst tests an assumption regarding a population parameter. \n",
    "\n",
    "Hypothesis testing is used to assess the plausibility of a hypothesis by using sample data. \n",
    "Such data may come from a larger population, or from a data-generating process. \n",
    "\n",
    "Importance of Hypothesis\n",
    "The Hypotheses play significant role in the scientific studies. The following are some of the important role, which are given below\n",
    "1.Helps in the testing of the theories.\n",
    "2.Serves as a great platform in the investigation activities.\n",
    "3.Provides guidance to the research work or study.\n",
    "4.Helps in knowing the needs of the data.\n",
    "5.Develops the theory.\n",
    "6.Also acts as a bridge between the theory and the investigation.\n",
    "7.Helps in knowing the most suitable technique of analysis. Helps in the determination of the most suitable type of research"
   ]
  },
  {
   "cell_type": "code",
   "execution_count": null,
   "id": "3596f03d-1216-4af6-a8ab-664243d0e4c2",
   "metadata": {},
   "outputs": [],
   "source": [
    "Q4. Create a hypothesis that states whether the average weight of male college students is greater than\n",
    "the average weight of female college students.\n",
    "----------\n",
    "Null hypothesis = Avg weight of male > Avg weight of female\n",
    "Alternate hypotheis = Avg weight of male <= Avg weight of female\n",
    "\n",
    "alpha = 0.05\n",
    "\n",
    "pval = (SampleMean-Mean)/(std/sqrt(n))\n",
    "\n",
    "if pval < 0.05:\n",
    "    print(\"we are rejecting null hypothesis\")\n",
    "else:\n",
    "    print(\"we are accepting null hypothesis\")"
   ]
  },
  {
   "cell_type": "code",
   "execution_count": null,
   "id": "c7f5dbb2-c8ee-4b2d-be84-0ae1eb6749d3",
   "metadata": {},
   "outputs": [],
   "source": [
    "Q5. Write a Python script to conduct a hypothesis test on the difference between two population means,\n",
    "given a sample from each population.\n",
    "----------\n",
    "\n",
    "The hypotheses for a difference in two population means are similar to those for a difference in two population proportions. The null hypothesis, H0, is again a statement of “no effect” or “no difference.”\n",
    "\n",
    "H0: μ1 – μ2 = 0, which is the same as H0: μ1 = μ2\n",
    "The alternative hypothesis\n",
    "Ha: μ1 – μ2 ≠ 0, which is the same as Ha: μ1 ≠ μ2\n",
    "\n",
    "T=(Observeddifferenceinsamplemeans)−(Hypothesizeddifferenceinpopulationmeans)/Standarderror\n",
    "\n",
    "T=((x1−x2)−(μ1−μ2)) / √((square(s1)/n1)+(square(s2)/n2))\n",
    "\n",
    "For conclusion:\n",
    "If the P-value ≤ α, we reject the null hypothesis in favor of the alternative hypothesis.\n",
    "If the P-value > α, we fail to reject the null hypothesis."
   ]
  },
  {
   "cell_type": "code",
   "execution_count": null,
   "id": "43950354-d3c5-408d-9a10-3ed694c31409",
   "metadata": {},
   "outputs": [],
   "source": [
    "Q6: What is a null and alternative hypothesis? Give some examples.\n",
    "--------\n",
    "The null and alternative hypotheses are two competing claims that researchers weigh evidence for and against using a statistical test:\n",
    "\n",
    "Null hypothesis (H0): There’s no effect in the population.\n",
    "Example: \n",
    "    Does the amount of text highlighted in the textbook affect exam scores?\t\n",
    "    The amount of text highlighted in the textbook has no effect on exam scores.\t\n",
    "    Linear regression : There is no relationship between the amount of text highlighted and exam scores in the population; β1 = 0.\n",
    "Alternative hypothesis (Ha or H1): There’s an effect in the population.\n",
    "Example:\n",
    "    Does the amount of text highlighted in a textbook affect exam scores?\t\n",
    "    The amount of text highlighted in the textbook has an effect on exam scores.\t\n",
    "    Linear regression : There is a relationship between the amount of text highlighted and exam scores in the population; β1 ≠ 0."
   ]
  },
  {
   "cell_type": "code",
   "execution_count": null,
   "id": "24f55710-721e-4904-8abb-8d30ff24b64d",
   "metadata": {},
   "outputs": [],
   "source": [
    "Q7: Write down the steps involved in hypothesis testing.\n",
    "--------\n",
    "Hypothesis testing is a formal procedure for investigating our ideas about the world using statistics. \n",
    "It is most often used by scientists to test specific predictions, called hypotheses, that arise from theories.\n",
    "\n",
    "There are 5 main steps in hypothesis testing:\n",
    "1. State your research hypothesis as a null hypothesis and alternate hypothesis (Ho) and (Ha or H1).\n",
    "2. Collect data in a way designed to test the hypothesis.\n",
    "3. Perform an appropriate statistical test.\n",
    "4. Decide whether to reject or fail to reject your null hypothesis.\n",
    "5. Present the findings in your results and discussion section."
   ]
  },
  {
   "cell_type": "code",
   "execution_count": null,
   "id": "746ee92b-c1bb-4601-863d-8759ed3ebb0b",
   "metadata": {},
   "outputs": [],
   "source": [
    "Q8. Define p-value and explain its significance in hypothesis testing.\n",
    "-------- \n",
    "A p-value is a statistical measurement used to validate a hypothesis against observed data. \n",
    "A p-value measures the probability of obtaining the observed results, assuming that the null hypothesis is true. \n",
    "The lower the p-value, the greater the statistical significance of the observed difference.\n",
    "\n",
    "Significance of p-value in hypothesis testing:\n",
    "    P-Values are used in statistical hypothesis testing to determine whether to reject the null hypothesis.\n",
    "    For conclusion:\n",
    "    If the P-value ≤ α, we reject the null hypothesis in favor of the alternative hypothesis.\n",
    "    If the P-value > α, we fail to reject the null hypothesis."
   ]
  },
  {
   "cell_type": "code",
   "execution_count": 5,
   "id": "b4876737-9b80-4df6-9f82-e562c8f71717",
   "metadata": {},
   "outputs": [
    {
     "data": {
      "text/plain": [
       "[<matplotlib.lines.Line2D at 0x7f0589fa8460>]"
      ]
     },
     "execution_count": 5,
     "metadata": {},
     "output_type": "execute_result"
    },
    {
     "data": {
      "image/png": "[encoded data removed]",
      "text/plain": [
       "<Figure size 640x480 with 1 Axes>"
      ]
     },
     "metadata": {},
     "output_type": "display_data"
    }
   ],
   "source": [
    "'''Q9. Generate a Student's t-distribution plot using Python's matplotlib library, with the degrees of freedom\n",
    "parameter set to 10.\n",
    "----------'''\n",
    "from scipy.stats import t \n",
    "import numpy as np \n",
    "import matplotlib.pyplot as plt \n",
    "    \n",
    "X = np.linspace(-4,4,200)\n",
    "Y = t.pdf(X, df=10) \n",
    "plt.plot(X,Y)"
   ]
  },
  {
   "cell_type": "code",
   "execution_count": null,
   "id": "3b5ce3be-1847-4154-90ae-63daa46dcedf",
   "metadata": {},
   "outputs": [],
   "source": [
    "Q10. Write a Python program to calculate the two-sample t-test for independent samples, given two\n",
    "random samples of equal size and a null hypothesis that the population means are equal.\n",
    "---------\n",
    "In a two-sample t-test, the null hypothesis is that there is no difference between the means of the two samples. This can be expressed as:\n",
    "H0: μ1 = μ2\n",
    "    where μ1 is the mean of the first sample and μ2 is the mean of the second sample.\n",
    "\n",
    "The alternate hypothesis is the opposite of the null hypothesis and is that there is a difference between the means of the two samples. This can be expressed as:\n",
    "Ha: μ1 ≠ μ2\n",
    "\n",
    "Example: Suppose we need to compare the performance of two call centers in terms of average call lengths and find out if the difference is statistically significant or the difference is a chance occurrence. \n",
    "To start with, we will need to formulate the null and alternate hypothesis.\n",
    "    Null hypothesis, H0: There is no difference between the average call length between two call centers.\n",
    "    Alternate hypothesis, Ha: There is a difference between the average call length and hence the performance.\n",
    "\n",
    "    We randomly select 20 calls from each call center and calculate the average call lengths. \n",
    "    \n",
    "    First, we need to calculate the two sample means and standard deviations:\n",
    "    Call Center A: Sample mean, X̄1 = 122 seconds, SD, S1 = 15 seconds, n1 = 20\n",
    "    Call Center B: Sample mean, X̄2 = 135 seconds, SD, S2 = 20 seconds, n2 = 20\n",
    "    α = 0.05\n",
    "\n",
    "    t = ((135 – 122) – 0)/SQRT((20*20/20) + ((15*15)/20))\n",
    "    t = 13/SQRT(20 + 11.25)\n",
    "    t = 13/SQRT(31.25)\n",
    "    t = 2.3256\n",
    "\n",
    "    Degree of freedom, df = n1 + n2 -2 = 20 + 20 – 2 = 38\n",
    "\n",
    "    Since the current t-value of 2.3256 is greater than the critical value of 2.0244, \n",
    "    Reject the null hypothesis that there is no difference between the performance in terms of the call length time. \n",
    "    Thus, based on the given evidence, the alternate hypothesis stands as true."
   ]
  },
  {
   "cell_type": "code",
   "execution_count": null,
   "id": "03735522-7531-4cea-9411-6c281a2d0e07",
   "metadata": {},
   "outputs": [],
   "source": [
    "Q11: What is Student’s t distribution? When to use the t-Distribution.\n",
    "----------\n",
    "Student's t-distribution, is a type of probability distribution that is similar to the normal distribution with its bell shape but has heavier tails. \n",
    "It is used for estimating population parameters for small sample sizes or unknown variances.\n",
    "\n",
    "We must use t-distribution table\n",
    "    when working problems when the population standard deviation (σ) is not known and the sample size is small (n<30). \n",
    "    Means, If σ is not known, then using t-distribution is correct."
   ]
  },
  {
   "cell_type": "code",
   "execution_count": null,
   "id": "1be74a9e-56b1-4234-a4f5-88f33a83ec0f",
   "metadata": {},
   "outputs": [],
   "source": [
    "Q12: What is t-statistic? State the formula for t-statistic.\n",
    "--------\n",
    "The t statistic is a calculation performed during a t-test to determine if you should reject your null hypothesis.\n",
    "\n",
    "t = (X‾ - μ0) / (s / √n), \n",
    "    where X‾ is the sample mean, \n",
    "    μ0 represents the population mean, \n",
    "    s is the standard deviation of the sample \n",
    "    n stands for the size of the sample."
   ]
  },
  {
   "cell_type": "code",
   "execution_count": null,
   "id": "a8c7431c-b96a-4101-8796-f06fa94a82e3",
   "metadata": {},
   "outputs": [],
   "source": [
    "Q13. A coffee shop owner wants to estimate the average daily revenue for their shop. They take a random\n",
    "sample of 50 days and find the sample mean revenue to be $500 with a standard deviation of $50.\n",
    "Estimate the population mean revenue with a 95% confidence interval.\n",
    "--------\n",
    "Sample Mean = 500\n",
    "Sample std = 50\n",
    "n = 50\n",
    "alpha=0.05\n",
    "mean = ?\n",
    "\n",
    "z-score at (1-(0.05/2)) = 0.9750 :: is :: 1.96\n",
    "\n",
    "1.96 = (500-mean)/(50/sqrt(50))\n",
    "1.96 = (500-mean)/7.07\n",
    "1.96 * 7.07 = 500 -mean\n",
    "13.8572 = 500 - mean\n",
    "Mean = 500-13.8572\n",
    "    = 486.1428"
   ]
  },
  {
   "cell_type": "code",
   "execution_count": null,
   "id": "a7da0f53-6875-4b7d-80ce-ef0249a70c92",
   "metadata": {},
   "outputs": [],
   "source": [
    "Q14. A researcher hypothesizes that a new drug will decrease blood pressure by 10 mmHg. They conduct a\n",
    "clinical trial with 100 patients and find that the sample mean decrease in blood pressure is 8 mmHg with a\n",
    "standard deviation of 3 mmHg. Test the hypothesis with a significance level of 0.05.\n",
    "---------\n",
    "Ho: U=10\n",
    "Ha: U>10\n",
    "\n",
    "n=100\n",
    "Xbar = 8\n",
    "s = 3\n",
    "alpha = 0.05\n",
    "U=10\n",
    "\n",
    "Z-score = (8-10) / 3\n",
    "    = -2/3\n",
    "    = -.67\n",
    "    \n",
    "z-score at -.67 is .2514\n",
    "\n",
    "since .2514>0.05 , so reject the null hypothesis"
   ]
  },
  {
   "cell_type": "code",
   "execution_count": null,
   "id": "3186e35a-c0e7-499a-8273-fcf86aa26f83",
   "metadata": {},
   "outputs": [],
   "source": [
    "Q15. An electronics company produces a certain type of product with a mean weight of 5 pounds and a\n",
    "standard deviation of 0.5 pounds. A random sample of 25 products is taken, and the sample mean weight\n",
    "is found to be 4.8 pounds. Test the hypothesis that the true mean weight of the products is less than 5\n",
    "pounds with a significance level of 0.01.\n",
    "\n",
    "------\n",
    "\n",
    "mean = 5\n",
    "s = 0.5\n",
    "n = 25\n",
    "Xbar = 4.8\n",
    "alpha = 0.01\n",
    "\n",
    "Ho=mean=5\n",
    "Ha=mean<5\n",
    "\n",
    "df = n-1 = 25-1 =24\n",
    "\n",
    "t-score = 2.492\n",
    "\n",
    "Critical value = -2.492\n",
    "\n",
    "t   = (4.8-5) / (0.5/sqrt(25))\n",
    "    = -0.2/0.1\n",
    "    = -2\n",
    "    \n",
    "since t>Critical-value\n",
    "so we will accept the null hypothesis, avg is not less then 5."
   ]
  },
  {
   "cell_type": "code",
   "execution_count": null,
   "id": "4eeb5b48-d2ad-414c-aa76-96f6b2a21fbf",
   "metadata": {},
   "outputs": [],
   "source": [
    "Q16. Two groups of students are given different study materials to prepare for a test. The first group (n1 =\n",
    "30) has a mean score of 80 with a standard deviation of 10, and the second group (n2 = 40) has a mean\n",
    "score of 75 with a standard deviation of 8. Test the hypothesis that the population means for the two\n",
    "groups are equal with a significance level of 0.01.\n",
    "-----------\n",
    "n1=30\n",
    "U1=80\n",
    "s1=10\n",
    "\n",
    "n2=40\n",
    "U2=75\n",
    "s2=8\n",
    "\n",
    "alpha=0.01\n",
    "\n",
    "Ho : U1 = U2\n",
    "Ha : U1 != U2\n",
    "\n",
    "z=(80-75)/ sqrt((100/30)+(64/40))\n",
    "    = 5/sqrt(4.93) \n",
    "    = 5/4.93\n",
    "    = 1.01\n",
    "    \n",
    "CriticalValue = 2.326\n",
    "Since, z<2.326, so accept the hypothesis, two means are equal."
   ]
  },
  {
   "cell_type": "code",
   "execution_count": null,
   "id": "153339bc-230c-42f3-9958-54b8b2f382a1",
   "metadata": {},
   "outputs": [],
   "source": [
    "Q17. A marketing company wants to estimate the average number of ads watched by viewers during a TV\n",
    "program. They take a random sample of 50 viewers and find that the sample mean is 4 with a standard\n",
    "deviation of 1.5. Estimate the population mean with a 99% confidence interval.\n",
    "----------\n",
    "n=50\n",
    "Xbar=4\n",
    "std=1.5\n",
    "\n",
    "alpha = 0.01\n",
    "\n",
    "z-score at (1-(0.01/2)) = 0.995 :: is :: 0.8389\n",
    "\n",
    "0.8389 = (4-mean)/(1.5)\n",
    "0.8389 = (4-mean)/1.5\n",
    "0.8389 * 1.5 = 4 -mean\n",
    "1.258 = 4 -mean\n",
    "mean = 4-1.258\n",
    "mean = 2.742"
   ]
  }
 ],
 "metadata": {
  "kernelspec": {
   "display_name": "Python 3 (ipykernel)",
   "language": "python",
   "name": "python3"
  },
  "language_info": {
   "codemirror_mode": {
    "name": "ipython",
    "version": 3
   },
   "file_extension": ".py",
   "mimetype": "text/x-python",
   "name": "python",
   "nbconvert_exporter": "python",
   "pygments_lexer": "ipython3",
   "version": "3.10.8"
  }
 },
 "nbformat": 4,
 "nbformat_minor": 5
}
