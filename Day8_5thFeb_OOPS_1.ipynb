{
 "cells": [
  {
   "cell_type": "markdown",
   "id": "25746fae-b554-4226-8f11-55cedc363752",
   "metadata": {},
   "source": [
    "## OOPS -- Object-Oriented Programming System"
   ]
  },
  {
   "cell_type": "code",
   "execution_count": 1,
   "id": "00bf5435-91ae-4176-b7da-9afa37092726",
   "metadata": {},
   "outputs": [],
   "source": [
    "class test:\n",
    "    pass"
   ]
  },
  {
   "cell_type": "code",
   "execution_count": 2,
   "id": "18830a57-2113-4f98-b2b0-931f0e17a344",
   "metadata": {},
   "outputs": [],
   "source": [
    "a=test()"
   ]
  },
  {
   "cell_type": "code",
   "execution_count": 4,
   "id": "d72cec30-2074-4d5b-bd49-3e6f919b09b0",
   "metadata": {},
   "outputs": [
    {
     "data": {
      "text/plain": [
       "__main__.test"
      ]
     },
     "execution_count": 4,
     "metadata": {},
     "output_type": "execute_result"
    }
   ],
   "source": [
    "## type will give classname\n",
    "type(a)"
   ]
  },
  {
   "cell_type": "code",
   "execution_count": 11,
   "id": "9abe19f4-2d2d-48fe-8ecd-217a732f48ad",
   "metadata": {},
   "outputs": [],
   "source": [
    "class pwskills:\n",
    "    \n",
    "    def welcome_msg():\n",
    "        print(\"Welcome to pwskills\")"
   ]
  },
  {
   "cell_type": "code",
   "execution_count": 6,
   "id": "4c8051a3-1f68-4c0e-884b-ac4d571c6b26",
   "metadata": {},
   "outputs": [
    {
     "ename": "TypeError",
     "evalue": "pwskills.welcome_msg() takes 0 positional arguments but 1 was given",
     "output_type": "error",
     "traceback": [
      "\u001b[0;31m---------------------------------------------------------------------------\u001b[0m",
      "\u001b[0;31mTypeError\u001b[0m                                 Traceback (most recent call last)",
      "Cell \u001b[0;32mIn[6], line 2\u001b[0m\n\u001b[1;32m      1\u001b[0m rohan \u001b[38;5;241m=\u001b[39m pwskills()\n\u001b[0;32m----> 2\u001b[0m \u001b[43mrohan\u001b[49m\u001b[38;5;241;43m.\u001b[39;49m\u001b[43mwelcome_msg\u001b[49m\u001b[43m(\u001b[49m\u001b[43m)\u001b[49m\n",
      "\u001b[0;31mTypeError\u001b[0m: pwskills.welcome_msg() takes 0 positional arguments but 1 was given"
     ]
    }
   ],
   "source": [
    "rohan = pwskills()\n",
    "rohan.welcome_msg()"
   ]
  },
  {
   "cell_type": "code",
   "execution_count": null,
   "id": "887579a3-198e-4422-8ef9-b390e19aa0d9",
   "metadata": {},
   "outputs": [],
   "source": [
    "## to bind we need topass a variable in the function"
   ]
  },
  {
   "cell_type": "code",
   "execution_count": 12,
   "id": "2fef3d7a-2765-403f-a387-28769807ed7f",
   "metadata": {},
   "outputs": [],
   "source": [
    "class pwskills:\n",
    "    \n",
    "    def welcome_msg(self):\n",
    "        print(\"Welcome to pwskills\")"
   ]
  },
  {
   "cell_type": "code",
   "execution_count": 13,
   "id": "d9ffcde7-2d1e-461f-b7a4-0de37c44c6b3",
   "metadata": {},
   "outputs": [
    {
     "name": "stdout",
     "output_type": "stream",
     "text": [
      "Welcome to pwskills\n"
     ]
    }
   ],
   "source": [
    "rohan = pwskills()\n",
    "rohan.welcome_msg()"
   ]
  },
  {
   "cell_type": "code",
   "execution_count": 14,
   "id": "4241c2ea-0358-4192-a902-188020504153",
   "metadata": {},
   "outputs": [
    {
     "name": "stdout",
     "output_type": "stream",
     "text": [
      "Welcome to pwskills\n"
     ]
    }
   ],
   "source": [
    "sohan = pwskills()\n",
    "sohan.welcome_msg()"
   ]
  },
  {
   "cell_type": "code",
   "execution_count": null,
   "id": "b54ee961-fe67-4915-84f2-30d636d62cfc",
   "metadata": {},
   "outputs": [],
   "source": [
    "## __init__ is a constructor\n",
    "## it will always try to take data while creating an object and it will pass that data to the class\n",
    "## self is the reference to the class\n",
    "## instead of self we can give any name for reference"
   ]
  },
  {
   "cell_type": "code",
   "execution_count": 15,
   "id": "8a141776-2e01-46a2-8127-221c4c5c8d1d",
   "metadata": {},
   "outputs": [],
   "source": [
    "class pwskills1():\n",
    "    \n",
    "    def __init__(self, phn_num, email_id,student_id):\n",
    "        \n",
    "        self.phn_num = phn_num\n",
    "        self.email_id = email_id\n",
    "        self.student_id = student_id\n",
    "        \n",
    "    def return_student_details(self):\n",
    "        return self.phn_num, self.email_id, self.student_id"
   ]
  },
  {
   "cell_type": "code",
   "execution_count": 17,
   "id": "4a4dd356-54d9-4269-8feb-4df96c0508e2",
   "metadata": {},
   "outputs": [
    {
     "data": {
      "text/plain": [
       "(74147411, 'abc@gmail.com', 45)"
      ]
     },
     "execution_count": 17,
     "metadata": {},
     "output_type": "execute_result"
    }
   ],
   "source": [
    "rohan = pwskills1(74147411,\"abc@gmail.com\",45)\n",
    "rohan.return_student_details()"
   ]
  },
  {
   "cell_type": "code",
   "execution_count": 19,
   "id": "ce72fa06-000c-4ea4-bb82-da25152f58b2",
   "metadata": {},
   "outputs": [
    {
     "data": {
      "text/plain": [
       "74147411"
      ]
     },
     "execution_count": 19,
     "metadata": {},
     "output_type": "execute_result"
    }
   ],
   "source": [
    "rohan.phn_num"
   ]
  },
  {
   "cell_type": "code",
   "execution_count": 20,
   "id": "66cfcfdb-89d8-42aa-95ec-d35f35c89b75",
   "metadata": {},
   "outputs": [
    {
     "data": {
      "text/plain": [
       "'abc@gmail.com'"
      ]
     },
     "execution_count": 20,
     "metadata": {},
     "output_type": "execute_result"
    }
   ],
   "source": [
    "rohan.email_id"
   ]
  },
  {
   "cell_type": "code",
   "execution_count": 21,
   "id": "ec0d8b27-ffb7-4cc4-abd6-b342f8552a53",
   "metadata": {},
   "outputs": [
    {
     "data": {
      "text/plain": [
       "45"
      ]
     },
     "execution_count": 21,
     "metadata": {},
     "output_type": "execute_result"
    }
   ],
   "source": [
    "rohan.student_id"
   ]
  },
  {
   "cell_type": "code",
   "execution_count": 22,
   "id": "81b527c4-db9a-4649-96e2-ad24bd2a6b71",
   "metadata": {},
   "outputs": [
    {
     "data": {
      "text/plain": [
       "(74147411, 'abc@gmail.com', 45)"
      ]
     },
     "execution_count": 22,
     "metadata": {},
     "output_type": "execute_result"
    }
   ],
   "source": [
    "rohan.return_student_details()"
   ]
  },
  {
   "cell_type": "code",
   "execution_count": 23,
   "id": "4957b36c-813e-4ac5-8c28-e468d8e4131f",
   "metadata": {},
   "outputs": [],
   "source": [
    "sohan = pwskills1(75652126,\"xyz@gmail.com\",456)"
   ]
  },
  {
   "cell_type": "code",
   "execution_count": 24,
   "id": "5484db20-29c1-49d9-a27d-d71018c74f68",
   "metadata": {},
   "outputs": [
    {
     "data": {
      "text/plain": [
       "75652126"
      ]
     },
     "execution_count": 24,
     "metadata": {},
     "output_type": "execute_result"
    }
   ],
   "source": [
    "sohan.phn_num"
   ]
  },
  {
   "cell_type": "code",
   "execution_count": 27,
   "id": "93ba1262-c4b0-4518-9af9-5a733f80d0b4",
   "metadata": {},
   "outputs": [
    {
     "data": {
      "text/plain": [
       "(75652126, 'xyz@gmail.com', 456)"
      ]
     },
     "execution_count": 27,
     "metadata": {},
     "output_type": "execute_result"
    }
   ],
   "source": [
    "sohan.return_student_details()"
   ]
  },
  {
   "cell_type": "code",
   "execution_count": 35,
   "id": "2e697011-39a0-4753-8249-b055c6746875",
   "metadata": {},
   "outputs": [],
   "source": [
    "class pwskills2():\n",
    "    \n",
    "    def __init__(abc, phn_num, email_id,student_id):\n",
    "        \n",
    "        abc.phn_num = phn_num\n",
    "        abc.email_id = email_id\n",
    "        abc.student_id = student_id\n",
    "        \n",
    "    def return_student_details(abc):\n",
    "        return abc.phn_num, abc.email_id, abc.student_id"
   ]
  },
  {
   "cell_type": "code",
   "execution_count": 36,
   "id": "773c7356-2c8b-4041-b85e-e7b8cdcbfe07",
   "metadata": {},
   "outputs": [],
   "source": [
    "mohan = pwskills2(75651222,\"pqr@gmail.com\",56)"
   ]
  },
  {
   "cell_type": "code",
   "execution_count": 37,
   "id": "9285c016-a1ec-4973-8642-1585f664d270",
   "metadata": {},
   "outputs": [
    {
     "data": {
      "text/plain": [
       "75651222"
      ]
     },
     "execution_count": 37,
     "metadata": {},
     "output_type": "execute_result"
    }
   ],
   "source": [
    "mohan.phn_num"
   ]
  },
  {
   "cell_type": "code",
   "execution_count": 38,
   "id": "05fd0060-1323-4e3a-bb97-6050faf3eb9c",
   "metadata": {},
   "outputs": [
    {
     "data": {
      "text/plain": [
       "(75651222, 'pqr@gmail.com', 56)"
      ]
     },
     "execution_count": 38,
     "metadata": {},
     "output_type": "execute_result"
    }
   ],
   "source": [
    "mohan.return_student_details()"
   ]
  },
  {
   "cell_type": "code",
   "execution_count": 39,
   "id": "ad4d0320-c9f2-42fe-b04f-ecb125857f70",
   "metadata": {},
   "outputs": [],
   "source": [
    "class pwskills2():\n",
    "    \n",
    "    def __init__(abc, phn_num, email_id,student_id):\n",
    "        \n",
    "        abc.phn_num1 = phn_num\n",
    "        abc.email_id = email_id\n",
    "        abc.student_id = student_id\n",
    "        \n",
    "    def return_student_details(abc):\n",
    "        return abc.phn_num1, abc.email_id, abc.student_id"
   ]
  },
  {
   "cell_type": "code",
   "execution_count": 40,
   "id": "c4f3ba97-d4f2-410c-921a-d94504fe85e1",
   "metadata": {},
   "outputs": [],
   "source": [
    "mohan = pwskills2(8524,\"pqr@gmail.com\",566)"
   ]
  },
  {
   "cell_type": "code",
   "execution_count": 41,
   "id": "12af2ed4-fe16-47d7-81ed-b3fa4ff19004",
   "metadata": {},
   "outputs": [
    {
     "data": {
      "text/plain": [
       "(8524, 'pqr@gmail.com', 566)"
      ]
     },
     "execution_count": 41,
     "metadata": {},
     "output_type": "execute_result"
    }
   ],
   "source": [
    "mohan.return_student_details()"
   ]
  },
  {
   "cell_type": "code",
   "execution_count": 42,
   "id": "f8e9249e-4e14-49c5-8fd6-c87e280bec18",
   "metadata": {},
   "outputs": [
    {
     "data": {
      "text/plain": [
       "8524"
      ]
     },
     "execution_count": 42,
     "metadata": {},
     "output_type": "execute_result"
    }
   ],
   "source": [
    "mohan.phn_num1"
   ]
  },
  {
   "cell_type": "code",
   "execution_count": 43,
   "id": "13ea0e4d-709b-4c6c-8ecf-883dcaca120c",
   "metadata": {},
   "outputs": [
    {
     "ename": "AttributeError",
     "evalue": "'pwskills2' object has no attribute 'phn_num'",
     "output_type": "error",
     "traceback": [
      "\u001b[0;31m---------------------------------------------------------------------------\u001b[0m",
      "\u001b[0;31mAttributeError\u001b[0m                            Traceback (most recent call last)",
      "Cell \u001b[0;32mIn[43], line 1\u001b[0m\n\u001b[0;32m----> 1\u001b[0m \u001b[43mmohan\u001b[49m\u001b[38;5;241;43m.\u001b[39;49m\u001b[43mphn_num\u001b[49m\n",
      "\u001b[0;31mAttributeError\u001b[0m: 'pwskills2' object has no attribute 'phn_num'"
     ]
    }
   ],
   "source": [
    "mohan.phn_num"
   ]
  }
 ],
 "metadata": {
  "kernelspec": {
   "display_name": "Python 3 (ipykernel)",
   "language": "python",
   "name": "python3"
  },
  "language_info": {
   "codemirror_mode": {
    "name": "ipython",
    "version": 3
   },
   "file_extension": ".py",
   "mimetype": "text/x-python",
   "name": "python",
   "nbconvert_exporter": "python",
   "pygments_lexer": "ipython3",
   "version": "3.10.8"
  }
 },
 "nbformat": 4,
 "nbformat_minor": 5
}
