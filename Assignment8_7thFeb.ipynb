{
 "cells": [
  {
   "cell_type": "code",
   "execution_count": 7,
   "id": "eb8faca3-1d55-4767-8ce2-31a8c9d1eeab",
   "metadata": {},
   "outputs": [
    {
     "name": "stdin",
     "output_type": "stream",
     "text": [
      "Please provide the password ::  AAsd@#$234\n"
     ]
    },
    {
     "data": {
      "text/plain": [
       "'Valid Password'"
      ]
     },
     "execution_count": 7,
     "metadata": {},
     "output_type": "execute_result"
    }
   ],
   "source": [
    "''' Q1. You are writing code for a company. The requirement of the company is that you create a python\n",
    "function that will check whether the password entered by the user is correct or not. The function should\n",
    "take the password as input and return the string “Valid Password” if the entered password follows the\n",
    "below-given password guidelines else it should return “Invalid Password”.\n",
    "Note: 1. The Password should contain at least two uppercase letters and at least two lowercase letters.\n",
    "2. The Password should contain at least a number and three special characters.\n",
    "3. The length of the password should be 10 characters long. '''\n",
    "\n",
    "def password_func():\n",
    "    password = input(\"Please provide the password :: \")\n",
    "    \n",
    "    upperCount = 0\n",
    "    lowerCount = 0\n",
    "    numberCount = 0\n",
    "    specialCharCount = 0\n",
    "\n",
    "    for ele in password:\n",
    "        if ele.isupper():\n",
    "            upperCount = upperCount+1\n",
    "        elif ele.islower():\n",
    "            lowerCount = lowerCount+1\n",
    "        elif ele.isnumeric():\n",
    "            numberCount = numberCount+1\n",
    "        elif ele in '[@_!#$%^&*()<>?/\\|}{~:]':\n",
    "            specialCharCount = specialCharCount+1\n",
    "\n",
    "    if upperCount>=2 and lowerCount>=2 and numberCount>=1 and specialCharCount>=3 and len(password)>=10:\n",
    "        return \"Valid Password\"\n",
    "    else:\n",
    "        return \"Invalid Password\"\n",
    "  \n",
    "\n",
    "password_func()\n"
   ]
  },
  {
   "cell_type": "code",
   "execution_count": 65,
   "id": "47916c53-917b-49ea-b99f-38b710b3c15d",
   "metadata": {},
   "outputs": [
    {
     "name": "stdin",
     "output_type": "stream",
     "text": [
      "Please provide a string ::  KJDjhd\n",
      "Please provide a string ::  KHDKS\n"
     ]
    },
    {
     "name": "stdout",
     "output_type": "stream",
     "text": [
      "[('grapes', 1000), ('mango', 99), ('orange', 80)]\n",
      "[1, 2, 3, 4, 5, 6, 7, 8, 9, 10]\n",
      "[1, 4, 9, 16, 25, 36, 49, 64, 81, 100]\n",
      "[1, 2, 3, 4, 5, 6, 7, 8, 9, 10]\n",
      "[1.0, 1.2599210498948732, 1.4422495703074083, 1.5874010519681994, 1.7099759466766968, 1.8171205928321397, 1.912931182772389, 2.0, 2.080083823051904, 2.154434690031884]\n"
     ]
    },
    {
     "name": "stdin",
     "output_type": "stream",
     "text": [
      "Please provide a number ::  7358\n"
     ]
    },
    {
     "name": "stdout",
     "output_type": "stream",
     "text": [
      "[-1, -2, -3, -4, -5]\n",
      "[1, 2, 3, 4, 5, 6, 0]\n"
     ]
    }
   ],
   "source": [
    "''' Q2. Solve the below-given questions using at least one of the following:\n",
    "1. Lambda functioJ\n",
    "2. Filter functioJ\n",
    "3. Zap functioJ\n",
    "4. List ComprehensioI\n",
    "B Check if the string starts with a particular letterY\n",
    "B Check if the string is numericY\n",
    "B Sort a list of tuples having fruit names and their quantity. [(\"mango\",99),(\"orange\",80), (\"grapes\", 1000)-\n",
    "B Find the squares of numbers from 1 to 10Y\n",
    "B Find the cube root of numbers from 1 to 10Y\n",
    "B Check if a given number is evenY\n",
    "B Filter odd numbers from the given list.\n",
    "[1,2,3,4,5,6,7,8,9,10-\n",
    "B Sort a list of integers into positive and negative integers lists.\n",
    "[1,2,3,4,5,6,-1,-2,-3,-4,-5,0] \n",
    "\n",
    "----------'''\n",
    "\n",
    "## Check if the string starts with a particular letterY\n",
    "s = input(\"Please provide a string :: \")\n",
    "\n",
    "result = lambda x : s.startswith(\"Y\")\n",
    "result(s)\n",
    "\n",
    "## Output :: Please provide a string ::  Xgxhsg\n",
    "## False\n",
    "\n",
    "## Please provide a string ::  Ybdsv\n",
    "## True\n",
    "\n",
    "## -------- ##\n",
    "\n",
    "## Check if the string is numericY\n",
    "\n",
    "s = input(\"Please provide a string :: \")\n",
    "\n",
    "result = lambda x : s.isnumeric()\n",
    "result(s)\n",
    "\n",
    "## Output :: Please provide a string ::  HJGDU88765\n",
    "## False\n",
    "\n",
    "## Please provide a string ::  8767656\n",
    "## True\n",
    "\n",
    "## -------- ##\n",
    "\n",
    "## Sort a list of tuples having fruit names and their quantity. [(\"mango\",99),(\"orange\",80), (\"grapes\", 1000)-\n",
    "\n",
    "lst = [(\"mango\",99),(\"orange\",80), (\"grapes\", 1000)]\n",
    "\n",
    "lst.sort(key=lambda x:x[0])\n",
    "print(lst)\n",
    "\n",
    "## Output :: [('grapes', 1000), ('mango', 99), ('orange', 80)]\n",
    "\n",
    "## -------- ##\n",
    "\n",
    "## Find the squares of numbers from 1 to 10\n",
    "\n",
    "nums = list(range(1,11))\n",
    "print(nums)\n",
    "square = list(map(lambda x: x ** 2, nums))\n",
    "print(square)\n",
    "\n",
    "## Output ::\n",
    "## [1, 2, 3, 4, 5, 6, 7, 8, 9, 10]\n",
    "## [1, 4, 9, 16, 25, 36, 49, 64, 81, 100]\n",
    "\n",
    "## -------- ##\n",
    "\n",
    "## Find the cube root of numbers from 1 to 10\n",
    "\n",
    "nums = list(range(1,11))\n",
    "print(nums)\n",
    "square = list(map(lambda x: x**(1./3), nums))\n",
    "print(square)\n",
    "\n",
    "## Output ::\n",
    "## [1, 2, 3, 4, 5, 6, 7, 8, 9, 10]\n",
    "## [1.0, 1.2599210498948732, 1.4422495703074083, 1.5874010519681994, 1.7099759466766968, 1.8171205928321397, 1.912931182772389, 2.0, 2.080083823051904, 2.154434690031884]\n",
    "\n",
    "## -------- ##\n",
    "\n",
    "## Check if a given number is even\n",
    "n = int(input(\"Please provide a number :: \"))\n",
    "              \n",
    "result = lambda x : x%2==0\n",
    "result(n)\n",
    "\n",
    "## Output ::\n",
    "## Please provide a number ::  9\n",
    "## False\n",
    "\n",
    "## Please provide a number ::  876\n",
    "## True\n",
    "\n",
    "## -------- ##\n",
    "\n",
    "## Filter odd numbers from the given list. [1,2,3,4,5,6,7,8,9,10]\n",
    "lst = [1,2,3,4,5,6,7,8,9,10]\n",
    "              \n",
    "list(filter(lambda x : x%2!=0, lst))\n",
    "\n",
    "## Output :: [1, 3, 5, 7, 9]\n",
    "\n",
    "## -------- ##\n",
    "\n",
    "## Sort a list of integers into positive and negative integers lists. [1,2,3,4,5,6,-1,-2,-3,-4,-5,0]\n",
    "\n",
    "lst = [1,2,3,4,5,6,-1,-2,-3,-4,-5,0]\n",
    "              \n",
    "negative_lst = list(filter(lambda x : x<0, lst))\n",
    "positive_lst = list(filter(lambda x : x>=0, lst))\n",
    "\n",
    "print(negative_lst)\n",
    "print(positive_lst)\n",
    "\n",
    "## Output :: \n",
    "## [-1, -2, -3, -4, -5]\n",
    "## [1, 2, 3, 4, 5, 6, 0]"
   ]
  }
 ],
 "metadata": {
  "kernelspec": {
   "display_name": "Python 3 (ipykernel)",
   "language": "python",
   "name": "python3"
  },
  "language_info": {
   "codemirror_mode": {
    "name": "ipython",
    "version": 3
   },
   "file_extension": ".py",
   "mimetype": "text/x-python",
   "name": "python",
   "nbconvert_exporter": "python",
   "pygments_lexer": "ipython3",
   "version": "3.10.8"
  }
 },
 "nbformat": 4,
 "nbformat_minor": 5
}
