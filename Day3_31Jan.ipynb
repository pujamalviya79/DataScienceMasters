{
 "cells": [
  {
   "cell_type": "markdown",
   "id": "ef006ec1-764e-43a2-a2a0-4edd7b4e35ad",
   "metadata": {},
   "source": [
    "## Logical Statements\n",
    "\n",
    "1. AND\n",
    "2. OR\n",
    "3. NOT"
   ]
  },
  {
   "cell_type": "code",
   "execution_count": 1,
   "id": "5c4fa7e2-e356-486c-82c5-937c9fa1f409",
   "metadata": {},
   "outputs": [
    {
     "data": {
      "text/plain": [
       "True"
      ]
     },
     "execution_count": 1,
     "metadata": {},
     "output_type": "execute_result"
    }
   ],
   "source": [
    "True and True"
   ]
  },
  {
   "cell_type": "code",
   "execution_count": 2,
   "id": "5c84a556-c3c2-494c-981d-b7a18661fea7",
   "metadata": {},
   "outputs": [
    {
     "data": {
      "text/plain": [
       "True"
      ]
     },
     "execution_count": 2,
     "metadata": {},
     "output_type": "execute_result"
    }
   ],
   "source": [
    "not int(bool(0))"
   ]
  },
  {
   "cell_type": "code",
   "execution_count": 3,
   "id": "2ead4b00-f447-4070-830b-5b1341931458",
   "metadata": {},
   "outputs": [
    {
     "data": {
      "text/plain": [
       "False"
      ]
     },
     "execution_count": 3,
     "metadata": {},
     "output_type": "execute_result"
    }
   ],
   "source": [
    "not int(bool(1))"
   ]
  },
  {
   "cell_type": "code",
   "execution_count": 4,
   "id": "8ba79c73-4212-42e6-9f20-46e13351c021",
   "metadata": {},
   "outputs": [
    {
     "data": {
      "text/plain": [
       "False"
      ]
     },
     "execution_count": 4,
     "metadata": {},
     "output_type": "execute_result"
    }
   ],
   "source": [
    "not 1"
   ]
  },
  {
   "cell_type": "code",
   "execution_count": 5,
   "id": "593c5d22-b015-4108-b099-8c1275775c7d",
   "metadata": {},
   "outputs": [
    {
     "data": {
      "text/plain": [
       "True"
      ]
     },
     "execution_count": 5,
     "metadata": {},
     "output_type": "execute_result"
    }
   ],
   "source": [
    "not(False)"
   ]
  },
  {
   "cell_type": "code",
   "execution_count": 8,
   "id": "4d3adbf0-e6f5-4a66-b909-c697e6d2201d",
   "metadata": {},
   "outputs": [
    {
     "data": {
      "text/plain": [
       "True"
      ]
     },
     "execution_count": 8,
     "metadata": {},
     "output_type": "execute_result"
    }
   ],
   "source": [
    "## here its considering it as boolean\n",
    "not(False) * True"
   ]
  },
  {
   "cell_type": "code",
   "execution_count": 9,
   "id": "f3d04c5a-d7c8-4fdf-8688-0db72d9c9bb3",
   "metadata": {},
   "outputs": [
    {
     "data": {
      "text/plain": [
       "1"
      ]
     },
     "execution_count": 9,
     "metadata": {},
     "output_type": "execute_result"
    }
   ],
   "source": [
    "## BODMAS rule is applied\n",
    "(not(False)) * True"
   ]
  },
  {
   "cell_type": "raw",
   "id": "63a5a502-e019-4793-a7e4-97454c8b2210",
   "metadata": {},
   "source": [
    "not False * False == True"
   ]
  },
  {
   "cell_type": "code",
   "execution_count": 11,
   "id": "e7aa5221-a369-458b-88c0-40082e27b4df",
   "metadata": {},
   "outputs": [
    {
     "name": "stdout",
     "output_type": "stream",
     "text": [
      "True\n"
     ]
    }
   ],
   "source": [
    "print(not(False)*False)"
   ]
  },
  {
   "cell_type": "code",
   "execution_count": 12,
   "id": "aaeb1116-ec9a-4fe3-8847-397f392b2d8c",
   "metadata": {},
   "outputs": [
    {
     "name": "stdout",
     "output_type": "stream",
     "text": [
      "0\n"
     ]
    }
   ],
   "source": [
    "print((not(False))*False)"
   ]
  },
  {
   "cell_type": "code",
   "execution_count": 17,
   "id": "7c1bae21-6058-4687-924e-50dea71f7703",
   "metadata": {},
   "outputs": [
    {
     "data": {
      "text/plain": [
       "True"
      ]
     },
     "execution_count": 17,
     "metadata": {},
     "output_type": "execute_result"
    }
   ],
   "source": [
    "not(False * True)"
   ]
  },
  {
   "cell_type": "code",
   "execution_count": 18,
   "id": "cc8ad555-867a-4960-8e6f-b7c47429f548",
   "metadata": {},
   "outputs": [
    {
     "data": {
      "text/plain": [
       "False"
      ]
     },
     "execution_count": 18,
     "metadata": {},
     "output_type": "execute_result"
    }
   ],
   "source": [
    "not(4)"
   ]
  },
  {
   "cell_type": "code",
   "execution_count": 19,
   "id": "1d558058-3d72-4b82-b963-4bd26735e93b",
   "metadata": {},
   "outputs": [
    {
     "data": {
      "text/plain": [
       "True"
      ]
     },
     "execution_count": 19,
     "metadata": {},
     "output_type": "execute_result"
    }
   ],
   "source": [
    "lst_1 = [1,2,3,4]\n",
    "lst_2 = [1,2,3,4]\n",
    "\n",
    "lst_1 == lst_2"
   ]
  },
  {
   "cell_type": "code",
   "execution_count": 20,
   "id": "a446fce0-69f4-45b3-8c49-a1c241256347",
   "metadata": {},
   "outputs": [
    {
     "data": {
      "text/plain": [
       "False"
      ]
     },
     "execution_count": 20,
     "metadata": {},
     "output_type": "execute_result"
    }
   ],
   "source": [
    "lst_1 is lst_2"
   ]
  },
  {
   "cell_type": "code",
   "execution_count": 21,
   "id": "a08d446a-78d6-4648-9a8f-2896384c1448",
   "metadata": {},
   "outputs": [
    {
     "data": {
      "text/plain": [
       "140422578984832"
      ]
     },
     "execution_count": 21,
     "metadata": {},
     "output_type": "execute_result"
    }
   ],
   "source": [
    "id(lst_1)"
   ]
  },
  {
   "cell_type": "code",
   "execution_count": 22,
   "id": "1d58715b-e35f-443e-aa5a-c863dea9f84f",
   "metadata": {},
   "outputs": [
    {
     "data": {
      "text/plain": [
       "140422578983552"
      ]
     },
     "execution_count": 22,
     "metadata": {},
     "output_type": "execute_result"
    }
   ],
   "source": [
    "id(lst_2)"
   ]
  },
  {
   "cell_type": "code",
   "execution_count": 23,
   "id": "bec3c566-a8ae-4994-8713-84997af8c5e8",
   "metadata": {},
   "outputs": [
    {
     "data": {
      "text/plain": [
       "True"
      ]
     },
     "execution_count": 23,
     "metadata": {},
     "output_type": "execute_result"
    }
   ],
   "source": [
    "lst_1 is not lst_2"
   ]
  },
  {
   "cell_type": "code",
   "execution_count": 26,
   "id": "64fb6dc7-9296-47a2-b5a3-e103b0b9eab9",
   "metadata": {},
   "outputs": [
    {
     "data": {
      "text/plain": [
       "True"
      ]
     },
     "execution_count": 26,
     "metadata": {},
     "output_type": "execute_result"
    }
   ],
   "source": [
    "lst_3 = [1,2,3,4]\n",
    "lst_4 = lst_3\n",
    "\n",
    "lst_3 is lst_4"
   ]
  },
  {
   "cell_type": "code",
   "execution_count": 27,
   "id": "009aeb6e-e23f-48bb-90c5-a5def65d1574",
   "metadata": {},
   "outputs": [
    {
     "data": {
      "text/plain": [
       "True"
      ]
     },
     "execution_count": 27,
     "metadata": {},
     "output_type": "execute_result"
    }
   ],
   "source": [
    "lst_3 == lst_4"
   ]
  },
  {
   "cell_type": "code",
   "execution_count": 29,
   "id": "d2b435fb-aed3-45cf-9537-2a63e8ad995c",
   "metadata": {},
   "outputs": [],
   "source": [
    "## String is immutable -- we cannot change the elements"
   ]
  },
  {
   "cell_type": "code",
   "execution_count": 30,
   "id": "549177bf-a59b-4cae-beb2-87919adba9f7",
   "metadata": {},
   "outputs": [],
   "source": [
    "## Lists are mutable -- we can change the element"
   ]
  },
  {
   "cell_type": "code",
   "execution_count": 32,
   "id": "107690ff-5945-4741-8da7-1a19cd580d77",
   "metadata": {},
   "outputs": [
    {
     "name": "stdout",
     "output_type": "stream",
     "text": [
      "126\n",
      "76\n",
      "2525\n",
      "4.04\n",
      "4\n",
      "1\n"
     ]
    }
   ],
   "source": [
    "## Arithmetic Operations\n",
    "a=25\n",
    "b=101\n",
    "\n",
    "print(b+a) ## addition\n",
    "print(b-a) ## subtraction\n",
    "print(b*a) ## multiplication\n",
    "print(b/a) ## division\n",
    "print(b//a) ## integer division\n",
    "print(b%a) ## modulus -- gives remainder"
   ]
  },
  {
   "cell_type": "code",
   "execution_count": 35,
   "id": "aed469b0-7589-40e0-986a-0ddb3fb26125",
   "metadata": {},
   "outputs": [
    {
     "name": "stdout",
     "output_type": "stream",
     "text": [
      "0b1010\n"
     ]
    }
   ],
   "source": [
    "## Bitwise Operation\n",
    "## 0b is the prefix to represent binary number\n",
    "\n",
    "var = 10\n",
    "print(bin(var))"
   ]
  },
  {
   "cell_type": "code",
   "execution_count": 34,
   "id": "d7174b81-80fa-41cb-8201-93a754528715",
   "metadata": {},
   "outputs": [
    {
     "data": {
      "text/plain": [
       "-11"
      ]
     },
     "execution_count": 34,
     "metadata": {},
     "output_type": "execute_result"
    }
   ],
   "source": [
    "~var"
   ]
  },
  {
   "cell_type": "markdown",
   "id": "40b762d2-2d9b-4127-96a2-819bfbcc9349",
   "metadata": {},
   "source": [
    "## Strings"
   ]
  },
  {
   "cell_type": "code",
   "execution_count": null,
   "id": "5ebbd920-1ec6-4510-8272-b58277e6585b",
   "metadata": {},
   "outputs": [],
   "source": [
    "## Strings are immutable"
   ]
  },
  {
   "cell_type": "code",
   "execution_count": 37,
   "id": "2f2018e4-b82e-4cbe-9e66-98b4cd8ccafe",
   "metadata": {},
   "outputs": [],
   "source": [
    "str1 = \"Hello\""
   ]
  },
  {
   "cell_type": "code",
   "execution_count": 38,
   "id": "33278466-5031-4948-9be5-6669d8f5bb8a",
   "metadata": {},
   "outputs": [
    {
     "data": {
      "text/plain": [
       "'H'"
      ]
     },
     "execution_count": 38,
     "metadata": {},
     "output_type": "execute_result"
    }
   ],
   "source": [
    "str1[0]"
   ]
  },
  {
   "cell_type": "code",
   "execution_count": 39,
   "id": "f604469d-1ad4-4aa2-9a40-3c3a4d0d4a92",
   "metadata": {},
   "outputs": [
    {
     "ename": "NameError",
     "evalue": "name 'I' is not defined",
     "output_type": "error",
     "traceback": [
      "\u001b[0;31m---------------------------------------------------------------------------\u001b[0m",
      "\u001b[0;31mNameError\u001b[0m                                 Traceback (most recent call last)",
      "Cell \u001b[0;32mIn[39], line 1\u001b[0m\n\u001b[0;32m----> 1\u001b[0m \u001b[38;5;28mstr\u001b[39m[\u001b[38;5;241m0\u001b[39m] \u001b[38;5;241m=\u001b[39m \u001b[43mI\u001b[49m\n",
      "\u001b[0;31mNameError\u001b[0m: name 'I' is not defined"
     ]
    }
   ],
   "source": [
    "str[0] = I"
   ]
  },
  {
   "cell_type": "code",
   "execution_count": 40,
   "id": "a085400d-a5d1-4184-950d-3a0885703b85",
   "metadata": {},
   "outputs": [],
   "source": [
    "str1 = \"Bye\""
   ]
  },
  {
   "cell_type": "code",
   "execution_count": 41,
   "id": "1d1aae54-eae6-4e2f-8bd9-9a89d1fffe98",
   "metadata": {},
   "outputs": [
    {
     "name": "stdout",
     "output_type": "stream",
     "text": [
      "Bye\n"
     ]
    }
   ],
   "source": [
    "print(str1)"
   ]
  },
  {
   "cell_type": "code",
   "execution_count": 43,
   "id": "4c16e3e5-a33a-403a-afb4-ea5645232b12",
   "metadata": {},
   "outputs": [
    {
     "data": {
      "text/plain": [
       "'BYE'"
      ]
     },
     "execution_count": 43,
     "metadata": {},
     "output_type": "execute_result"
    }
   ],
   "source": [
    "str1.upper()"
   ]
  },
  {
   "cell_type": "code",
   "execution_count": 47,
   "id": "d9f7c370-4fe9-4d83-9f8b-09760bdff1fa",
   "metadata": {},
   "outputs": [
    {
     "name": "stdout",
     "output_type": "stream",
     "text": [
      "Krishna\n",
      "anhsirK\n",
      "Kiha\n",
      "ahiK\n",
      "ishna\n",
      "ish\n",
      "rsn\n",
      "\n"
     ]
    }
   ],
   "source": [
    "name = 'Krishna'\n",
    "\n",
    "print(name[::])\n",
    "print(name[::-1])\n",
    "print(name[::2])\n",
    "print(name[::-2])\n",
    "print(name[2::])\n",
    "print(name[2:5:])\n",
    "print(name[1:6:2])\n",
    "print(name[1:6:-1])"
   ]
  },
  {
   "cell_type": "code",
   "execution_count": 48,
   "id": "7069705a-d18b-44e0-bcf3-76b6800c9f9e",
   "metadata": {},
   "outputs": [
    {
     "name": "stdout",
     "output_type": "stream",
     "text": [
      "Science\n",
      "ecneicS\n"
     ]
    }
   ],
   "source": [
    "course_name=\"Data Science Masters\"\n",
    "\n",
    "print(course_name[5:12:])\n",
    "print(course_name[11:4:-1])"
   ]
  },
  {
   "cell_type": "code",
   "execution_count": 49,
   "id": "88dcb755-b050-4ac8-9c11-ffd2d35d5f67",
   "metadata": {},
   "outputs": [
    {
     "data": {
      "text/plain": [
       "'Data Science Masters Course'"
      ]
     },
     "execution_count": 49,
     "metadata": {},
     "output_type": "execute_result"
    }
   ],
   "source": [
    "## Concatenation\n",
    "course_name + \" Course\"\n"
   ]
  },
  {
   "cell_type": "code",
   "execution_count": 50,
   "id": "020ac961-dd9b-4716-96ce-c9aabb12c8f6",
   "metadata": {},
   "outputs": [
    {
     "name": "stdout",
     "output_type": "stream",
     "text": [
      "Hello World\n"
     ]
    }
   ],
   "source": [
    "print(\"Hello \"+\"World\")"
   ]
  },
  {
   "cell_type": "code",
   "execution_count": 51,
   "id": "03633c33-2dc9-4f2c-b1e5-24175b127dbe",
   "metadata": {},
   "outputs": [
    {
     "data": {
      "text/plain": [
       "'Data Science MastersData Science MastersData Science Masters'"
      ]
     },
     "execution_count": 51,
     "metadata": {},
     "output_type": "execute_result"
    }
   ],
   "source": [
    "course_name=\"Data Science Masters\"\n",
    "course_name*3"
   ]
  },
  {
   "cell_type": "code",
   "execution_count": 52,
   "id": "a2f7cf25-ee85-4ed2-9fb3-6d56585c8935",
   "metadata": {},
   "outputs": [
    {
     "data": {
      "text/plain": [
       "20"
      ]
     },
     "execution_count": 52,
     "metadata": {},
     "output_type": "execute_result"
    }
   ],
   "source": [
    "len(course_name)"
   ]
  },
  {
   "cell_type": "code",
   "execution_count": 54,
   "id": "9dd2fd12-00be-426e-a6f4-782aa902315a",
   "metadata": {},
   "outputs": [
    {
     "data": {
      "text/plain": [
       "5"
      ]
     },
     "execution_count": 54,
     "metadata": {},
     "output_type": "execute_result"
    }
   ],
   "source": [
    "## it will return first occurance index\n",
    "\n",
    "course_name.find('S')"
   ]
  },
  {
   "cell_type": "code",
   "execution_count": 56,
   "id": "4fabaaab-7f11-40f2-8f48-a366ec318413",
   "metadata": {},
   "outputs": [
    {
     "data": {
      "text/plain": [
       "5"
      ]
     },
     "execution_count": 56,
     "metadata": {},
     "output_type": "execute_result"
    }
   ],
   "source": [
    "course_name.find('S',2,15)"
   ]
  },
  {
   "cell_type": "code",
   "execution_count": 58,
   "id": "0a9ef42a-156f-4a1b-be85-6ea65074678c",
   "metadata": {},
   "outputs": [
    {
     "data": {
      "text/plain": [
       "-1"
      ]
     },
     "execution_count": 58,
     "metadata": {},
     "output_type": "execute_result"
    }
   ],
   "source": [
    "## if element is not present then output will be -1\n",
    "course_name.find('w')"
   ]
  },
  {
   "cell_type": "code",
   "execution_count": 60,
   "id": "55cac89e-02b5-4ffa-b11b-71b228a28161",
   "metadata": {},
   "outputs": [
    {
     "data": {
      "text/plain": [
       "3"
      ]
     },
     "execution_count": 60,
     "metadata": {},
     "output_type": "execute_result"
    }
   ],
   "source": [
    "## count() - returns the number of non-overlapping occurance of substring in string\n",
    "\n",
    "course_name.count('a')"
   ]
  },
  {
   "cell_type": "code",
   "execution_count": 61,
   "id": "ac041d47-9b12-408b-84c3-4ba0eb42a35f",
   "metadata": {},
   "outputs": [
    {
     "data": {
      "text/plain": [
       "2"
      ]
     },
     "execution_count": 61,
     "metadata": {},
     "output_type": "execute_result"
    }
   ],
   "source": [
    "course_name.count(' ')"
   ]
  },
  {
   "cell_type": "code",
   "execution_count": 62,
   "id": "8b6394dc-8734-46a4-8d31-7da9ff219a2f",
   "metadata": {},
   "outputs": [
    {
     "data": {
      "text/plain": [
       "21"
      ]
     },
     "execution_count": 62,
     "metadata": {},
     "output_type": "execute_result"
    }
   ],
   "source": [
    "course_name.count('')"
   ]
  },
  {
   "cell_type": "code",
   "execution_count": 63,
   "id": "1c420046-0d1c-4e70-9c13-a32b0a649474",
   "metadata": {},
   "outputs": [
    {
     "data": {
      "text/plain": [
       "'Data Science Masters'"
      ]
     },
     "execution_count": 63,
     "metadata": {},
     "output_type": "execute_result"
    }
   ],
   "source": [
    "course_name"
   ]
  },
  {
   "cell_type": "code",
   "execution_count": 64,
   "id": "8a507255-0371-425c-8c43-34741d78ddc3",
   "metadata": {},
   "outputs": [
    {
     "data": {
      "text/plain": [
       "20"
      ]
     },
     "execution_count": 64,
     "metadata": {},
     "output_type": "execute_result"
    }
   ],
   "source": [
    "len(course_name)"
   ]
  },
  {
   "cell_type": "code",
   "execution_count": 66,
   "id": "f8656ed8-ff04-4a7c-9b7a-e2be1c67e51d",
   "metadata": {},
   "outputs": [
    {
     "data": {
      "text/plain": [
       "['Data', 'Science', 'Masters']"
      ]
     },
     "execution_count": 66,
     "metadata": {},
     "output_type": "execute_result"
    }
   ],
   "source": [
    "## split function\n",
    "\n",
    "course_name.split(' ')"
   ]
  },
  {
   "cell_type": "code",
   "execution_count": 67,
   "id": "066bc980-1b83-436c-b9b0-f32f06a0672d",
   "metadata": {},
   "outputs": [
    {
     "data": {
      "text/plain": [
       "['Data ', 'cience Masters']"
      ]
     },
     "execution_count": 67,
     "metadata": {},
     "output_type": "execute_result"
    }
   ],
   "source": [
    "course_name.split('S')"
   ]
  },
  {
   "cell_type": "code",
   "execution_count": 70,
   "id": "6c1185cc-a558-466f-bb9e-a3116f3918cf",
   "metadata": {},
   "outputs": [
    {
     "data": {
      "text/plain": [
       "['D', 't', ' Science M', 'sters']"
      ]
     },
     "execution_count": 70,
     "metadata": {},
     "output_type": "execute_result"
    }
   ],
   "source": [
    "course_name.split('a')"
   ]
  },
  {
   "cell_type": "code",
   "execution_count": 71,
   "id": "e7abf387-92b9-4ecc-bc36-f3e7ea13b57d",
   "metadata": {},
   "outputs": [
    {
     "data": {
      "text/plain": [
       "('Data ', 'S', 'cience Masters')"
      ]
     },
     "execution_count": 71,
     "metadata": {},
     "output_type": "execute_result"
    }
   ],
   "source": [
    "## partition -- it will do only for the first occurance of element\n",
    "\n",
    "course_name.partition('S')"
   ]
  },
  {
   "cell_type": "code",
   "execution_count": 69,
   "id": "41503e71-4371-480b-960c-f2e16942c995",
   "metadata": {},
   "outputs": [
    {
     "data": {
      "text/plain": [
       "('D', 'a', 'ta Science Masters')"
      ]
     },
     "execution_count": 69,
     "metadata": {},
     "output_type": "execute_result"
    }
   ],
   "source": [
    "course_name.partition('a')"
   ]
  },
  {
   "cell_type": "code",
   "execution_count": 72,
   "id": "70218a8f-6118-490f-85e2-442186b60e99",
   "metadata": {},
   "outputs": [
    {
     "data": {
      "text/plain": [
       "'DATA SCIENCE MASTERS'"
      ]
     },
     "execution_count": 72,
     "metadata": {},
     "output_type": "execute_result"
    }
   ],
   "source": [
    "## String upper and lower case\n",
    "\n",
    "course_name.upper()"
   ]
  },
  {
   "cell_type": "code",
   "execution_count": 73,
   "id": "b2c5616c-e36d-45f5-a8cc-92b75c9f6895",
   "metadata": {},
   "outputs": [
    {
     "data": {
      "text/plain": [
       "'data science masters'"
      ]
     },
     "execution_count": 73,
     "metadata": {},
     "output_type": "execute_result"
    }
   ],
   "source": [
    "course_name.lower()"
   ]
  },
  {
   "cell_type": "code",
   "execution_count": 74,
   "id": "1c498fbe-938b-4664-9780-9af11bf90975",
   "metadata": {},
   "outputs": [
    {
     "data": {
      "text/plain": [
       "'dATA sCIENCE mASTERS'"
      ]
     },
     "execution_count": 74,
     "metadata": {},
     "output_type": "execute_result"
    }
   ],
   "source": [
    "course_name.swapcase()"
   ]
  },
  {
   "cell_type": "code",
   "execution_count": 75,
   "id": "fe3147cf-492f-458b-8f2b-85ab5cb00610",
   "metadata": {},
   "outputs": [
    {
     "data": {
      "text/plain": [
       "'Data Science Masters'"
      ]
     },
     "execution_count": 75,
     "metadata": {},
     "output_type": "execute_result"
    }
   ],
   "source": [
    "course_name.title()"
   ]
  },
  {
   "cell_type": "code",
   "execution_count": 77,
   "id": "a055a1a8-5736-4769-8c70-34f2a2e83ea3",
   "metadata": {},
   "outputs": [
    {
     "data": {
      "text/plain": [
       "'Raja Ram'"
      ]
     },
     "execution_count": 77,
     "metadata": {},
     "output_type": "execute_result"
    }
   ],
   "source": [
    "name= \"raja ram\"\n",
    "name.title()"
   ]
  },
  {
   "cell_type": "code",
   "execution_count": null,
   "id": "ed0e7214-2735-4d24-8b4d-fcde6fe23b9b",
   "metadata": {},
   "outputs": [],
   "source": []
  },
  {
   "cell_type": "code",
   "execution_count": null,
   "id": "b592429e-5790-49bd-a24b-ee000e3dafee",
   "metadata": {},
   "outputs": [],
   "source": []
  }
 ],
 "metadata": {
  "kernelspec": {
   "display_name": "Python 3 (ipykernel)",
   "language": "python",
   "name": "python3"
  },
  "language_info": {
   "codemirror_mode": {
    "name": "ipython",
    "version": 3
   },
   "file_extension": ".py",
   "mimetype": "text/x-python",
   "name": "python",
   "nbconvert_exporter": "python",
   "pygments_lexer": "ipython3",
   "version": "3.10.8"
  }
 },
 "nbformat": 4,
 "nbformat_minor": 5
}
