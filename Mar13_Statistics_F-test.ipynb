{
 "cells": [
  {
   "cell_type": "markdown",
   "id": "6143e06c-ccc0-436d-b26b-d33db02dfd18",
   "metadata": {},
   "source": [
    "## F Test With Python"
   ]
  },
  {
   "cell_type": "code",
   "execution_count": 2,
   "id": "bcfcf866-0f5b-4676-bfde-36ccf5ab53f8",
   "metadata": {},
   "outputs": [],
   "source": [
    "## Evidence to say that the two population variance are not equal\n",
    "## Check can we come to conclusion whether one worker is better than other\n",
    "\n",
    "worker1 = [18,19,22,25,27,28,41,45,51,55]\n",
    "worker2 = [14,15,15,17,18,22,25,25,27,34]"
   ]
  },
  {
   "cell_type": "code",
   "execution_count": 3,
   "id": "5fa1f353-330b-4d42-ba07-f73ddc932b64",
   "metadata": {},
   "outputs": [],
   "source": [
    "## Calculate the F test statistics\n",
    "import numpy as np\n",
    "\n",
    "f_test=np.var(worker1)/np.var(worker2)"
   ]
  },
  {
   "cell_type": "code",
   "execution_count": 4,
   "id": "7ab3dc3b-bf04-43a6-a987-8806cc288b2d",
   "metadata": {},
   "outputs": [
    {
     "data": {
      "text/plain": [
       "4.387122002085506"
      ]
     },
     "execution_count": 4,
     "metadata": {},
     "output_type": "execute_result"
    }
   ],
   "source": [
    "f_test"
   ]
  },
  {
   "cell_type": "code",
   "execution_count": 7,
   "id": "b18c2c30-562f-492b-8f41-9e3663a65e1a",
   "metadata": {},
   "outputs": [],
   "source": [
    "# Degree of freedom\n",
    "df1=len(worker1)-1\n",
    "df2=len(worker2)-1\n",
    "significance_value=0.05"
   ]
  },
  {
   "cell_type": "code",
   "execution_count": 6,
   "id": "4ee934dc-8515-4e41-a3a0-2b44bf40f2a5",
   "metadata": {},
   "outputs": [],
   "source": [
    "import scipy.stats as stat"
   ]
  },
  {
   "cell_type": "code",
   "execution_count": 8,
   "id": "cf74ab43-1bde-4b7c-89e1-1959856c60f6",
   "metadata": {},
   "outputs": [],
   "source": [
    "critical_value=stat.f.ppf(q=1-significance_value,dfn=df1,dfd=df2)"
   ]
  },
  {
   "cell_type": "code",
   "execution_count": 10,
   "id": "2bc7b9b2-ce1c-443d-8f45-db62f919136c",
   "metadata": {},
   "outputs": [
    {
     "name": "stdout",
     "output_type": "stream",
     "text": [
      "Reject the Null Hypothesis\n"
     ]
    }
   ],
   "source": [
    "if f_test>critical_value:\n",
    "    print(\"Reject the Null Hypothesis\")\n",
    "else:\n",
    "    print(\"We fail to reject the null hypothesis\")"
   ]
  }
 ],
 "metadata": {
  "kernelspec": {
   "display_name": "Python 3 (ipykernel)",
   "language": "python",
   "name": "python3"
  },
  "language_info": {
   "codemirror_mode": {
    "name": "ipython",
    "version": 3
   },
   "file_extension": ".py",
   "mimetype": "text/x-python",
   "name": "python",
   "nbconvert_exporter": "python",
   "pygments_lexer": "ipython3",
   "version": "3.10.8"
  }
 },
 "nbformat": 4,
 "nbformat_minor": 5
}
