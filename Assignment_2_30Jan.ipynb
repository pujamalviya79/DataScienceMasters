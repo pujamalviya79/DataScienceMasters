{
 "cells": [
  {
   "cell_type": "code",
   "execution_count": 5,
   "id": "f0cebc6d-9e84-4cbe-8e47-82ffafaad294",
   "metadata": {},
   "outputs": [
    {
     "name": "stdin",
     "output_type": "stream",
     "text": [
      "Please enetr percentage ::  98\n"
     ]
    },
    {
     "name": "stdout",
     "output_type": "stream",
     "text": [
      "Grade A\n"
     ]
    }
   ],
   "source": [
    "1. \n",
    "\n",
    "marks = int(input(\"Please enetr percentage :: \"))\n",
    "\n",
    "if marks>90:\n",
    "    print(\"Grade A\")\n",
    "elif marks>80 and marks<=90:\n",
    "    print(\"Grade B\")\n",
    "elif marks>=60 and marks<80:\n",
    "    print(\"Grade C\")\n",
    "else:\n",
    "    print(\"Grade D\")"
   ]
  },
  {
   "cell_type": "code",
   "execution_count": 7,
   "id": "f95550a7-2f60-4084-962e-94a094fff17d",
   "metadata": {},
   "outputs": [
    {
     "name": "stdin",
     "output_type": "stream",
     "text": [
      "Please enter cost price in rupees ::  5000\n"
     ]
    },
    {
     "name": "stdout",
     "output_type": "stream",
     "text": [
      "Road tax to be paid ::  250.0\n"
     ]
    }
   ],
   "source": [
    "2.\n",
    "\n",
    "CP = int(input(\"Please enter cost price in rupees :: \"))\n",
    "\n",
    "if CP > 100000:\n",
    "    print(\"Road Tax to be paid :: \",.15*CP)\n",
    "elif CP>50000 and CP<=100000:\n",
    "    print(\"Road Tax to be paid :: \",.10*CP)\n",
    "else:\n",
    "    print(\"Road tax to be paid :: \",.05*CP)"
   ]
  },
  {
   "cell_type": "code",
   "execution_count": 11,
   "id": "e2753689-beca-4005-a9d7-775685dd031b",
   "metadata": {},
   "outputs": [
    {
     "name": "stdin",
     "output_type": "stream",
     "text": [
      "Please name one city ::  Patna\n"
     ]
    },
    {
     "name": "stdout",
     "output_type": "stream",
     "text": [
      "City is not from the provided list\n"
     ]
    }
   ],
   "source": [
    "3. \n",
    "\n",
    "city = input(\"Please name one city :: \")\n",
    "\n",
    "if city == \"Delhi\":\n",
    "    print(\"Monument :: Red Fort\")\n",
    "elif city == \"Agra\":\n",
    "    print(\"Monument :: Taj Mahal\")\n",
    "elif city == \"Jaipur\":\n",
    "    print(\"Monument :: Jal Mahal\")\n",
    "else:\n",
    "    print(\"City is not from the provided list\")"
   ]
  },
  {
   "cell_type": "code",
   "execution_count": 71,
   "id": "bf138f8e-9730-4d49-9244-70b3f2b2f0ca",
   "metadata": {},
   "outputs": [
    {
     "name": "stdin",
     "output_type": "stream",
     "text": [
      "Please provide a number ::  8\n"
     ]
    },
    {
     "name": "stdout",
     "output_type": "stream",
     "text": [
      "2\n"
     ]
    }
   ],
   "source": [
    "4. \n",
    "\n",
    "num = int(input(\"Please provide a number :: \"))\n",
    "\n",
    "if num<=10:\n",
    "    quotient = num//3\n",
    "    print(quotient)\n"
   ]
  },
  {
   "cell_type": "code",
   "execution_count": null,
   "id": "4177c60c-2762-485c-a390-109842c4959f",
   "metadata": {},
   "outputs": [],
   "source": [
    "5.\n",
    "\n",
    "Why and when to use while loop in python give a detailed description with example\n",
    "\n",
    "--While loop repeat sa statement or multiple statements till the condition is True.\n",
    "-- While loop is used when we dont know the iterations till when to use the loop\n",
    "\n",
    "Example: print a number as long as the number is less than or equal to 10\n",
    "\n",
    "n=1\n",
    "\n",
    "while(n<=10):\n",
    "    print(\"Number :: \",n)\n",
    "    n=n+1\n",
    "    \n",
    "    \n",
    "Output:\n",
    "Number ::  1\n",
    "Number ::  2\n",
    "Number ::  3\n",
    "Number ::  4\n",
    "Number ::  5\n",
    "Number ::  6\n",
    "Number ::  7\n",
    "Number ::  8\n",
    "Number ::  9\n",
    "Number ::  10"
   ]
  },
  {
   "cell_type": "code",
   "execution_count": 63,
   "id": "549d1a6e-1a78-43a4-a6f1-37b221d19416",
   "metadata": {},
   "outputs": [
    {
     "name": "stdout",
     "output_type": "stream",
     "text": [
      "\n",
      "* \n",
      "* * \n",
      "* * * \n",
      "* * * * \n",
      "* * * * * \n",
      "----------\n",
      "* * * * * * \n",
      "* * * * * \n",
      "* * * * \n",
      "* * * \n",
      "* * \n",
      "* \n",
      "--------\n",
      "            * \n",
      "          * * \n",
      "        * * * \n",
      "      * * * * \n",
      "    * * * * * \n",
      "  * * * * * * \n",
      "---------\n",
      "      *\n",
      "     ***\n",
      "    *****\n",
      "   *******\n",
      "  *********\n",
      " ***********\n"
     ]
    }
   ],
   "source": [
    "6. \n",
    "\n",
    "## pattern 1 right triangle using *\n",
    "\n",
    "n=6\n",
    "\n",
    "for i in range(n):\n",
    "    for j in range(0,i):\n",
    "        print(\"*\",end=' ')\n",
    "    print()\n",
    "    \n",
    "## pattern 2 inverted triangle using *\n",
    "print(\"----------\")\n",
    "\n",
    "for i in range(n):\n",
    "    for j in range(n,i):\n",
    "        print(' ',end=' ')\n",
    "        \n",
    "    for k in range(i,n):\n",
    "        print(\"*\",end=' ')\n",
    "    print()\n",
    "    \n",
    "\n",
    "## pattern 3 left triangle using *\n",
    "\n",
    "print(\"--------\")\n",
    "\n",
    "for i in range(n):\n",
    "    for j in range(i,n):\n",
    "        print(\" \",end=' ')\n",
    "    \n",
    "    for k in range(i+1):\n",
    "        print(\"*\",end=' ')\n",
    "    print()\n",
    "\n",
    "## triangle pattern using *\n",
    "\n",
    "print(\"---------\")\n",
    "\n",
    "for i in range(n):\n",
    "    for j in range(i,n):\n",
    "        print(\" \",end='')\n",
    "    \n",
    "    for k in range(i+1):\n",
    "        print(\"*\",end='')\n",
    "        \n",
    "    for j in range(0,i):\n",
    "        print(\"*\",end='')\n",
    "    print()"
   ]
  },
  {
   "cell_type": "code",
   "execution_count": 66,
   "id": "80fc2215-7d11-46da-9fbd-5ed6d483a3ca",
   "metadata": {},
   "outputs": [
    {
     "name": "stdout",
     "output_type": "stream",
     "text": [
      "10\n",
      "9\n",
      "8\n",
      "7\n",
      "6\n",
      "5\n",
      "4\n",
      "3\n",
      "2\n",
      "1\n"
     ]
    }
   ],
   "source": [
    "7. \n",
    "\n",
    "n=10\n",
    "\n",
    "while(n>=1):\n",
    "    print(n)\n",
    "    n=n-1"
   ]
  },
  {
   "cell_type": "code",
   "execution_count": null,
   "id": "69f4f251-e410-402c-a938-2981c9577e52",
   "metadata": {},
   "outputs": [],
   "source": []
  }
 ],
 "metadata": {
  "kernelspec": {
   "display_name": "Python 3 (ipykernel)",
   "language": "python",
   "name": "python3"
  },
  "language_info": {
   "codemirror_mode": {
    "name": "ipython",
    "version": 3
   },
   "file_extension": ".py",
   "mimetype": "text/x-python",
   "name": "python",
   "nbconvert_exporter": "python",
   "pygments_lexer": "ipython3",
   "version": "3.10.8"
  }
 },
 "nbformat": 4,
 "nbformat_minor": 5
}
