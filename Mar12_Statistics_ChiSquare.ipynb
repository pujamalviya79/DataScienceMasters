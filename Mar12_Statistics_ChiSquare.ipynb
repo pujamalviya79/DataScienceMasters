{
 "cells": [
  {
   "cell_type": "code",
   "execution_count": 1,
   "id": "0d61bd45-a8f6-4040-b2fa-db4e40a65d40",
   "metadata": {},
   "outputs": [],
   "source": [
    "import scipy.stats as stat\n",
    "import numpy as np"
   ]
  },
  {
   "cell_type": "code",
   "execution_count": 2,
   "id": "5e8b3ff6-4cb6-4ac6-a9eb-04cff2b57d76",
   "metadata": {},
   "outputs": [],
   "source": [
    "## No of hpurs student study daily in a weekly basis\n",
    "\n",
    "expected_data=[8,6,7,9,6,9,7]\n",
    "observed_data=[7,8,6,9,9,6,7]"
   ]
  },
  {
   "cell_type": "code",
   "execution_count": 4,
   "id": "f1cb97df-a070-4377-b566-e745b1716f77",
   "metadata": {},
   "outputs": [
    {
     "data": {
      "text/plain": [
       "(52, 52)"
      ]
     },
     "execution_count": 4,
     "metadata": {},
     "output_type": "execute_result"
    }
   ],
   "source": [
    "sum(expected_data),sum(observed_data)"
   ]
  },
  {
   "cell_type": "code",
   "execution_count": 5,
   "id": "158dace9-1726-46f3-b393-7572eb024136",
   "metadata": {},
   "outputs": [],
   "source": [
    "## chi square Goodness of fit\n",
    "\n",
    "chisquare_test_statistics,p_value = stat.chisquare(observed_data,expected_data)"
   ]
  },
  {
   "cell_type": "code",
   "execution_count": 6,
   "id": "b9f2569a-3505-4727-84d9-9b4b55442035",
   "metadata": {},
   "outputs": [
    {
     "name": "stdout",
     "output_type": "stream",
     "text": [
      "3.4345238095238093\n",
      "0.7526596580922865\n"
     ]
    },
    {
     "data": {
      "text/plain": [
       "(None, None)"
      ]
     },
     "execution_count": 6,
     "metadata": {},
     "output_type": "execute_result"
    }
   ],
   "source": [
    "print(chisquare_test_statistics),print(p_value)"
   ]
  },
  {
   "cell_type": "code",
   "execution_count": 7,
   "id": "d31b9c11-4da2-4da4-a28f-e2f0a4e894e4",
   "metadata": {},
   "outputs": [],
   "source": [
    "## find the critical value\n",
    "signigficance=0.05\n",
    "dof=len(observed_data)-1\n",
    "critical_value=stat.chi2.ppf(1-signigficance,dof)"
   ]
  },
  {
   "cell_type": "code",
   "execution_count": null,
   "id": "ceb44b64-31d9-41ad-8367-480b70604b3e",
   "metadata": {},
   "outputs": [],
   "source": []
  },
  {
   "cell_type": "code",
   "execution_count": null,
   "id": "62e9c0c7-593b-481c-8fd8-1d841cc92332",
   "metadata": {},
   "outputs": [],
   "source": []
  }
 ],
 "metadata": {
  "kernelspec": {
   "display_name": "Python 3 (ipykernel)",
   "language": "python",
   "name": "python3"
  },
  "language_info": {
   "codemirror_mode": {
    "name": "ipython",
    "version": 3
   },
   "file_extension": ".py",
   "mimetype": "text/x-python",
   "name": "python",
   "nbconvert_exporter": "python",
   "pygments_lexer": "ipython3",
   "version": "3.10.8"
  }
 },
 "nbformat": 4,
 "nbformat_minor": 5
}
