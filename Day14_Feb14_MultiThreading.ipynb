{
 "cells": [
  {
   "cell_type": "code",
   "execution_count": 1,
   "id": "5523ee2d-22b2-464f-89ed-9fe2eb0e0f3d",
   "metadata": {},
   "outputs": [],
   "source": [
    "import threading"
   ]
  },
  {
   "cell_type": "code",
   "execution_count": 6,
   "id": "6212e77f-508c-42ba-b98e-5afd0ae7e6c5",
   "metadata": {},
   "outputs": [],
   "source": [
    "def test(id):\n",
    "    print(\"This is id :: %d\" % id)"
   ]
  },
  {
   "cell_type": "code",
   "execution_count": 7,
   "id": "67a2ed4e-c055-420e-8d5a-7c669a7982e0",
   "metadata": {},
   "outputs": [
    {
     "name": "stdout",
     "output_type": "stream",
     "text": [
      "This is id :: 10\n"
     ]
    }
   ],
   "source": [
    "test(10)"
   ]
  },
  {
   "cell_type": "code",
   "execution_count": 8,
   "id": "b76c576e-537d-4f79-a914-850fd7de1fb5",
   "metadata": {},
   "outputs": [
    {
     "name": "stdout",
     "output_type": "stream",
     "text": [
      "This is id :: 1\n"
     ]
    }
   ],
   "source": [
    "test(1)"
   ]
  },
  {
   "cell_type": "code",
   "execution_count": 9,
   "id": "bdb8d525-8219-405c-abc9-a4b413db921d",
   "metadata": {},
   "outputs": [
    {
     "name": "stdout",
     "output_type": "stream",
     "text": [
      "This is id :: 3\n"
     ]
    }
   ],
   "source": [
    "test(3)"
   ]
  },
  {
   "cell_type": "code",
   "execution_count": 12,
   "id": "f7dd6be1-4648-4bed-9d3e-a9282d6ea328",
   "metadata": {},
   "outputs": [],
   "source": [
    "thread = [threading.Thread(target=test, args=(i,)) for i in [10,1,3]]"
   ]
  },
  {
   "cell_type": "code",
   "execution_count": 13,
   "id": "3383305e-0052-4a5d-84bd-1a0259ca388f",
   "metadata": {},
   "outputs": [
    {
     "data": {
      "text/plain": [
       "[<Thread(Thread-5 (test), initial)>,\n",
       " <Thread(Thread-6 (test), initial)>,\n",
       " <Thread(Thread-7 (test), initial)>]"
      ]
     },
     "execution_count": 13,
     "metadata": {},
     "output_type": "execute_result"
    }
   ],
   "source": [
    "thread"
   ]
  },
  {
   "cell_type": "code",
   "execution_count": 14,
   "id": "e39ffe59-ea78-4acb-957d-cb61cc3f925d",
   "metadata": {},
   "outputs": [
    {
     "name": "stdout",
     "output_type": "stream",
     "text": [
      "This is id :: 10\n",
      "This is id :: 1\n",
      "This is id :: 3\n"
     ]
    }
   ],
   "source": [
    "for t in thread:\n",
    "    t.start()"
   ]
  },
  {
   "cell_type": "code",
   "execution_count": 15,
   "id": "cb60072e-560c-41ee-b7f0-814c5dba5245",
   "metadata": {},
   "outputs": [],
   "source": [
    "import urllib.request\n",
    "\n",
    "def file_download(url, filename):\n",
    "    urllib.request.urlretrieve(url, filename)"
   ]
  },
  {
   "cell_type": "code",
   "execution_count": null,
   "id": "a355701a-61c5-4053-bd4f-027e13765437",
   "metadata": {},
   "outputs": [],
   "source": [
    "file_download(\"https://raw.githubusercontent.com/itsfoss/text.files \", \"test.txt\",)"
   ]
  },
  {
   "cell_type": "code",
   "execution_count": 1,
   "id": "2e62381e-159f-4435-b440-763aa29d69cf",
   "metadata": {},
   "outputs": [],
   "source": [
    "import time"
   ]
  },
  {
   "cell_type": "code",
   "execution_count": 5,
   "id": "44601c2d-1af2-4515-bc57-78944acd6452",
   "metadata": {},
   "outputs": [],
   "source": [
    "def test2(x):\n",
    "    for i in range(10):\n",
    "        print(\"print the value of x %d and print value of i %d \" %(x,i))\n",
    "        time.sleep(1)"
   ]
  },
  {
   "cell_type": "code",
   "execution_count": 3,
   "id": "c63c8475-8a69-4528-9758-16222fbd2aa6",
   "metadata": {},
   "outputs": [
    {
     "data": {
      "text/plain": [
       "<function __main__.test2(x)>"
      ]
     },
     "execution_count": 3,
     "metadata": {},
     "output_type": "execute_result"
    }
   ],
   "source": [
    "test2"
   ]
  },
  {
   "cell_type": "code",
   "execution_count": 6,
   "id": "93e430b2-926f-482c-a77c-42a1da4044e0",
   "metadata": {},
   "outputs": [
    {
     "name": "stdout",
     "output_type": "stream",
     "text": [
      "print the value of x 10 and print value of i 0 \n",
      "print the value of x 10 and print value of i 1 \n",
      "print the value of x 10 and print value of i 2 \n",
      "print the value of x 10 and print value of i 3 \n",
      "print the value of x 10 and print value of i 4 \n",
      "print the value of x 10 and print value of i 5 \n",
      "print the value of x 10 and print value of i 6 \n",
      "print the value of x 10 and print value of i 7 \n",
      "print the value of x 10 and print value of i 8 \n",
      "print the value of x 10 and print value of i 9 \n"
     ]
    }
   ],
   "source": [
    "test2(10)"
   ]
  },
  {
   "cell_type": "code",
   "execution_count": 7,
   "id": "f8d36ae9-4590-4299-8d63-b12598acecbe",
   "metadata": {},
   "outputs": [],
   "source": [
    "import threading"
   ]
  },
  {
   "cell_type": "code",
   "execution_count": 10,
   "id": "a1256e2c-4f98-4136-a28b-9d10bc3f6406",
   "metadata": {},
   "outputs": [],
   "source": [
    "thread2 = [threading.Thread(target=test2, args=(i,)) for i in [2,5,7,10]]"
   ]
  },
  {
   "cell_type": "code",
   "execution_count": 11,
   "id": "867558af-4e3d-4715-ad65-1dc1b43fb34d",
   "metadata": {},
   "outputs": [
    {
     "name": "stdout",
     "output_type": "stream",
     "text": [
      "print the value of x 2 and print value of i 0 \n",
      "print the value of x 5 and print value of i 0 \n",
      "print the value of x 7 and print value of i 0 \n",
      "print the value of x 10 and print value of i 0 \n",
      "print the value of x 2 and print value of i 1 print the value of x 5 and print value of i 1 \n",
      "\n",
      "print the value of x 7 and print value of i 1 \n",
      "print the value of x 10 and print value of i 1 \n",
      "print the value of x 5 and print value of i 2 \n",
      "print the value of x 2 and print value of i 2 \n",
      "print the value of x 7 and print value of i 2 \n",
      "print the value of x 10 and print value of i 2 \n",
      "print the value of x 2 and print value of i 3 print the value of x 7 and print value of i 3 \n",
      "\n",
      "print the value of x 5 and print value of i 3 \n",
      "print the value of x 10 and print value of i 3 \n",
      "print the value of x 5 and print value of i 4 \n",
      "print the value of x 7 and print value of i 4 \n",
      "print the value of x 2 and print value of i 4 \n",
      "print the value of x 10 and print value of i 4 \n",
      "print the value of x 5 and print value of i 5 print the value of x 2 and print value of i 5 \n",
      "\n",
      "print the value of x 7 and print value of i 5 \n",
      "print the value of x 10 and print value of i 5 \n",
      "print the value of x 2 and print value of i 6 print the value of x 5 and print value of i 6 \n",
      "\n",
      "print the value of x 7 and print value of i 6 \n",
      "print the value of x 10 and print value of i 6 \n",
      "print the value of x 7 and print value of i 7 \n",
      "print the value of x 5 and print value of i 7 \n",
      "print the value of x 2 and print value of i 7 \n",
      "print the value of x 10 and print value of i 7 \n",
      "print the value of x 7 and print value of i 8 print the value of x 5 and print value of i 8 \n",
      "\n",
      "print the value of x 2 and print value of i 8 \n",
      "print the value of x 10 and print value of i 8 \n",
      "print the value of x 5 and print value of i 9 print the value of x 7 and print value of i 9 \n",
      "\n",
      "print the value of x 2 and print value of i 9 \n",
      "print the value of x 10 and print value of i 9 \n"
     ]
    }
   ],
   "source": [
    "for t in thread2:\n",
    "    t.start()"
   ]
  },
  {
   "cell_type": "code",
   "execution_count": 15,
   "id": "057b6347-59de-4838-83d6-232c8ca065b6",
   "metadata": {},
   "outputs": [],
   "source": [
    "shared_var = 0\n",
    "lock_var = threading.Lock()\n",
    "def test4(x):\n",
    "    global shared_var\n",
    "    with lock_var:\n",
    "        shared_var = shared_var + 1\n",
    "        print(\"Value of x %d and value of shared_var %d \" %(x, shared_var))\n",
    "        time.sleep(1)\n",
    "        \n",
    "thread3 = [threading.Thread(target=test4 , args = (i,)) for i in [1,2,4,5]]"
   ]
  },
  {
   "cell_type": "code",
   "execution_count": 16,
   "id": "e953b316-194a-435f-891d-4340a0b2e1b3",
   "metadata": {},
   "outputs": [
    {
     "name": "stdout",
     "output_type": "stream",
     "text": [
      "Value of x 1 and value of shared_var 1 \n",
      "Value of x 2 and value of shared_var 2 \n",
      "Value of x 4 and value of shared_var 3 \n",
      "Value of x 5 and value of shared_var 4 \n"
     ]
    }
   ],
   "source": [
    "for t in thread3:\n",
    "    t.start()"
   ]
  },
  {
   "cell_type": "code",
   "execution_count": null,
   "id": "faaed60a-ba38-4619-ba58-e603b6080aca",
   "metadata": {},
   "outputs": [],
   "source": []
  },
  {
   "cell_type": "code",
   "execution_count": null,
   "id": "d3901f36-7cd1-4c6f-b0cb-b04320c80c30",
   "metadata": {},
   "outputs": [],
   "source": []
  }
 ],
 "metadata": {
  "kernelspec": {
   "display_name": "Python 3 (ipykernel)",
   "language": "python",
   "name": "python3"
  },
  "language_info": {
   "codemirror_mode": {
    "name": "ipython",
    "version": 3
   },
   "file_extension": ".py",
   "mimetype": "text/x-python",
   "name": "python",
   "nbconvert_exporter": "python",
   "pygments_lexer": "ipython3",
   "version": "3.10.8"
  }
 },
 "nbformat": 4,
 "nbformat_minor": 5
}
