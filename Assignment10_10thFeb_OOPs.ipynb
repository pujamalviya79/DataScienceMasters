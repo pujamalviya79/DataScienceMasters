{
 "cells": [
  {
   "cell_type": "code",
   "execution_count": null,
   "id": "d4be3dce-8ae7-4749-9ddb-6c5f2da8fd89",
   "metadata": {},
   "outputs": [],
   "source": [
    "Q1. Which function is used to open a file? What are the different modes of opening a file? Explain each mode\n",
    "of file opening.\n",
    "\n",
    "----\n",
    "We use open() method to open a file in python.\n",
    "\n",
    "Modes::\n",
    "    \n",
    "r - open a file for reading\n",
    "w - open a file for writing\n",
    "x - open a file for exclusive creation\n",
    "a - open a file for appending at the end of the file without truncating it\n",
    "t - open in text mode\n",
    "b - open in binary mode\n",
    "+ - open a file for updating (reading and writing)"
   ]
  },
  {
   "cell_type": "code",
   "execution_count": null,
   "id": "5d32937c-f74d-427a-8fbd-5d15d4f5db32",
   "metadata": {},
   "outputs": [],
   "source": [
    "Q2. Why close() function is used? Why is it important to close a file?\n",
    "\n",
    "----\n",
    "close() functions i sused to close a opened file.\n",
    "Its is important to close a file because files are limited resources managed by the operating system, \n",
    "making sure files are closed after use will protect against hard-to-debug issues like running out of file handles or experiencing corrupted data.\n"
   ]
  },
  {
   "cell_type": "code",
   "execution_count": 24,
   "id": "e2d76292-4db5-4163-8a80-cf24a83c5168",
   "metadata": {},
   "outputs": [
    {
     "name": "stdout",
     "output_type": "stream",
     "text": [
      "I want to become a Data Scientist\n"
     ]
    }
   ],
   "source": [
    "''' Q3. Write a python program to create a text file. Write ‘I want to become a Data Scientist’ in that file. Then\n",
    "close the file. Open this file and read the content of the file.\n",
    "\n",
    "---- '''\n",
    "f = open(\"test.txt\",\"w\")\n",
    "\n",
    "f.write(\"I want to become a Data Scientist\")\n",
    "\n",
    "f.close()\n",
    "\n",
    "f1 = open(\"test.txt\",\"r+\")\n",
    "contents = f1.read()\n",
    "print(contents)"
   ]
  },
  {
   "cell_type": "code",
   "execution_count": 28,
   "id": "1ad60970-2dbf-4b92-99ec-ac868ffe91e9",
   "metadata": {},
   "outputs": [
    {
     "name": "stdout",
     "output_type": "stream",
     "text": [
      "Data\n",
      "Science\n",
      "Masters\n",
      "\n",
      "-----------\n",
      "Line1: Data\n",
      "Line2: Science\n",
      "Line3: Masters\n",
      "-------------\n",
      "Line1: Data\n",
      "Line2: Science\n",
      "Line3: Masters\n",
      "-------------\n"
     ]
    }
   ],
   "source": [
    "''' Q4. Explain the following with python code: read(), readline() and readlines().\n",
    "------\n",
    "\n",
    "1. read() ---- read() method returns the specified number of bytes from the file. Default is -1 which means the whole file\n",
    "'''\n",
    "\n",
    "L1 = [\"Data\\n\", \"Science\\n\", \"Masters\\n\"]\n",
    "\n",
    "file1 = open(\"myfile1.txt\", \"w\")\n",
    "file1.writelines((L1))\n",
    "file1.close()\n",
    "\n",
    "file1 = open(\"myfile1.txt\",\"r+\")\n",
    "contents = file1.read()\n",
    "print(contents)\n",
    "\n",
    "print(\"-----------\")\n",
    "\n",
    "'''\n",
    "2. readline() ---- readline() function reads a line of the file and return it in the form of the string.\n",
    "'''\n",
    "\n",
    "L2 = [\"Data\\n\", \"Science\\n\", \"Masters\\n\"]\n",
    "  \n",
    "# Writing to a file\n",
    "file2 = open('myfile2.txt', 'w')\n",
    "file2.writelines((L2))\n",
    "file2.close()\n",
    "  \n",
    "# Using readline()\n",
    "file2 = open('myfile2.txt', 'r')\n",
    "count = 0\n",
    "  \n",
    "while True:\n",
    "    count += 1\n",
    "  \n",
    "    # Get next line from file\n",
    "    line = file2.readline()\n",
    "  \n",
    "    # if line is empty\n",
    "    # end of file is reached\n",
    "    if not line:\n",
    "        break\n",
    "    print(\"Line{}: {}\".format(count, line.strip()))\n",
    "\n",
    "file2.close()\n",
    "\n",
    "print(\"-------------\")\n",
    "\n",
    "''' 3. readlines()  ---- readlines() is used to read all the lines at a single go and then return them as each line a string element in a list.\n",
    "'''\n",
    "\n",
    "L3 = [\"Data\\n\", \"Science\\n\", \"Masters\\n\"]\n",
    "  \n",
    "# writing to file\n",
    "file3 = open('myfile3.txt', 'w')\n",
    "file3.writelines(L3)\n",
    "file3.close()\n",
    "  \n",
    "# Using readlines()\n",
    "file3 = open('myfile3.txt', 'r')\n",
    "Lines = file3.readlines()\n",
    "  \n",
    "count = 0\n",
    "# Strips the newline character\n",
    "for line in Lines:\n",
    "    count += 1\n",
    "    print(\"Line{}: {}\".format(count, line.strip()))\n",
    "    \n",
    "print(\"-------------\")"
   ]
  },
  {
   "cell_type": "code",
   "execution_count": null,
   "id": "8dfe37eb-df13-432a-b844-b51d93501fb8",
   "metadata": {},
   "outputs": [],
   "source": [
    "Q5. Explain why with statement is used with open(). What is the advantage of using with statement and\n",
    "open() together?\n",
    "------\n",
    "Using with means that the file will be closed as soon as you leave the block.\n",
    "This is beneficial because closing a file is something that can easily be forgotten and ties up resources that you no longer need."
   ]
  },
  {
   "cell_type": "code",
   "execution_count": 29,
   "id": "a76f06de-4924-4f44-a1ec-a02c3b073976",
   "metadata": {},
   "outputs": [
    {
     "name": "stdout",
     "output_type": "stream",
     "text": [
      "See you soon!\n"
     ]
    }
   ],
   "source": [
    "''' Q6. Explain the write() and writelines() functions. Give a suitable example.\n",
    "\n",
    "write() -- write() method writes a specified text to the file.\n",
    "Inserts the string str1 in a single line in the text file.\n",
    "Syntax :: File_object.write(str1) \n",
    " \n",
    "'''\n",
    "\n",
    "f1 = open(\"writeFile1.txt\", \"w\")\n",
    "f1.write(\"See you soon!\")\n",
    "f1.close()\n",
    "\n",
    "#open and read the file after the appending:\n",
    "f1 = open(\"writeFile1.txt\", \"r\")\n",
    "print(f1.read())\n",
    "\n",
    "print(\"-----------\")\n",
    "\n",
    "'''\n",
    "writelines() : For a list of string elements, each string is inserted in the text file. Used to insert multiple strings at a single time.\n",
    "Syntax :: File_object.writelines(L) for L = [str1, str2, str3] \n",
    "'''\n",
    "\n",
    "file1 = open('myfile.txt', 'w')\n",
    "L = [\"This is Delhi \\n\", \"This is Paris \\n\", \"This is London \\n\"]\n",
    "s = \"Hello\\n\"\n",
    "  \n",
    "# Writing a string to file\n",
    "file1.write(s)\n",
    "  \n",
    "# Writing multiple strings\n",
    "# at a time\n",
    "file1.writelines(L)\n",
    "  \n",
    "# Closing file\n",
    "file1.close()\n",
    "  \n",
    "# Checking if the data is\n",
    "# written to file or not\n",
    "file1 = open('myfile.txt', 'r')\n",
    "print(file1.read())\n",
    "file1.close()"
   ]
  },
  {
   "cell_type": "code",
   "execution_count": null,
   "id": "c3a11466-3192-42ed-8290-ec93926d6889",
   "metadata": {},
   "outputs": [],
   "source": []
  }
 ],
 "metadata": {
  "kernelspec": {
   "display_name": "Python 3 (ipykernel)",
   "language": "python",
   "name": "python3"
  },
  "language_info": {
   "codemirror_mode": {
    "name": "ipython",
    "version": 3
   },
   "file_extension": ".py",
   "mimetype": "text/x-python",
   "name": "python",
   "nbconvert_exporter": "python",
   "pygments_lexer": "ipython3",
   "version": "3.10.8"
  }
 },
 "nbformat": 4,
 "nbformat_minor": 5
}
