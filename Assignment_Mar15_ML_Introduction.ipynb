{
 "cells": [
  {
   "cell_type": "code",
   "execution_count": null,
   "id": "02332eba-e5af-4bed-b020-98df701ef8e0",
   "metadata": {},
   "outputs": [],
   "source": [
    "Q1- Explain the following with an example:\n",
    "a) Artificial Intelligence\n",
    "b) Machine Learning\n",
    "c) Deep Learning\n",
    "------\n",
    "\n",
    "a) Artificial Intelligence : Artificial intelligence is a theory and development of computer systems that can perform tasks that normally require human intelligence.\n",
    "    Example: Chatbots\n",
    "b) Machine Learning : Machine learning is a branch of artificial intelligence (AI) and computer science which focuses on the use of data and algorithms to imitate the way that humans learn, gradually improving its accuracy.\n",
    "    Example: Google Map, Google translator\n",
    "c) Deep Learning : Deep learning is a subset of machine learning, which is essentially a neural network with three or more layers. \n",
    "    These neural networks attempt to simulate the behavior of the human brain.\n",
    "    Example: Face Recognition"
   ]
  },
  {
   "cell_type": "code",
   "execution_count": null,
   "id": "8a945811-67d5-4722-8b5c-434052f46784",
   "metadata": {},
   "outputs": [],
   "source": [
    "Q2- What is supervised learning? List some examples of supervised learning.\n",
    "---------\n",
    "Supervised learning is the types of machine learning in which machines are trained using well \"labelled\" training data, and on basis of that data, machines predict the output. \n",
    "The labelled data means some input data is already tagged with the correct output.\n",
    "Examples:\n",
    "     Risk Assessment, Image classification, Fraud Detection, spam filtering,"
   ]
  },
  {
   "cell_type": "code",
   "execution_count": null,
   "id": "c675cb43-5804-46de-8b39-19e1deae3e80",
   "metadata": {},
   "outputs": [],
   "source": [
    "Q3- What is unsupervised learning? List some examples of unsupervised learning.\n",
    "----------\n",
    "Unsupervised learning is a type of machine learning in which models are trained using unlabeled dataset and are allowed to act on that data without any supervision.\n",
    "Example:\n",
    "    Suppose a supermarket wants to increase its revenue. \n",
    "    It decides to implement a machine learning algorithm on its sold products’ data. \n",
    "    It was observed that the customers who bought cereals more often tend to buy milk or those who buy eggs tend to buy bacon. \n",
    "    Thus, redesigning the store and placing related products side by side can help them understand consumer mindset and increase revenue."
   ]
  },
  {
   "cell_type": "code",
   "execution_count": null,
   "id": "c971246e-a99b-4ca0-9e48-ba117fb4a7c7",
   "metadata": {},
   "outputs": [],
   "source": [
    "Q4- What is the difference between AI, ML, DL, and DS?\n",
    "---------\n",
    "AI : AI enables machines to think without any human intervention.\n",
    "ML : ML is a subset of AI that uses statistical learning algorithms to build smart systems. \n",
    "    The ML systems can automatically learn and improve without explicitly being programmed. \n",
    "DL : This subset of AI is a technique that is inspired by the way a human brain filters information. \n",
    "    It is associated with learning from examples. DL systems help a computer model to filter the input data through layers to predict and classify information. \n",
    "    Deep Learning processes information in the same manner as the human brain.\n",
    "DS : Data Science involves analysis, visualization, and prediction. \n",
    "    It uses different statistical techniques."
   ]
  },
  {
   "cell_type": "code",
   "execution_count": null,
   "id": "53b668c8-7210-4d55-b249-0499ea067bab",
   "metadata": {},
   "outputs": [],
   "source": [
    "Q5- What are the main differences between supervised, unsupervised, and semi-supervised learning?\n",
    "---------\n",
    "Supervised : It will have labelled input data type.\n",
    "    It has simple computational complexity.\n",
    "    It has higher accuracy\n",
    "Unsupervised: It will have unlabelled input data type.\n",
    "    It has complex computational complexity.\n",
    "    It has lesser accuracy.\n",
    "Semi-supervised : It has partially labelled input data type.\n",
    "    It scomputational complexity depends on use of supervised and unsupervised learning.\n",
    "    It has lesser accuracy."
   ]
  },
  {
   "cell_type": "code",
   "execution_count": null,
   "id": "4a10dd6e-6b1f-4518-b1b6-c1042e71ebc8",
   "metadata": {},
   "outputs": [],
   "source": [
    "Q6- What is train, test and validation split? Explain the importance of each term.\n",
    "---------\n",
    "Train split : Training data is the set of the data on which the actual training takes place. \n",
    "Validation split : Validation split helps to improve the model performance by fine-tuning the model after each epoch. \n",
    "Test split : The test set informs us about the final accuracy of the model after completing the training phase."
   ]
  },
  {
   "cell_type": "code",
   "execution_count": null,
   "id": "c2c4e437-7365-42dc-92a3-dff3ccd6ccd9",
   "metadata": {},
   "outputs": [],
   "source": [
    "Q7- How can unsupervised learning be used in anomaly detection?\n",
    "-----------\n",
    "The objective of Unsupervised Anomaly Detection is to detect previously unseen rare objects or events without any prior knowledge about these. \n",
    "The only information available is that the percentage of anomalies in the dataset is small, usually less than 1%.\n",
    "\n",
    "In unsupervised anamoly detection, we train a machine-learning model to fit to the normal behavior using an unlabeled dataset.\n",
    "In this process, we make an important assumption that the majority of the data in the training set are normal examples. \n",
    "However, there can be some anomalous data points among them.\n",
    "Then any data point which differs significantly from the normal behavior will be flagged as an anomaly."
   ]
  },
  {
   "cell_type": "code",
   "execution_count": null,
   "id": "a0950e94-ebf8-4cdb-864c-32e4f05ace3e",
   "metadata": {},
   "outputs": [],
   "source": [
    "Q8- List down some commonly used supervised learning algorithms and unsupervised learning algorithms.\n",
    "---------\n",
    "The most commonly used Supervised Learning algorithms are :\n",
    "    Decision tree, logistic regression, linear regression, support vector machine. \n",
    "The most commonly used Unsupervised Learning algorithms are :\n",
    "    k-means clustering, hierarchical clustering, and apriori algorithm."
   ]
  }
 ],
 "metadata": {
  "kernelspec": {
   "display_name": "Python 3 (ipykernel)",
   "language": "python",
   "name": "python3"
  },
  "language_info": {
   "codemirror_mode": {
    "name": "ipython",
    "version": 3
   },
   "file_extension": ".py",
   "mimetype": "text/x-python",
   "name": "python",
   "nbconvert_exporter": "python",
   "pygments_lexer": "ipython3",
   "version": "3.10.8"
  }
 },
 "nbformat": 4,
 "nbformat_minor": 5
}
